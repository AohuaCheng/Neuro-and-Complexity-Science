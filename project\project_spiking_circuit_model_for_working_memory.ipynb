{
  "nbformat": 4,
  "nbformat_minor": 0,
  "metadata": {
    "colab": {
      "name": "project-spiking circuit model for working memory.ipynb",
      "provenance": [],
      "authorship_tag": "ABX9TyNbYaI1SPx2tgKE2XVKFdE0",
      "include_colab_link": true
    },
    "kernelspec": {
      "name": "python3",
      "display_name": "Python 3"
    },
    "language_info": {
      "name": "python"
    }
  },
  "cells": [
    {
      "cell_type": "markdown",
      "metadata": {
        "id": "view-in-github",
        "colab_type": "text"
      },
      "source": [
        "<a href=\"https://colab.research.google.com/github/cahcharm/Neuro-and-Complexity-Science/blob/CSHA2021/project%5Cproject_spiking_circuit_model_for_working_memory.ipynb\" target=\"_parent\"><img src=\"https://colab.research.google.com/assets/colab-badge.svg\" alt=\"Open In Colab\"/></a>"
      ]
    },
    {
      "cell_type": "markdown",
      "metadata": {
        "id": "U4qCoFCTEVnd"
      },
      "source": [
        "# **Spiking circuit model for working memory**\n",
        "\n",
        "Building up a spiking circuit model for working memory (Misha, Science, 2008). \n",
        "\n",
        "* Step 1: build LIF neuron, voltage jump synapse, STP synapse\n",
        "*\tStep 2: consider the connectivity used in the paper, build up the network model\n",
        "*\tStep 3: try to encode one item in the model (Fig. 2)\n",
        "*\tStep 4: try to encode two items in the network (Fig. 3)\n"
      ]
    },
    {
      "cell_type": "code",
      "metadata": {
        "id": "LsX1Lx6HEVLK"
      },
      "source": [
        "pip install brainpy-simulator"
      ],
      "execution_count": null,
      "outputs": []
    },
    {
      "cell_type": "code",
      "metadata": {
        "id": "n_192zL9EQ4y"
      },
      "source": [
        ""
      ],
      "execution_count": null,
      "outputs": []
    }
  ]
}