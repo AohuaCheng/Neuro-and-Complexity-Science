{
  "nbformat": 4,
  "nbformat_minor": 0,
  "metadata": {
    "anaconda-cloud": {},
    "kernelspec": {
      "display_name": "Python 3",
      "language": "python",
      "name": "python3"
    },
    "language_info": {
      "codemirror_mode": {
        "name": "ipython",
        "version": 3
      },
      "file_extension": ".py",
      "mimetype": "text/x-python",
      "name": "python",
      "nbconvert_exporter": "python",
      "pygments_lexer": "ipython3",
      "version": "3.6.8"
    },
    "colab": {
      "name": "“Exercise1_Programming.ipynb”的副本",
      "provenance": [],
      "collapsed_sections": [],
      "include_colab_link": true
    }
  },
  "cells": [
    {
      "cell_type": "markdown",
      "metadata": {
        "id": "view-in-github",
        "colab_type": "text"
      },
      "source": [
        "<a href=\"https://colab.research.google.com/github/cahcharm/Neuro-and-Complexity-Science/blob/CSHA-summer-course/Python_Tutorials/exercise/Programming%20Exercise%201.ipynb\" target=\"_parent\"><img src=\"https://colab.research.google.com/assets/colab-badge.svg\" alt=\"Open In Colab\"/></a>"
      ]
    },
    {
      "cell_type": "markdown",
      "metadata": {
        "id": "BFixIJgocm3c"
      },
      "source": [
        "## Exercise 1: Programming"
      ]
    },
    {
      "cell_type": "markdown",
      "metadata": {
        "id": "Ofzj7Tu7cm3d"
      },
      "source": [
        "---\n",
        "## Variable assignment and indexing\n",
        "\n",
        "**1)**\n",
        "Create the following matrix using NumPy and assign it to the variable $A$:\n",
        "\n",
        "$$A = \\begin{bmatrix}1 & 3 \\\\ 5 & 7 \\\\ 9 & 11 \\end{bmatrix}$$\n",
        "\n",
        "Access the element $i = 1$, $j = 0$ (that is, the element in the second row and first column currently set to 5 — remember, Python has zero indexing so $i=1$ means the *second* row!), and change it to 33.\n",
        "\n",
        "Since you'll need to use the NumPy package, we've imported it for you below."
      ]
    },
    {
      "cell_type": "code",
      "metadata": {
        "id": "OjZp5QZRcm3e",
        "colab": {
          "base_uri": "https://localhost:8080/"
        },
        "outputId": "f43b49e3-c498-4f4b-86ae-ad51811c4bd6"
      },
      "source": [
        "import numpy as np\n",
        "A = np.array([[1,3],[5,7],[9,11]])\n",
        "print(A)\n",
        "A[1,0]=33\n",
        "print(A)"
      ],
      "execution_count": 38,
      "outputs": [
        {
          "output_type": "stream",
          "text": [
            "[[ 1  3]\n",
            " [ 5  7]\n",
            " [ 9 11]]\n",
            "[[ 1  3]\n",
            " [33  7]\n",
            " [ 9 11]]\n"
          ],
          "name": "stdout"
        }
      ]
    },
    {
      "cell_type": "markdown",
      "metadata": {
        "id": "wdjnTm6Bcm3f"
      },
      "source": [
        "**2)**\n",
        "Create a new matrix $B$ that is the transpose of $A$."
      ]
    },
    {
      "cell_type": "code",
      "metadata": {
        "id": "AcM1mh9lcm3f",
        "colab": {
          "base_uri": "https://localhost:8080/"
        },
        "outputId": "e4c3c186-5028-4f82-d753-7d6090326826"
      },
      "source": [
        "B = A.T\n",
        "print(B)"
      ],
      "execution_count": 39,
      "outputs": [
        {
          "output_type": "stream",
          "text": [
            "[[ 1 33  9]\n",
            " [ 3  7 11]]\n"
          ],
          "name": "stdout"
        }
      ]
    },
    {
      "cell_type": "markdown",
      "metadata": {
        "id": "KiUedflMcm3g"
      },
      "source": [
        "**3)**\n",
        "Create $C$ that has two copies of $A$ stacked on top of each other.\n",
        "\n",
        "(*Hint:* the NumPy function `np.vstack()` may be useful!)"
      ]
    },
    {
      "cell_type": "code",
      "metadata": {
        "id": "fxOQgN3Xcm3g",
        "colab": {
          "base_uri": "https://localhost:8080/"
        },
        "outputId": "33d0b5cc-6eb3-424b-8d95-4c54ef15e179"
      },
      "source": [
        "C = np.vstack((A,A))\n",
        "print(C)"
      ],
      "execution_count": 40,
      "outputs": [
        {
          "output_type": "stream",
          "text": [
            "[[ 1  3]\n",
            " [33  7]\n",
            " [ 9 11]\n",
            " [ 1  3]\n",
            " [33  7]\n",
            " [ 9 11]]\n"
          ],
          "name": "stdout"
        }
      ]
    },
    {
      "cell_type": "markdown",
      "metadata": {
        "id": "xna8_dybcm3g"
      },
      "source": [
        "**4)**\n",
        "Extract the second column of $C$ and assign it to a variable $x$.\n",
        "\n",
        "*Note:* Is $x$ still a 2 dimensional vector, i.e. a column vector? If not, can you create a new variable $x_{\\text{column}}$ where the values of $x$ are stored as a column vector? (the function  `np.reshape()` may be useful!)"
      ]
    },
    {
      "cell_type": "code",
      "metadata": {
        "id": "-s8RNCq-cm3h",
        "colab": {
          "base_uri": "https://localhost:8080/"
        },
        "outputId": "63006847-2b02-484f-96f9-7b6f96468a5b"
      },
      "source": [
        "x = C[:,1]\n",
        "print(x)\n",
        "x = x.reshape((-1,1))\n",
        "print(x)"
      ],
      "execution_count": 41,
      "outputs": [
        {
          "output_type": "stream",
          "text": [
            "[ 3  7 11  3  7 11]\n",
            "[[ 3]\n",
            " [ 7]\n",
            " [11]\n",
            " [ 3]\n",
            " [ 7]\n",
            " [11]]\n"
          ],
          "name": "stdout"
        }
      ]
    },
    {
      "cell_type": "markdown",
      "metadata": {
        "id": "qIWcY9Pxcm3h"
      },
      "source": [
        "**5)**\n",
        "Make a vector $y$ that has the squared elements of $x$ in it."
      ]
    },
    {
      "cell_type": "code",
      "metadata": {
        "id": "bKRpGL9Zcm3h",
        "colab": {
          "base_uri": "https://localhost:8080/"
        },
        "outputId": "26a7d4cc-8acb-42a4-9a79-cc0e0ce2ef67"
      },
      "source": [
        "y = x**2\n",
        "print(y)"
      ],
      "execution_count": 42,
      "outputs": [
        {
          "output_type": "stream",
          "text": [
            "[[  9]\n",
            " [ 49]\n",
            " [121]\n",
            " [  9]\n",
            " [ 49]\n",
            " [121]]\n"
          ],
          "name": "stdout"
        }
      ]
    },
    {
      "cell_type": "markdown",
      "metadata": {
        "id": "uBOHQaMGcm3i"
      },
      "source": [
        "**6)**\n",
        "Create $D$ that has two copies of $A$ concatenated side-by-side.\n",
        "\n",
        "(*Hint:* the NumPy function `np.hstack()` may be useful!)"
      ]
    },
    {
      "cell_type": "code",
      "metadata": {
        "id": "EkQFcvWDcm3i",
        "colab": {
          "base_uri": "https://localhost:8080/"
        },
        "outputId": "98d65ebe-02db-4b0e-ef0a-0379af9b9283"
      },
      "source": [
        "D = np.hstack((A,A))\n",
        "print(D)"
      ],
      "execution_count": 43,
      "outputs": [
        {
          "output_type": "stream",
          "text": [
            "[[ 1  3  1  3]\n",
            " [33  7 33  7]\n",
            " [ 9 11  9 11]]\n"
          ],
          "name": "stdout"
        }
      ]
    },
    {
      "cell_type": "markdown",
      "metadata": {
        "id": "5Ug5CIgOcm3i"
      },
      "source": [
        "**7)**\n",
        "Create $z$ that is the matrix multiplication of $C^T$ times $y$.\n",
        "\n",
        "(*Hint:* Remember you can use the ampersand symbol @ to matrix multiply two NumPy arrays)"
      ]
    },
    {
      "cell_type": "code",
      "metadata": {
        "id": "-htp4YvFcm3j",
        "colab": {
          "base_uri": "https://localhost:8080/"
        },
        "outputId": "20032292-61e1-4088-d116-ae6d6b6accf8"
      },
      "source": [
        "z = C.T@y\n",
        "print(z)"
      ],
      "execution_count": 44,
      "outputs": [
        {
          "output_type": "stream",
          "text": [
            "[[5430]\n",
            " [3402]]\n"
          ],
          "name": "stdout"
        }
      ]
    },
    {
      "cell_type": "markdown",
      "metadata": {
        "id": "35Pg3m_7cm3j"
      },
      "source": [
        "**8)**\n",
        "Create a new variable named $A$ that contains the integers 0 through 11 arranged in a $3 \\times 4$ matrix (arranged with integers 0 through 3 in the first column, 4 to 7 in the second column, and 8 to 11 in the last).\n",
        "\n",
        "*a)* First, do this the “dumb” way by setting the integers in nested NumPy array manually (e.g. `np.array([[1,2],[3,4]])` )\n",
        "\n",
        "*b)* Then, do it the “smart” way using the Numpy functions `np.arange()` and `np.reshape()`."
      ]
    },
    {
      "cell_type": "code",
      "metadata": {
        "id": "FwVmPOLNcm3j",
        "colab": {
          "base_uri": "https://localhost:8080/"
        },
        "outputId": "5b96ae80-795d-4cb6-b53b-482838c4c618"
      },
      "source": [
        "# The dumb way\n",
        "A = np.array([[0,1,2,3],[4,5,6,7],[8,9,10,11]])\n",
        "print(\"A the dumb way is:\\n\", A)\n",
        "\n",
        "# The smart way\n",
        "A = np.arange(0,12).reshape((3,4))\n",
        "print(\"A the smart way is:\\n\", A)"
      ],
      "execution_count": 47,
      "outputs": [
        {
          "output_type": "stream",
          "text": [
            "A the dumb way is:\n",
            " [[ 0  1  2  3]\n",
            " [ 4  5  6  7]\n",
            " [ 8  9 10 11]]\n",
            "A the smart way is:\n",
            " [[ 0  1  2  3]\n",
            " [ 4  5  6  7]\n",
            " [ 8  9 10 11]]\n"
          ],
          "name": "stdout"
        }
      ]
    },
    {
      "cell_type": "markdown",
      "metadata": {
        "id": "dT55A6Gxcm3j"
      },
      "source": [
        "**9)** Create a time vector $t$ that goes from 0 to 100 in increments of 5 using `np.arange()`."
      ]
    },
    {
      "cell_type": "code",
      "metadata": {
        "id": "AH7zgZqacm3j",
        "colab": {
          "base_uri": "https://localhost:8080/"
        },
        "outputId": "2437fbc1-c48d-4262-9de9-2556b42cc386"
      },
      "source": [
        "t = np.arange(0,101, 5)\n",
        "print(t)"
      ],
      "execution_count": 27,
      "outputs": [
        {
          "output_type": "stream",
          "text": [
            "[  0   5  10  15  20  25  30  35  40  45  50  55  60  65  70  75  80  85\n",
            "  90  95 100]\n"
          ],
          "name": "stdout"
        }
      ]
    },
    {
      "cell_type": "markdown",
      "metadata": {
        "id": "8N4MMOWRcm3j"
      },
      "source": [
        "**10)** Create a vector $q$ whose elements are equal to the corresponding elements of $t$ raised\n",
        "to the power of 2, then multiplied by 3."
      ]
    },
    {
      "cell_type": "code",
      "metadata": {
        "id": "RWUjrwLFcm3k",
        "colab": {
          "base_uri": "https://localhost:8080/"
        },
        "outputId": "b2189adf-dd57-47ea-f3cb-df66d3a21116"
      },
      "source": [
        "q = t**2*3\n",
        "print(q)"
      ],
      "execution_count": 28,
      "outputs": [
        {
          "output_type": "stream",
          "text": [
            "[    0    75   300   675  1200  1875  2700  3675  4800  6075  7500  9075\n",
            " 10800 12675 14700 16875 19200 21675 24300 27075 30000]\n"
          ],
          "name": "stdout"
        }
      ]
    },
    {
      "cell_type": "markdown",
      "metadata": {
        "id": "5wK8oCPQcm3k"
      },
      "source": [
        "**11)**\n",
        "Create a $5 \\times 5$ matrix of all-1’s using `np.ones()`, a $10 \\times 5$ matrix of all-0’s using `np.zeros()`, and a $10 \\times 10$ identity matrix using `np.eye()`."
      ]
    },
    {
      "cell_type": "code",
      "metadata": {
        "id": "MsFRZIOicm3k",
        "colab": {
          "base_uri": "https://localhost:8080/"
        },
        "outputId": "15a789a6-0e8a-4414-e306-f755e15a2932"
      },
      "source": [
        "O = np.ones((5,5))\n",
        "Z = np.zeros((5,10))\n",
        "E = np.eye(10)\n",
        "print(O)\n",
        "print(Z)\n",
        "print(E)"
      ],
      "execution_count": 31,
      "outputs": [
        {
          "output_type": "stream",
          "text": [
            "[[1. 1. 1. 1. 1.]\n",
            " [1. 1. 1. 1. 1.]\n",
            " [1. 1. 1. 1. 1.]\n",
            " [1. 1. 1. 1. 1.]\n",
            " [1. 1. 1. 1. 1.]]\n",
            "[[0. 0. 0. 0. 0. 0. 0. 0. 0. 0.]\n",
            " [0. 0. 0. 0. 0. 0. 0. 0. 0. 0.]\n",
            " [0. 0. 0. 0. 0. 0. 0. 0. 0. 0.]\n",
            " [0. 0. 0. 0. 0. 0. 0. 0. 0. 0.]\n",
            " [0. 0. 0. 0. 0. 0. 0. 0. 0. 0.]]\n",
            "[[1. 0. 0. 0. 0. 0. 0. 0. 0. 0.]\n",
            " [0. 1. 0. 0. 0. 0. 0. 0. 0. 0.]\n",
            " [0. 0. 1. 0. 0. 0. 0. 0. 0. 0.]\n",
            " [0. 0. 0. 1. 0. 0. 0. 0. 0. 0.]\n",
            " [0. 0. 0. 0. 1. 0. 0. 0. 0. 0.]\n",
            " [0. 0. 0. 0. 0. 1. 0. 0. 0. 0.]\n",
            " [0. 0. 0. 0. 0. 0. 1. 0. 0. 0.]\n",
            " [0. 0. 0. 0. 0. 0. 0. 1. 0. 0.]\n",
            " [0. 0. 0. 0. 0. 0. 0. 0. 1. 0.]\n",
            " [0. 0. 0. 0. 0. 0. 0. 0. 0. 1.]]\n"
          ],
          "name": "stdout"
        }
      ]
    },
    {
      "cell_type": "markdown",
      "metadata": {
        "id": "qEb82nyacm3k"
      },
      "source": [
        "---\n",
        "## Plotting\n",
        "\n",
        "The dominant way to plot in Python is with the package *matplotlib*, which we import for you below.\n",
        "\n",
        "There are also a variety of ways Python can render images. One of the main advantages of the Notebooks is the ability to render images *inline*, that is, within the notebook itself rather than in an additional pop-up window. We activate that inline functionality here by calling `%matplotlib inline` for you below.\n",
        "\n",
        "---\n",
        "**12)**\n",
        "Using the matplotlib function `plt.plot()`, plot a sine wave over the interval $[0, 4\\pi]$. First, make a vector $t$ that goes from 0 to $4\\pi$ in 200 even increments (try using `np.linspace()` here). Then make a plot of $\\sin(t)$ vs. $t$. Label your $x$ and $y$-axes using `plt.xlabel()` and `plt.ylabel()`, and give your plot a title using title."
      ]
    },
    {
      "cell_type": "code",
      "metadata": {
        "id": "avFBFS8Jcm3k",
        "colab": {
          "base_uri": "https://localhost:8080/",
          "height": 312
        },
        "outputId": "baa7ef1a-6fe5-4431-c323-753898b2fdad"
      },
      "source": [
        "%matplotlib inline\n",
        "from matplotlib import pyplot as plt\n",
        "\n",
        "t = np.linspace(0,4*np.pi, 200)\n",
        "sin_t = np.sin(t)\n",
        "\n",
        "plt.figure()\n",
        "plt.plot(t,sin_t)\n",
        "plt.xlabel('t')\n",
        "plt.ylabel('sin(t)')\n",
        "plt.title('My sine wave plot')"
      ],
      "execution_count": 49,
      "outputs": [
        {
          "output_type": "execute_result",
          "data": {
            "text/plain": [
              "Text(0.5, 1.0, 'My sine wave plot')"
            ]
          },
          "metadata": {
            "tags": []
          },
          "execution_count": 49
        },
        {
          "output_type": "display_data",
          "data": {
            "image/png": "[encoded data removed]",
            "text/plain": [
              "<Figure size 432x288 with 1 Axes>"
            ]
          },
          "metadata": {
            "tags": [],
            "needs_background": "light"
          }
        }
      ]
    },
    {
      "cell_type": "markdown",
      "metadata": {
        "id": "ol2OxqUMcm3k"
      },
      "source": [
        "**13)**\n",
        "Plot the vectors (3, 1) and (2, 5), and (−2, 3) as line segments extending from the origin to the vector endpoint, all on the same set of axes.\n",
        "\n",
        "(You can try using `plt.arrow()` if you want to get fancy and add arrow heads!)"
      ]
    },
    {
      "cell_type": "code",
      "metadata": {
        "id": "Dw_CIzMzcm3l",
        "colab": {
          "base_uri": "https://localhost:8080/",
          "height": 282
        },
        "outputId": "d86da65d-ed5a-43ee-b62f-0d248e3c9f9f"
      },
      "source": [
        "plt.figure()\n",
        "plt.plot([0,3],[0,1])\n",
        "plt.plot([0,2],[0,5])\n",
        "plt.plot([0,-2],[0,3])"
      ],
      "execution_count": 50,
      "outputs": [
        {
          "output_type": "execute_result",
          "data": {
            "text/plain": [
              "[<matplotlib.lines.Line2D at 0x7f4eb64825d0>]"
            ]
          },
          "metadata": {
            "tags": []
          },
          "execution_count": 50
        },
        {
          "output_type": "display_data",
          "data": {
            "image/png": "[encoded data removed]",
            "text/plain": [
              "<Figure size 432x288 with 1 Axes>"
            ]
          },
          "metadata": {
            "tags": [],
            "needs_background": "light"
          }
        }
      ]
    }
  ]
}