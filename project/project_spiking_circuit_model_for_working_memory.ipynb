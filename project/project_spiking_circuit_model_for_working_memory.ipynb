{
  "nbformat": 4,
  "nbformat_minor": 0,
  "metadata": {
    "colab": {
      "name": "project-spiking circuit model for working memory.ipynb",
      "provenance": [],
      "collapsed_sections": [],
      "include_colab_link": true
    },
    "kernelspec": {
      "name": "python3",
      "display_name": "Python 3"
    },
    "language_info": {
      "name": "python"
    }
  },
  "cells": [
    {
      "cell_type": "markdown",
      "metadata": {
        "id": "view-in-github",
        "colab_type": "text"
      },
      "source": [
        "<a href=\"https://colab.research.google.com/github/cahcharm/Neuro-and-Complexity-Science/blob/CSHA2021/project/project_spiking_circuit_model_for_working_memory.ipynb\" target=\"_parent\"><img src=\"https://colab.research.google.com/assets/colab-badge.svg\" alt=\"Open In Colab\"/></a>"
      ]
    },
    {
      "cell_type": "markdown",
      "metadata": {
        "id": "U4qCoFCTEVnd"
      },
      "source": [
        "# **Spiking circuit model for working memory**\n",
        "\n",
        "Building up a spiking circuit model for working memory (Misha, Science, 2008). \n",
        "\n",
        "* Step 1: build LIF neuron, voltage jump synapse, STP synapse\n",
        "*\tStep 2: consider the connectivity used in the paper, build up the network model\n",
        "*\tStep 3: try to encode one item in the model (Fig. 2)\n",
        "*\tStep 4: try to encode two items in the network (Fig. 3)\n"
      ]
    },
    {
      "cell_type": "code",
      "metadata": {
        "id": "LsX1Lx6HEVLK",
        "colab": {
          "base_uri": "https://localhost:8080/"
        },
        "outputId": "7858beea-238b-4459-8113-0188d6c63926"
      },
      "source": [
        "pip install brainpy-simulator"
      ],
      "execution_count": null,
      "outputs": [
        {
          "output_type": "stream",
          "text": [
            "Collecting brainpy-simulator\n",
            "  Downloading brainpy-simulator-1.0.2.tar.gz (126 kB)\n",
            "\u001b[?25l\r\u001b[K     |██▋                             | 10 kB 21.9 MB/s eta 0:00:01\r\u001b[K     |█████▏                          | 20 kB 23.8 MB/s eta 0:00:01\r\u001b[K     |███████▉                        | 30 kB 14.4 MB/s eta 0:00:01\r\u001b[K     |██████████▍                     | 40 kB 10.9 MB/s eta 0:00:01\r\u001b[K     |█████████████                   | 51 kB 7.3 MB/s eta 0:00:01\r\u001b[K     |███████████████▋                | 61 kB 6.9 MB/s eta 0:00:01\r\u001b[K     |██████████████████▏             | 71 kB 7.3 MB/s eta 0:00:01\r\u001b[K     |████████████████████▊           | 81 kB 8.1 MB/s eta 0:00:01\r\u001b[K     |███████████████████████▍        | 92 kB 6.6 MB/s eta 0:00:01\r\u001b[K     |██████████████████████████      | 102 kB 7.0 MB/s eta 0:00:01\r\u001b[K     |████████████████████████████▋   | 112 kB 7.0 MB/s eta 0:00:01\r\u001b[K     |███████████████████████████████▏| 122 kB 7.0 MB/s eta 0:00:01\r\u001b[K     |████████████████████████████████| 126 kB 7.0 MB/s \n",
            "\u001b[?25hRequirement already satisfied: numpy>=1.15 in /usr/local/lib/python3.7/dist-packages (from brainpy-simulator) (1.19.5)\n",
            "Requirement already satisfied: matplotlib>=3.2 in /usr/local/lib/python3.7/dist-packages (from brainpy-simulator) (3.2.2)\n",
            "Requirement already satisfied: kiwisolver>=1.0.1 in /usr/local/lib/python3.7/dist-packages (from matplotlib>=3.2->brainpy-simulator) (1.3.1)\n",
            "Requirement already satisfied: cycler>=0.10 in /usr/local/lib/python3.7/dist-packages (from matplotlib>=3.2->brainpy-simulator) (0.10.0)\n",
            "Requirement already satisfied: python-dateutil>=2.1 in /usr/local/lib/python3.7/dist-packages (from matplotlib>=3.2->brainpy-simulator) (2.8.2)\n",
            "Requirement already satisfied: pyparsing!=2.0.4,!=2.1.2,!=2.1.6,>=2.0.1 in /usr/local/lib/python3.7/dist-packages (from matplotlib>=3.2->brainpy-simulator) (2.4.7)\n",
            "Requirement already satisfied: six in /usr/local/lib/python3.7/dist-packages (from cycler>=0.10->matplotlib>=3.2->brainpy-simulator) (1.15.0)\n",
            "Building wheels for collected packages: brainpy-simulator\n",
            "  Building wheel for brainpy-simulator (setup.py) ... \u001b[?25l\u001b[?25hdone\n",
            "  Created wheel for brainpy-simulator: filename=brainpy_simulator-1.0.2-py3-none-any.whl size=152104 sha256=772e77d61b9878f167d08ab9536cdd9baa345357a4a14efe17f5e3b4693bb847\n",
            "  Stored in directory: /root/.cache/pip/wheels/ec/1c/3f/e33093b69bc03ff9b2742480ec6126ddef875ba4f6d3699659\n",
            "Successfully built brainpy-simulator\n",
            "Installing collected packages: brainpy-simulator\n",
            "Successfully installed brainpy-simulator-1.0.2\n"
          ],
          "name": "stdout"
        }
      ]
    },
    {
      "cell_type": "code",
      "metadata": {
        "id": "n_192zL9EQ4y"
      },
      "source": [
        "import numpy as np\n",
        "import brainpy as bp\n",
        "\n",
        "import matplotlib.pyplot as plt\n",
        "import matplotlib.colors as mcolors"
      ],
      "execution_count": null,
      "outputs": []
    },
    {
      "cell_type": "markdown",
      "metadata": {
        "id": "0rPu6rPTG57I"
      },
      "source": [
        "## Step 1: build LIF neuron, voltage jump synapse, STP synapse"
      ]
    },
    {
      "cell_type": "markdown",
      "metadata": {
        "id": "LkLRyRoD6mMQ"
      },
      "source": [
        "**Spiking network: LIF Neuron**\n",
        "\n",
        "---\n",
        "\n",
        "The network is composed of $N_E$ excitatory and $N_I$ inhibitory current-based integrate-and-fire neurons, whose sub-threshold depolarization dynamics is described by\n",
        "$$\n",
        "\\tau_m \\frac{dV_i}{dt} = - V_i + I_i^{(rec)}(t)+I_{i}^{(ext)}(t)\n",
        "$$\n",
        "where $i = 1,\\cdots,(N_E+N_I)$ refere to the neuron number, $\\tau_m$ is the membrane time constant, $I_i^{(rec)}(t)$ is the current mediated by recurrent synaptic connections, and $I_i^{(ext)}(t)$ is the external current provided by distant brain areas. Membrane resistance is absorbed into the definition of the currents.\n",
        "\n",
        "When the depolarization hits a fixed threshold $\\theta(V_i(t)\\geq \\theta)$， the neuron emits a spike and becomes refractory for a period $\\tau_{arp}$ with a sub-threshold potential $V_r$\n",
        "\n",
        "---\n",
        "\n",
        "External current are modeld as Gaussian white noise\n",
        "$$\n",
        "I_i^{(ext)}(t) = \\mu_{ext} + \\sigma_{ext}\\cdot \\eta_i(t)\n",
        "$$\n",
        "with $\\langle\\eta_i(t)\\rangle = 0, \\langle \\eta_i(t)\\eta_j(t')\\rangle = \\delta_{ij}\\delta(t-t')$, so that $\\mu_{ext}$ and $\\sigma_{ext}^2$ are respectively the mean and the variance of the external currents.\n",
        "\n",
        "---\n",
        "\n",
        "The recurrent current $I_i^{(rec)}(t)$ is the sum of the postsynaptic currents from all other neurons in the network targeting the neuron i,\n",
        "$$\n",
        "I_i{(rec)}(t) = \\sum_j\\hat{J}_{ij}(t)\\sum_{k}\\delta(t-t_k^{(j)}-D_{ij})\n",
        "$$\n",
        "where $\\hat{J}_{ij}(t)$ is the instantaneous efficacy (time dependence is due to short-term synaptic dynamics) of the synapse connecting neuron $j$ to neuron $i$; the sum on $k$ is over all the emission times, $t_{k}^{(j)}$, of presynaptic neuron $j$; $D_{ij}$ is the transmission delay uniformly distributed between 1 and 5 ms. For simplicity, we neglect rise and decay times of the postsynaptic currents.\n",
        "\n",
        "Excitatory-to-excitatory synapses display short-term plasticity is\n",
        "$$\n",
        "\\frac{du_j(t)}{dt} = \\frac{U - u_j(t)}{\\tau_F} + U[1-u_j(t)]\\sum_k\\delta(t-t_k^{(j)})\\\\\n",
        "\\frac{dx_j(t)}{dt}=\\frac{1-x_j(t)}{\\tau_D} - u_j(t)x_j(t)\\sum_{k}\\delta(t-t_k^{(j)})\n",
        "$$\n",
        "where the functions multiplying the spike train are evaluated inmmediately before the dleta functions,i.e. at $t_k^{(j)-}$. The $\\hat{J}_{ij}(t)$ is given by\n",
        "$$\n",
        "\\hat{J}_{ij}(t)=J_{ij}\\cdot u_j(t-D_{ij})\\cdot x_j(t-D_{ij})\n",
        "$$\n",
        "where $J_{ij}$ is the absolute synaptic efficacy. The remaining synaptic populations, inhibitory and excitatory-inhibitorym exhibit linear synaptic transmission, i.e., $\\hat{J}_{ij}(t)=J_{ij}$. The dynamics of the network is completely described by the coupled system of above non-linear equations combined with the conditions for spike emission and refractoriness described above. These equations are integrated using an Euler scheme.\n",
        "\n",
        "Some of the above parameters are different between excitatory and inhibitory cells. "
      ]
    },
    {
      "cell_type": "code",
      "metadata": {
        "id": "FyRN3T4t6h0z"
      },
      "source": [
        "class LIF(bp.NeuGroup):\n",
        "  target_backend = ['numpy', 'numba']\n",
        "\n",
        "  @staticmethod\n",
        "  @bp.odeint(method='exponential_euler')\n",
        "  def integral(V, t, Irec, Iext, tau):\n",
        "    dvdt = (-V + Irec + Iext) / tau_m\n",
        "    return dvdt\n",
        "\n",
        "  def __init__(self, size, cls=1, theta_E=20., theta_I=20., Vr_E=16., Vr_I=13., tau_m_E=15., tau_m_I=10.,\n",
        "          tau_arp_E=2., tau_arp_I=2., mu_ext_E=23.10, mu_ext_I=21.0, sigma_ext_E=1., sigma_ext_I=1., Jij, tk, u, x **kwargs):\n",
        "    super(LIF, self).__init__(size=size, **kwargs)\n",
        "    \n",
        "    # Single-cell parameters\n",
        "    self.cls = cls # judge teh cell is excitatory or inhibitory, 0 for inhibitory, 1 for excitatory \n",
        "    self.theta_E = theta_E # Spike emission threshold of excitatory cells [mV]\n",
        "    self.theta_I = theta_I # Spike emission threshold of inhibitory cells [mV]\n",
        "    self.Vr_E = Vr_E # Reset potential of excitatory cells [mV]\n",
        "    self.Vr_I = Vr_I # Reset potential of inhibitory cells [mV]\n",
        "    self.tau_m_E = tau_m_E # Membrane time constant of excitatory cells [ms]\n",
        "    self.tau_m_I = tau_m_I # Membrane tiem constant of inhibitory cells [ms]\n",
        "    self.tau_arp_E = tau_arp_E # Absolute refractory period of excitatory cells [ms]\n",
        "    self.tau_arp_I = tau_arp_I # Absolute refractory period of inhibitory cells [ms]\n",
        "\n",
        "    self.mu_ext_E = mu_ext_E # Mean external current of excitatory cells [mV]\n",
        "    self.mu_ext_I = mu_ext_I # Mean external current of inhibitory cells [mV]\n",
        "    self.sigma_ext_E = sigma_ext_E # Standard deviation of external current of excitatory cells [mV]\n",
        "    self.sigma_ext_I = sigma_ext_I # Standard deviation of external current of inhibitory cells [mV]\n",
        "    self.Jij = Jij # \n",
        "    self.tj = tj # \n",
        "\n",
        "    if self.cls == 1:\n",
        "      self.theta = self.theta_E\n",
        "      self.Vr = self.Vr_E\n",
        "      self.tau_m = self.tau_m_E\n",
        "      self.tau_arp = self.tau_arp_E\n",
        "      self.mu_ext = self.mu_ext_E\n",
        "      self.sigma_ext = self.sigma_ext_E\n",
        "    elif self.cls == 0:\n",
        "      self.theta = self.theta_I\n",
        "      self.Vr = self.Vr_I\n",
        "      self.tau_m = self.tau_m_I\n",
        "      self.tau_arp = self.tau_arp_I\n",
        "      self.mu_ext = self.mu_ext_I\n",
        "      self.sigma_ext = self.sigma_ext_I\n",
        "\n",
        "    # variables\n",
        "    self.t_last_spike = bp.ops.ones(self.num) * -1e7\n",
        "    self.refractory = bp.ops.zeros(self.num, dtype=bool)\n",
        "    self.spike = bp.ops.zeros(self.num, dtype=bool)\n",
        "    self.V = bp.ops.zeros(self.num)\n",
        "    self.Irec = bp.ops.zeros(self.num) # Irec\n",
        "    self.Iext = bp.ops.zeros(self.num) # Iext\n",
        "    \n",
        "  def update(self, _t):\n",
        "    \n",
        "    for i in range(self.num):\n",
        "      spike = False\n",
        "      refractory = (_t - self.t_last_spike[i]) <= self.tau_arp\n",
        "      if not refractory:\n",
        "        # TODO: calculate Irec\n",
        "        self.Iext[i] = np.random.normal(self.mu_ext, seld.sigma_ext, size=1)\n",
        "        V = self.integral(self.V[i], _t, self.Irec[i],\n",
        "                          self.Iext[i], self.tau_m)\n",
        "        spike = (V >= self.theta)\n",
        "        if spike:\n",
        "          V = self.Vr\n",
        "          self.t_last_spike[i] = _t\n",
        "          refractory = True\n",
        "        self.V[i] = V\n",
        "      self.spike[i] = spike\n",
        "      self.refractory[i] = refractory\n",
        "      self.Irec[i] = 0.\n",
        "      self.Iext[i] = 0."
      ],
      "execution_count": null,
      "outputs": []
    },
    {
      "cell_type": "code",
      "metadata": {
        "id": "Q6cntNt_mLU9"
      },
      "source": [
        "## Network parameters\n",
        "f =  0.10 # Coding level\n",
        "p = 5 # Number of memories\n",
        "c = 0.20 # Probability of synaptic contact\n",
        "N_E = 8000 # Number of excitatory cells\n",
        "N_I = 2000 # Number of inhibitory cells"
      ],
      "execution_count": null,
      "outputs": []
    },
    {
      "cell_type": "code",
      "metadata": {
        "id": "rNB30ovSna-7"
      },
      "source": [
        "## Synaptic parameters\n",
        "J_IE = 0.135 # Synaptic efficacy E to I [mV]\n",
        "J_EI = 0.25 # Synaptic efficacy I to E [mV]\n",
        "J_II = 0.20 # Synaptic efficacy I to I [mV]\n",
        "J_b = 0.10 # Baseline level of E to E synapses [mV]\n",
        "J_p = 0.45 # Potentiated level of E to E synapses [mV]\n",
        "gamma_0 = 0.10 # Fraction of potentiated synapses before learning\n",
        "delta = range(0.1, 1) # Synaptic delays"
      ],
      "execution_count": null,
      "outputs": []
    },
    {
      "cell_type": "markdown",
      "metadata": {
        "id": "XxFpT0uKG57K"
      },
      "source": [
        "**Voltage Jump Synapse**"
      ]
    },
    {
      "cell_type": "markdown",
      "metadata": {
        "id": "i_fo5xNzG57L"
      },
      "source": [
        "$$\n",
        "I = \\sum_{j\\in C} g \\delta(t-t_j-D)\n",
        "$$\n",
        "\n",
        "where $g$ denotes the chemical synaptic strength, $t_j$ the spiking moment of the presynaptic neuron $j$, $C$ the set of neurons in the encoding layer, and $D$ the transmission delay of chemical synapses. For simplicity, we omit the rise and decay phases of post-synaptic currents. "
      ]
    },
    {
      "cell_type": "code",
      "metadata": {
        "id": "bR8J-DC4G57M"
      },
      "source": [
        "class VoltageJump(bp.TwoEndConn):\n",
        "  target_backend = ['numpy', 'numba']\n",
        "\n",
        "  def __init__(self, pre, post, conn, delay=0., post_refractory=False, weight=1., **kwargs):\n",
        "    # parameters\n",
        "    self.delay = delay\n",
        "    self.post_has_refractory = post_refractory\n",
        "\n",
        "    # connections\n",
        "    self.conn = conn(pre.size, post.size)\n",
        "    self.pre_ids, self.post_ids = conn.requires('pre_ids', 'post_ids')\n",
        "    self.num = len(self.pre_ids)\n",
        "\n",
        "    # variables\n",
        "    self.s = np.zeros(self.num)\n",
        "    self.w = np.ones(self.num) * weight\n",
        "    self.I_syn = self.register_constant_delay('I_syn', size=self.num, delay_time=delay)\n",
        "\n",
        "    super(VoltageJump, self).__init__(pre=pre, post=post, **kwargs)\n",
        "    \n",
        "    # checking\n",
        "    assert hasattr(pre, 'V'), 'Pre-synaptic group must has \"V\" variable.'\n",
        "    assert hasattr(post, 'V'), 'Post-synaptic group must has \"V\" variable.'\n",
        "    assert hasattr(post, 'input'), 'Post-synaptic group must has \"input\" variable.'\n",
        "    if post_refractory:\n",
        "      assert hasattr(post, 'refractory'), 'Post-synaptic group must has \"refractory\" variable.'\n",
        "\n",
        "  def update(self, _t):\n",
        "    for i in range(self.num):\n",
        "      pre_id = self.pre_ids[i]\n",
        "      post_id = self.post_ids[i]\n",
        "      # update\n",
        "      self.s[i] = self.pre.spike[pre_id]\n",
        "      self.I_syn.push(i, self.s[i] * self.w[i])\n",
        "      # output\n",
        "      I_syn = self.I_syn.pull(i)\n",
        "      if self.post_has_refractory:\n",
        "        self.post.V += I_syn * (1. - self.post.refractory[post_id])\n",
        "      else:\n",
        "        self.post.V += I_syn"
      ],
      "execution_count": null,
      "outputs": []
    },
    {
      "cell_type": "code",
      "metadata": {
        "id": "unztZ0rQ7Jls",
        "colab": {
          "base_uri": "https://localhost:8080/",
          "height": 259
        },
        "outputId": "2d5d516b-8cd0-47d1-bbb7-8010a5a6908c"
      },
      "source": [
        "neu1 = LIF(1, monitors=['V', 'spike'])\n",
        "neu2 = LIF(1, monitors=['V'])\n",
        "\n",
        "syn1 = VoltageJump(pre=neu1, post=neu2, conn=bp.connect.All2All(), delay=2.0)\n",
        "\n",
        "net = bp.Network(neu1, syn1, neu2)\n",
        "net.run(150., inputs=[(neu1, 'input', 25.), (neu2, 'input', 10.)])\n",
        "\n",
        "fig, gs = bp.visualize.get_figure(1, 1, 3, 8)\n",
        "plt.plot(net.ts, neu1.mon.V, label='pre-V')\n",
        "plt.plot(net.ts, neu2.mon.V, label='post-V')\n",
        "plt.xlim(40, 150)\n",
        "plt.legend()\n"
      ],
      "execution_count": null,
      "outputs": [
        {
          "output_type": "execute_result",
          "data": {
            "text/plain": [
              "<matplotlib.legend.Legend at 0x7f28677f4810>"
            ]
          },
          "metadata": {
            "tags": []
          },
          "execution_count": 5
        },
        {
          "output_type": "display_data",
          "data": {
            "image/png": "[encoded data removed]",
            "text/plain": [
              "<Figure size 576x216 with 1 Axes>"
            ]
          },
          "metadata": {
            "tags": [],
            "needs_background": "light"
          }
        }
      ]
    },
    {
      "cell_type": "markdown",
      "metadata": {
        "id": "wlYk5idEG57N"
      },
      "source": [
        "**STP Synapse**"
      ]
    },
    {
      "cell_type": "markdown",
      "metadata": {
        "id": "RPIyitzLG57O"
      },
      "source": [
        "$$\\frac{d u}{d t}= -\\frac{u}{\\tau_{f}}+U\\left(1-u^{-}\\right) \\delta\\left(t-t_{s p}\\right)$$\n",
        "\n",
        "$$\\frac{d x}{d t}= \\frac{1-x}{\\tau_{d}}-u^{+} x^{-} \\delta\\left(t-t_{s p}\\right)$$\n",
        "\n",
        "$$\\frac{d I}{d t}= -\\frac{I}{\\tau_{s}}+A u^{+} x^{-} \\delta\\left(t-t_{s p}\\right)$$\n",
        "\n",
        "$$u^{+}=u^{-}+U\\left(1-u^{-}\\right)$$\n",
        "\n",
        "Or we can see the dynamics as:\n",
        "\n",
        "$$\n",
        "\\frac {du} {dt} = - \\frac u {\\tau_f} \n",
        "$$\n",
        "\n",
        "$$\n",
        "\\frac {dx} {dt} =  \\frac {1-x} {\\tau_d} \n",
        "$$\n",
        "\n",
        "$$\n",
        "\\frac {dI} {dt} = - \\frac I {\\tau}\n",
        "$$\n",
        "\n",
        "$$\n",
        "\\rm{if (pre \\ fire), then}\n",
        "\\begin{cases} \n",
        "u^+ = u^- + U(1-u^-) \\\\ \n",
        "I^+ = I^- + Au^+x^- \\\\\n",
        "x^+ = x^- - u^+x^- \n",
        "\\end{cases}\n",
        "$$"
      ]
    },
    {
      "cell_type": "code",
      "metadata": {
        "id": "_D9e0it5qK9C"
      },
      "source": [
        "## Short-term synaptic dynamics parameters\n",
        "U = 0.20 # Baseline utilization factor\n",
        "tau_F = 1500 # Recovery time of utilization factor [ms]\n",
        "tau_D = 200 # Recovery time of synaptic resources [ms]"
      ],
      "execution_count": null,
      "outputs": []
    },
    {
      "cell_type": "code",
      "metadata": {
        "id": "GzTq147YG57O"
      },
      "source": [
        "class STP(bp.TwoEndConn):\n",
        "  target_backend = 'general'\n",
        "\n",
        "  @staticmethod\n",
        "  @bp.odeint(method='exponential_euler')\n",
        "  def integral(s, u, x, t, tau, tau_d, tau_f):\n",
        "    # Dynamics\n",
        "    dsdt = - s / tau \n",
        "    dudt = - u / tau_f \n",
        "    dxdt = (1 - x) / tau_d\n",
        "    return dsdt, dudt, dxdt\n",
        "  \n",
        "  def __init__(self, pre, post, conn, delay=0., U=0.15, tau_f=1500., tau_d=200., tau=8., A=1.,  **kwargs):\n",
        "    # parameters\n",
        "    self.tau_d = tau_d\n",
        "    self.tau_f = tau_f\n",
        "    self.tau = tau\n",
        "    self.U = U\n",
        "    self.delay = delay\n",
        "\n",
        "    # connections\n",
        "    self.conn = conn(pre.size, post.size)\n",
        "    self.pre_ids, self.post_ids = conn.requires('pre_ids', 'post_ids')\n",
        "    self.num = len(self.pre_ids)\n",
        "\n",
        "    # variables\n",
        "    self.s = bp.ops.zeros(self.num)\n",
        "    self.x = bp.ops.ones(self.num)\n",
        "    self.u = bp.ops.zeros(self.num)\n",
        "    self.A = A\n",
        "    self.I_syn = self.register_constant_delay('I_syn', size=self.num, delay_time=delay)\n",
        "    \n",
        "    super(STP, self).__init__(pre=pre, post=post, **kwargs)\n",
        "\n",
        "  def update(self, _t):\n",
        "    for i in range(self.num):\n",
        "      pre_id, post_id = self.pre_ids[i], self.post_ids[i]\n",
        "\n",
        "      self.s[i], u, x = self.integral(self.s[i], self.u[i], self.x[i], _t, self.tau, self.tau_d, self.tau_f)\n",
        "      if self.pre.spike[pre_id]:\n",
        "        # update if there is a spike\n",
        "        u += self.U * (1 - self.u[i])\n",
        "        self.s[i] += self.A * u * self.x[i]  \n",
        "        x -= u * self.x[i]\n",
        "      self.u[i] = u\n",
        "      self.x[i] = x\n",
        "\n",
        "      # output\n",
        "      self.I_syn.push(i, self.s[i])\n",
        "      self.post.input[post_id] += self.I_syn.pull(i)"
      ],
      "execution_count": null,
      "outputs": []
    },
    {
      "cell_type": "code",
      "metadata": {
        "id": "Ll7DKEVw7akn",
        "colab": {
          "base_uri": "https://localhost:8080/",
          "height": 457
        },
        "outputId": "816c0bcd-3f79-473a-aaa1-99377280c098"
      },
      "source": [
        "## STD/STF parameters and plot \n",
        "neu1 = LIF(1, monitors=['V'])\n",
        "neu2 = LIF(1, monitors=['V'])\n",
        "\n",
        "# STD\n",
        "syn = STP(U=0.2, tau_d=150., tau_f=2., pre=neu1, post=neu2, \n",
        "          conn=bp.connect.All2All(), monitors=['s', 'u', 'x'])\n",
        "net = bp.Network(neu1, syn, neu2)\n",
        "net.run(100., inputs=(neu1, 'input', 28.))\n",
        "\n",
        "# plot\n",
        "fig, gs = bp.visualize.get_figure(2, 1, 3, 7)\n",
        "\n",
        "fig.add_subplot(gs[0, 0])\n",
        "plt.plot(net.ts, syn.mon.u[:, 0], label='u')\n",
        "plt.plot(net.ts, syn.mon.x[:, 0], label='x')\n",
        "plt.legend()\n",
        "\n",
        "fig.add_subplot(gs[1, 0])\n",
        "plt.plot(net.ts, syn.mon.s[:, 0], label='s')\n",
        "plt.legend()\n",
        "\n",
        "plt.xlabel('Time (ms)')\n",
        "plt.show()"
      ],
      "execution_count": null,
      "outputs": [
        {
          "output_type": "display_data",
          "data": {
            "image/png": "[encoded data removed]",
            "text/plain": [
              "<Figure size 504x432 with 2 Axes>"
            ]
          },
          "metadata": {
            "tags": [],
            "needs_background": "light"
          }
        }
      ]
    },
    {
      "cell_type": "markdown",
      "metadata": {
        "id": "_cPuoNW664kw"
      },
      "source": [
        "## Step 2: consider the connectivity used in the paper, build up the network model"
      ]
    },
    {
      "cell_type": "code",
      "metadata": {
        "id": "wtb1FmzoG57Q"
      },
      "source": [
        "dt = 0.0001  # [s]\n",
        "bp.backend.set(dt=dt)"
      ],
      "execution_count": null,
      "outputs": []
    },
    {
      "cell_type": "code",
      "metadata": {
        "id": "AYb2hKxPG57Q"
      },
      "source": [
        "# the parameters of network\n",
        "alpha = 1.5\n",
        "J_EE = 8.  # the connection strength in each excitatory neural clusters\n",
        "J_IE = 1.75  # Synaptic efficacy E → I\n",
        "J_EI = 1.1  # Synaptic efficacy I → E\n",
        "tau_f = 1.5  # time constant of STF  [s]\n",
        "tau_d = .3  # time constant of STD  [s]\n",
        "U = 0.3  # minimum STF value\n",
        "tau = 0.008  # time constant of firing rate of the excitatory neurons [s]\n",
        "tau_I = tau  # time constant of firing rate of the inhibitory neurons\n",
        "\n",
        "Ib = 8.  # background input and external input\n",
        "Iinh = 0.  # the background input of inhibtory neuron\n",
        "\n",
        "cluster_num = 16  # the number of the clusters"
      ],
      "execution_count": null,
      "outputs": []
    },
    {
      "cell_type": "code",
      "metadata": {
        "id": "xrF9958bG57Q"
      },
      "source": [
        "# the parameters of external input\n",
        "\n",
        "stimulus_num = 5\n",
        "Iext_train = 225  # the strength of the external input\n",
        "# the time interval between the consequent external input [s]\n",
        "Ts_interval = 0.070\n",
        "Ts_duration = 0.030  # the time duration of the external input [s]\n",
        "duration = 2.500  # [s]"
      ],
      "execution_count": null,
      "outputs": []
    },
    {
      "cell_type": "markdown",
      "metadata": {
        "id": "ErawHyx0G57Q"
      },
      "source": [
        "the working memory model based on STP was used to derive the expression for the postsynaptic current resulting from the activity of a large, uncorrelated pre-synaptic population.\n",
        "\n",
        "The resulting network model has three differential equations for each of $P$ excitatory clusters (synaptic current $h_\\mu$ and two STP variables $u_\\mu$ and $x_\\mu$ for each cluster $\\mu; \\mu = 1,..., P$) and one additional equation for the inhibitory pool current $h_I$:\n",
        "\n",
        "$$\n",
        "\\begin{gathered}\n",
        "\\tau \\frac{d h_{\\mu}}{d t}=-h_{\\mu}+J_{E E} u_{\\mu} x_{\\mu} R_{\\mu}-J_{E l} R_{l}+I_{b}+I_{e}(t) \\\\\n",
        "\\frac{d u_{\\mu}}{d t}=\\frac{U-u_{\\mu}}{\\tau_{f}}+U\\left(1-u_{\\mu}\\right) R_{\\mu} \\\\\n",
        "\\frac{d x_{\\mu}}{d t}=\\frac{1-x_{\\mu}}{\\tau_{d}}-u_{\\mu} x_{\\mu} R_{\\mu}, \\text { and } \\\\\n",
        "\\tau \\frac{d h_{I}}{d t}=-h_{I}+J_{I E} \\sum_{\\nu} R_{\\nu}\n",
        "\\end{gathered}\n",
        "$$\n",
        "\n",
        "where $t$ is the neuronal time constant, for simplicity the same for excitation and inhibition; $I_b$ is the constant background excitation; and $I_e$ is the external input used to load memory items into the network. \n",
        "\n",
        "$$\n",
        "R(h)=\\alpha \\ln (1+\\exp (h / \\alpha))\n",
        "$$\n",
        "\n",
        "is neuronal gain chosen in the form of a smoothed threshold-linear function, also the same for excitatory and inhibitory neurons. "
      ]
    },
    {
      "cell_type": "code",
      "metadata": {
        "id": "r-d6aINdG57R"
      },
      "source": [
        "# the excitatory cluster model and the inhibitory pool model\n",
        "\n",
        "class WorkingMemoryModel(bp.NeuGroup):\n",
        "  target_backend = ['numpy', 'numba']\n",
        "\n",
        "  def __init__(self, size, **kwargs):\n",
        "    self.inh_h = 0.\n",
        "    self.inh_r = self.log(self.inh_h)\n",
        "    self.u = bp.ops.ones(cluster_num) * U\n",
        "    self.x = bp.ops.ones(cluster_num)\n",
        "    self.h = bp.ops.zeros(cluster_num)\n",
        "    self.r = self.log(self.h)\n",
        "    self.input = bp.ops.zeros(cluster_num)\n",
        "\n",
        "    super(WorkingMemoryModel, self).__init__(size, **kwargs)\n",
        "\n",
        "  @staticmethod\n",
        "  @bp.odeint\n",
        "  def int_exc(u, x, h, t, r, r_inh, Iext):\n",
        "    du = (U - u) / tau_f + U * (1 - u) * r\n",
        "    dx = (1 - x) / tau_d - u * x * r\n",
        "    dh = (-h + J_EE * u * x * r - J_EI * r_inh + Iext + Ib) / tau\n",
        "    return du, dx, dh\n",
        "\n",
        "  @staticmethod\n",
        "  @bp.odeint\n",
        "  def int_inh(h, t, r_exc):\n",
        "    h_I = (-h + J_IE * np.sum(r_exc) + Iinh) / tau_I\n",
        "    return h_I\n",
        "\n",
        "  @staticmethod\n",
        "  def log(h):\n",
        "    return alpha * np.log(1. + np.exp(h / alpha))\n",
        "\n",
        "  def update(self, _t):\n",
        "    self.u, self.x, self.h = self.int_exc(\n",
        "        self.u, self.x, self.h, _t, self.r, self.inh_r, self.input)\n",
        "    self.r = self.log(self.h)\n",
        "    self.inh_h = self.int_inh(self.inh_h, _t, self.r)\n",
        "    self.inh_r = self.log(self.inh_h)\n",
        "    self.input[:] = 0."
      ],
      "execution_count": null,
      "outputs": []
    },
    {
      "cell_type": "code",
      "metadata": {
        "id": "mVsIenniG57R"
      },
      "source": [
        "# the external input\n",
        "\n",
        "I_inputs = np.zeros((int(duration / dt), cluster_num))\n",
        "for i in range(stimulus_num):\n",
        "    t_start = (Ts_interval + Ts_duration) * i + Ts_interval\n",
        "    t_end = t_start + Ts_duration\n",
        "    idx_start, idx_end = int(t_start / dt), int(t_end / dt)\n",
        "    I_inputs[idx_start: idx_end, i] = Iext_train\n",
        "\n",
        "\n",
        "# model.monwork running\n",
        "\n",
        "model = WorkingMemoryModel(cluster_num, monitors=['u', 'x', 'r', 'h'])\n",
        "model.run(duration, inputs=['input', I_inputs])"
      ],
      "execution_count": null,
      "outputs": []
    },
    {
      "cell_type": "code",
      "metadata": {
        "id": "U4F13pSWG57R"
      },
      "source": [
        "# visualization\n",
        "\n",
        "colors = list(dict(mcolors.BASE_COLORS, **mcolors.CSS4_COLORS).keys())\n",
        "\n",
        "fig, gs = bp.visualize.get_figure(5, 1, 2, 12)\n",
        "fig.add_subplot(gs[0, 0])\n",
        "for i in range(stimulus_num):\n",
        "    plt.plot(model.mon.ts, model.mon.r[:, i], label='Cluster-{}'.format(i))\n",
        "plt.ylabel(\"$r (Hz)$\")\n",
        "plt.legend(loc='right')\n",
        "\n",
        "fig.add_subplot(gs[1, 0])\n",
        "hist_Jux = J_EE * model.mon.u * model.mon.x\n",
        "for i in range(stimulus_num):\n",
        "    plt.plot(model.mon.ts, hist_Jux[:, i])\n",
        "plt.ylabel(\"$J_{EE}ux$\")\n",
        "\n",
        "fig.add_subplot(gs[2, 0])\n",
        "for i in range(stimulus_num):\n",
        "    plt.plot(model.mon.ts, model.mon.u[:, i], colors[i])\n",
        "plt.ylabel('u')\n",
        "\n",
        "fig.add_subplot(gs[3, 0])\n",
        "for i in range(stimulus_num):\n",
        "    plt.plot(model.mon.ts, model.mon.x[:, i], colors[i])\n",
        "plt.ylabel('x')\n",
        "\n",
        "fig.add_subplot(gs[4, 0])\n",
        "for i in range(stimulus_num):\n",
        "    plt.plot(model.mon.ts, model.mon.r[:, i], colors[i])\n",
        "plt.ylabel('h')\n",
        "plt.xlabel('time [s]')\n",
        "\n",
        "plt.show()"
      ],
      "execution_count": null,
      "outputs": []
    },
    {
      "cell_type": "markdown",
      "metadata": {
        "id": "gPUB-wqhG57S"
      },
      "source": [
        "## Step 3: try to encode one item in the model (Fig. 2)"
      ]
    },
    {
      "cell_type": "code",
      "metadata": {
        "id": "TDsSpH5nG57S"
      },
      "source": [
        ""
      ],
      "execution_count": null,
      "outputs": []
    },
    {
      "cell_type": "markdown",
      "metadata": {
        "id": "0SyQZu2KG57T"
      },
      "source": [
        "## Step 4: try to encode two items in the network (Fig. 3)"
      ]
    },
    {
      "cell_type": "code",
      "metadata": {
        "id": "eOFVkejDG57T"
      },
      "source": [
        ""
      ],
      "execution_count": null,
      "outputs": []
    }
  ]
}