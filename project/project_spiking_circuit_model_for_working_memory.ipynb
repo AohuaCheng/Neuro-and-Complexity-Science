{
  "nbformat": 4,
  "nbformat_minor": 0,
  "metadata": {
    "colab": {
      "name": "project-spiking circuit model for working memory.ipynb",
      "provenance": [],
      "collapsed_sections": [],
      "include_colab_link": true
    },
    "kernelspec": {
      "name": "python3",
      "display_name": "Python 3"
    },
    "language_info": {
      "name": "python"
    }
  },
  "cells": [
    {
      "cell_type": "markdown",
      "metadata": {
        "id": "view-in-github",
        "colab_type": "text"
      },
      "source": [
        "<a href=\"https://colab.research.google.com/github/cahcharm/Neuro-and-Complexity-Science/blob/CSHA2021/project/project_spiking_circuit_model_for_working_memory.ipynb\" target=\"_parent\"><img src=\"https://colab.research.google.com/assets/colab-badge.svg\" alt=\"Open In Colab\"/></a>"
      ]
    },
    {
      "cell_type": "markdown",
      "metadata": {
        "id": "U4qCoFCTEVnd"
      },
      "source": [
        "# **Spiking circuit model for working memory**\n",
        "\n",
        "Building up a spiking circuit model for working memory (Misha, Science, 2008). \n",
        "\n",
        "* Step 1: build LIF neuron, voltage jump synapse, STP synapse\n",
        "*\tStep 2: consider the connectivity used in the paper, build up the network model\n",
        "*\tStep 3: try to encode one item in the model (Fig. 2)\n",
        "*\tStep 4: try to encode two items in the network (Fig. 3)\n"
      ]
    },
    {
      "cell_type": "code",
      "metadata": {
        "id": "LsX1Lx6HEVLK",
        "colab": {
          "base_uri": "https://localhost:8080/"
        },
        "outputId": "1cd6f9ed-da33-4f2c-ccdc-ccd8d5dc214f"
      },
      "source": [
        "pip install brainpy-simulator"
      ],
      "execution_count": 28,
      "outputs": [
        {
          "output_type": "stream",
          "text": [
            "Requirement already satisfied: brainpy-simulator in /usr/local/lib/python3.7/dist-packages (1.0.2)\n",
            "Requirement already satisfied: matplotlib>=3.2 in /usr/local/lib/python3.7/dist-packages (from brainpy-simulator) (3.2.2)\n",
            "Requirement already satisfied: numpy>=1.15 in /usr/local/lib/python3.7/dist-packages (from brainpy-simulator) (1.19.5)\n",
            "Requirement already satisfied: kiwisolver>=1.0.1 in /usr/local/lib/python3.7/dist-packages (from matplotlib>=3.2->brainpy-simulator) (1.3.1)\n",
            "Requirement already satisfied: cycler>=0.10 in /usr/local/lib/python3.7/dist-packages (from matplotlib>=3.2->brainpy-simulator) (0.10.0)\n",
            "Requirement already satisfied: python-dateutil>=2.1 in /usr/local/lib/python3.7/dist-packages (from matplotlib>=3.2->brainpy-simulator) (2.8.2)\n",
            "Requirement already satisfied: pyparsing!=2.0.4,!=2.1.2,!=2.1.6,>=2.0.1 in /usr/local/lib/python3.7/dist-packages (from matplotlib>=3.2->brainpy-simulator) (2.4.7)\n",
            "Requirement already satisfied: six in /usr/local/lib/python3.7/dist-packages (from cycler>=0.10->matplotlib>=3.2->brainpy-simulator) (1.15.0)\n"
          ],
          "name": "stdout"
        }
      ]
    },
    {
      "cell_type": "code",
      "metadata": {
        "id": "n_192zL9EQ4y"
      },
      "source": [
        "import numpy as np\n",
        "import brainpy as bp\n",
        "\n",
        "import matplotlib.pyplot as plt\n",
        "import matplotlib.colors as mcolors"
      ],
      "execution_count": 29,
      "outputs": []
    },
    {
      "cell_type": "markdown",
      "metadata": {
        "id": "0rPu6rPTG57I"
      },
      "source": [
        "## Step 1: build LIF neuron, voltage jump synapse, STP synapse"
      ]
    },
    {
      "cell_type": "markdown",
      "metadata": {
        "id": "LkLRyRoD6mMQ"
      },
      "source": [
        "**Spiking network: LIF Neuron**\n",
        "\n",
        "---\n",
        "\n",
        "The network is composed of $N_E$ excitatory and $N_I$ inhibitory current-based integrate-and-fire neurons, whose sub-threshold depolarization dynamics is described by\n",
        "$$\n",
        "\\tau_m \\frac{dV_i}{dt} = - V_i + I_i^{(rec)}(t)+I_{i}^{(ext)}(t)\n",
        "$$\n",
        "where $i = 1,\\cdots,(N_E+N_I)$ refere to the neuron number, $\\tau_m$ is the membrane time constant, $I_i^{(rec)}(t)$ is the current mediated by recurrent synaptic connections, and $I_i^{(ext)}(t)$ is the external current provided by distant brain areas. Membrane resistance is absorbed into the definition of the currents.\n",
        "\n",
        "When the depolarization hits a fixed threshold $\\theta(V_i(t)\\geq \\theta)$， the neuron emits a spike and becomes refractory for a period $\\tau_{arp}$ with a sub-threshold potential $V_r$\n",
        "\n",
        "---\n",
        "\n",
        "External current are modeld as Gaussian white noise\n",
        "$$\n",
        "I_i^{(ext)}(t) = \\mu_{ext} + \\sigma_{ext}\\cdot \\eta_i(t)\n",
        "$$\n",
        "with $\\langle\\eta_i(t)\\rangle = 0, \\langle \\eta_i(t)\\eta_j(t')\\rangle = \\delta_{ij}\\delta(t-t')$, so that $\\mu_{ext}$ and $\\sigma_{ext}^2$ are respectively the mean and the variance of the external currents."
      ]
    },
    {
      "cell_type": "code",
      "metadata": {
        "id": "oPg09ghWkP-c"
      },
      "source": [
        "theta_E = 20. # Spike emission threshold of excitatory cells [mV]\n",
        "theta_I = 20. # Spike emission threshold of inhibitory cells [mV]\n",
        "Vr_E = 16. # Reset potential of excitatory cells [mV]\n",
        "Vr_I = 13. # Reset potential of inhibitory cells [mV]\n",
        "tau_m_E = 15. # Membrane time constant of excitatory cells [ms]\n",
        "tau_m_I = 10. # Membrane tiem constant of inhibitory cells [ms]\n",
        "tau_arp_E = 2. # Absolute refractory period of excitatory cells [ms]\n",
        "tau_arp_I = 2. # Absolute refractory period of inhibitory cells [ms]\n",
        "\n",
        "mu_ext_E = 23.10 # Mean external current of excitatory cells [mV]\n",
        "mu_ext_I = 21.0 # Mean external current of inhibitory cells [mV]\n",
        "sigma_ext_E = 1.0 # Standard deviation of external current of excitatory cells [mV]\n",
        "sigma_ext_I = 1.0 # Standard deviation of external current of inhibitory cells [mV]"
      ],
      "execution_count": 21,
      "outputs": []
    },
    {
      "cell_type": "code",
      "metadata": {
        "id": "FyRN3T4t6h0z"
      },
      "source": [
        "class LIF(bp.NeuGroup):\n",
        "  target_backend = ['numpy', 'numba']\n",
        "\n",
        "  @staticmethod\n",
        "  @bp.odeint\n",
        "  def integral(V, t, Irec, Iext, tau_m):\n",
        "    dvdt = (-V + Irec + Iext) / tau_m\n",
        "    return dvdt\n",
        "\n",
        "  def __init__(self, size, cls=0, theta=20., Vr=16., tau_m=15.,\n",
        "          tau_arp=2., mu_ext=23.10, sigma_ext=1., **kwargs):\n",
        "    super(LIF, self).__init__(size=size, **kwargs)\n",
        "    \n",
        "    # # Single-cell parameters\n",
        "    self.cls = cls # judge teh cell is excitatory or inhibitory, 0 for inhibitory, 1 for excitatory \n",
        "    # self.theta = theta # Spike emission threshold [mV]\n",
        "    # self.Vr = Vr # Reset potential [mV]\n",
        "    # self.tau_m = tau_m # Membrane time constant [ms]\n",
        "    # self.tau_arp = tau_arp # Absolute refractory period [ms]\n",
        "\n",
        "    # self.mu_ext = mu_ext # Mean external current [mV]\n",
        "    # self.sigma_ext = sigma_ext # Standard deviation of external current [mV]\n",
        "\n",
        "    if self.cls == 1:\n",
        "      self.theta = theta_E\n",
        "      self.Vr = Vr_E\n",
        "      self.tau_m = tau_m_E\n",
        "      self.tau_arp = tau_arp_E\n",
        "      self.mu_ext = mu_ext_E\n",
        "      self.sigma_ext = sigma_ext_E\n",
        "    elif self.cls == 0:\n",
        "      self.theta = theta_I\n",
        "      self.Vr = Vr_I\n",
        "      self.tau_m = tau_m_I\n",
        "      self.tau_arp = tau_arp_I\n",
        "      self.mu_ext = mu_ext_I\n",
        "      self.sigma_ext = sigma_ext_I\n",
        "\n",
        "    # variables\n",
        "    self.t_last_spike = bp.ops.ones(self.num) * -1e7 # The last spike time for calculating refractory state\n",
        "    self.refractory = bp.ops.zeros(self.num, dtype=bool) # Wether teh neuron is in refractory state\n",
        "    self.Irec = bp.ops.zeros(self.num) # recurrent current from other synpase  \n",
        "    self.spike = bp.ops.zeros(self.num, dtype=bool) # Whether produce a spike\n",
        "    # self.t_spike = bp.ops.zeros(self.num) # Record the spike time\n",
        "    self.V = bp.ops.ones(self.num) * self.Vr # The membrane potential started from Vr\n",
        "    self.Iext = bp.ops.zeros(self.num) # The external current provided by distant brain areas\n",
        "    \n",
        "  def update(self, _t):\n",
        "    for i in range(self.num):\n",
        "      spike = False\n",
        "      refractory = (_t - self.t_last_spike[i]) <= self.tau_arp\n",
        "      if not refractory:\n",
        "        # calculate Iext\n",
        "        self.Iext[i] = np.random.normal(self.mu_ext, self.sigma_ext, size=1)\n",
        "        # calculate V\n",
        "        V = self.integral(self.V[i], _t, self.Irec[i], self.Iext[i], self.tau_m)\n",
        "        spike = (V >= self.theta)\n",
        "        if spike:\n",
        "          V = self.Vr\n",
        "          self.t_last_spike[i] = _t # record last spike time\n",
        "          refractory = True          \n",
        "        self.V[i] = V\n",
        "      self.spike[i] = spike\n",
        "      # self.t_spike[i] = 1\n",
        "      self.refractory[i] = refractory\n",
        "      self.Iext[i] = 0."
      ],
      "execution_count": 22,
      "outputs": []
    },
    {
      "cell_type": "code",
      "metadata": {
        "id": "FQNO3HkRcXBz",
        "colab": {
          "base_uri": "https://localhost:8080/",
          "height": 787
        },
        "outputId": "9a6d54d8-31d7-4e28-a6c6-63c409d5a28b"
      },
      "source": [
        "lif1 = LIF(100, cls=1, monitors=['V'])\n",
        "lif1.run(duration=200., inputs=('Irec', 0.), report=True)\n",
        "bp.visualize.line_plot(lif1.mon.ts, lif1.mon.V, legend='E neuron')\n",
        "\n",
        "lif2 = LIF(100, cls=0, monitors=['V'])\n",
        "lif2.run(200, inputs=('Irec', 0.), report=True)\n",
        "bp.visualize.line_plot(lif2.mon.ts, lif2.mon.V, legend='I neuron')"
      ],
      "execution_count": 40,
      "outputs": [
        {
          "output_type": "stream",
          "text": [
            "Compilation used 0.0012 s.\n",
            "Start running ...\n",
            "Run 10.0% used 0.139 s.\n",
            "Run 20.0% used 0.337 s.\n",
            "Run 30.0% used 0.498 s.\n",
            "Run 40.0% used 0.759 s.\n",
            "Run 50.0% used 0.912 s.\n",
            "Run 60.0% used 1.050 s.\n",
            "Run 70.0% used 1.200 s.\n",
            "Run 80.0% used 1.338 s.\n",
            "Run 90.0% used 1.479 s.\n",
            "Run 100.0% used 1.648 s.\n",
            "Simulation is done in 1.649 s.\n",
            "\n",
            "Compilation used 0.0022 s.\n",
            "Start running ...\n",
            "Run 10.0% used 0.187 s.\n",
            "Run 20.0% used 0.409 s.\n",
            "Run 30.0% used 0.547 s.\n",
            "Run 40.0% used 0.737 s.\n",
            "Run 50.0% used 0.883 s.\n",
            "Run 60.0% used 1.129 s.\n",
            "Run 70.0% used 1.300 s.\n",
            "Run 80.0% used 1.488 s.\n",
            "Run 90.0% used 1.642 s.\n",
            "Run 100.0% used 1.848 s.\n",
            "Simulation is done in 1.848 s.\n",
            "\n"
          ],
          "name": "stdout"
        },
        {
          "output_type": "display_data",
          "data": {
            "image/png": "[encoded data removed]",
            "text/plain": [
              "<Figure size 432x288 with 1 Axes>"
            ]
          },
          "metadata": {
            "tags": [],
            "needs_background": "light"
          }
        }
      ]
    },
    {
      "cell_type": "markdown",
      "metadata": {
        "id": "g_9bNOxru2Yt"
      },
      "source": [
        "**Synapse**\n",
        "\n",
        "The recurrent current $I_i^{(rec)}(t)$ is the sum of the postsynaptic currents from all other neurons in the network targeting the neuron i,\n",
        "$$\n",
        "I_i^{(rec)}(t) = \\sum_j\\hat{J}_{ij}(t)\\sum_{k}\\delta(t-t_k^{(j)}-D_{ij})\n",
        "$$\n",
        "where $\\hat{J}_{ij}(t)$ is the instantaneous efficacy (time dependence is due to short-term synaptic dynamics) of the synapse connecting neuron $j$ to neuron $i$; the sum on $k$ is over all the emission times, $t_{k}^{(j)}$, of presynaptic neuron $j$; $D_{ij}$ is the transmission delay uniformly distributed between 1 and 5 ms. For simplicity, we neglect rise and decay times of the postsynaptic currents.\n",
        "\n",
        "The $\\hat{J}_{ij}(t)$ is given by\n",
        "$$\n",
        "\\hat{J}_{ij}(t)=J_{ij}\\cdot u_j(t-D_{ij})\\cdot x_j(t-D_{ij})\n",
        "$$\n",
        "where $J_{ij}$ is the absolute synaptic efficacy. The remaining synaptic populations, inhibitory and excitatory-inhibitorym exhibit linear synaptic transmission, i.e., $\\hat{J}_{ij}(t)=J_{ij}$. The dynamics of the network is completely described by the coupled system of above non-linear equations combined with the conditions for spike emission and refractoriness described above. These equations are integrated using an Euler scheme.\n",
        "\n",
        "---\n",
        "\n",
        "Excitatory-to-excitatory synapses display short-term plasticity is\n",
        "\n",
        "$$\n",
        "\\frac{du_j(t)}{dt} = \\frac{U - u_j(t)}{\\tau_F} + U[1-u_j^{-}(t)]\\sum_k\\delta(t-t_k^{(j)})\\\\\n",
        "\\frac{dx_j(t)}{dt}=\\frac{1-x_j(t)}{\\tau_D} - u_j^{+}(t)x_j^{-}(t)\\sum_{k}\\delta(t-t_k^{(j)})\\\\\n",
        "u_j^{+}(t)=u_j^{-}(t)+U\\left(1-u^{-}(t)\\right)\n",
        "$$\n",
        "\n",
        "Or we can see the dynamics as:\n",
        "\n",
        "$$\n",
        "\\frac {du} {dt} = \\frac {U-u} {\\tau_F}\\\\\n",
        "\\frac {dx} {dt} = \\frac {1-x} {\\tau_D}\\\\\n",
        "$$\n",
        "\n",
        "$$\n",
        "\\rm{if (pre \\ fire), then}\n",
        "\\begin{cases} \n",
        "u^+ = u^- + U(1-u^-) \\\\ \n",
        "x^+ = x^- - u^+x^- \n",
        "\\end{cases}\n",
        "$$\n",
        "\n",
        "where the functions multiplying the spike train are evaluated inmmediately before the delta functions,i.e. at $t_k^{(j)-}$. \n"
      ]
    },
    {
      "cell_type": "code",
      "metadata": {
        "id": "lBGvKMbNvVCa"
      },
      "source": [
        "class STP(bp.TwoEndConn):\n",
        "  target_backend = 'general'\n",
        "\n",
        "  @staticmethod\n",
        "  @bp.odeint(method='exponential_euler')\n",
        "  def integral(u, x, t, U, tau_F, tau_D):\n",
        "    dudt = (U - u) / tau_F \n",
        "    dxdt = (1 - x) / tau_D\n",
        "    return dudt, dxdt\n",
        "  \n",
        "  def __init__(self, pre, post, conn, U=0.20, tau_F=1500., tau_D=200.,  **kwargs):\n",
        "    super(STP, self).__init__(pre=pre, post=post, **kwargs)\n",
        "\n",
        "    # Short-term synaptic dynamics parameters\n",
        "    self.tau_F = tau_F # Recovery time of utilization factor [ms]\n",
        "    self.tau_D = tau_D # Recovery time of synaptic resources [ms]\n",
        "    self.U = U # Baseline utilization factor\n",
        "\n",
        "    # connections\n",
        "    self.conn = conn(pre.size, post.size)\n",
        "    self.pre_ids, self.post_ids = conn.requires('pre_ids', 'post_ids')\n",
        "    self.num = len(self.pre_ids)\n",
        "\n",
        "    # variables\n",
        "    self.delay = np.random.randint(1, 6, self.num)\n",
        "    # the transmission delay uniformly distributed between 1 and 5 ms.\n",
        "    self.x = bp.ops.ones(self.num)\n",
        "    self.u = bp.ops.zeros(self.num)\n",
        "\n",
        "  def update(self, _t):\n",
        "    for i in range(self.num):\n",
        "      pre_id, post_id = self.pre_ids[i], self.post_ids[i]\n",
        "\n",
        "      u, x = self.integral(self.u[i], self.x[i], _t, self.U, self.tau_F, self.tau_D)\n",
        "      if self.pre.spike[pre_id]:\n",
        "        # update if there is a spike\n",
        "        u += self.U * (1 - self.u[i]) \n",
        "        x -= u * self.x[i]\n",
        "      self.u[i] = u\n",
        "      self.x[i] = x"
      ],
      "execution_count": 60,
      "outputs": []
    },
    {
      "cell_type": "code",
      "metadata": {
        "colab": {
          "base_uri": "https://localhost:8080/",
          "height": 241
        },
        "id": "vWcvLowUzs4z",
        "outputId": "4e48b2ad-a086-4701-d55c-825ed80aafcc"
      },
      "source": [
        "## STD/STF parameters and plot \n",
        "neu1 = LIF(1, monitors=['V'])\n",
        "neu2 = LIF(1, monitors=['V'])\n",
        "\n",
        "# STD\n",
        "syn = STP(pre=neu1, post=neu2, \n",
        "          conn=bp.connect.All2All(), monitors=['u', 'x'])\n",
        "net = bp.Network(neu1, syn, neu2)\n",
        "net.run(100., inputs=(neu1, 'Irec', 0.))\n",
        "\n",
        "# plot\n",
        "fig, gs = bp.visualize.get_figure(row_num=1, col_num=1, row_len=3, col_len=7)\n",
        "\n",
        "fig.add_subplot(gs[0, 0])\n",
        "plt.plot(net.ts, syn.mon.u[:, 0], label='u')\n",
        "plt.plot(net.ts, syn.mon.x[:, 0], label='x')\n",
        "plt.legend()\n",
        "\n",
        "plt.xlabel('Time (ms)')\n",
        "plt.show()"
      ],
      "execution_count": 65,
      "outputs": [
        {
          "output_type": "display_data",
          "data": {
            "image/png": "[encoded data removed]",
            "text/plain": [
              "<Figure size 504x216 with 1 Axes>"
            ]
          },
          "metadata": {
            "tags": [],
            "needs_background": "light"
          }
        }
      ]
    },
    {
      "cell_type": "markdown",
      "metadata": {
        "id": "aEzM3t-TWpQg"
      },
      "source": [
        "**Network connectivity**\n",
        "There are $p$ items to be memorized, each of them encoded by a subset of excitatory cells (selective population). Every selective population is formed by randomly selected $fN_E$ neurons, where $f$ is the coding level, enforcing the constraint that a given neuron belongs to at most one selective population (non-overlapping memories). Network connectivity is generated in the following way. \n",
        "\n",
        "Each cell receives $c(N_E +N_I)$ presynaptic connections, where $c$ is the connectivity level, partitioned as follows: $cfN_E$ randomly selected connections from each of the selective populations, $c(1 − fp)N_E$ randomly selected connections from the non-selective excitatory population, and $cN_I$ randomly selected connections from the inhibitory population.\n",
        "\n",
        "---\n",
        "\n",
        "Excitatory-to-excitatory synapses can take on two possible absolute efficacies: baseline, $J_b$, and potentiated, $J_p(> J_b)$. Synapses connecting two neurons within the\n",
        "same selective population have potentiated efficacy; Synapses connecting a selective neuron to a neuron from another selective population or to a non-selective neuron, have baseline efficacy; The remaining synapses (i.e. non-selective to selective and non-selective to non-selective) have potentiated efficacy with probability 0.1."
      ]
    },
    {
      "cell_type": "code",
      "metadata": {
        "id": "Q6cntNt_mLU9"
      },
      "source": [
        "## Network parameters\n",
        "f =  0.10 # Coding level\n",
        "p = 5 # Number of memories\n",
        "c = 0.20 # Probability of synaptic contact\n",
        "N_E = 8000 # Number of excitatory cells\n",
        "N_I = 2000 # Number of inhibitory cells"
      ],
      "execution_count": 62,
      "outputs": []
    },
    {
      "cell_type": "code",
      "metadata": {
        "id": "rNB30ovSna-7"
      },
      "source": [
        "## Synaptic parameters\n",
        "J_IE = 0.135 # Synaptic efficacy E to I [mV]\n",
        "J_EI = 0.25 # Synaptic efficacy I to E [mV]\n",
        "J_II = 0.20 # Synaptic efficacy I to I [mV]\n",
        "J_b = 0.10 # Baseline level of E to E synapses [mV]\n",
        "J_p = 0.45 # Potentiated level of E to E synapses [mV]\n",
        "gamma_0 = 0.10 # Fraction of potentiated synapses before learning\n",
        "delta = range(0.1, 1) # Synaptic delays"
      ],
      "execution_count": null,
      "outputs": []
    },
    {
      "cell_type": "code",
      "metadata": {
        "id": "utGo0pdnUKf_"
      },
      "source": [
        "# learn from EI network to connnect\n",
        "def run_net(p, neu_model, syn_model, backend='numba'):\n",
        "  bp.backend.set(backend)\n",
        "  # define the ids of selective populations, non-selective excitatory population and inhibitory population\n",
        "  for i in range(p):\n",
        "    Si_ids = range(i*f*N_E, (i+1)*f*N_E)\n",
        "  nonS_ids = range(p*f*N_E, N_E)\n",
        "  I_ids = range(N_E, N_E+N_I)\n",
        "  \n",
        "\n",
        "  for i in range(p):\n",
        "    S = neu_model(N_E, monitors=['spike'])\n",
        "\n",
        "  I = neu_model(num_inh, monitors=['spike'])\n",
        "  E2E = syn_model(pre=E, post=E, conn=bp.connect.FixedProb(0.02),\n",
        "  tau=tau_exc, weight=delta_exc, E=E_exc)\n",
        "  E2I = syn_model(pre=E, post=I, conn=bp.connect.FixedProb(0.02),\n",
        "  tau=tau_exc, weight=delta_exc, E=E_exc)\n",
        "  I2E = syn_model(pre=I, post=E, conn=bp.connect.FixedProb(0.02),\n",
        "  tau=tau_inh, weight=delta_inh, E=E_inh)\n",
        "  I2I = syn_model(pre=I, post=I, conn=bp.connect.FixedProb(0.02),\n",
        "  tau=tau_inh, weight=delta_inh, E=E_inh)\n",
        "  net = bp.Network(E, I, E2E, E2I, I2E, I2I)\n",
        "  t = net.run(100., report=True)\n",
        "  fig, gs = bp.visualize.get_figure(row_num=5, col_num=1, row_len=1, col_len=10)\n",
        "  fig.add_subplot(gs[:4, 0])\n",
        "  bp.visualize.raster_plot(E.mon.ts, E.mon.spike, ylabel='E Group', xlabel='')\n",
        "  fig.add_subplot(gs[4, 0])\n",
        "  bp.visualize.raster_plot(I.mon.ts, I.mon.spike, ylabel='I Group', show=True)\n",
        "  return t"
      ],
      "execution_count": null,
      "outputs": []
    },
    {
      "cell_type": "code",
      "metadata": {
        "id": "VXUCFNFggWsU"
      },
      "source": [
        "class SynVec3(bp.TwoEndConn):\n",
        "  target_backend = ['numpy', 'numba']\n",
        "\n",
        "  @staticmethod\n",
        "  def dev_g(g, t, tau):\n",
        "    dg = - g / tau\n",
        "    return dg\n",
        "\n",
        "  def __init__(self, pre, post, conn, tau, weight, E, **kwargs):\n",
        "    # parameters\n",
        "    self.tau = tau\n",
        "    self.weight = weight\n",
        "    self.E = E\n",
        "\n",
        "    # connections\n",
        "    self.conn = conn(pre.size, post.size)\n",
        "    self.pre2post = self.conn.requires('pre2post')\n",
        "\n",
        "    # variables\n",
        "    self.g = bp.ops.zeros(post.num)\n",
        "    \n",
        "    # initialize\n",
        "    self.int_g = bp.odeint(self.dev_g)\n",
        "    super(SynVec3, self).__init__(pre=pre, post=post, **kwargs)\n",
        "\n",
        "  def update(self, _t):\n",
        "    self.g = self.int_g(self.g, _t, self.tau)\n",
        "    # p1: update\n",
        "    for pre_i in range(self.pre.num):\n",
        "      if self.pre.spike[pre_i]:\n",
        "        for post_i in self.pre2post[pre_i]:\n",
        "          self.g[post_i] += self.weight\n",
        "    # p2: output\n",
        "    self.post.input += self.g * (self.E - self.post.V)"
      ],
      "execution_count": null,
      "outputs": []
    },
    {
      "cell_type": "code",
      "metadata": {
        "id": "rTk2X-91KGui"
      },
      "source": [
        "# Selective stimulation\n",
        "T_cue = 350 # Duration\n",
        "A_cue = 1.15 # Contrast factor"
      ],
      "execution_count": null,
      "outputs": []
    },
    {
      "cell_type": "code",
      "metadata": {
        "id": "Wu4MqtgSKvwG"
      },
      "source": [
        "# Reactivating signal\n",
        "R_Duration = 250 # Duration [ms]\n",
        "R_cf = 1.05 # Contrast factor"
      ],
      "execution_count": null,
      "outputs": []
    },
    {
      "cell_type": "code",
      "metadata": {
        "id": "ksIlxq8mKWMz"
      },
      "source": [
        "# Periodic reactivating signal\n",
        "P_Duration = 100 # Duration\n",
        "P_Period = 250 # Period\n",
        "P_cf = 1.075 # Contrast factor"
      ],
      "execution_count": null,
      "outputs": []
    },
    {
      "cell_type": "markdown",
      "metadata": {
        "id": "XxFpT0uKG57K"
      },
      "source": [
        "**Voltage Jump Synapse**"
      ]
    },
    {
      "cell_type": "markdown",
      "metadata": {
        "id": "i_fo5xNzG57L"
      },
      "source": [
        "$$\n",
        "I = \\sum_{j\\in C} g \\delta(t-t_j-D)\n",
        "$$\n",
        "\n",
        "where $g$ denotes the chemical synaptic strength, $t_j$ the spiking moment of the presynaptic neuron $j$, $C$ the set of neurons in the encoding layer, and $D$ the transmission delay of chemical synapses. For simplicity, we omit the rise and decay phases of post-synaptic currents. "
      ]
    },
    {
      "cell_type": "code",
      "metadata": {
        "id": "bR8J-DC4G57M"
      },
      "source": [
        "class VoltageJump(bp.TwoEndConn):\n",
        "  target_backend = ['numpy', 'numba']\n",
        "\n",
        "  def __init__(self, pre, post, conn, delay=0., post_refractory=False, weight=1., **kwargs):\n",
        "    # parameters\n",
        "    self.delay = delay\n",
        "    self.post_has_refractory = post_refractory\n",
        "\n",
        "    # connections\n",
        "    self.conn = conn(pre.size, post.size)\n",
        "    self.pre_ids, self.post_ids = conn.requires('pre_ids', 'post_ids')\n",
        "    self.num = len(self.pre_ids)\n",
        "\n",
        "    # variables\n",
        "    self.s = np.zeros(self.num)\n",
        "    self.w = np.ones(self.num) * weight\n",
        "    self.I_syn = self.register_constant_delay('I_syn', size=self.num, delay_time=delay)\n",
        "\n",
        "    super(VoltageJump, self).__init__(pre=pre, post=post, **kwargs)\n",
        "    \n",
        "    # checking\n",
        "    assert hasattr(pre, 'V'), 'Pre-synaptic group must has \"V\" variable.'\n",
        "    assert hasattr(post, 'V'), 'Post-synaptic group must has \"V\" variable.'\n",
        "    assert hasattr(post, 'input'), 'Post-synaptic group must has \"input\" variable.'\n",
        "    if post_refractory:\n",
        "      assert hasattr(post, 'refractory'), 'Post-synaptic group must has \"refractory\" variable.'\n",
        "\n",
        "  def update(self, _t):\n",
        "    for i in range(self.num):\n",
        "      pre_id = self.pre_ids[i]\n",
        "      post_id = self.post_ids[i]\n",
        "      # update\n",
        "      self.s[i] = self.pre.spike[pre_id]\n",
        "      self.I_syn.push(i, self.s[i] * self.w[i])\n",
        "      # output\n",
        "      I_syn = self.I_syn.pull(i)\n",
        "      if self.post_has_refractory:\n",
        "        self.post.V += I_syn * (1. - self.post.refractory[post_id])\n",
        "      else:\n",
        "        self.post.V += I_syn"
      ],
      "execution_count": null,
      "outputs": []
    },
    {
      "cell_type": "code",
      "metadata": {
        "id": "unztZ0rQ7Jls",
        "colab": {
          "base_uri": "https://localhost:8080/",
          "height": 259
        },
        "outputId": "2d5d516b-8cd0-47d1-bbb7-8010a5a6908c"
      },
      "source": [
        "neu1 = LIF(1, monitors=['V', 'spike'])\n",
        "neu2 = LIF(1, monitors=['V'])\n",
        "\n",
        "syn1 = VoltageJump(pre=neu1, post=neu2, conn=bp.connect.All2All(), delay=2.0)\n",
        "\n",
        "net = bp.Network(neu1, syn1, neu2)\n",
        "net.run(150., inputs=[(neu1, 'input', 25.), (neu2, 'input', 10.)])\n",
        "\n",
        "fig, gs = bp.visualize.get_figure(1, 1, 3, 8)\n",
        "plt.plot(net.ts, neu1.mon.V, label='pre-V')\n",
        "plt.plot(net.ts, neu2.mon.V, label='post-V')\n",
        "plt.xlim(40, 150)\n",
        "plt.legend()\n"
      ],
      "execution_count": null,
      "outputs": [
        {
          "output_type": "execute_result",
          "data": {
            "text/plain": [
              "<matplotlib.legend.Legend at 0x7f28677f4810>"
            ]
          },
          "metadata": {
            "tags": []
          },
          "execution_count": 5
        },
        {
          "output_type": "display_data",
          "data": {
            "image/png": "[encoded data removed]",
            "text/plain": [
              "<Figure size 576x216 with 1 Axes>"
            ]
          },
          "metadata": {
            "tags": [],
            "needs_background": "light"
          }
        }
      ]
    },
    {
      "cell_type": "markdown",
      "metadata": {
        "id": "_cPuoNW664kw"
      },
      "source": [
        "## Step 2: consider the connectivity used in the paper, build up the network model"
      ]
    },
    {
      "cell_type": "code",
      "metadata": {
        "id": "wtb1FmzoG57Q"
      },
      "source": [
        "dt = 0.0001  # [s]\n",
        "bp.backend.set(dt=dt)"
      ],
      "execution_count": null,
      "outputs": []
    },
    {
      "cell_type": "code",
      "metadata": {
        "id": "AYb2hKxPG57Q"
      },
      "source": [
        "# the parameters of network\n",
        "alpha = 1.5\n",
        "J_EE = 8.  # the connection strength in each excitatory neural clusters\n",
        "J_IE = 1.75  # Synaptic efficacy E → I\n",
        "J_EI = 1.1  # Synaptic efficacy I → E\n",
        "tau_f = 1.5  # time constant of STF  [s]\n",
        "tau_d = .3  # time constant of STD  [s]\n",
        "U = 0.3  # minimum STF value\n",
        "tau = 0.008  # time constant of firing rate of the excitatory neurons [s]\n",
        "tau_I = tau  # time constant of firing rate of the inhibitory neurons\n",
        "\n",
        "Ib = 8.  # background input and external input\n",
        "Iinh = 0.  # the background input of inhibtory neuron\n",
        "\n",
        "cluster_num = 16  # the number of the clusters"
      ],
      "execution_count": null,
      "outputs": []
    },
    {
      "cell_type": "code",
      "metadata": {
        "id": "xrF9958bG57Q"
      },
      "source": [
        "# the parameters of external input\n",
        "\n",
        "stimulus_num = 5\n",
        "Iext_train = 225  # the strength of the external input\n",
        "# the time interval between the consequent external input [s]\n",
        "Ts_interval = 0.070\n",
        "Ts_duration = 0.030  # the time duration of the external input [s]\n",
        "duration = 2.500  # [s]"
      ],
      "execution_count": null,
      "outputs": []
    },
    {
      "cell_type": "markdown",
      "metadata": {
        "id": "ErawHyx0G57Q"
      },
      "source": [
        "the working memory model based on STP was used to derive the expression for the postsynaptic current resulting from the activity of a large, uncorrelated pre-synaptic population.\n",
        "\n",
        "The resulting network model has three differential equations for each of $P$ excitatory clusters (synaptic current $h_\\mu$ and two STP variables $u_\\mu$ and $x_\\mu$ for each cluster $\\mu; \\mu = 1,..., P$) and one additional equation for the inhibitory pool current $h_I$:\n",
        "\n",
        "$$\n",
        "\\begin{gathered}\n",
        "\\tau \\frac{d h_{\\mu}}{d t}=-h_{\\mu}+J_{E E} u_{\\mu} x_{\\mu} R_{\\mu}-J_{E l} R_{l}+I_{b}+I_{e}(t) \\\\\n",
        "\\frac{d u_{\\mu}}{d t}=\\frac{U-u_{\\mu}}{\\tau_{f}}+U\\left(1-u_{\\mu}\\right) R_{\\mu} \\\\\n",
        "\\frac{d x_{\\mu}}{d t}=\\frac{1-x_{\\mu}}{\\tau_{d}}-u_{\\mu} x_{\\mu} R_{\\mu}, \\text { and } \\\\\n",
        "\\tau \\frac{d h_{I}}{d t}=-h_{I}+J_{I E} \\sum_{\\nu} R_{\\nu}\n",
        "\\end{gathered}\n",
        "$$\n",
        "\n",
        "where $t$ is the neuronal time constant, for simplicity the same for excitation and inhibition; $I_b$ is the constant background excitation; and $I_e$ is the external input used to load memory items into the network. \n",
        "\n",
        "$$\n",
        "R(h)=\\alpha \\ln (1+\\exp (h / \\alpha))\n",
        "$$\n",
        "\n",
        "is neuronal gain chosen in the form of a smoothed threshold-linear function, also the same for excitatory and inhibitory neurons. "
      ]
    },
    {
      "cell_type": "code",
      "metadata": {
        "id": "r-d6aINdG57R"
      },
      "source": [
        "# the excitatory cluster model and the inhibitory pool model\n",
        "\n",
        "class WorkingMemoryModel(bp.NeuGroup):\n",
        "  target_backend = ['numpy', 'numba']\n",
        "\n",
        "  def __init__(self, size, **kwargs):\n",
        "    self.inh_h = 0.\n",
        "    self.inh_r = self.log(self.inh_h)\n",
        "    self.u = bp.ops.ones(cluster_num) * U\n",
        "    self.x = bp.ops.ones(cluster_num)\n",
        "    self.h = bp.ops.zeros(cluster_num)\n",
        "    self.r = self.log(self.h)\n",
        "    self.input = bp.ops.zeros(cluster_num)\n",
        "\n",
        "    super(WorkingMemoryModel, self).__init__(size, **kwargs)\n",
        "\n",
        "  @staticmethod\n",
        "  @bp.odeint\n",
        "  def int_exc(u, x, h, t, r, r_inh, Iext):\n",
        "    du = (U - u) / tau_f + U * (1 - u) * r\n",
        "    dx = (1 - x) / tau_d - u * x * r\n",
        "    dh = (-h + J_EE * u * x * r - J_EI * r_inh + Iext + Ib) / tau\n",
        "    return du, dx, dh\n",
        "\n",
        "  @staticmethod\n",
        "  @bp.odeint\n",
        "  def int_inh(h, t, r_exc):\n",
        "    h_I = (-h + J_IE * np.sum(r_exc) + Iinh) / tau_I\n",
        "    return h_I\n",
        "\n",
        "  @staticmethod\n",
        "  def log(h):\n",
        "    return alpha * np.log(1. + np.exp(h / alpha))\n",
        "\n",
        "  def update(self, _t):\n",
        "    self.u, self.x, self.h = self.int_exc(\n",
        "        self.u, self.x, self.h, _t, self.r, self.inh_r, self.input)\n",
        "    self.r = self.log(self.h)\n",
        "    self.inh_h = self.int_inh(self.inh_h, _t, self.r)\n",
        "    self.inh_r = self.log(self.inh_h)\n",
        "    self.input[:] = 0."
      ],
      "execution_count": null,
      "outputs": []
    },
    {
      "cell_type": "code",
      "metadata": {
        "id": "mVsIenniG57R"
      },
      "source": [
        "# the external input\n",
        "\n",
        "I_inputs = np.zeros((int(duration / dt), cluster_num))\n",
        "for i in range(stimulus_num):\n",
        "    t_start = (Ts_interval + Ts_duration) * i + Ts_interval\n",
        "    t_end = t_start + Ts_duration\n",
        "    idx_start, idx_end = int(t_start / dt), int(t_end / dt)\n",
        "    I_inputs[idx_start: idx_end, i] = Iext_train\n",
        "\n",
        "\n",
        "# model.monwork running\n",
        "\n",
        "model = WorkingMemoryModel(cluster_num, monitors=['u', 'x', 'r', 'h'])\n",
        "model.run(duration, inputs=['input', I_inputs])"
      ],
      "execution_count": null,
      "outputs": []
    },
    {
      "cell_type": "code",
      "metadata": {
        "id": "U4F13pSWG57R"
      },
      "source": [
        "# visualization\n",
        "\n",
        "colors = list(dict(mcolors.BASE_COLORS, **mcolors.CSS4_COLORS).keys())\n",
        "\n",
        "fig, gs = bp.visualize.get_figure(5, 1, 2, 12)\n",
        "fig.add_subplot(gs[0, 0])\n",
        "for i in range(stimulus_num):\n",
        "    plt.plot(model.mon.ts, model.mon.r[:, i], label='Cluster-{}'.format(i))\n",
        "plt.ylabel(\"$r (Hz)$\")\n",
        "plt.legend(loc='right')\n",
        "\n",
        "fig.add_subplot(gs[1, 0])\n",
        "hist_Jux = J_EE * model.mon.u * model.mon.x\n",
        "for i in range(stimulus_num):\n",
        "    plt.plot(model.mon.ts, hist_Jux[:, i])\n",
        "plt.ylabel(\"$J_{EE}ux$\")\n",
        "\n",
        "fig.add_subplot(gs[2, 0])\n",
        "for i in range(stimulus_num):\n",
        "    plt.plot(model.mon.ts, model.mon.u[:, i], colors[i])\n",
        "plt.ylabel('u')\n",
        "\n",
        "fig.add_subplot(gs[3, 0])\n",
        "for i in range(stimulus_num):\n",
        "    plt.plot(model.mon.ts, model.mon.x[:, i], colors[i])\n",
        "plt.ylabel('x')\n",
        "\n",
        "fig.add_subplot(gs[4, 0])\n",
        "for i in range(stimulus_num):\n",
        "    plt.plot(model.mon.ts, model.mon.r[:, i], colors[i])\n",
        "plt.ylabel('h')\n",
        "plt.xlabel('time [s]')\n",
        "\n",
        "plt.show()"
      ],
      "execution_count": null,
      "outputs": []
    },
    {
      "cell_type": "markdown",
      "metadata": {
        "id": "gPUB-wqhG57S"
      },
      "source": [
        "## Step 3: try to encode one item in the model (Fig. 2)"
      ]
    },
    {
      "cell_type": "code",
      "metadata": {
        "id": "TDsSpH5nG57S"
      },
      "source": [
        ""
      ],
      "execution_count": null,
      "outputs": []
    },
    {
      "cell_type": "markdown",
      "metadata": {
        "id": "0SyQZu2KG57T"
      },
      "source": [
        "## Step 4: try to encode two items in the network (Fig. 3)"
      ]
    },
    {
      "cell_type": "code",
      "metadata": {
        "id": "eOFVkejDG57T"
      },
      "source": [
        ""
      ],
      "execution_count": null,
      "outputs": []
    },
    {
      "cell_type": "markdown",
      "metadata": {
        "id": "VPVokBu8SRMG"
      },
      "source": [
        "# Bifurcation Analysis"
      ]
    },
    {
      "cell_type": "code",
      "metadata": {
        "id": "WjKhg96BSiXN"
      },
      "source": [
        "class FHN(bp.NeuGroup):\n",
        "  target_backend = 'numpy'\n",
        "\n",
        "  def __init__(self, num, **kwargs):\n",
        "    self.V = np.ones(num) * -2.8\n",
        "    self.w = np.ones(num) * -1.8\n",
        "    self.Iext = np.zeros(num)\n",
        "    super(FHN, self).__init__(size=num, **kwargs)\n",
        "\n",
        "  @bp.odeint\n",
        "  def int_fhn(V, w, t, Iext):\n",
        "    dw = (V + a - b * w) / tau\n",
        "    dV = V - V * V * V / 3 - w + Iext\n",
        "    return dV, dw\n",
        "\n",
        "  def update(self, _t):\n",
        "    self.V, self.w = int_fhn(self.V, self.w, _t, self.Iext)\n",
        "\n",
        "    \n",
        "group = FHN(1, monitors=['V', 'w'])\n",
        "group.run(100., inputs=('Iext', 0.8, '='))\n",
        "bp.visualize.line_plot(group.mon.ts, group.mon.V, legend='v', )\n",
        "bp.visualize.line_plot(group.mon.ts, group.mon.w, legend='w', show=True)"
      ],
      "execution_count": null,
      "outputs": []
    },
    {
      "cell_type": "code",
      "metadata": {
        "id": "VBtYwqk8SVzp"
      },
      "source": [
        "analyzer = bp.analysis.Bifurcation(\n",
        "integrals=int_fhn,\n",
        "target_pars={'Iext': [0., 1.]},\n",
        "target_vars={'V': [-3, 3], 'w': [-3., 3.]},\n",
        "numerical_resolution=0.001,\n",
        ")\n",
        "res = analyzer.plot_bifurcation(show=True)"
      ],
      "execution_count": null,
      "outputs": []
    },
    {
      "cell_type": "code",
      "metadata": {
        "colab": {
          "base_uri": "https://localhost:8080/",
          "height": 1000
        },
        "id": "7X-_AMMsS4Nm",
        "outputId": "1dc2ae9a-bb24-4a52-c152-fb85144e1674"
      },
      "source": [
        "a = 1.; b = 3.; c = 1.; d = 5.; s = 4.\n",
        "x_r = -1.6; r = 0.001; Vth = 1.9\n",
        "@bp.odeint(method='rk4', dt=0.02)\n",
        "def int_hr(x, y, z, t, Isyn):\n",
        "  dx = y - a * x ** 3 + b * x * x - z + Isyn\n",
        "  dy = c - d * x * x - y\n",
        "  dz = r * (s * (x - x_r) - z)\n",
        "  return dx, dy, dz\n",
        "\n",
        "analyzer = bp.analysis.FastSlowBifurcation(\n",
        "  integrals=int_hr,\n",
        "  fast_vars={'x': [-3, 3], 'y': [-10., 5.]},\n",
        "  slow_vars={'z': [-5., 5.]},\n",
        "  pars_update={'Isyn': 0.5},\n",
        "  numerical_resolution=0.001\n",
        ")\n",
        "analyzer.plot_bifurcation()\n",
        "analyzer.plot_trajectory([{'x': 1., 'y': 0., 'z': -0.0}],\n",
        "              duration=100., show=True)"
      ],
      "execution_count": 27,
      "outputs": [
        {
          "output_type": "stream",
          "text": [
            "plot bifurcation ...\n",
            "SymPy solve \"int_hr(x, y, z) = 0\" to \"y = f(x, z)\", success.\n",
            "SymPy solve derivative of \"int_hr(x, y, z)\" by \"x\", success.\n",
            "SymPy solve derivative of \"int_hr(x, y, z)\" by \"y\", success.\n",
            "SymPy solve derivative of \"int_hr(x, y, z)\" by \"x\", success.\n",
            "SymPy solve derivative of \"int_hr(x, y, z)\" by \"y\", success.\n",
            "plot trajectory ...\n"
          ],
          "name": "stdout"
        },
        {
          "output_type": "error",
          "ename": "TypeError",
          "evalue": "ignored",
          "traceback": [
            "\u001b[0;31m---------------------------------------------------------------------------\u001b[0m",
            "\u001b[0;31mTypeError\u001b[0m                                 Traceback (most recent call last)",
            "\u001b[0;32m<ipython-input-27-b9552bd79134>\u001b[0m in \u001b[0;36m<module>\u001b[0;34m()\u001b[0m\n\u001b[1;32m     17\u001b[0m \u001b[0manalyzer\u001b[0m\u001b[0;34m.\u001b[0m\u001b[0mplot_bifurcation\u001b[0m\u001b[0;34m(\u001b[0m\u001b[0;34m)\u001b[0m\u001b[0;34m\u001b[0m\u001b[0;34m\u001b[0m\u001b[0m\n\u001b[1;32m     18\u001b[0m analyzer.plot_trajectory([{'x': 1., 'y': 0., 'z': -0.0}],\n\u001b[0;32m---> 19\u001b[0;31m               duration=100., show=True)\n\u001b[0m",
            "\u001b[0;32m/usr/local/lib/python3.7/dist-packages/brainpy/analysis/bifurcation.py\u001b[0m in \u001b[0;36mplot_trajectory\u001b[0;34m(self, *args, **kwargs)\u001b[0m\n\u001b[1;32m    697\u001b[0m             \u001b[0mWhether\u001b[0m \u001b[0mshow\u001b[0m \u001b[0;32mor\u001b[0m \u001b[0;32mnot\u001b[0m\u001b[0;34m.\u001b[0m\u001b[0;34m\u001b[0m\u001b[0;34m\u001b[0m\u001b[0m\n\u001b[1;32m    698\u001b[0m         \"\"\"\n\u001b[0;32m--> 699\u001b[0;31m         \u001b[0mself\u001b[0m\u001b[0;34m.\u001b[0m\u001b[0manalyzer\u001b[0m\u001b[0;34m.\u001b[0m\u001b[0mplot_trajectory\u001b[0m\u001b[0;34m(\u001b[0m\u001b[0;34m*\u001b[0m\u001b[0margs\u001b[0m\u001b[0;34m,\u001b[0m \u001b[0;34m**\u001b[0m\u001b[0mkwargs\u001b[0m\u001b[0;34m)\u001b[0m\u001b[0;34m\u001b[0m\u001b[0;34m\u001b[0m\u001b[0m\n\u001b[0m\u001b[1;32m    700\u001b[0m \u001b[0;34m\u001b[0m\u001b[0m\n\u001b[1;32m    701\u001b[0m     \u001b[0;32mdef\u001b[0m \u001b[0mplot_limit_cycle_by_sim\u001b[0m\u001b[0;34m(\u001b[0m\u001b[0mself\u001b[0m\u001b[0;34m,\u001b[0m \u001b[0;34m*\u001b[0m\u001b[0margs\u001b[0m\u001b[0;34m,\u001b[0m \u001b[0;34m**\u001b[0m\u001b[0mkwargs\u001b[0m\u001b[0;34m)\u001b[0m\u001b[0;34m:\u001b[0m\u001b[0;34m\u001b[0m\u001b[0;34m\u001b[0m\u001b[0m\n",
            "\u001b[0;32m/usr/local/lib/python3.7/dist-packages/brainpy/analysis/bifurcation.py\u001b[0m in \u001b[0;36mplot_trajectory\u001b[0;34m(self, *args, **kwargs)\u001b[0m\n\u001b[1;32m    930\u001b[0m \u001b[0;34m\u001b[0m\u001b[0m\n\u001b[1;32m    931\u001b[0m     \u001b[0;32mdef\u001b[0m \u001b[0mplot_trajectory\u001b[0m\u001b[0;34m(\u001b[0m\u001b[0mself\u001b[0m\u001b[0;34m,\u001b[0m \u001b[0;34m*\u001b[0m\u001b[0margs\u001b[0m\u001b[0;34m,\u001b[0m \u001b[0;34m**\u001b[0m\u001b[0mkwargs\u001b[0m\u001b[0;34m)\u001b[0m\u001b[0;34m:\u001b[0m\u001b[0;34m\u001b[0m\u001b[0;34m\u001b[0m\u001b[0m\n\u001b[0;32m--> 932\u001b[0;31m         \u001b[0mself\u001b[0m\u001b[0;34m.\u001b[0m\u001b[0mtraj\u001b[0m\u001b[0;34m.\u001b[0m\u001b[0mplot_trajectory\u001b[0m\u001b[0;34m(\u001b[0m\u001b[0;34m*\u001b[0m\u001b[0margs\u001b[0m\u001b[0;34m,\u001b[0m \u001b[0;34m**\u001b[0m\u001b[0mkwargs\u001b[0m\u001b[0;34m)\u001b[0m\u001b[0;34m\u001b[0m\u001b[0;34m\u001b[0m\u001b[0m\n\u001b[0m\u001b[1;32m    933\u001b[0m \u001b[0;34m\u001b[0m\u001b[0m\n\u001b[1;32m    934\u001b[0m     \u001b[0;32mdef\u001b[0m \u001b[0mplot_bifurcation\u001b[0m\u001b[0;34m(\u001b[0m\u001b[0mself\u001b[0m\u001b[0;34m,\u001b[0m \u001b[0;34m*\u001b[0m\u001b[0margs\u001b[0m\u001b[0;34m,\u001b[0m \u001b[0;34m**\u001b[0m\u001b[0mkwargs\u001b[0m\u001b[0;34m)\u001b[0m\u001b[0;34m:\u001b[0m\u001b[0;34m\u001b[0m\u001b[0;34m\u001b[0m\u001b[0m\n",
            "\u001b[0;32m/usr/local/lib/python3.7/dist-packages/brainpy/analysis/bifurcation.py\u001b[0m in \u001b[0;36mplot_trajectory\u001b[0;34m(self, initials, duration, plot_duration, show)\u001b[0m\n\u001b[1;32m    845\u001b[0m                 \u001b[0;32mif\u001b[0m \u001b[0mlen\u001b[0m\u001b[0;34m(\u001b[0m\u001b[0mself\u001b[0m\u001b[0;34m.\u001b[0m\u001b[0mslow_var_names\u001b[0m\u001b[0;34m)\u001b[0m \u001b[0;34m==\u001b[0m \u001b[0;36m1\u001b[0m\u001b[0;34m:\u001b[0m\u001b[0;34m\u001b[0m\u001b[0;34m\u001b[0m\u001b[0m\n\u001b[1;32m    846\u001b[0m                     \u001b[0mlines\u001b[0m \u001b[0;34m=\u001b[0m \u001b[0mplt\u001b[0m\u001b[0;34m.\u001b[0m\u001b[0mplot\u001b[0m\u001b[0;34m(\u001b[0m\u001b[0ms0\u001b[0m\u001b[0;34m,\u001b[0m \u001b[0mfast\u001b[0m\u001b[0;34m,\u001b[0m \u001b[0mlabel\u001b[0m\u001b[0;34m=\u001b[0m\u001b[0mlegend\u001b[0m\u001b[0;34m)\u001b[0m\u001b[0;34m\u001b[0m\u001b[0;34m\u001b[0m\u001b[0m\n\u001b[0;32m--> 847\u001b[0;31m                     \u001b[0mutils\u001b[0m\u001b[0;34m.\u001b[0m\u001b[0madd_arrow\u001b[0m\u001b[0;34m(\u001b[0m\u001b[0mlines\u001b[0m\u001b[0;34m[\u001b[0m\u001b[0;36m0\u001b[0m\u001b[0;34m]\u001b[0m\u001b[0;34m)\u001b[0m\u001b[0;34m\u001b[0m\u001b[0;34m\u001b[0m\u001b[0m\n\u001b[0m\u001b[1;32m    848\u001b[0m                     \u001b[0;31m# middle = int(s0.shape[0] / 2)\u001b[0m\u001b[0;34m\u001b[0m\u001b[0;34m\u001b[0m\u001b[0;34m\u001b[0m\u001b[0m\n\u001b[1;32m    849\u001b[0m                     \u001b[0;31m# plt.arrow(s0[middle], fast[middle],\u001b[0m\u001b[0;34m\u001b[0m\u001b[0;34m\u001b[0m\u001b[0;34m\u001b[0m\u001b[0m\n",
            "\u001b[0;32m/usr/local/lib/python3.7/dist-packages/brainpy/analysis/utils.py\u001b[0m in \u001b[0;36madd_arrow\u001b[0;34m(line, position, direction, size, color)\u001b[0m\n\u001b[1;32m    269\u001b[0m                        \u001b[0mxy\u001b[0m\u001b[0;34m=\u001b[0m\u001b[0;34m(\u001b[0m\u001b[0mxdata\u001b[0m\u001b[0;34m[\u001b[0m\u001b[0mend_ind\u001b[0m\u001b[0;34m]\u001b[0m\u001b[0;34m,\u001b[0m \u001b[0mydata\u001b[0m\u001b[0;34m[\u001b[0m\u001b[0mend_ind\u001b[0m\u001b[0;34m]\u001b[0m\u001b[0;34m)\u001b[0m\u001b[0;34m,\u001b[0m\u001b[0;34m\u001b[0m\u001b[0;34m\u001b[0m\u001b[0m\n\u001b[1;32m    270\u001b[0m                        \u001b[0marrowprops\u001b[0m\u001b[0;34m=\u001b[0m\u001b[0mdict\u001b[0m\u001b[0;34m(\u001b[0m\u001b[0marrowstyle\u001b[0m\u001b[0;34m=\u001b[0m\u001b[0;34m\"->\"\u001b[0m\u001b[0;34m,\u001b[0m \u001b[0mcolor\u001b[0m\u001b[0;34m=\u001b[0m\u001b[0mcolor\u001b[0m\u001b[0;34m)\u001b[0m\u001b[0;34m,\u001b[0m\u001b[0;34m\u001b[0m\u001b[0;34m\u001b[0m\u001b[0m\n\u001b[0;32m--> 271\u001b[0;31m                        size=size)\n\u001b[0m\u001b[1;32m    272\u001b[0m \u001b[0;34m\u001b[0m\u001b[0m\n\u001b[1;32m    273\u001b[0m \u001b[0;34m\u001b[0m\u001b[0m\n",
            "\u001b[0;31mTypeError\u001b[0m: annotate() missing 1 required positional argument: 's'"
          ]
        },
        {
          "output_type": "display_data",
          "data": {
            "image/png": "[encoded data removed]",
            "text/plain": [
              "<Figure size 432x288 with 1 Axes>"
            ]
          },
          "metadata": {
            "tags": [],
            "needs_background": "light"
          }
        },
        {
          "output_type": "display_data",
          "data": {
            "image/png": "[encoded data removed]",
            "text/plain": [
              "<Figure size 432x288 with 1 Axes>"
            ]
          },
          "metadata": {
            "tags": [],
            "needs_background": "light"
          }
        }
      ]
    }
  ]
}