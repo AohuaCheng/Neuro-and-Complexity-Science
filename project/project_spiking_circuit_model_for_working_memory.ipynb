{
 "cells": [
  {
   "cell_type": "markdown",
   "metadata": {
    "colab_type": "text",
    "id": "view-in-github"
   },
   "source": [
    "<a href=\"https://colab.research.google.com/github/cahcharm/Neuro-and-Complexity-Science/blob/CSHA2021/project/project_spiking_circuit_model_for_working_memory.ipynb\" target=\"_parent\"><img src=\"https://colab.research.google.com/assets/colab-badge.svg\" alt=\"Open In Colab\"/></a>"
   ]
  },
  {
   "cell_type": "markdown",
   "metadata": {
    "id": "U4qCoFCTEVnd"
   },
   "source": [
    "# **Spiking circuit model for working memory**\n",
    "\n",
    "Building up a spiking circuit model for working memory (Misha, Science, 2008). \n",
    "\n",
    "* Step 1: build LIF neuron, voltage jump synapse, STP synapse\n",
    "*\tStep 2: consider the connectivity used in the paper, build up the network model\n",
    "*\tStep 3: try to encode one item in the model (Fig. 2)\n",
    "*\tStep 4: try to encode two items in the network (Fig. 3)\n"
   ]
  },
  {
   "cell_type": "code",
   "execution_count": 1,
   "metadata": {},
   "outputs": [
    {
     "name": "stdout",
     "output_type": "stream",
     "text": [
      "Requirement already satisfied: numba in /srv/conda/envs/notebook/lib/python3.7/site-packages (0.53.1)\n",
      "Requirement already satisfied: llvmlite<0.37,>=0.36.0rc1 in /srv/conda/envs/notebook/lib/python3.7/site-packages (from numba) (0.36.0)\n",
      "Requirement already satisfied: setuptools in /srv/conda/envs/notebook/lib/python3.7/site-packages (from numba) (49.6.0.post20210108)\n",
      "Requirement already satisfied: numpy>=1.15 in /srv/conda/envs/notebook/lib/python3.7/site-packages (from numba) (1.21.1)\n",
      "Note: you may need to restart the kernel to use updated packages.\n"
     ]
    }
   ],
   "source": [
    "pip install numba"
   ]
  },
  {
   "cell_type": "code",
   "execution_count": 2,
   "metadata": {
    "colab": {
     "base_uri": "https://localhost:8080/"
    },
    "id": "LsX1Lx6HEVLK",
    "outputId": "b887470b-5561-45c3-f86d-6099da7f34df"
   },
   "outputs": [
    {
     "name": "stdout",
     "output_type": "stream",
     "text": [
      "Requirement already satisfied: brainpy-simulator in /srv/conda/envs/notebook/lib/python3.7/site-packages (1.0.3)\n",
      "Requirement already satisfied: numpy>=1.15 in /srv/conda/envs/notebook/lib/python3.7/site-packages (from brainpy-simulator) (1.21.1)\n",
      "Requirement already satisfied: matplotlib>=3.3 in /srv/conda/envs/notebook/lib/python3.7/site-packages (from brainpy-simulator) (3.4.3)\n",
      "Requirement already satisfied: kiwisolver>=1.0.1 in /srv/conda/envs/notebook/lib/python3.7/site-packages (from matplotlib>=3.3->brainpy-simulator) (1.3.1)\n",
      "Requirement already satisfied: python-dateutil>=2.7 in /srv/conda/envs/notebook/lib/python3.7/site-packages (from matplotlib>=3.3->brainpy-simulator) (2.8.1)\n",
      "Requirement already satisfied: cycler>=0.10 in /srv/conda/envs/notebook/lib/python3.7/site-packages (from matplotlib>=3.3->brainpy-simulator) (0.10.0)\n",
      "Requirement already satisfied: pyparsing>=2.2.1 in /srv/conda/envs/notebook/lib/python3.7/site-packages (from matplotlib>=3.3->brainpy-simulator) (2.4.7)\n",
      "Requirement already satisfied: pillow>=6.2.0 in /srv/conda/envs/notebook/lib/python3.7/site-packages (from matplotlib>=3.3->brainpy-simulator) (8.3.1)\n",
      "Requirement already satisfied: six in /srv/conda/envs/notebook/lib/python3.7/site-packages (from cycler>=0.10->matplotlib>=3.3->brainpy-simulator) (1.15.0)\n",
      "Note: you may need to restart the kernel to use updated packages.\n"
     ]
    }
   ],
   "source": [
    "pip install -U brainpy-simulator"
   ]
  },
  {
   "cell_type": "code",
   "execution_count": 3,
   "metadata": {
    "id": "n_192zL9EQ4y"
   },
   "outputs": [],
   "source": [
    "import numpy as np\n",
    "import brainpy as bp\n",
    "\n",
    "import matplotlib.pyplot as plt\n",
    "import matplotlib.colors as mcolors"
   ]
  },
  {
   "cell_type": "markdown",
   "metadata": {
    "id": "0rPu6rPTG57I"
   },
   "source": [
    "## Step 1: build LIF neuron, voltage jump synapse, STP synapse"
   ]
  },
  {
   "cell_type": "markdown",
   "metadata": {
    "id": "LkLRyRoD6mMQ"
   },
   "source": [
    "**Spiking network: LIF Neuron**\n",
    "\n",
    "---\n",
    "\n",
    "The network is composed of $N_E$ excitatory and $N_I$ inhibitory current-based integrate-and-fire neurons, whose sub-threshold depolarization dynamics is described by\n",
    "$$\n",
    "\\tau_m \\frac{dV_i}{dt} = - V_i + I_i^{(rec)}(t)+I_{i}^{(ext)}(t)\n",
    "$$\n",
    "where $i = 1,\\cdots,(N_E+N_I)$ refere to the neuron number, $\\tau_m$ is the membrane time constant, $I_i^{(rec)}(t)$ is the current mediated by recurrent synaptic connections, and $I_i^{(ext)}(t)$ is the external current provided by distant brain areas. Membrane resistance is absorbed into the definition of the currents.\n",
    "\n",
    "When the depolarization hits a fixed threshold $\\theta(V_i(t)\\geq \\theta)$， the neuron emits a spike and becomes refractory for a period $\\tau_{arp}$ with a sub-threshold potential $V_r$\n",
    "\n",
    "---\n",
    "\n",
    "External current are modeld as Gaussian white noise\n",
    "$$\n",
    "I_i^{(ext)}(t) = \\mu_{ext} + \\sigma_{ext}\\cdot \\eta_i(t)\n",
    "$$\n",
    "with $\\langle\\eta_i(t)\\rangle = 0, \\langle \\eta_i(t)\\eta_j(t')\\rangle = \\delta_{ij}\\delta(t-t')$, so that $\\mu_{ext}$ and $\\sigma_{ext}^2$ are respectively the mean and the variance of the external currents."
   ]
  },
  {
   "cell_type": "code",
   "execution_count": 4,
   "metadata": {
    "id": "oPg09ghWkP-c"
   },
   "outputs": [],
   "source": [
    "theta_E = 20. # Spike emission threshold of excitatory cells [mV]\n",
    "theta_I = 20. # Spike emission threshold of inhibitory cells [mV]\n",
    "Vr_E = 16. # Reset potential of excitatory cells [mV]\n",
    "Vr_I = 13. # Reset potential of inhibitory cells [mV]\n",
    "tau_m_E = 15. # Membrane time constant of excitatory cells [ms]\n",
    "tau_m_I = 10. # Membrane tiem constant of inhibitory cells [ms]\n",
    "tau_arp_E = 2. # Absolute refractory period of excitatory cells [ms]\n",
    "tau_arp_I = 2. # Absolute refractory period of inhibitory cells [ms]\n",
    "\n",
    "mu_ext_E = 23.10 # Mean external current of excitatory cells [mV]\n",
    "mu_ext_I = 21.0 # Mean external current of inhibitory cells [mV]\n",
    "sigma_ext_E = 1.0 # Standard deviation of external current of excitatory cells [mV]\n",
    "sigma_ext_I = 1.0 # Standard deviation of external current of inhibitory cells [mV]"
   ]
  },
  {
   "cell_type": "code",
   "execution_count": 5,
   "metadata": {
    "id": "FyRN3T4t6h0z"
   },
   "outputs": [],
   "source": [
    "class LIF(bp.NeuGroup):\n",
    "  target_backend = ['general']\n",
    "\n",
    "  @staticmethod\n",
    "  @bp.odeint\n",
    "  def integral(V, t, Irec, Iext, tau_m):\n",
    "    dvdt = (-V + Irec + Iext) / tau_m\n",
    "    return dvdt\n",
    "\n",
    "  def __init__(self, size, cls=0, theta=20., Vr=16., tau_m=15.,\n",
    "          tau_arp=2., mu_ext=23.10, sigma_ext=1., **kwargs):\n",
    "    super(LIF, self).__init__(size=size, **kwargs)\n",
    "    # size is the iteration number\n",
    "    \n",
    "    # # Single-cell parameters\n",
    "    self.cls = cls # judge teh cell is excitatory or inhibitory, 0 for inhibitory, 1 for excitatory \n",
    "    # self.theta = theta # Spike emission threshold [mV]\n",
    "    # self.Vr = Vr # Reset potential [mV]\n",
    "    # self.tau_m = tau_m # Membrane time constant [ms]\n",
    "    # self.tau_arp = tau_arp # Absolute refractory period [ms]\n",
    "\n",
    "    # self.mu_ext = mu_ext # Mean external current [mV]\n",
    "    # self.sigma_ext = sigma_ext # Standard deviation of external current [mV]\n",
    "\n",
    "    if self.cls == 1:\n",
    "      self.theta = theta_E\n",
    "      self.Vr = Vr_E\n",
    "      self.tau_m = tau_m_E\n",
    "      self.tau_arp = tau_arp_E\n",
    "      self.mu_ext = mu_ext_E\n",
    "      self.sigma_ext = sigma_ext_E\n",
    "    elif self.cls == 0:\n",
    "      self.theta = theta_I\n",
    "      self.Vr = Vr_I\n",
    "      self.tau_m = tau_m_I\n",
    "      self.tau_arp = tau_arp_I\n",
    "      self.mu_ext = mu_ext_I\n",
    "      self.sigma_ext = sigma_ext_I\n",
    "\n",
    "    # variables\n",
    "    self.t_last_spike = bp.ops.ones(self.num) * -1e7 # The last spike time for calculating refractory state\n",
    "    self.refractory = bp.ops.zeros(self.num, dtype=bool) # Wether teh neuron is in refractory state\n",
    "    self.Irec = bp.ops.zeros(self.num) # recurrent current from other synpase  \n",
    "    self.spike = bp.ops.zeros(self.num, dtype=bool) # Whether produce a spike\n",
    "    self.V = bp.ops.ones(self.num) * self.Vr # The membrane potential started from Vr\n",
    "    self.Iext = bp.ops.zeros(self.num) # The external current provided by distant brain areas\n",
    "    \n",
    "  def update(self, _t):\n",
    "    for i in range(self.num):\n",
    "      spike = False\n",
    "      refractory = (_t - self.t_last_spike[i]) <= self.tau_arp\n",
    "      if not refractory:\n",
    "        # calculate Iext\n",
    "        self.Iext[i] = np.random.normal(self.mu_ext, self.sigma_ext, size=1)\n",
    "        # calculate V\n",
    "        V = self.integral(self.V[i], _t, self.Irec[i], self.Iext[i], self.tau_m)\n",
    "        spike = (V >= self.theta)\n",
    "        if spike:\n",
    "          V = self.Vr\n",
    "          self.t_last_spike[i] = _t # record last spike time\n",
    "          refractory = True          \n",
    "        self.V[i] = V\n",
    "      self.spike[i] = spike\n",
    "      self.refractory[i] = refractory\n",
    "      self.Iext[i] = 0."
   ]
  },
  {
   "cell_type": "code",
   "execution_count": 6,
   "metadata": {
    "colab": {
     "base_uri": "https://localhost:8080/",
     "height": 783
    },
    "id": "FQNO3HkRcXBz",
    "outputId": "ae523c37-8fb9-4efd-cf67-781ddcc76a49"
   },
   "outputs": [
    {
     "name": "stdout",
     "output_type": "stream",
     "text": [
      "Compilation used 0.0002 s.\n",
      "Start running ...\n",
      "Run 10.0% used 0.010 s.\n",
      "Run 20.0% used 0.016 s.\n",
      "Run 30.0% used 0.022 s.\n",
      "Run 40.0% used 0.027 s.\n",
      "Run 50.0% used 0.032 s.\n",
      "Run 60.0% used 0.037 s.\n",
      "Run 70.0% used 0.045 s.\n",
      "Run 80.0% used 0.050 s.\n",
      "Run 90.0% used 0.056 s.\n",
      "Run 100.0% used 0.061 s.\n",
      "Simulation is done in 0.062 s.\n",
      "\n",
      "Compilation used 0.0001 s.\n",
      "Start running ...\n",
      "Run 10.0% used 0.007 s.\n",
      "Run 20.0% used 0.014 s.\n",
      "Run 30.0% used 0.019 s.\n",
      "Run 40.0% used 0.024 s.\n",
      "Run 50.0% used 0.029 s.\n",
      "Run 60.0% used 0.035 s.\n",
      "Run 70.0% used 0.041 s.\n",
      "Run 80.0% used 0.048 s.\n",
      "Run 90.0% used 0.053 s.\n",
      "Run 100.0% used 0.073 s.\n",
      "Simulation is done in 0.074 s.\n",
      "\n"
     ]
    },
    {
     "data": {
      "image/png": "[encoded data removed]",
      "text/plain": [
       "<Figure size 432x288 with 1 Axes>"
      ]
     },
     "metadata": {
      "needs_background": "light"
     },
     "output_type": "display_data"
    }
   ],
   "source": [
    "lif1 = LIF(size=1, cls=1, monitors=['V']) # size is the iteration rounds\n",
    "lif1.run(duration=200., inputs=('Irec', 0.), report=True) # duration is the real time\n",
    "bp.visualize.line_plot(lif1.mon.ts, lif1.mon.V, legend='E neuron')\n",
    "\n",
    "lif2 = LIF(size=1, cls=0, monitors=['V'])\n",
    "lif2.run(200, inputs=('Irec', 0.), report=True)\n",
    "bp.visualize.line_plot(lif2.mon.ts, lif2.mon.V, legend='I neuron')"
   ]
  },
  {
   "cell_type": "markdown",
   "metadata": {
    "id": "g_9bNOxru2Yt"
   },
   "source": [
    "**Synapse**\n",
    "\n",
    "The recurrent current $I_i^{(rec)}(t)$ is the sum of the postsynaptic currents from all other neurons in the network targeting the neuron i,\n",
    "$$\n",
    "I_i^{(rec)}(t) = \\sum_j\\hat{J}_{ij}(t)\\sum_{k}\\delta(t-t_k^{(j)}-D_{ij})\n",
    "$$\n",
    "where $\\hat{J}_{ij}(t)$ is the instantaneous efficacy (time dependence is due to short-term synaptic dynamics) of the synapse connecting neuron $j$ to neuron $i$; the sum on $k$ is over all the emission times, $t_{k}^{(j)}$, of presynaptic neuron $j$; $D_{ij}$ is the transmission delay uniformly distributed between 1 and 5 ms. For simplicity, we neglect rise and decay times of the postsynaptic currents.\n",
    "\n",
    "The $\\hat{J}_{ij}(t)$ is given by\n",
    "$$\n",
    "\\hat{J}_{ij}(t)=J_{ij}\\cdot u_j(t-D_{ij})\\cdot x_j(t-D_{ij})\n",
    "$$\n",
    "where $J_{ij}$ is the absolute synaptic efficacy. The remaining synaptic populations, inhibitory and excitatory-inhibitorym exhibit linear synaptic transmission, i.e., $\\hat{J}_{ij}(t)=J_{ij}$. These equations are integrated using an Euler scheme.\n",
    "\n",
    "---\n",
    "\n",
    "Excitatory-to-excitatory synapses display short-term plasticity is\n",
    "\n",
    "$$\n",
    "\\frac{du_j(t)}{dt} = \\frac{U - u_j(t)}{\\tau_F} + U[1-u_j^{-}(t)]\\sum_k\\delta(t-t_k^{(j)})\\\\\n",
    "\\frac{dx_j(t)}{dt}=\\frac{1-x_j(t)}{\\tau_D} - u_j^{+}(t)x_j^{-}(t)\\sum_{k}\\delta(t-t_k^{(j)})\\\\\n",
    "u_j^{+}(t)=u_j^{-}(t)+U\\left(1-u^{-}(t)\\right)\n",
    "$$\n",
    "\n",
    "Or we can see the dynamics as:\n",
    "\n",
    "$$\n",
    "\\frac {du} {dt} = \\frac {U-u} {\\tau_F}\\\\\n",
    "\\frac {dx} {dt} = \\frac {1-x} {\\tau_D}\\\\\n",
    "$$\n",
    "\n",
    "$$\n",
    "\\rm{if (pre \\ fire), then}\n",
    "\\begin{cases} \n",
    "u^+ = u^- + U(1-u^-) \\\\ \n",
    "x^+ = x^- - u^+x^- \n",
    "\\end{cases}\n",
    "$$\n",
    "\n",
    "where the functions multiplying the spike train are evaluated inmmediately before the delta functions,i.e. at $t_k^{(j)-}$. \n"
   ]
  },
  {
   "cell_type": "code",
   "execution_count": 7,
   "metadata": {
    "id": "rNB30ovSna-7"
   },
   "outputs": [],
   "source": [
    "## Synaptic parameters\n",
    "J_IE = 0.135 # Synaptic efficacy E to I [mV]\n",
    "J_EI = 0.25 # Synaptic efficacy I to E [mV]\n",
    "J_II = 0.20 # Synaptic efficacy I to I [mV]\n",
    "J_b = 0.10 # Baseline level of E to E synapses [mV]\n",
    "J_p = 0.45 # Potentiated level of E to E synapses [mV]\n",
    "gamma_0 = 0.10 # Fraction of potentiated synapses before learning\n",
    "# delta = range(0.1, 1) # Synaptic delays"
   ]
  },
  {
   "cell_type": "code",
   "execution_count": 8,
   "metadata": {
    "id": "lBGvKMbNvVCa"
   },
   "outputs": [],
   "source": [
    "class STP(bp.TwoEndConn):\n",
    "  target_backend = ['numpy', 'numba']\n",
    "\n",
    "  @staticmethod\n",
    "  @bp.odeint(method='exponential_euler')\n",
    "  def integral(u, x, t, U, tau_F, tau_D):\n",
    "    dudt = (U - u) / tau_F \n",
    "    dxdt = (1 - x) / tau_D\n",
    "    return dudt, dxdt\n",
    "  \n",
    "  def __init__(self, pre, post, conn, weight=1., tau_F=1500., tau_D=200., U=0.20, **kwargs):\n",
    "\n",
    "    super(STP, self).__init__(pre=pre, post=post, **kwargs)\n",
    "\n",
    "    # Short-term synaptic dynamics parameters\n",
    "    self.U = U # Baseline utilization factor\n",
    "    self.tau_F = tau_F # Recovery time of utilization factor [ms]\n",
    "    self.tau_D = tau_D # Recovery time of synaptic resources [ms]\n",
    "    self.w = weight\n",
    "\n",
    "    # connections\n",
    "    self.conn = conn(pre.size, post.size)\n",
    "    self.pre_ids, self.post_ids = self.conn.requires('pre_ids', 'post_ids')\n",
    "\n",
    "    # variables\n",
    "    self.s = bp.ops.zeros(pre.num)\n",
    "    self.u = bp.ops.zeros(pre.num)\n",
    "    self.x = bp.ops.ones(pre.num)\n",
    "    self.delay = np.random.uniform(1, 5, size=pre.num)\n",
    "    self.I_syn = self.register_constant_delay('I_syn', size=(pre.num), delay_time=self.delay)\n",
    "    # the transmission delay uniformly distributed between 1 and 5 ms.\n",
    "\n",
    "  def update(self, _t):\n",
    "    for j in range(self.pre.num):\n",
    "      pre_id = self.pre_ids[j]\n",
    "      u, x = self.integral(self.u[j], self.x[j], _t, self.U, self.tau_F, self.tau_D)\n",
    "      # update\n",
    "      if self.pre.spike[pre_id]:\n",
    "        if self.w == J_b or self.w == J_p:\n",
    "          self.I_syn.push(j, self.w*self.u[j]*(_t-self.delay[i,j])*self.x[j]*(_t-self.delay[pre_i]))\n",
    "        else:\n",
    "          self.I_syn.push(j, self.w)\n",
    "        u += self.U * (1-self.u[j])\n",
    "        x -= u * self.x[j]\n",
    "\n",
    "      # output\n",
    "      self.post.Irec += self.I_syn.pull(j)\n",
    "      self.u[j] = u\n",
    "      self.x[j] = x"
   ]
  },
  {
   "cell_type": "code",
   "execution_count": 15,
   "metadata": {
    "colab": {
     "base_uri": "https://localhost:8080/",
     "height": 899
    },
    "id": "vWcvLowUzs4z",
    "outputId": "f54a3b84-cfbd-47eb-98bc-11ac6c2199f9"
   },
   "outputs": [
    {
     "ename": "RunningError",
     "evalue": "\nThe running error occurs in the formatted source code:\n\n[ 1]   def run_func(_t, _i, _dt):\n[ 2]     NG8.input_step(_i)\n[ 3]     NG8.Iext, NG8.V, NG8.refractory, NG8.spike, NG8.t_last_spike = NG8.new_update(_t, NG8.Iext, NG8.Irec, NG8.V, NG8.Vr, NG8.mu_ext, NG8.num, NG8.refractory, NG8.sigma_ext, NG8.spike, NG8.t_last_spike, NG8.tau_arp, NG8.tau_m, NG8.theta)\n[ 4]     NG8.monitor_step(_i, _t)\n[ 5]     TEC11None.post.Irec, TEC11None.u, TEC11None.x = TEC11None.new_update(_t, TEC11None.I_syn.delay_data, TEC11None.I_syn.delay_in_idx, TEC11None.I_syn.delay_out_idx, TEC11None.U, TEC11None.delay, TEC11None.post.Irec, TEC11None.pre.num, TEC11None.pre.spike, TEC11None.pre_ids, TEC11None.tau_D, TEC11None.tau_F, TEC11None.u, TEC11None.w, TEC11None.x)\n[ 6]     TEC11None.monitor_step(_i, _t)\n[ 7]     NG9.Iext, NG9.V, NG9.refractory, NG9.spike, NG9.t_last_spike = NG9.new_update(_t, NG9.Iext, NG9.Irec, NG9.V, NG9.Vr, NG9.mu_ext, NG9.num, NG9.refractory, NG9.sigma_ext, NG9.spike, NG9.t_last_spike, NG9.tau_arp, NG9.tau_m, NG9.theta)\n[ 8]     NG9.monitor_step(_i, _t)\n\n",
     "output_type": "error",
     "traceback": [
      "\u001b[0;31m---------------------------------------------------------------------------\u001b[0m",
      "\u001b[0;31mTypingError\u001b[0m                               Traceback (most recent call last)",
      "\u001b[0;32m/srv/conda/envs/notebook/lib/python3.7/site-packages/brainpy/simulation/utils.py\u001b[0m in \u001b[0;36mrun_model\u001b[0;34m(run_func, times, report, report_percent)\u001b[0m\n\u001b[1;32m    124\u001b[0m             \u001b[0;32mtry\u001b[0m\u001b[0;34m:\u001b[0m\u001b[0;34m\u001b[0m\u001b[0;34m\u001b[0m\u001b[0m\n\u001b[0;32m--> 125\u001b[0;31m                 \u001b[0mrun_func\u001b[0m\u001b[0;34m(\u001b[0m\u001b[0m_t\u001b[0m\u001b[0;34m=\u001b[0m\u001b[0mtimes\u001b[0m\u001b[0;34m[\u001b[0m\u001b[0mrun_idx\u001b[0m\u001b[0;34m]\u001b[0m\u001b[0;34m,\u001b[0m \u001b[0m_i\u001b[0m\u001b[0;34m=\u001b[0m\u001b[0mrun_idx\u001b[0m\u001b[0;34m,\u001b[0m \u001b[0m_dt\u001b[0m\u001b[0;34m=\u001b[0m\u001b[0mdt\u001b[0m\u001b[0;34m)\u001b[0m\u001b[0;34m\u001b[0m\u001b[0;34m\u001b[0m\u001b[0m\n\u001b[0m\u001b[1;32m    126\u001b[0m             \u001b[0;32mexcept\u001b[0m \u001b[0mException\u001b[0m \u001b[0;32mas\u001b[0m \u001b[0me\u001b[0m\u001b[0;34m:\u001b[0m\u001b[0;34m\u001b[0m\u001b[0;34m\u001b[0m\u001b[0m\n",
      "\u001b[0;32m?\u001b[0m in \u001b[0;36mrun_func\u001b[0;34m(_t, _i, _dt)\u001b[0m\n",
      "\u001b[0;32m/srv/conda/envs/notebook/lib/python3.7/site-packages/numba/core/dispatcher.py\u001b[0m in \u001b[0;36m_compile_for_args\u001b[0;34m(self, *args, **kws)\u001b[0m\n\u001b[1;32m    419\u001b[0m \u001b[0;34m\u001b[0m\u001b[0m\n\u001b[0;32m--> 420\u001b[0;31m             \u001b[0merror_rewrite\u001b[0m\u001b[0;34m(\u001b[0m\u001b[0me\u001b[0m\u001b[0;34m,\u001b[0m \u001b[0;34m'typing'\u001b[0m\u001b[0;34m)\u001b[0m\u001b[0;34m\u001b[0m\u001b[0;34m\u001b[0m\u001b[0m\n\u001b[0m\u001b[1;32m    421\u001b[0m         \u001b[0;32mexcept\u001b[0m \u001b[0merrors\u001b[0m\u001b[0;34m.\u001b[0m\u001b[0mUnsupportedError\u001b[0m \u001b[0;32mas\u001b[0m \u001b[0me\u001b[0m\u001b[0;34m:\u001b[0m\u001b[0;34m\u001b[0m\u001b[0;34m\u001b[0m\u001b[0m\n",
      "\u001b[0;32m/srv/conda/envs/notebook/lib/python3.7/site-packages/numba/core/dispatcher.py\u001b[0m in \u001b[0;36merror_rewrite\u001b[0;34m(e, issue_type)\u001b[0m\n\u001b[1;32m    360\u001b[0m             \u001b[0;32melse\u001b[0m\u001b[0;34m:\u001b[0m\u001b[0;34m\u001b[0m\u001b[0;34m\u001b[0m\u001b[0m\n\u001b[0;32m--> 361\u001b[0;31m                 \u001b[0;32mraise\u001b[0m \u001b[0me\u001b[0m\u001b[0;34m.\u001b[0m\u001b[0mwith_traceback\u001b[0m\u001b[0;34m(\u001b[0m\u001b[0;32mNone\u001b[0m\u001b[0;34m)\u001b[0m\u001b[0;34m\u001b[0m\u001b[0;34m\u001b[0m\u001b[0m\n\u001b[0m\u001b[1;32m    362\u001b[0m \u001b[0;34m\u001b[0m\u001b[0m\n",
      "\u001b[0;31mTypingError\u001b[0m: Failed in nopython mode pipeline (step: nopython frontend)\nUntyped global name 'self_integral': Cannot determine Numba type of <class 'function'>\n\nFile \"/home/jovyan/demo\", line 7:\n<source missing, REPL/exec in use?>\n",
      "\nDuring handling of the above exception, another exception occurred:\n",
      "\u001b[0;31mRunningError\u001b[0m                              Traceback (most recent call last)",
      "\u001b[0;32m<ipython-input-15-f96c02370600>\u001b[0m in \u001b[0;36m<module>\u001b[0;34m\u001b[0m\n\u001b[1;32m      6\u001b[0m       weight=1., tau_F=1500., tau_D=200., monitors=['u', 'x'])\n\u001b[1;32m      7\u001b[0m \u001b[0mnet\u001b[0m \u001b[0;34m=\u001b[0m \u001b[0mbp\u001b[0m\u001b[0;34m.\u001b[0m\u001b[0mNetwork\u001b[0m\u001b[0;34m(\u001b[0m\u001b[0mneu1\u001b[0m\u001b[0;34m,\u001b[0m \u001b[0msyn\u001b[0m\u001b[0;34m,\u001b[0m \u001b[0mneu2\u001b[0m\u001b[0;34m)\u001b[0m\u001b[0;34m\u001b[0m\u001b[0;34m\u001b[0m\u001b[0m\n\u001b[0;32m----> 8\u001b[0;31m \u001b[0mnet\u001b[0m\u001b[0;34m.\u001b[0m\u001b[0mrun\u001b[0m\u001b[0;34m(\u001b[0m\u001b[0;36m100.\u001b[0m\u001b[0;34m,\u001b[0m \u001b[0minputs\u001b[0m\u001b[0;34m=\u001b[0m\u001b[0;34m(\u001b[0m\u001b[0mneu1\u001b[0m\u001b[0;34m,\u001b[0m \u001b[0;34m'Irec'\u001b[0m\u001b[0;34m,\u001b[0m \u001b[0;36m0.\u001b[0m\u001b[0;34m)\u001b[0m\u001b[0;34m)\u001b[0m\u001b[0;34m\u001b[0m\u001b[0;34m\u001b[0m\u001b[0m\n\u001b[0m\u001b[1;32m      9\u001b[0m \u001b[0;34m\u001b[0m\u001b[0m\n\u001b[1;32m     10\u001b[0m \u001b[0;31m# plot\u001b[0m\u001b[0;34m\u001b[0m\u001b[0;34m\u001b[0m\u001b[0;34m\u001b[0m\u001b[0m\n",
      "\u001b[0;32m/srv/conda/envs/notebook/lib/python3.7/site-packages/brainpy/simulation/brainobjects/network.py\u001b[0m in \u001b[0;36mrun\u001b[0;34m(self, duration, inputs, report, report_percent)\u001b[0m\n\u001b[1;32m    109\u001b[0m \u001b[0;34m\u001b[0m\u001b[0m\n\u001b[1;32m    110\u001b[0m         \u001b[0;31m# run the network\u001b[0m\u001b[0;34m\u001b[0m\u001b[0;34m\u001b[0m\u001b[0;34m\u001b[0m\u001b[0m\n\u001b[0;32m--> 111\u001b[0;31m         \u001b[0mres\u001b[0m \u001b[0;34m=\u001b[0m \u001b[0mutils\u001b[0m\u001b[0;34m.\u001b[0m\u001b[0mrun_model\u001b[0m\u001b[0;34m(\u001b[0m\u001b[0mself\u001b[0m\u001b[0;34m.\u001b[0m\u001b[0mrun_func\u001b[0m\u001b[0;34m,\u001b[0m \u001b[0mtimes\u001b[0m\u001b[0;34m=\u001b[0m\u001b[0mts\u001b[0m\u001b[0;34m,\u001b[0m \u001b[0mreport\u001b[0m\u001b[0;34m=\u001b[0m\u001b[0mreport\u001b[0m\u001b[0;34m,\u001b[0m \u001b[0mreport_percent\u001b[0m\u001b[0;34m=\u001b[0m\u001b[0mreport_percent\u001b[0m\u001b[0;34m)\u001b[0m\u001b[0;34m\u001b[0m\u001b[0;34m\u001b[0m\u001b[0m\n\u001b[0m\u001b[1;32m    112\u001b[0m \u001b[0;34m\u001b[0m\u001b[0m\n\u001b[1;32m    113\u001b[0m         \u001b[0;31m# end\u001b[0m\u001b[0;34m\u001b[0m\u001b[0;34m\u001b[0m\u001b[0;34m\u001b[0m\u001b[0m\n",
      "\u001b[0;32m/srv/conda/envs/notebook/lib/python3.7/site-packages/brainpy/simulation/utils.py\u001b[0m in \u001b[0;36mrun_model\u001b[0;34m(run_func, times, report, report_percent)\u001b[0m\n\u001b[1;32m    125\u001b[0m                 \u001b[0mrun_func\u001b[0m\u001b[0;34m(\u001b[0m\u001b[0m_t\u001b[0m\u001b[0;34m=\u001b[0m\u001b[0mtimes\u001b[0m\u001b[0;34m[\u001b[0m\u001b[0mrun_idx\u001b[0m\u001b[0;34m]\u001b[0m\u001b[0;34m,\u001b[0m \u001b[0m_i\u001b[0m\u001b[0;34m=\u001b[0m\u001b[0mrun_idx\u001b[0m\u001b[0;34m,\u001b[0m \u001b[0m_dt\u001b[0m\u001b[0;34m=\u001b[0m\u001b[0mdt\u001b[0m\u001b[0;34m)\u001b[0m\u001b[0;34m\u001b[0m\u001b[0;34m\u001b[0m\u001b[0m\n\u001b[1;32m    126\u001b[0m             \u001b[0;32mexcept\u001b[0m \u001b[0mException\u001b[0m \u001b[0;32mas\u001b[0m \u001b[0me\u001b[0m\u001b[0;34m:\u001b[0m\u001b[0;34m\u001b[0m\u001b[0;34m\u001b[0m\u001b[0m\n\u001b[0;32m--> 127\u001b[0;31m                 \u001b[0mraise_running_error\u001b[0m\u001b[0;34m(\u001b[0m\u001b[0me\u001b[0m\u001b[0;34m)\u001b[0m\u001b[0;34m\u001b[0m\u001b[0;34m\u001b[0m\u001b[0m\n\u001b[0m\u001b[1;32m    128\u001b[0m         \u001b[0;32mreturn\u001b[0m \u001b[0;32mNone\u001b[0m\u001b[0;34m\u001b[0m\u001b[0;34m\u001b[0m\u001b[0m\n\u001b[1;32m    129\u001b[0m \u001b[0;34m\u001b[0m\u001b[0m\n",
      "\u001b[0;32m/srv/conda/envs/notebook/lib/python3.7/site-packages/brainpy/simulation/utils.py\u001b[0m in \u001b[0;36mraise_running_error\u001b[0;34m(e)\u001b[0m\n\u001b[1;32m     92\u001b[0m \u001b[0;34m{\u001b[0m\u001b[0mcode\u001b[0m\u001b[0;34m}\u001b[0m\u001b[0;34m\u001b[0m\u001b[0;34m\u001b[0m\u001b[0m\n\u001b[1;32m     93\u001b[0m \u001b[0;34m\u001b[0m\u001b[0m\n\u001b[0;32m---> 94\u001b[0;31m ''')\n\u001b[0m\u001b[1;32m     95\u001b[0m \u001b[0;34m\u001b[0m\u001b[0m\n\u001b[1;32m     96\u001b[0m     \u001b[0mrun_length\u001b[0m \u001b[0;34m=\u001b[0m \u001b[0mlen\u001b[0m\u001b[0;34m(\u001b[0m\u001b[0mtimes\u001b[0m\u001b[0;34m)\u001b[0m\u001b[0;34m\u001b[0m\u001b[0;34m\u001b[0m\u001b[0m\n",
      "\u001b[0;31mRunningError\u001b[0m: \nThe running error occurs in the formatted source code:\n\n[ 1]   def run_func(_t, _i, _dt):\n[ 2]     NG8.input_step(_i)\n[ 3]     NG8.Iext, NG8.V, NG8.refractory, NG8.spike, NG8.t_last_spike = NG8.new_update(_t, NG8.Iext, NG8.Irec, NG8.V, NG8.Vr, NG8.mu_ext, NG8.num, NG8.refractory, NG8.sigma_ext, NG8.spike, NG8.t_last_spike, NG8.tau_arp, NG8.tau_m, NG8.theta)\n[ 4]     NG8.monitor_step(_i, _t)\n[ 5]     TEC11None.post.Irec, TEC11None.u, TEC11None.x = TEC11None.new_update(_t, TEC11None.I_syn.delay_data, TEC11None.I_syn.delay_in_idx, TEC11None.I_syn.delay_out_idx, TEC11None.U, TEC11None.delay, TEC11None.post.Irec, TEC11None.pre.num, TEC11None.pre.spike, TEC11None.pre_ids, TEC11None.tau_D, TEC11None.tau_F, TEC11None.u, TEC11None.w, TEC11None.x)\n[ 6]     TEC11None.monitor_step(_i, _t)\n[ 7]     NG9.Iext, NG9.V, NG9.refractory, NG9.spike, NG9.t_last_spike = NG9.new_update(_t, NG9.Iext, NG9.Irec, NG9.V, NG9.Vr, NG9.mu_ext, NG9.num, NG9.refractory, NG9.sigma_ext, NG9.spike, NG9.t_last_spike, NG9.tau_arp, NG9.tau_m, NG9.theta)\n[ 8]     NG9.monitor_step(_i, _t)\n\n"
     ]
    }
   ],
   "source": [
    "## STD/STF parameters and plot \n",
    "neu1 = LIF(1, monitors=['V'])\n",
    "neu2 = LIF(1, monitors=['V'])\n",
    "\n",
    "syn = STP(pre=neu1, post=neu2, conn=bp.connect.All2All(),\n",
    "      weight=1., tau_F=1500., tau_D=200., monitors=['u', 'x'])\n",
    "net = bp.Network(neu1, syn, neu2)\n",
    "net.run(100., inputs=(neu1, 'Irec', 0.))\n",
    "\n",
    "# plot\n",
    "fig, gs = bp.visualize.get_figure(row_num=1, col_num=1, row_len=3, col_len=7)\n",
    "\n",
    "fig.add_subplot(gs[0, 0])\n",
    "plt.plot(net.ts, syn.mon.u[:, 0], label='u')\n",
    "plt.plot(net.ts, syn.mon.x[:, 0], label='x')\n",
    "plt.legend()\n",
    "\n",
    "plt.xlabel('Time (ms)')\n",
    "plt.show()"
   ]
  },
  {
   "cell_type": "markdown",
   "metadata": {
    "id": "aEzM3t-TWpQg"
   },
   "source": [
    "**Network connectivity**\n",
    "There are $p$ items to be memorized, each of them encoded by a subset of excitatory cells (selective population). Every selective population is formed by randomly selected $fN_E$ neurons, where $f$ is the coding level, enforcing the constraint that a given neuron belongs to at most one selective population (non-overlapping memories). Network connectivity is generated in the following way. \n",
    "\n",
    "Each cell receives $c(N_E +N_I)$ presynaptic connections, where $c$ is the connectivity level, partitioned as follows: $cfN_E$ randomly selected connections from each of the selective populations, $c(1 − fp)N_E$ randomly selected connections from the non-selective excitatory population, and $cN_I$ randomly selected connections from the inhibitory population.\n",
    "\n",
    "---\n",
    "\n",
    "Excitatory-to-excitatory synapses can take on two possible absolute efficacies: baseline, $J_b$, and potentiated, $J_p(> J_b)$. Synapses connecting two neurons within the\n",
    "same selective population have potentiated efficacy; Synapses connecting a selective neuron to a neuron from another selective population or to a non-selective neuron, have baseline efficacy; The remaining synapses (i.e. non-selective to selective and non-selective to non-selective) have potentiated efficacy with probability 0.1."
   ]
  },
  {
   "cell_type": "code",
   "execution_count": 10,
   "metadata": {
    "id": "HgwGgxGSklAD"
   },
   "outputs": [],
   "source": [
    "import warnings\n",
    "warnings.filterwarnings('ignore')"
   ]
  },
  {
   "cell_type": "code",
   "execution_count": 11,
   "metadata": {
    "id": "Q6cntNt_mLU9"
   },
   "outputs": [],
   "source": [
    "## Network parameters\n",
    "f =  0.10 # Coding level\n",
    "p = 1 # Number of memories, 1 or 2 in this project\n",
    "c = 0.20 # Probability of synaptic contact\n",
    "N_E = 8000 # Number of excitatory cells\n",
    "N_I = 2000 # Number of inhibitory cells"
   ]
  },
  {
   "cell_type": "code",
   "execution_count": 12,
   "metadata": {
    "id": "cumU9yhsRdUw"
   },
   "outputs": [],
   "source": [
    "# Selective stimulation\n",
    "T_cue = 350 # Duration [ms]\n",
    "A_cue = 1.15 # Contrast factor"
   ]
  },
  {
   "cell_type": "code",
   "execution_count": 13,
   "metadata": {
    "id": "utGo0pdnUKf_"
   },
   "outputs": [],
   "source": [
    "# learn from E/I network to connnect\n",
    "def run_net(p, neu_model, syn_model, backend='numba'):\n",
    "  bp.backend.set(backend)\n",
    "  # define the ids of selective populations, non-selective excitatory population and inhibitory population\n",
    "  num_S = int(f*N_E) # cell number of a selective population\n",
    "  S_ids = range(p*num_S)\n",
    "  nS_ids = range(p*num_S, N_E)\n",
    "  I_ids = range(N_E, N_E+N_I)\n",
    "  S = neu_model(num_S, cls=1, monitors=['spike'])\n",
    "  nS = neu_model(N_E-p*num_S, cls=1, monitors=['spike'])\n",
    "  I = neu_model(N_I, cls=0, monitors=['spike'])\n",
    "\n",
    "  S2S = syn_model(pre=S, post=S, conn=bp.connect.FixedPreNum(int(c*f*N_E)), weight = J_p)\n",
    "  S2nS = syn_model(pre=S, post=nS, conn=bp.connect.FixedPreNum(int(c*f*N_E)),weight = J_b)\n",
    "  S2I = syn_model(pre=S, post=I, conn=bp.connect.FixedPreNum(int(c*f*N_E)), weight = J_EI)\n",
    "\n",
    "  nS2S = syn_model(pre=nS, post=S, conn=bp.connect.FixedProb(0.1), weight = J_p)\n",
    "  nS2nS = syn_model(pre=nS, post=S, conn=bp.connect.FixedProb(0.1), weight = J_p)\n",
    "  nS2I = syn_model(pre=nS, post=S, conn=bp.connect.FixedPreNum(int(c*(1-f*p)*N_E)), weight = J_EI)\n",
    "\n",
    "  I2S = syn_model(pre=I, post=S, conn=bp.connect.FixedPreNum(int(c*N_I)), weight = J_IE)\n",
    "  I2nS = syn_model(pre=I, post=nS, conn=bp.connect.FixedPreNum(int(c*N_I)), weight = J_IE)\n",
    "  I2I = syn_model(pre=I, post=I, conn=bp.connect.FixedPreNum(int(c*N_I)), weight = J_II)\n",
    "  \n",
    "  net = bp.Network(S, nS, I,\n",
    "            S2S, S2nS, S2I, nS2S, nS2nS, nS2I, I2S, I2nS, I2I)\n",
    "  t = net.run(duration=T_cue, report=True)\n",
    "\n",
    "  fig, gs = bp.visualize.get_figure(row_num=5, col_num=1, row_len=1, col_len=10)\n",
    "  fig.add_subplot(gs[:4, 0])\n",
    "  bp.visualize.raster_plot(S.mon.ts, S.mon.spike, ylabel='S Group', xlabel='')\n",
    "  fig.add_subplot(gs[4, 0])\n",
    "  bp.visualize.raster_plot(nS.mon.ts, nS.mon.spike, ylabel='nS Group', show=True)\n",
    "  fig.add_subplot(gs[4, 0])\n",
    "  bp.visualize.raster_plot(I.mon.ts, I.mon.spike, ylabel='I Group', show=True)\n",
    "  return t"
   ]
  },
  {
   "cell_type": "code",
   "execution_count": 14,
   "metadata": {
    "colab": {
     "base_uri": "https://localhost:8080/",
     "height": 1000
    },
    "id": "Buam4ONRSGdo",
    "outputId": "b07a7654-969a-4dfc-cef0-effaf2d2974a"
   },
   "outputs": [
    {
     "ename": "RunningError",
     "evalue": "\nThe running error occurs in the formatted source code:\n\n[ 1]   def run_func(_t, _i, _dt):\n[ 2]     NG5.Iext, NG5.V, NG5.refractory, NG5.spike, NG5.t_last_spike = NG5.new_update(_t, NG5.Iext, NG5.Irec, NG5.V, NG5.Vr, NG5.mu_ext, NG5.num, NG5.refractory, NG5.sigma_ext, NG5.spike, NG5.t_last_spike, NG5.tau_arp, NG5.tau_m, NG5.theta)\n[ 3]     NG5.monitor_step(_i, _t)\n[ 4]     NG6.Iext, NG6.V, NG6.refractory, NG6.spike, NG6.t_last_spike = NG6.new_update(_t, NG6.Iext, NG6.Irec, NG6.V, NG6.Vr, NG6.mu_ext, NG6.num, NG6.refractory, NG6.sigma_ext, NG6.spike, NG6.t_last_spike, NG6.tau_arp, NG6.tau_m, NG6.theta)\n[ 5]     NG6.monitor_step(_i, _t)\n[ 6]     NG7.Iext, NG7.V, NG7.refractory, NG7.spike, NG7.t_last_spike = NG7.new_update(_t, NG7.Iext, NG7.Irec, NG7.V, NG7.Vr, NG7.mu_ext, NG7.num, NG7.refractory, NG7.sigma_ext, NG7.spike, NG7.t_last_spike, NG7.tau_arp, NG7.tau_m, NG7.theta)\n[ 7]     NG7.monitor_step(_i, _t)\n[ 8]     TEC2None.post.Irec, TEC2None.u, TEC2None.x = TEC2None.new_update(_t, TEC2None.I_syn.delay_data, TEC2None.I_syn.delay_in_idx, TEC2None.I_syn.delay_out_idx, TEC2None.U, TEC2None.delay, TEC2None.post.Irec, TEC2None.pre.num, TEC2None.pre.spike, TEC2None.pre_ids, TEC2None.tau_D, TEC2None.tau_F, TEC2None.u, TEC2None.w, TEC2None.x)\n[ 9]     TEC3None.post.Irec, TEC3None.u, TEC3None.x = TEC3None.new_update(_t, TEC3None.I_syn.delay_data, TEC3None.I_syn.delay_in_idx, TEC3None.I_syn.delay_out_idx, TEC3None.U, TEC3None.delay, TEC3None.post.Irec, TEC3None.pre.num, TEC3None.pre.spike, TEC3None.pre_ids, TEC3None.tau_D, TEC3None.tau_F, TEC3None.u, TEC3None.w, TEC3None.x)\n[10]     TEC4None.post.Irec, TEC4None.u, TEC4None.x = TEC4None.new_update(_t, TEC4None.I_syn.delay_data, TEC4None.I_syn.delay_in_idx, TEC4None.I_syn.delay_out_idx, TEC4None.U, TEC4None.delay, TEC4None.post.Irec, TEC4None.pre.num, TEC4None.pre.spike, TEC4None.pre_ids, TEC4None.tau_D, TEC4None.tau_F, TEC4None.u, TEC4None.w, TEC4None.x)\n[11]     TEC5None.post.Irec, TEC5None.u, TEC5None.x = TEC5None.new_update(_t, TEC5None.I_syn.delay_data, TEC5None.I_syn.delay_in_idx, TEC5None.I_syn.delay_out_idx, TEC5None.U, TEC5None.delay, TEC5None.post.Irec, TEC5None.pre.num, TEC5None.pre.spike, TEC5None.pre_ids, TEC5None.tau_D, TEC5None.tau_F, TEC5None.u, TEC5None.w, TEC5None.x)\n[12]     TEC6None.post.Irec, TEC6None.u, TEC6None.x = TEC6None.new_update(_t, TEC6None.I_syn.delay_data, TEC6None.I_syn.delay_in_idx, TEC6None.I_syn.delay_out_idx, TEC6None.U, TEC6None.delay, TEC6None.post.Irec, TEC6None.pre.num, TEC6None.pre.spike, TEC6None.pre_ids, TEC6None.tau_D, TEC6None.tau_F, TEC6None.u, TEC6None.w, TEC6None.x)\n[13]     TEC7None.post.Irec, TEC7None.u, TEC7None.x = TEC7None.new_update(_t, TEC7None.I_syn.delay_data, TEC7None.I_syn.delay_in_idx, TEC7None.I_syn.delay_out_idx, TEC7None.U, TEC7None.delay, TEC7None.post.Irec, TEC7None.pre.num, TEC7None.pre.spike, TEC7None.pre_ids, TEC7None.tau_D, TEC7None.tau_F, TEC7None.u, TEC7None.w, TEC7None.x)\n[14]     TEC8None.post.Irec, TEC8None.u, TEC8None.x = TEC8None.new_update(_t, TEC8None.I_syn.delay_data, TEC8None.I_syn.delay_in_idx, TEC8None.I_syn.delay_out_idx, TEC8None.U, TEC8None.delay, TEC8None.post.Irec, TEC8None.pre.num, TEC8None.pre.spike, TEC8None.pre_ids, TEC8None.tau_D, TEC8None.tau_F, TEC8None.u, TEC8None.w, TEC8None.x)\n[15]     TEC9None.post.Irec, TEC9None.u, TEC9None.x = TEC9None.new_update(_t, TEC9None.I_syn.delay_data, TEC9None.I_syn.delay_in_idx, TEC9None.I_syn.delay_out_idx, TEC9None.U, TEC9None.delay, TEC9None.post.Irec, TEC9None.pre.num, TEC9None.pre.spike, TEC9None.pre_ids, TEC9None.tau_D, TEC9None.tau_F, TEC9None.u, TEC9None.w, TEC9None.x)\n[16]     TEC10None.post.Irec, TEC10None.u, TEC10None.x = TEC10None.new_update(_t, TEC10None.I_syn.delay_data, TEC10None.I_syn.delay_in_idx, TEC10None.I_syn.delay_out_idx, TEC10None.U, TEC10None.delay, TEC10None.post.Irec, TEC10None.pre.num, TEC10None.pre.spike, TEC10None.pre_ids, TEC10None.tau_D, TEC10None.tau_F, TEC10None.u, TEC10None.w, TEC10None.x)\n\n",
     "output_type": "error",
     "traceback": [
      "\u001b[0;31m---------------------------------------------------------------------------\u001b[0m",
      "\u001b[0;31mTypingError\u001b[0m                               Traceback (most recent call last)",
      "\u001b[0;32m/srv/conda/envs/notebook/lib/python3.7/site-packages/brainpy/simulation/utils.py\u001b[0m in \u001b[0;36mrun_model\u001b[0;34m(run_func, times, report, report_percent)\u001b[0m\n\u001b[1;32m    100\u001b[0m         \u001b[0;32mtry\u001b[0m\u001b[0;34m:\u001b[0m\u001b[0;34m\u001b[0m\u001b[0;34m\u001b[0m\u001b[0m\n\u001b[0;32m--> 101\u001b[0;31m             \u001b[0mrun_func\u001b[0m\u001b[0;34m(\u001b[0m\u001b[0m_t\u001b[0m\u001b[0;34m=\u001b[0m\u001b[0mtimes\u001b[0m\u001b[0;34m[\u001b[0m\u001b[0;36m0\u001b[0m\u001b[0;34m]\u001b[0m\u001b[0;34m,\u001b[0m \u001b[0m_i\u001b[0m\u001b[0;34m=\u001b[0m\u001b[0;36m0\u001b[0m\u001b[0;34m,\u001b[0m \u001b[0m_dt\u001b[0m\u001b[0;34m=\u001b[0m\u001b[0mdt\u001b[0m\u001b[0;34m)\u001b[0m\u001b[0;34m\u001b[0m\u001b[0;34m\u001b[0m\u001b[0m\n\u001b[0m\u001b[1;32m    102\u001b[0m         \u001b[0;32mexcept\u001b[0m \u001b[0mException\u001b[0m \u001b[0;32mas\u001b[0m \u001b[0me\u001b[0m\u001b[0;34m:\u001b[0m\u001b[0;34m\u001b[0m\u001b[0;34m\u001b[0m\u001b[0m\n",
      "\u001b[0;32m?\u001b[0m in \u001b[0;36mrun_func\u001b[0;34m(_t, _i, _dt)\u001b[0m\n",
      "\u001b[0;32m/srv/conda/envs/notebook/lib/python3.7/site-packages/numba/core/dispatcher.py\u001b[0m in \u001b[0;36m_compile_for_args\u001b[0;34m(self, *args, **kws)\u001b[0m\n\u001b[1;32m    419\u001b[0m \u001b[0;34m\u001b[0m\u001b[0m\n\u001b[0;32m--> 420\u001b[0;31m             \u001b[0merror_rewrite\u001b[0m\u001b[0;34m(\u001b[0m\u001b[0me\u001b[0m\u001b[0;34m,\u001b[0m \u001b[0;34m'typing'\u001b[0m\u001b[0;34m)\u001b[0m\u001b[0;34m\u001b[0m\u001b[0;34m\u001b[0m\u001b[0m\n\u001b[0m\u001b[1;32m    421\u001b[0m         \u001b[0;32mexcept\u001b[0m \u001b[0merrors\u001b[0m\u001b[0;34m.\u001b[0m\u001b[0mUnsupportedError\u001b[0m \u001b[0;32mas\u001b[0m \u001b[0me\u001b[0m\u001b[0;34m:\u001b[0m\u001b[0;34m\u001b[0m\u001b[0;34m\u001b[0m\u001b[0m\n",
      "\u001b[0;32m/srv/conda/envs/notebook/lib/python3.7/site-packages/numba/core/dispatcher.py\u001b[0m in \u001b[0;36merror_rewrite\u001b[0;34m(e, issue_type)\u001b[0m\n\u001b[1;32m    360\u001b[0m             \u001b[0;32melse\u001b[0m\u001b[0;34m:\u001b[0m\u001b[0;34m\u001b[0m\u001b[0;34m\u001b[0m\u001b[0m\n\u001b[0;32m--> 361\u001b[0;31m                 \u001b[0;32mraise\u001b[0m \u001b[0me\u001b[0m\u001b[0;34m.\u001b[0m\u001b[0mwith_traceback\u001b[0m\u001b[0;34m(\u001b[0m\u001b[0;32mNone\u001b[0m\u001b[0;34m)\u001b[0m\u001b[0;34m\u001b[0m\u001b[0;34m\u001b[0m\u001b[0m\n\u001b[0m\u001b[1;32m    362\u001b[0m \u001b[0;34m\u001b[0m\u001b[0m\n",
      "\u001b[0;31mTypingError\u001b[0m: Failed in nopython mode pipeline (step: nopython frontend)\nUntyped global name 'self_integral': Cannot determine Numba type of <class 'function'>\n\nFile \"/home/jovyan/demo\", line 7:\n<source missing, REPL/exec in use?>\n",
      "\nDuring handling of the above exception, another exception occurred:\n",
      "\u001b[0;31mRunningError\u001b[0m                              Traceback (most recent call last)",
      "\u001b[0;32m<ipython-input-14-b79813e283ea>\u001b[0m in \u001b[0;36m<module>\u001b[0;34m\u001b[0m\n\u001b[0;32m----> 1\u001b[0;31m \u001b[0mWM\u001b[0m \u001b[0;34m=\u001b[0m \u001b[0mrun_net\u001b[0m\u001b[0;34m(\u001b[0m\u001b[0mp\u001b[0m\u001b[0;34m=\u001b[0m\u001b[0;36m1\u001b[0m\u001b[0;34m,\u001b[0m \u001b[0mneu_model\u001b[0m\u001b[0;34m=\u001b[0m\u001b[0mLIF\u001b[0m\u001b[0;34m,\u001b[0m \u001b[0msyn_model\u001b[0m\u001b[0;34m=\u001b[0m\u001b[0mSTP\u001b[0m\u001b[0;34m)\u001b[0m\u001b[0;34m\u001b[0m\u001b[0;34m\u001b[0m\u001b[0m\n\u001b[0m",
      "\u001b[0;32m<ipython-input-13-efb37928e158>\u001b[0m in \u001b[0;36mrun_net\u001b[0;34m(p, neu_model, syn_model, backend)\u001b[0m\n\u001b[1;32m     25\u001b[0m   net = bp.Network(S, nS, I,\n\u001b[1;32m     26\u001b[0m             S2S, S2nS, S2I, nS2S, nS2nS, nS2I, I2S, I2nS, I2I)\n\u001b[0;32m---> 27\u001b[0;31m   \u001b[0mt\u001b[0m \u001b[0;34m=\u001b[0m \u001b[0mnet\u001b[0m\u001b[0;34m.\u001b[0m\u001b[0mrun\u001b[0m\u001b[0;34m(\u001b[0m\u001b[0mduration\u001b[0m\u001b[0;34m=\u001b[0m\u001b[0mT_cue\u001b[0m\u001b[0;34m,\u001b[0m \u001b[0mreport\u001b[0m\u001b[0;34m=\u001b[0m\u001b[0;32mTrue\u001b[0m\u001b[0;34m)\u001b[0m\u001b[0;34m\u001b[0m\u001b[0;34m\u001b[0m\u001b[0m\n\u001b[0m\u001b[1;32m     28\u001b[0m \u001b[0;34m\u001b[0m\u001b[0m\n\u001b[1;32m     29\u001b[0m   \u001b[0mfig\u001b[0m\u001b[0;34m,\u001b[0m \u001b[0mgs\u001b[0m \u001b[0;34m=\u001b[0m \u001b[0mbp\u001b[0m\u001b[0;34m.\u001b[0m\u001b[0mvisualize\u001b[0m\u001b[0;34m.\u001b[0m\u001b[0mget_figure\u001b[0m\u001b[0;34m(\u001b[0m\u001b[0mrow_num\u001b[0m\u001b[0;34m=\u001b[0m\u001b[0;36m5\u001b[0m\u001b[0;34m,\u001b[0m \u001b[0mcol_num\u001b[0m\u001b[0;34m=\u001b[0m\u001b[0;36m1\u001b[0m\u001b[0;34m,\u001b[0m \u001b[0mrow_len\u001b[0m\u001b[0;34m=\u001b[0m\u001b[0;36m1\u001b[0m\u001b[0;34m,\u001b[0m \u001b[0mcol_len\u001b[0m\u001b[0;34m=\u001b[0m\u001b[0;36m10\u001b[0m\u001b[0;34m)\u001b[0m\u001b[0;34m\u001b[0m\u001b[0;34m\u001b[0m\u001b[0m\n",
      "\u001b[0;32m/srv/conda/envs/notebook/lib/python3.7/site-packages/brainpy/simulation/brainobjects/network.py\u001b[0m in \u001b[0;36mrun\u001b[0;34m(self, duration, inputs, report, report_percent)\u001b[0m\n\u001b[1;32m    109\u001b[0m \u001b[0;34m\u001b[0m\u001b[0m\n\u001b[1;32m    110\u001b[0m         \u001b[0;31m# run the network\u001b[0m\u001b[0;34m\u001b[0m\u001b[0;34m\u001b[0m\u001b[0;34m\u001b[0m\u001b[0m\n\u001b[0;32m--> 111\u001b[0;31m         \u001b[0mres\u001b[0m \u001b[0;34m=\u001b[0m \u001b[0mutils\u001b[0m\u001b[0;34m.\u001b[0m\u001b[0mrun_model\u001b[0m\u001b[0;34m(\u001b[0m\u001b[0mself\u001b[0m\u001b[0;34m.\u001b[0m\u001b[0mrun_func\u001b[0m\u001b[0;34m,\u001b[0m \u001b[0mtimes\u001b[0m\u001b[0;34m=\u001b[0m\u001b[0mts\u001b[0m\u001b[0;34m,\u001b[0m \u001b[0mreport\u001b[0m\u001b[0;34m=\u001b[0m\u001b[0mreport\u001b[0m\u001b[0;34m,\u001b[0m \u001b[0mreport_percent\u001b[0m\u001b[0;34m=\u001b[0m\u001b[0mreport_percent\u001b[0m\u001b[0;34m)\u001b[0m\u001b[0;34m\u001b[0m\u001b[0;34m\u001b[0m\u001b[0m\n\u001b[0m\u001b[1;32m    112\u001b[0m \u001b[0;34m\u001b[0m\u001b[0m\n\u001b[1;32m    113\u001b[0m         \u001b[0;31m# end\u001b[0m\u001b[0;34m\u001b[0m\u001b[0;34m\u001b[0m\u001b[0;34m\u001b[0m\u001b[0m\n",
      "\u001b[0;32m/srv/conda/envs/notebook/lib/python3.7/site-packages/brainpy/simulation/utils.py\u001b[0m in \u001b[0;36mrun_model\u001b[0;34m(run_func, times, report, report_percent)\u001b[0m\n\u001b[1;32m    101\u001b[0m             \u001b[0mrun_func\u001b[0m\u001b[0;34m(\u001b[0m\u001b[0m_t\u001b[0m\u001b[0;34m=\u001b[0m\u001b[0mtimes\u001b[0m\u001b[0;34m[\u001b[0m\u001b[0;36m0\u001b[0m\u001b[0;34m]\u001b[0m\u001b[0;34m,\u001b[0m \u001b[0m_i\u001b[0m\u001b[0;34m=\u001b[0m\u001b[0;36m0\u001b[0m\u001b[0;34m,\u001b[0m \u001b[0m_dt\u001b[0m\u001b[0;34m=\u001b[0m\u001b[0mdt\u001b[0m\u001b[0;34m)\u001b[0m\u001b[0;34m\u001b[0m\u001b[0;34m\u001b[0m\u001b[0m\n\u001b[1;32m    102\u001b[0m         \u001b[0;32mexcept\u001b[0m \u001b[0mException\u001b[0m \u001b[0;32mas\u001b[0m \u001b[0me\u001b[0m\u001b[0;34m:\u001b[0m\u001b[0;34m\u001b[0m\u001b[0;34m\u001b[0m\u001b[0m\n\u001b[0;32m--> 103\u001b[0;31m             \u001b[0mraise_running_error\u001b[0m\u001b[0;34m(\u001b[0m\u001b[0me\u001b[0m\u001b[0;34m)\u001b[0m\u001b[0;34m\u001b[0m\u001b[0;34m\u001b[0m\u001b[0m\n\u001b[0m\u001b[1;32m    104\u001b[0m         \u001b[0mcompile_time\u001b[0m \u001b[0;34m=\u001b[0m \u001b[0mtime\u001b[0m\u001b[0;34m.\u001b[0m\u001b[0mtime\u001b[0m\u001b[0;34m(\u001b[0m\u001b[0;34m)\u001b[0m \u001b[0;34m-\u001b[0m \u001b[0mt0\u001b[0m\u001b[0;34m\u001b[0m\u001b[0;34m\u001b[0m\u001b[0m\n\u001b[1;32m    105\u001b[0m         \u001b[0mprint\u001b[0m\u001b[0;34m(\u001b[0m\u001b[0;34m'Compilation used {:.4f} s.'\u001b[0m\u001b[0;34m.\u001b[0m\u001b[0mformat\u001b[0m\u001b[0;34m(\u001b[0m\u001b[0mcompile_time\u001b[0m\u001b[0;34m)\u001b[0m\u001b[0;34m)\u001b[0m\u001b[0;34m\u001b[0m\u001b[0;34m\u001b[0m\u001b[0m\n",
      "\u001b[0;32m/srv/conda/envs/notebook/lib/python3.7/site-packages/brainpy/simulation/utils.py\u001b[0m in \u001b[0;36mraise_running_error\u001b[0;34m(e)\u001b[0m\n\u001b[1;32m     92\u001b[0m \u001b[0;34m{\u001b[0m\u001b[0mcode\u001b[0m\u001b[0;34m}\u001b[0m\u001b[0;34m\u001b[0m\u001b[0;34m\u001b[0m\u001b[0m\n\u001b[1;32m     93\u001b[0m \u001b[0;34m\u001b[0m\u001b[0m\n\u001b[0;32m---> 94\u001b[0;31m ''')\n\u001b[0m\u001b[1;32m     95\u001b[0m \u001b[0;34m\u001b[0m\u001b[0m\n\u001b[1;32m     96\u001b[0m     \u001b[0mrun_length\u001b[0m \u001b[0;34m=\u001b[0m \u001b[0mlen\u001b[0m\u001b[0;34m(\u001b[0m\u001b[0mtimes\u001b[0m\u001b[0;34m)\u001b[0m\u001b[0;34m\u001b[0m\u001b[0;34m\u001b[0m\u001b[0m\n",
      "\u001b[0;31mRunningError\u001b[0m: \nThe running error occurs in the formatted source code:\n\n[ 1]   def run_func(_t, _i, _dt):\n[ 2]     NG5.Iext, NG5.V, NG5.refractory, NG5.spike, NG5.t_last_spike = NG5.new_update(_t, NG5.Iext, NG5.Irec, NG5.V, NG5.Vr, NG5.mu_ext, NG5.num, NG5.refractory, NG5.sigma_ext, NG5.spike, NG5.t_last_spike, NG5.tau_arp, NG5.tau_m, NG5.theta)\n[ 3]     NG5.monitor_step(_i, _t)\n[ 4]     NG6.Iext, NG6.V, NG6.refractory, NG6.spike, NG6.t_last_spike = NG6.new_update(_t, NG6.Iext, NG6.Irec, NG6.V, NG6.Vr, NG6.mu_ext, NG6.num, NG6.refractory, NG6.sigma_ext, NG6.spike, NG6.t_last_spike, NG6.tau_arp, NG6.tau_m, NG6.theta)\n[ 5]     NG6.monitor_step(_i, _t)\n[ 6]     NG7.Iext, NG7.V, NG7.refractory, NG7.spike, NG7.t_last_spike = NG7.new_update(_t, NG7.Iext, NG7.Irec, NG7.V, NG7.Vr, NG7.mu_ext, NG7.num, NG7.refractory, NG7.sigma_ext, NG7.spike, NG7.t_last_spike, NG7.tau_arp, NG7.tau_m, NG7.theta)\n[ 7]     NG7.monitor_step(_i, _t)\n[ 8]     TEC2None.post.Irec, TEC2None.u, TEC2None.x = TEC2None.new_update(_t, TEC2None.I_syn.delay_data, TEC2None.I_syn.delay_in_idx, TEC2None.I_syn.delay_out_idx, TEC2None.U, TEC2None.delay, TEC2None.post.Irec, TEC2None.pre.num, TEC2None.pre.spike, TEC2None.pre_ids, TEC2None.tau_D, TEC2None.tau_F, TEC2None.u, TEC2None.w, TEC2None.x)\n[ 9]     TEC3None.post.Irec, TEC3None.u, TEC3None.x = TEC3None.new_update(_t, TEC3None.I_syn.delay_data, TEC3None.I_syn.delay_in_idx, TEC3None.I_syn.delay_out_idx, TEC3None.U, TEC3None.delay, TEC3None.post.Irec, TEC3None.pre.num, TEC3None.pre.spike, TEC3None.pre_ids, TEC3None.tau_D, TEC3None.tau_F, TEC3None.u, TEC3None.w, TEC3None.x)\n[10]     TEC4None.post.Irec, TEC4None.u, TEC4None.x = TEC4None.new_update(_t, TEC4None.I_syn.delay_data, TEC4None.I_syn.delay_in_idx, TEC4None.I_syn.delay_out_idx, TEC4None.U, TEC4None.delay, TEC4None.post.Irec, TEC4None.pre.num, TEC4None.pre.spike, TEC4None.pre_ids, TEC4None.tau_D, TEC4None.tau_F, TEC4None.u, TEC4None.w, TEC4None.x)\n[11]     TEC5None.post.Irec, TEC5None.u, TEC5None.x = TEC5None.new_update(_t, TEC5None.I_syn.delay_data, TEC5None.I_syn.delay_in_idx, TEC5None.I_syn.delay_out_idx, TEC5None.U, TEC5None.delay, TEC5None.post.Irec, TEC5None.pre.num, TEC5None.pre.spike, TEC5None.pre_ids, TEC5None.tau_D, TEC5None.tau_F, TEC5None.u, TEC5None.w, TEC5None.x)\n[12]     TEC6None.post.Irec, TEC6None.u, TEC6None.x = TEC6None.new_update(_t, TEC6None.I_syn.delay_data, TEC6None.I_syn.delay_in_idx, TEC6None.I_syn.delay_out_idx, TEC6None.U, TEC6None.delay, TEC6None.post.Irec, TEC6None.pre.num, TEC6None.pre.spike, TEC6None.pre_ids, TEC6None.tau_D, TEC6None.tau_F, TEC6None.u, TEC6None.w, TEC6None.x)\n[13]     TEC7None.post.Irec, TEC7None.u, TEC7None.x = TEC7None.new_update(_t, TEC7None.I_syn.delay_data, TEC7None.I_syn.delay_in_idx, TEC7None.I_syn.delay_out_idx, TEC7None.U, TEC7None.delay, TEC7None.post.Irec, TEC7None.pre.num, TEC7None.pre.spike, TEC7None.pre_ids, TEC7None.tau_D, TEC7None.tau_F, TEC7None.u, TEC7None.w, TEC7None.x)\n[14]     TEC8None.post.Irec, TEC8None.u, TEC8None.x = TEC8None.new_update(_t, TEC8None.I_syn.delay_data, TEC8None.I_syn.delay_in_idx, TEC8None.I_syn.delay_out_idx, TEC8None.U, TEC8None.delay, TEC8None.post.Irec, TEC8None.pre.num, TEC8None.pre.spike, TEC8None.pre_ids, TEC8None.tau_D, TEC8None.tau_F, TEC8None.u, TEC8None.w, TEC8None.x)\n[15]     TEC9None.post.Irec, TEC9None.u, TEC9None.x = TEC9None.new_update(_t, TEC9None.I_syn.delay_data, TEC9None.I_syn.delay_in_idx, TEC9None.I_syn.delay_out_idx, TEC9None.U, TEC9None.delay, TEC9None.post.Irec, TEC9None.pre.num, TEC9None.pre.spike, TEC9None.pre_ids, TEC9None.tau_D, TEC9None.tau_F, TEC9None.u, TEC9None.w, TEC9None.x)\n[16]     TEC10None.post.Irec, TEC10None.u, TEC10None.x = TEC10None.new_update(_t, TEC10None.I_syn.delay_data, TEC10None.I_syn.delay_in_idx, TEC10None.I_syn.delay_out_idx, TEC10None.U, TEC10None.delay, TEC10None.post.Irec, TEC10None.pre.num, TEC10None.pre.spike, TEC10None.pre_ids, TEC10None.tau_D, TEC10None.tau_F, TEC10None.u, TEC10None.w, TEC10None.x)\n\n"
     ]
    }
   ],
   "source": [
    "WM = run_net(p=1, neu_model=LIF, syn_model=STP)"
   ]
  },
  {
   "cell_type": "code",
   "execution_count": null,
   "metadata": {
    "id": "Wu4MqtgSKvwG"
   },
   "outputs": [],
   "source": [
    "# Reactivating signal\n",
    "R_Duration = 250 # Duration [ms]\n",
    "R_cf = 1.05 # Contrast factor"
   ]
  },
  {
   "cell_type": "code",
   "execution_count": null,
   "metadata": {
    "id": "ksIlxq8mKWMz"
   },
   "outputs": [],
   "source": [
    "# Periodic reactivating signal\n",
    "P_Duration = 100 # Duration\n",
    "P_Period = 250 # Period\n",
    "P_cf = 1.075 # Contrast factor"
   ]
  },
  {
   "cell_type": "markdown",
   "metadata": {
    "id": "_cPuoNW664kw"
   },
   "source": [
    "## Step 2: consider the connectivity used in the paper, build up the network model"
   ]
  },
  {
   "cell_type": "code",
   "execution_count": null,
   "metadata": {
    "id": "wtb1FmzoG57Q"
   },
   "outputs": [],
   "source": [
    "dt = 0.0001  # [s]\n",
    "bp.backend.set(dt=dt)"
   ]
  },
  {
   "cell_type": "code",
   "execution_count": null,
   "metadata": {
    "id": "AYb2hKxPG57Q"
   },
   "outputs": [],
   "source": [
    "# the parameters of network\n",
    "alpha = 1.5\n",
    "J_EE = 8.  # the connection strength in each excitatory neural clusters\n",
    "J_IE = 1.75  # Synaptic efficacy E → I\n",
    "J_EI = 1.1  # Synaptic efficacy I → E\n",
    "tau_f = 1.5  # time constant of STF  [s]\n",
    "tau_d = .3  # time constant of STD  [s]\n",
    "U = 0.3  # minimum STF value\n",
    "tau = 0.008  # time constant of firing rate of the excitatory neurons [s]\n",
    "tau_I = tau  # time constant of firing rate of the inhibitory neurons\n",
    "\n",
    "Ib = 8.  # background input and external input\n",
    "Iinh = 0.  # the background input of inhibtory neuron\n",
    "\n",
    "cluster_num = 16  # the number of the clusters"
   ]
  },
  {
   "cell_type": "code",
   "execution_count": null,
   "metadata": {
    "id": "xrF9958bG57Q"
   },
   "outputs": [],
   "source": [
    "# the parameters of external input\n",
    "\n",
    "stimulus_num = 5\n",
    "Iext_train = 225  # the strength of the external input\n",
    "# the time interval between the consequent external input [s]\n",
    "Ts_interval = 0.070\n",
    "Ts_duration = 0.030  # the time duration of the external input [s]\n",
    "duration = 2.500  # [s]"
   ]
  },
  {
   "cell_type": "markdown",
   "metadata": {
    "id": "ErawHyx0G57Q"
   },
   "source": [
    "the working memory model based on STP was used to derive the expression for the postsynaptic current resulting from the activity of a large, uncorrelated pre-synaptic population.\n",
    "\n",
    "The resulting network model has three differential equations for each of $P$ excitatory clusters (synaptic current $h_\\mu$ and two STP variables $u_\\mu$ and $x_\\mu$ for each cluster $\\mu; \\mu = 1,..., P$) and one additional equation for the inhibitory pool current $h_I$:\n",
    "\n",
    "$$\n",
    "\\begin{gathered}\n",
    "\\tau \\frac{d h_{\\mu}}{d t}=-h_{\\mu}+J_{E E} u_{\\mu} x_{\\mu} R_{\\mu}-J_{E l} R_{l}+I_{b}+I_{e}(t) \\\\\n",
    "\\frac{d u_{\\mu}}{d t}=\\frac{U-u_{\\mu}}{\\tau_{f}}+U\\left(1-u_{\\mu}\\right) R_{\\mu} \\\\\n",
    "\\frac{d x_{\\mu}}{d t}=\\frac{1-x_{\\mu}}{\\tau_{d}}-u_{\\mu} x_{\\mu} R_{\\mu}, \\text { and } \\\\\n",
    "\\tau \\frac{d h_{I}}{d t}=-h_{I}+J_{I E} \\sum_{\\nu} R_{\\nu}\n",
    "\\end{gathered}\n",
    "$$\n",
    "\n",
    "where $t$ is the neuronal time constant, for simplicity the same for excitation and inhibition; $I_b$ is the constant background excitation; and $I_e$ is the external input used to load memory items into the network. \n",
    "\n",
    "$$\n",
    "R(h)=\\alpha \\ln (1+\\exp (h / \\alpha))\n",
    "$$\n",
    "\n",
    "is neuronal gain chosen in the form of a smoothed threshold-linear function, also the same for excitatory and inhibitory neurons. "
   ]
  },
  {
   "cell_type": "code",
   "execution_count": null,
   "metadata": {
    "id": "r-d6aINdG57R"
   },
   "outputs": [],
   "source": [
    "# the excitatory cluster model and the inhibitory pool model\n",
    "\n",
    "class WorkingMemoryModel(bp.NeuGroup):\n",
    "  target_backend = ['numpy', 'numba']\n",
    "\n",
    "  def __init__(self, size, **kwargs):\n",
    "    self.inh_h = 0.\n",
    "    self.inh_r = self.log(self.inh_h)\n",
    "    self.u = bp.ops.ones(cluster_num) * U\n",
    "    self.x = bp.ops.ones(cluster_num)\n",
    "    self.h = bp.ops.zeros(cluster_num)\n",
    "    self.r = self.log(self.h)\n",
    "    self.input = bp.ops.zeros(cluster_num)\n",
    "\n",
    "    super(WorkingMemoryModel, self).__init__(size, **kwargs)\n",
    "\n",
    "  @staticmethod\n",
    "  @bp.odeint\n",
    "  def int_exc(u, x, h, t, r, r_inh, Iext):\n",
    "    du = (U - u) / tau_f + U * (1 - u) * r\n",
    "    dx = (1 - x) / tau_d - u * x * r\n",
    "    dh = (-h + J_EE * u * x * r - J_EI * r_inh + Iext + Ib) / tau\n",
    "    return du, dx, dh\n",
    "\n",
    "  @staticmethod\n",
    "  @bp.odeint\n",
    "  def int_inh(h, t, r_exc):\n",
    "    h_I = (-h + J_IE * np.sum(r_exc) + Iinh) / tau_I\n",
    "    return h_I\n",
    "\n",
    "  @staticmethod\n",
    "  def log(h):\n",
    "    return alpha * np.log(1. + np.exp(h / alpha))\n",
    "\n",
    "  def update(self, _t):\n",
    "    self.u, self.x, self.h = self.int_exc(\n",
    "        self.u, self.x, self.h, _t, self.r, self.inh_r, self.input)\n",
    "    self.r = self.log(self.h)\n",
    "    self.inh_h = self.int_inh(self.inh_h, _t, self.r)\n",
    "    self.inh_r = self.log(self.inh_h)\n",
    "    self.input[:] = 0."
   ]
  },
  {
   "cell_type": "code",
   "execution_count": null,
   "metadata": {
    "id": "mVsIenniG57R"
   },
   "outputs": [],
   "source": [
    "# the external input\n",
    "\n",
    "I_inputs = np.zeros((int(duration / dt), cluster_num))\n",
    "for i in range(stimulus_num):\n",
    "    t_start = (Ts_interval + Ts_duration) * i + Ts_interval\n",
    "    t_end = t_start + Ts_duration\n",
    "    idx_start, idx_end = int(t_start / dt), int(t_end / dt)\n",
    "    I_inputs[idx_start: idx_end, i] = Iext_train\n",
    "\n",
    "\n",
    "# model.monwork running\n",
    "\n",
    "model = WorkingMemoryModel(cluster_num, monitors=['u', 'x', 'r', 'h'])\n",
    "model.run(duration, inputs=['input', I_inputs])"
   ]
  },
  {
   "cell_type": "code",
   "execution_count": null,
   "metadata": {
    "id": "U4F13pSWG57R"
   },
   "outputs": [],
   "source": [
    "# visualization\n",
    "\n",
    "colors = list(dict(mcolors.BASE_COLORS, **mcolors.CSS4_COLORS).keys())\n",
    "\n",
    "fig, gs = bp.visualize.get_figure(5, 1, 2, 12)\n",
    "fig.add_subplot(gs[0, 0])\n",
    "for i in range(stimulus_num):\n",
    "    plt.plot(model.mon.ts, model.mon.r[:, i], label='Cluster-{}'.format(i))\n",
    "plt.ylabel(\"$r (Hz)$\")\n",
    "plt.legend(loc='right')\n",
    "\n",
    "fig.add_subplot(gs[1, 0])\n",
    "hist_Jux = J_EE * model.mon.u * model.mon.x\n",
    "for i in range(stimulus_num):\n",
    "    plt.plot(model.mon.ts, hist_Jux[:, i])\n",
    "plt.ylabel(\"$J_{EE}ux$\")\n",
    "\n",
    "fig.add_subplot(gs[2, 0])\n",
    "for i in range(stimulus_num):\n",
    "    plt.plot(model.mon.ts, model.mon.u[:, i], colors[i])\n",
    "plt.ylabel('u')\n",
    "\n",
    "fig.add_subplot(gs[3, 0])\n",
    "for i in range(stimulus_num):\n",
    "    plt.plot(model.mon.ts, model.mon.x[:, i], colors[i])\n",
    "plt.ylabel('x')\n",
    "\n",
    "fig.add_subplot(gs[4, 0])\n",
    "for i in range(stimulus_num):\n",
    "    plt.plot(model.mon.ts, model.mon.r[:, i], colors[i])\n",
    "plt.ylabel('h')\n",
    "plt.xlabel('time [s]')\n",
    "\n",
    "plt.show()"
   ]
  },
  {
   "cell_type": "markdown",
   "metadata": {
    "id": "gPUB-wqhG57S"
   },
   "source": [
    "## Step 3: try to encode one item in the model (Fig. 2)"
   ]
  },
  {
   "cell_type": "code",
   "execution_count": null,
   "metadata": {
    "id": "TDsSpH5nG57S"
   },
   "outputs": [],
   "source": []
  },
  {
   "cell_type": "markdown",
   "metadata": {
    "id": "0SyQZu2KG57T"
   },
   "source": [
    "## Step 4: try to encode two items in the network (Fig. 3)"
   ]
  },
  {
   "cell_type": "code",
   "execution_count": null,
   "metadata": {
    "id": "eOFVkejDG57T"
   },
   "outputs": [],
   "source": []
  },
  {
   "cell_type": "markdown",
   "metadata": {
    "id": "VPVokBu8SRMG"
   },
   "source": [
    "# Bifurcation Analysis"
   ]
  },
  {
   "cell_type": "code",
   "execution_count": null,
   "metadata": {
    "id": "WjKhg96BSiXN"
   },
   "outputs": [],
   "source": [
    "class FHN(bp.NeuGroup):\n",
    "  target_backend = 'numpy'\n",
    "\n",
    "  def __init__(self, num, **kwargs):\n",
    "    self.V = np.ones(num) * -2.8\n",
    "    self.w = np.ones(num) * -1.8\n",
    "    self.Iext = np.zeros(num)\n",
    "    super(FHN, self).__init__(size=num, **kwargs)\n",
    "\n",
    "  @bp.odeint\n",
    "  def int_fhn(V, w, t, Iext):\n",
    "    dw = (V + a - b * w) / tau\n",
    "    dV = V - V * V * V / 3 - w + Iext\n",
    "    return dV, dw\n",
    "\n",
    "  def update(self, _t):\n",
    "    self.V, self.w = int_fhn(self.V, self.w, _t, self.Iext)\n",
    "\n",
    "    \n",
    "group = FHN(1, monitors=['V', 'w'])\n",
    "group.run(100., inputs=('Iext', 0.8, '='))\n",
    "bp.visualize.line_plot(group.mon.ts, group.mon.V, legend='v', )\n",
    "bp.visualize.line_plot(group.mon.ts, group.mon.w, legend='w', show=True)"
   ]
  },
  {
   "cell_type": "code",
   "execution_count": null,
   "metadata": {
    "id": "VBtYwqk8SVzp"
   },
   "outputs": [],
   "source": [
    "analyzer = bp.analysis.Bifurcation(\n",
    "integrals=int_fhn,\n",
    "target_pars={'Iext': [0., 1.]},\n",
    "target_vars={'V': [-3, 3], 'w': [-3., 3.]},\n",
    "numerical_resolution=0.001,\n",
    ")\n",
    "res = analyzer.plot_bifurcation(show=True)"
   ]
  },
  {
   "cell_type": "code",
   "execution_count": null,
   "metadata": {
    "id": "7X-_AMMsS4Nm"
   },
   "outputs": [],
   "source": [
    "a = 1.; b = 3.; c = 1.; d = 5.; s = 4.\n",
    "x_r = -1.6; r = 0.001; Vth = 1.9\n",
    "@bp.odeint(method='rk4', dt=0.02)\n",
    "def int_hr(x, y, z, t, Isyn):\n",
    "  dx = y - a * x ** 3 + b * x * x - z + Isyn\n",
    "  dy = c - d * x * x - y\n",
    "  dz = r * (s * (x - x_r) - z)\n",
    "  return dx, dy, dz\n",
    "\n",
    "analyzer = bp.analysis.FastSlowBifurcation(\n",
    "  integrals=int_hr,\n",
    "  fast_vars={'x': [-3, 3], 'y': [-10., 5.]},\n",
    "  slow_vars={'z': [-5., 5.]},\n",
    "  pars_update={'Isyn': 0.5},\n",
    "  numerical_resolution=0.001\n",
    ")\n",
    "analyzer.plot_bifurcation()\n",
    "analyzer.plot_trajectory([{'x': 1., 'y': 0., 'z': -0.0}],\n",
    "              duration=100., show=True)"
   ]
  }
 ],
 "metadata": {
  "colab": {
   "collapsed_sections": [],
   "include_colab_link": true,
   "name": "project-spiking circuit model for working memory.ipynb",
   "provenance": []
  },
  "kernelspec": {
   "display_name": "Python 3",
   "language": "python",
   "name": "python3"
  },
  "language_info": {
   "codemirror_mode": {
    "name": "ipython",
    "version": 3
   },
   "file_extension": ".py",
   "mimetype": "text/x-python",
   "name": "python",
   "nbconvert_exporter": "python",
   "pygments_lexer": "ipython3",
   "version": "3.7.8"
  }
 },
 "nbformat": 4,
 "nbformat_minor": 4
}
