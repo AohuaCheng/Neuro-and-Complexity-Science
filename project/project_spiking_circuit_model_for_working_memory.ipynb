{
  "nbformat": 4,
  "nbformat_minor": 0,
  "metadata": {
    "colab": {
      "name": "project-spiking circuit model for working memory.ipynb",
      "provenance": [],
      "collapsed_sections": [],
      "include_colab_link": true
    },
    "kernelspec": {
      "name": "python3",
      "display_name": "Python 3"
    },
    "language_info": {
      "name": "python"
    }
  },
  "cells": [
    {
      "cell_type": "markdown",
      "metadata": {
        "id": "view-in-github",
        "colab_type": "text"
      },
      "source": [
        "<a href=\"https://colab.research.google.com/github/cahcharm/Neuro-and-Complexity-Science/blob/CSHA2021/project/project_spiking_circuit_model_for_working_memory.ipynb\" target=\"_parent\"><img src=\"https://colab.research.google.com/assets/colab-badge.svg\" alt=\"Open In Colab\"/></a>"
      ]
    },
    {
      "cell_type": "markdown",
      "metadata": {
        "id": "U4qCoFCTEVnd"
      },
      "source": [
        "# **Spiking circuit model for working memory**\n",
        "\n",
        "Building up a spiking circuit model for working memory (Misha, Science, 2008). \n",
        "\n",
        "* Step 1: build LIF neuron, voltage jump synapse, STP synapse\n",
        "*\tStep 2: consider the connectivity used in the paper, build up the network model\n",
        "*\tStep 3: try to encode one item in the model (Fig. 2)\n",
        "*\tStep 4: try to encode two items in the network (Fig. 3)\n"
      ]
    },
    {
      "cell_type": "code",
      "metadata": {
        "id": "LsX1Lx6HEVLK",
        "colab": {
          "base_uri": "https://localhost:8080/"
        },
        "outputId": "ccff4e99-ea19-4477-ca47-b27775e2b3cd"
      },
      "source": [
        "pip install -U brainpy-simulator"
      ],
      "execution_count": 1,
      "outputs": [
        {
          "output_type": "stream",
          "text": [
            "Requirement already satisfied: brainpy-simulator in /usr/local/lib/python3.7/dist-packages (1.0.3)\n",
            "Requirement already satisfied: numpy>=1.15 in /usr/local/lib/python3.7/dist-packages (from brainpy-simulator) (1.19.5)\n",
            "Requirement already satisfied: matplotlib>=3.3 in /usr/local/lib/python3.7/dist-packages (from brainpy-simulator) (3.4.3)\n",
            "Requirement already satisfied: python-dateutil>=2.7 in /usr/local/lib/python3.7/dist-packages (from matplotlib>=3.3->brainpy-simulator) (2.8.2)\n",
            "Requirement already satisfied: cycler>=0.10 in /usr/local/lib/python3.7/dist-packages (from matplotlib>=3.3->brainpy-simulator) (0.10.0)\n",
            "Requirement already satisfied: kiwisolver>=1.0.1 in /usr/local/lib/python3.7/dist-packages (from matplotlib>=3.3->brainpy-simulator) (1.3.1)\n",
            "Requirement already satisfied: pillow>=6.2.0 in /usr/local/lib/python3.7/dist-packages (from matplotlib>=3.3->brainpy-simulator) (7.1.2)\n",
            "Requirement already satisfied: pyparsing>=2.2.1 in /usr/local/lib/python3.7/dist-packages (from matplotlib>=3.3->brainpy-simulator) (2.4.7)\n",
            "Requirement already satisfied: six in /usr/local/lib/python3.7/dist-packages (from cycler>=0.10->matplotlib>=3.3->brainpy-simulator) (1.15.0)\n"
          ],
          "name": "stdout"
        }
      ]
    },
    {
      "cell_type": "code",
      "metadata": {
        "id": "n_192zL9EQ4y"
      },
      "source": [
        "import numpy as np\n",
        "import brainpy as bp\n",
        "\n",
        "import matplotlib.pyplot as plt\n",
        "import matplotlib.colors as mcolors"
      ],
      "execution_count": 2,
      "outputs": []
    },
    {
      "cell_type": "markdown",
      "metadata": {
        "id": "0rPu6rPTG57I"
      },
      "source": [
        "## Step 1: build LIF neuron, voltage jump synapse, STP synapse"
      ]
    },
    {
      "cell_type": "markdown",
      "metadata": {
        "id": "LkLRyRoD6mMQ"
      },
      "source": [
        "**Spiking network: LIF Neuron**\n",
        "\n",
        "---\n",
        "\n",
        "The network is composed of $N_E$ excitatory and $N_I$ inhibitory current-based integrate-and-fire neurons, whose sub-threshold depolarization dynamics is described by\n",
        "$$\n",
        "\\tau_m \\frac{dV_i}{dt} = - V_i + I_i^{(rec)}(t)+I_{i}^{(ext)}(t)\n",
        "$$\n",
        "where $i = 1,\\cdots,(N_E+N_I)$ refere to the neuron number, $\\tau_m$ is the membrane time constant, $I_i^{(rec)}(t)$ is the current mediated by recurrent synaptic connections, and $I_i^{(ext)}(t)$ is the external current provided by distant brain areas. Membrane resistance is absorbed into the definition of the currents.\n",
        "\n",
        "When the depolarization hits a fixed threshold $\\theta(V_i(t)\\geq \\theta)$， the neuron emits a spike and becomes refractory for a period $\\tau_{arp}$ with a sub-threshold potential $V_r$\n",
        "\n",
        "---\n",
        "\n",
        "External current are modeld as Gaussian white noise\n",
        "$$\n",
        "I_i^{(ext)}(t) = \\mu_{ext} + \\sigma_{ext}\\cdot \\eta_i(t)\n",
        "$$\n",
        "with $\\langle\\eta_i(t)\\rangle = 0, \\langle \\eta_i(t)\\eta_j(t')\\rangle = \\delta_{ij}\\delta(t-t')$, so that $\\mu_{ext}$ and $\\sigma_{ext}^2$ are respectively the mean and the variance of the external currents."
      ]
    },
    {
      "cell_type": "code",
      "metadata": {
        "id": "oPg09ghWkP-c"
      },
      "source": [
        "theta_E = 20. # Spike emission threshold of excitatory cells [mV]\n",
        "theta_I = 20. # Spike emission threshold of inhibitory cells [mV]\n",
        "Vr_E = 16. # Reset potential of excitatory cells [mV]\n",
        "Vr_I = 13. # Reset potential of inhibitory cells [mV]\n",
        "tau_m_E = 15. # Membrane time constant of excitatory cells [ms]\n",
        "tau_m_I = 10. # Membrane tiem constant of inhibitory cells [ms]\n",
        "tau_arp_E = 2. # Absolute refractory period of excitatory cells [ms]\n",
        "tau_arp_I = 2. # Absolute refractory period of inhibitory cells [ms]\n",
        "\n",
        "mu_ext_E = 23.10 # Mean external current of excitatory cells [mV]\n",
        "mu_ext_I = 21.0 # Mean external current of inhibitory cells [mV]\n",
        "sigma_ext_E = 1.0 # Standard deviation of external current of excitatory cells [mV]\n",
        "sigma_ext_I = 1.0 # Standard deviation of external current of inhibitory cells [mV]"
      ],
      "execution_count": 40,
      "outputs": []
    },
    {
      "cell_type": "code",
      "metadata": {
        "id": "FyRN3T4t6h0z"
      },
      "source": [
        "class LIF(bp.NeuGroup):\n",
        "  target_backend = ['general']\n",
        "\n",
        "  @staticmethod\n",
        "  @bp.odeint\n",
        "  def integral(V, t, Irec, Iext, tau_m):\n",
        "    dvdt = (-V + Irec + Iext) / tau_m\n",
        "    return dvdt\n",
        "\n",
        "  def __init__(self, size, cls=0, theta=20., Vr=16., tau_m=15.,\n",
        "          tau_arp=2., mu_ext=23.10, sigma_ext=1., **kwargs):\n",
        "    super(LIF, self).__init__(size=size, **kwargs)\n",
        "    # size is the iteration number\n",
        "    \n",
        "    # # Single-cell parameters\n",
        "    self.cls = cls # judge teh cell is excitatory or inhibitory, 0 for inhibitory, 1 for excitatory \n",
        "    # self.theta = theta # Spike emission threshold [mV]\n",
        "    # self.Vr = Vr # Reset potential [mV]\n",
        "    # self.tau_m = tau_m # Membrane time constant [ms]\n",
        "    # self.tau_arp = tau_arp # Absolute refractory period [ms]\n",
        "\n",
        "    # self.mu_ext = mu_ext # Mean external current [mV]\n",
        "    # self.sigma_ext = sigma_ext # Standard deviation of external current [mV]\n",
        "\n",
        "    if self.cls == 1:\n",
        "      self.theta = theta_E\n",
        "      self.Vr = Vr_E\n",
        "      self.tau_m = tau_m_E\n",
        "      self.tau_arp = tau_arp_E\n",
        "      self.mu_ext = mu_ext_E\n",
        "      self.sigma_ext = sigma_ext_E\n",
        "    elif self.cls == 0:\n",
        "      self.theta = theta_I\n",
        "      self.Vr = Vr_I\n",
        "      self.tau_m = tau_m_I\n",
        "      self.tau_arp = tau_arp_I\n",
        "      self.mu_ext = mu_ext_I\n",
        "      self.sigma_ext = sigma_ext_I\n",
        "\n",
        "    # variables\n",
        "    self.t_last_spike = bp.ops.ones(self.num) * -1e7 # The last spike time for calculating refractory state\n",
        "    self.refractory = bp.ops.zeros(self.num, dtype=bool) # Wether teh neuron is in refractory state\n",
        "    self.Irec = bp.ops.zeros(self.num) # recurrent current from other synpase  \n",
        "    self.spike = bp.ops.zeros(self.num, dtype=bool) # Whether produce a spike\n",
        "    self.V = bp.ops.ones(self.num) * self.Vr # The membrane potential started from Vr\n",
        "    self.Iext = bp.ops.zeros(self.num) # The external current provided by distant brain areas\n",
        "    \n",
        "  def update(self, _t):\n",
        "    for i in range(self.num):\n",
        "      spike = False\n",
        "      refractory = (_t - self.t_last_spike[i]) <= self.tau_arp\n",
        "      if not refractory:\n",
        "        # calculate Iext\n",
        "        self.Iext[i] = np.random.normal(self.mu_ext, self.sigma_ext, size=1)\n",
        "        # calculate V\n",
        "        V = self.integral(self.V[i], _t, self.Irec[i], self.Iext[i], self.tau_m)\n",
        "        spike = (V >= self.theta)\n",
        "        if spike:\n",
        "          V = self.Vr\n",
        "          self.t_last_spike[i] = _t # record last spike time\n",
        "          refractory = True          \n",
        "        self.V[i] = V\n",
        "      self.spike[i] = spike\n",
        "      self.refractory[i] = refractory\n",
        "      self.Iext[i] = 0."
      ],
      "execution_count": 41,
      "outputs": []
    },
    {
      "cell_type": "code",
      "metadata": {
        "id": "FQNO3HkRcXBz",
        "colab": {
          "base_uri": "https://localhost:8080/",
          "height": 971
        },
        "outputId": "df7895ce-410f-4e77-c722-d3442faae8ac"
      },
      "source": [
        "lif1 = LIF(size=1, cls=1, monitors=['V']) # size is the iteration rounds\n",
        "lif1.run(duration=200., inputs=('Irec', 0.), report=True) # duration is the real time\n",
        "bp.visualize.line_plot(lif1.mon.ts, lif1.mon.V, legend='E neuron')\n",
        "\n",
        "lif2 = LIF(size=1, cls=0, monitors=['V'])\n",
        "lif2.run(200, inputs=('Irec', 0.), report=True)\n",
        "bp.visualize.line_plot(lif2.mon.ts, lif2.mon.V, legend='I neuron')"
      ],
      "execution_count": 42,
      "outputs": [
        {
          "output_type": "stream",
          "text": [
            "ERROR:root:An unexpected error occurred while tokenizing input\n",
            "The following traceback may be corrupted or invalid\n",
            "The error message is: ('EOF in multi-line string', (1, 0))\n",
            "\n"
          ],
          "name": "stderr"
        },
        {
          "output_type": "error",
          "ename": "RunningError",
          "evalue": "ignored",
          "traceback": [
            "\u001b[0;31m---------------------------------------------------------------------------\u001b[0m",
            "\u001b[0;31mTypingError\u001b[0m                               Traceback (most recent call last)",
            "\u001b[0;32m/usr/local/lib/python3.7/dist-packages/brainpy/simulation/utils.py\u001b[0m in \u001b[0;36mrun_model\u001b[0;34m(run_func, times, report, report_percent)\u001b[0m\n\u001b[1;32m    100\u001b[0m         \u001b[0;32mtry\u001b[0m\u001b[0;34m:\u001b[0m\u001b[0;34m\u001b[0m\u001b[0;34m\u001b[0m\u001b[0m\n\u001b[0;32m--> 101\u001b[0;31m             \u001b[0mrun_func\u001b[0m\u001b[0;34m(\u001b[0m\u001b[0m_t\u001b[0m\u001b[0;34m=\u001b[0m\u001b[0mtimes\u001b[0m\u001b[0;34m[\u001b[0m\u001b[0;36m0\u001b[0m\u001b[0;34m]\u001b[0m\u001b[0;34m,\u001b[0m \u001b[0m_i\u001b[0m\u001b[0;34m=\u001b[0m\u001b[0;36m0\u001b[0m\u001b[0;34m,\u001b[0m \u001b[0m_dt\u001b[0m\u001b[0;34m=\u001b[0m\u001b[0mdt\u001b[0m\u001b[0;34m)\u001b[0m\u001b[0;34m\u001b[0m\u001b[0;34m\u001b[0m\u001b[0m\n\u001b[0m\u001b[1;32m    102\u001b[0m         \u001b[0;32mexcept\u001b[0m \u001b[0mException\u001b[0m \u001b[0;32mas\u001b[0m \u001b[0me\u001b[0m\u001b[0;34m:\u001b[0m\u001b[0;34m\u001b[0m\u001b[0;34m\u001b[0m\u001b[0m\n",
            "\u001b[0;32m?\u001b[0m in \u001b[0;36mrun_func\u001b[0;34m(_t, _i, _dt)\u001b[0m\n",
            "\u001b[0;32m/usr/local/lib/python3.7/dist-packages/numba/core/dispatcher.py\u001b[0m in \u001b[0;36m_compile_for_args\u001b[0;34m(self, *args, **kws)\u001b[0m\n\u001b[1;32m    414\u001b[0m \u001b[0;34m\u001b[0m\u001b[0m\n\u001b[0;32m--> 415\u001b[0;31m             \u001b[0merror_rewrite\u001b[0m\u001b[0;34m(\u001b[0m\u001b[0me\u001b[0m\u001b[0;34m,\u001b[0m \u001b[0;34m'typing'\u001b[0m\u001b[0;34m)\u001b[0m\u001b[0;34m\u001b[0m\u001b[0;34m\u001b[0m\u001b[0m\n\u001b[0m\u001b[1;32m    416\u001b[0m         \u001b[0;32mexcept\u001b[0m \u001b[0merrors\u001b[0m\u001b[0;34m.\u001b[0m\u001b[0mUnsupportedError\u001b[0m \u001b[0;32mas\u001b[0m \u001b[0me\u001b[0m\u001b[0;34m:\u001b[0m\u001b[0;34m\u001b[0m\u001b[0;34m\u001b[0m\u001b[0m\n",
            "\u001b[0;32m/usr/local/lib/python3.7/dist-packages/numba/core/dispatcher.py\u001b[0m in \u001b[0;36merror_rewrite\u001b[0;34m(e, issue_type)\u001b[0m\n\u001b[1;32m    357\u001b[0m             \u001b[0;32melse\u001b[0m\u001b[0;34m:\u001b[0m\u001b[0;34m\u001b[0m\u001b[0;34m\u001b[0m\u001b[0m\n\u001b[0;32m--> 358\u001b[0;31m                 \u001b[0mreraise\u001b[0m\u001b[0;34m(\u001b[0m\u001b[0mtype\u001b[0m\u001b[0;34m(\u001b[0m\u001b[0me\u001b[0m\u001b[0;34m)\u001b[0m\u001b[0;34m,\u001b[0m \u001b[0me\u001b[0m\u001b[0;34m,\u001b[0m \u001b[0;32mNone\u001b[0m\u001b[0;34m)\u001b[0m\u001b[0;34m\u001b[0m\u001b[0;34m\u001b[0m\u001b[0m\n\u001b[0m\u001b[1;32m    359\u001b[0m \u001b[0;34m\u001b[0m\u001b[0m\n",
            "\u001b[0;32m/usr/local/lib/python3.7/dist-packages/numba/core/utils.py\u001b[0m in \u001b[0;36mreraise\u001b[0;34m(tp, value, tb)\u001b[0m\n\u001b[1;32m     79\u001b[0m     \u001b[0;32mif\u001b[0m \u001b[0mvalue\u001b[0m\u001b[0;34m.\u001b[0m\u001b[0m__traceback__\u001b[0m \u001b[0;32mis\u001b[0m \u001b[0;32mnot\u001b[0m \u001b[0mtb\u001b[0m\u001b[0;34m:\u001b[0m\u001b[0;34m\u001b[0m\u001b[0;34m\u001b[0m\u001b[0m\n\u001b[0;32m---> 80\u001b[0;31m         \u001b[0;32mraise\u001b[0m \u001b[0mvalue\u001b[0m\u001b[0;34m.\u001b[0m\u001b[0mwith_traceback\u001b[0m\u001b[0;34m(\u001b[0m\u001b[0mtb\u001b[0m\u001b[0;34m)\u001b[0m\u001b[0;34m\u001b[0m\u001b[0;34m\u001b[0m\u001b[0m\n\u001b[0m\u001b[1;32m     81\u001b[0m     \u001b[0;32mraise\u001b[0m \u001b[0mvalue\u001b[0m\u001b[0;34m\u001b[0m\u001b[0;34m\u001b[0m\u001b[0m\n",
            "\u001b[0;31mTypingError\u001b[0m: Failed in nopython mode pipeline (step: nopython frontend)\nNo implementation of function Function(<built-in function setitem>) found for signature:\n \n >>> setitem(array(float64, 1d, C), int64, array(float64, 1d, C))\n \nThere are 16 candidate implementations:\n      - Of which 16 did not match due to:\n      Overload of function 'setitem': File: <numerous>: Line N/A.\n        With argument(s): '(array(float64, 1d, C), int64, array(float64, 1d, C))':\n       No match.\n\nDuring: typing of setitem at  (6)\n\nFile \"/content\", line 6:\n<source missing, REPL/exec in use?>\n",
            "\nDuring handling of the above exception, another exception occurred:\n",
            "\u001b[0;31mRunningError\u001b[0m                              Traceback (most recent call last)",
            "\u001b[0;32m<ipython-input-42-4f7268a6fe50>\u001b[0m in \u001b[0;36m<module>\u001b[0;34m()\u001b[0m\n\u001b[1;32m      1\u001b[0m \u001b[0mlif1\u001b[0m \u001b[0;34m=\u001b[0m \u001b[0mLIF\u001b[0m\u001b[0;34m(\u001b[0m\u001b[0msize\u001b[0m\u001b[0;34m=\u001b[0m\u001b[0;36m1\u001b[0m\u001b[0;34m,\u001b[0m \u001b[0mcls\u001b[0m\u001b[0;34m=\u001b[0m\u001b[0;36m1\u001b[0m\u001b[0;34m,\u001b[0m \u001b[0mmonitors\u001b[0m\u001b[0;34m=\u001b[0m\u001b[0;34m[\u001b[0m\u001b[0;34m'V'\u001b[0m\u001b[0;34m]\u001b[0m\u001b[0;34m)\u001b[0m \u001b[0;31m# size is the iteration rounds\u001b[0m\u001b[0;34m\u001b[0m\u001b[0;34m\u001b[0m\u001b[0m\n\u001b[0;32m----> 2\u001b[0;31m \u001b[0mlif1\u001b[0m\u001b[0;34m.\u001b[0m\u001b[0mrun\u001b[0m\u001b[0;34m(\u001b[0m\u001b[0mduration\u001b[0m\u001b[0;34m=\u001b[0m\u001b[0;36m200.\u001b[0m\u001b[0;34m,\u001b[0m \u001b[0minputs\u001b[0m\u001b[0;34m=\u001b[0m\u001b[0;34m(\u001b[0m\u001b[0;34m'Irec'\u001b[0m\u001b[0;34m,\u001b[0m \u001b[0;36m0.\u001b[0m\u001b[0;34m)\u001b[0m\u001b[0;34m,\u001b[0m \u001b[0mreport\u001b[0m\u001b[0;34m=\u001b[0m\u001b[0;32mTrue\u001b[0m\u001b[0;34m)\u001b[0m \u001b[0;31m# duration is the real time\u001b[0m\u001b[0;34m\u001b[0m\u001b[0;34m\u001b[0m\u001b[0m\n\u001b[0m\u001b[1;32m      3\u001b[0m \u001b[0mbp\u001b[0m\u001b[0;34m.\u001b[0m\u001b[0mvisualize\u001b[0m\u001b[0;34m.\u001b[0m\u001b[0mline_plot\u001b[0m\u001b[0;34m(\u001b[0m\u001b[0mlif1\u001b[0m\u001b[0;34m.\u001b[0m\u001b[0mmon\u001b[0m\u001b[0;34m.\u001b[0m\u001b[0mts\u001b[0m\u001b[0;34m,\u001b[0m \u001b[0mlif1\u001b[0m\u001b[0;34m.\u001b[0m\u001b[0mmon\u001b[0m\u001b[0;34m.\u001b[0m\u001b[0mV\u001b[0m\u001b[0;34m,\u001b[0m \u001b[0mlegend\u001b[0m\u001b[0;34m=\u001b[0m\u001b[0;34m'E neuron'\u001b[0m\u001b[0;34m)\u001b[0m\u001b[0;34m\u001b[0m\u001b[0;34m\u001b[0m\u001b[0m\n\u001b[1;32m      4\u001b[0m \u001b[0;34m\u001b[0m\u001b[0m\n\u001b[1;32m      5\u001b[0m \u001b[0mlif2\u001b[0m \u001b[0;34m=\u001b[0m \u001b[0mLIF\u001b[0m\u001b[0;34m(\u001b[0m\u001b[0msize\u001b[0m\u001b[0;34m=\u001b[0m\u001b[0;36m1\u001b[0m\u001b[0;34m,\u001b[0m \u001b[0mcls\u001b[0m\u001b[0;34m=\u001b[0m\u001b[0;36m0\u001b[0m\u001b[0;34m,\u001b[0m \u001b[0mmonitors\u001b[0m\u001b[0;34m=\u001b[0m\u001b[0;34m[\u001b[0m\u001b[0;34m'V'\u001b[0m\u001b[0;34m]\u001b[0m\u001b[0;34m)\u001b[0m\u001b[0;34m\u001b[0m\u001b[0;34m\u001b[0m\u001b[0m\n",
            "\u001b[0;32m/usr/local/lib/python3.7/dist-packages/brainpy/simulation/brainobjects/dynamic_system.py\u001b[0m in \u001b[0;36mrun\u001b[0;34m(self, duration, inputs, report, report_percent)\u001b[0m\n\u001b[1;32m    157\u001b[0m         \u001b[0;31m# run the model\u001b[0m\u001b[0;34m\u001b[0m\u001b[0;34m\u001b[0m\u001b[0;34m\u001b[0m\u001b[0m\n\u001b[1;32m    158\u001b[0m         \u001b[0;31m# -------------\u001b[0m\u001b[0;34m\u001b[0m\u001b[0;34m\u001b[0m\u001b[0;34m\u001b[0m\u001b[0m\n\u001b[0;32m--> 159\u001b[0;31m         \u001b[0mres\u001b[0m \u001b[0;34m=\u001b[0m \u001b[0mutils\u001b[0m\u001b[0;34m.\u001b[0m\u001b[0mrun_model\u001b[0m\u001b[0;34m(\u001b[0m\u001b[0mself\u001b[0m\u001b[0;34m.\u001b[0m\u001b[0mrun_func\u001b[0m\u001b[0;34m,\u001b[0m \u001b[0mtimes\u001b[0m\u001b[0;34m,\u001b[0m \u001b[0mreport\u001b[0m\u001b[0;34m,\u001b[0m \u001b[0mreport_percent\u001b[0m\u001b[0;34m)\u001b[0m\u001b[0;34m\u001b[0m\u001b[0;34m\u001b[0m\u001b[0m\n\u001b[0m\u001b[1;32m    160\u001b[0m         \u001b[0mself\u001b[0m\u001b[0;34m.\u001b[0m\u001b[0mmon\u001b[0m\u001b[0;34m.\u001b[0m\u001b[0mts\u001b[0m \u001b[0;34m=\u001b[0m \u001b[0mtimes\u001b[0m\u001b[0;34m\u001b[0m\u001b[0;34m\u001b[0m\u001b[0m\n\u001b[1;32m    161\u001b[0m         \u001b[0;32mreturn\u001b[0m \u001b[0mres\u001b[0m\u001b[0;34m\u001b[0m\u001b[0;34m\u001b[0m\u001b[0m\n",
            "\u001b[0;32m/usr/local/lib/python3.7/dist-packages/brainpy/simulation/utils.py\u001b[0m in \u001b[0;36mrun_model\u001b[0;34m(run_func, times, report, report_percent)\u001b[0m\n\u001b[1;32m    101\u001b[0m             \u001b[0mrun_func\u001b[0m\u001b[0;34m(\u001b[0m\u001b[0m_t\u001b[0m\u001b[0;34m=\u001b[0m\u001b[0mtimes\u001b[0m\u001b[0;34m[\u001b[0m\u001b[0;36m0\u001b[0m\u001b[0;34m]\u001b[0m\u001b[0;34m,\u001b[0m \u001b[0m_i\u001b[0m\u001b[0;34m=\u001b[0m\u001b[0;36m0\u001b[0m\u001b[0;34m,\u001b[0m \u001b[0m_dt\u001b[0m\u001b[0;34m=\u001b[0m\u001b[0mdt\u001b[0m\u001b[0;34m)\u001b[0m\u001b[0;34m\u001b[0m\u001b[0;34m\u001b[0m\u001b[0m\n\u001b[1;32m    102\u001b[0m         \u001b[0;32mexcept\u001b[0m \u001b[0mException\u001b[0m \u001b[0;32mas\u001b[0m \u001b[0me\u001b[0m\u001b[0;34m:\u001b[0m\u001b[0;34m\u001b[0m\u001b[0;34m\u001b[0m\u001b[0m\n\u001b[0;32m--> 103\u001b[0;31m             \u001b[0mraise_running_error\u001b[0m\u001b[0;34m(\u001b[0m\u001b[0me\u001b[0m\u001b[0;34m)\u001b[0m\u001b[0;34m\u001b[0m\u001b[0;34m\u001b[0m\u001b[0m\n\u001b[0m\u001b[1;32m    104\u001b[0m         \u001b[0mcompile_time\u001b[0m \u001b[0;34m=\u001b[0m \u001b[0mtime\u001b[0m\u001b[0;34m.\u001b[0m\u001b[0mtime\u001b[0m\u001b[0;34m(\u001b[0m\u001b[0;34m)\u001b[0m \u001b[0;34m-\u001b[0m \u001b[0mt0\u001b[0m\u001b[0;34m\u001b[0m\u001b[0;34m\u001b[0m\u001b[0m\n\u001b[1;32m    105\u001b[0m         \u001b[0mprint\u001b[0m\u001b[0;34m(\u001b[0m\u001b[0;34m'Compilation used {:.4f} s.'\u001b[0m\u001b[0;34m.\u001b[0m\u001b[0mformat\u001b[0m\u001b[0;34m(\u001b[0m\u001b[0mcompile_time\u001b[0m\u001b[0;34m)\u001b[0m\u001b[0;34m)\u001b[0m\u001b[0;34m\u001b[0m\u001b[0;34m\u001b[0m\u001b[0m\n",
            "\u001b[0;32m/usr/local/lib/python3.7/dist-packages/brainpy/simulation/utils.py\u001b[0m in \u001b[0;36mraise_running_error\u001b[0;34m(e)\u001b[0m\n\u001b[1;32m     92\u001b[0m \u001b[0;34m{\u001b[0m\u001b[0mcode\u001b[0m\u001b[0;34m}\u001b[0m\u001b[0;34m\u001b[0m\u001b[0;34m\u001b[0m\u001b[0m\n\u001b[1;32m     93\u001b[0m \u001b[0;34m\u001b[0m\u001b[0m\n\u001b[0;32m---> 94\u001b[0;31m ''')\n\u001b[0m\u001b[1;32m     95\u001b[0m \u001b[0;34m\u001b[0m\u001b[0m\n\u001b[1;32m     96\u001b[0m     \u001b[0mrun_length\u001b[0m \u001b[0;34m=\u001b[0m \u001b[0mlen\u001b[0m\u001b[0;34m(\u001b[0m\u001b[0mtimes\u001b[0m\u001b[0;34m)\u001b[0m\u001b[0;34m\u001b[0m\u001b[0;34m\u001b[0m\u001b[0m\n",
            "\u001b[0;31mRunningError\u001b[0m: \nThe running error occurs in the formatted source code:\n\n[ 1]   def run_func(_t, _i, _dt):\n[ 2]     NG14.input_step(_i)\n[ 3]     NG14.Iext, NG14.V, NG14.refractory, NG14.spike, NG14.t_last_spike = NG14.new_update(_t, NG14.Iext, NG14.Irec, NG14.V, NG14.Vr, NG14.mu_ext, NG14.num, NG14.refractory, NG14.sigma_ext, NG14.spike, NG14.t_last_spike, NG14.tau_arp, NG14.tau_m, NG14.theta)\n[ 4]     NG14.monitor_step(_i, _t)\n\n"
          ]
        }
      ]
    },
    {
      "cell_type": "markdown",
      "metadata": {
        "id": "g_9bNOxru2Yt"
      },
      "source": [
        "**Synapse**\n",
        "\n",
        "The recurrent current $I_i^{(rec)}(t)$ is the sum of the postsynaptic currents from all other neurons in the network targeting the neuron i,\n",
        "$$\n",
        "I_i^{(rec)}(t) = \\sum_j\\hat{J}_{ij}(t)\\sum_{k}\\delta(t-t_k^{(j)}-D_{ij})\n",
        "$$\n",
        "where $\\hat{J}_{ij}(t)$ is the instantaneous efficacy (time dependence is due to short-term synaptic dynamics) of the synapse connecting neuron $j$ to neuron $i$; the sum on $k$ is over all the emission times, $t_{k}^{(j)}$, of presynaptic neuron $j$; $D_{ij}$ is the transmission delay uniformly distributed between 1 and 5 ms. For simplicity, we neglect rise and decay times of the postsynaptic currents.\n",
        "\n",
        "The $\\hat{J}_{ij}(t)$ is given by\n",
        "$$\n",
        "\\hat{J}_{ij}(t)=J_{ij}\\cdot u_j(t-D_{ij})\\cdot x_j(t-D_{ij})\n",
        "$$\n",
        "where $J_{ij}$ is the absolute synaptic efficacy. The remaining synaptic populations, inhibitory and excitatory-inhibitorym exhibit linear synaptic transmission, i.e., $\\hat{J}_{ij}(t)=J_{ij}$. These equations are integrated using an Euler scheme.\n",
        "\n",
        "---\n",
        "\n",
        "Excitatory-to-excitatory synapses display short-term plasticity is\n",
        "\n",
        "$$\n",
        "\\frac{du_j(t)}{dt} = \\frac{U - u_j(t)}{\\tau_F} + U[1-u_j^{-}(t)]\\sum_k\\delta(t-t_k^{(j)})\\\\\n",
        "\\frac{dx_j(t)}{dt}=\\frac{1-x_j(t)}{\\tau_D} - u_j^{+}(t)x_j^{-}(t)\\sum_{k}\\delta(t-t_k^{(j)})\\\\\n",
        "u_j^{+}(t)=u_j^{-}(t)+U\\left(1-u^{-}(t)\\right)\n",
        "$$\n",
        "\n",
        "Or we can see the dynamics as:\n",
        "\n",
        "$$\n",
        "\\frac {du} {dt} = \\frac {U-u} {\\tau_F}\\\\\n",
        "\\frac {dx} {dt} = \\frac {1-x} {\\tau_D}\\\\\n",
        "$$\n",
        "\n",
        "$$\n",
        "\\rm{if (pre \\ fire), then}\n",
        "\\begin{cases} \n",
        "u^+ = u^- + U(1-u^-) \\\\ \n",
        "x^+ = x^- - u^+x^- \n",
        "\\end{cases}\n",
        "$$\n",
        "\n",
        "where the functions multiplying the spike train are evaluated inmmediately before the delta functions,i.e. at $t_k^{(j)-}$. \n"
      ]
    },
    {
      "cell_type": "code",
      "metadata": {
        "id": "rNB30ovSna-7"
      },
      "source": [
        "## Synaptic parameters\n",
        "J_IE = 0.135 # Synaptic efficacy E to I [mV]\n",
        "J_EI = 0.25 # Synaptic efficacy I to E [mV]\n",
        "J_II = 0.20 # Synaptic efficacy I to I [mV]\n",
        "J_b = 0.10 # Baseline level of E to E synapses [mV]\n",
        "J_p = 0.45 # Potentiated level of E to E synapses [mV]\n",
        "gamma_0 = 0.10 # Fraction of potentiated synapses before learning\n",
        "# delta = range(0.1, 1) # Synaptic delays"
      ],
      "execution_count": 6,
      "outputs": []
    },
    {
      "cell_type": "code",
      "metadata": {
        "id": "lBGvKMbNvVCa"
      },
      "source": [
        "class STP(bp.TwoEndConn):\n",
        "  target_backend = 'general'\n",
        "\n",
        "  @staticmethod\n",
        "  @bp.odeint(method='exponential_euler')\n",
        "  def integral(u, x, t, U, tau_F, tau_D):\n",
        "    dudt = (U - u) / tau_F \n",
        "    dxdt = (1 - x) / tau_D\n",
        "    return dudt, dxdt\n",
        "  \n",
        "  def __init__(self, pre, post, conn, weight=1., tau_F=1500., tau_D=200., U=0.20, **kwargs):\n",
        "\n",
        "    super(STP, self).__init__(pre=pre, post=post, **kwargs)\n",
        "\n",
        "    # Short-term synaptic dynamics parameters\n",
        "    self.U = U # Baseline utilization factor\n",
        "    self.tau_F = tau_F # Recovery time of utilization factor [ms]\n",
        "    self.tau_D = tau_D # Recovery time of synaptic resources [ms]\n",
        "    self.w = weight\n",
        "\n",
        "    # connections\n",
        "    self.conn = conn(pre.size, post.size)\n",
        "    self.pre_ids, self.post_ids, self.post2pre = conn.requires('pre_ids', 'post_ids','post2pre')\n",
        "\n",
        "    # variables\n",
        "    self.s = bp.ops.zeros(pre.num)\n",
        "    self.u = bp.ops.zeros(pre.num)\n",
        "    self.x = bp.ops.ones(pre.num)\n",
        "    self.delay = np.random.uniform(1, 5, size=pre.num)\n",
        "    self.I_syn = self.register_constant_delay('I_syn', size=(pre.num), delay_time=self.delay)\n",
        "    # the transmission delay uniformly distributed between 1 and 5 ms.\n",
        "\n",
        "  def update(self, _t):\n",
        "    for j in range(self.pre.num):\n",
        "      pre_id = self.pre_ids[j]\n",
        "      u, x = self.integral(self.u[j], self.x[j], _t, self.U, self.tau_F, self.tau_D)\n",
        "      # update\n",
        "      if self.pre.spike[pre_id]:\n",
        "        if self.w == J_b or self.w == J_p:\n",
        "          self.I_syn.push(j, self.w*self.u[j]*(_t-self.delay[i,j])*self.x[j]*(_t-self.delay[pre_i]))\n",
        "        else:\n",
        "          self.I_syn.push(j, self.w)\n",
        "        u += self.U * (1-self.u[j])\n",
        "        x -= u * self.x[j]\n",
        "\n",
        "      # output\n",
        "      self.post.Irec += self.I_syn.pull(j)\n",
        "      self.u[j] = u\n",
        "      self.x[j] = x"
      ],
      "execution_count": 11,
      "outputs": []
    },
    {
      "cell_type": "code",
      "metadata": {
        "colab": {
          "base_uri": "https://localhost:8080/",
          "height": 241
        },
        "id": "vWcvLowUzs4z",
        "outputId": "27bfb813-6f7f-4650-d517-29a64d8c2c91"
      },
      "source": [
        "## STD/STF parameters and plot \n",
        "neu1 = LIF(1, monitors=['V'])\n",
        "neu2 = LIF(1, monitors=['V'])\n",
        "\n",
        "syn = STP(pre=neu1, post=neu2, conn=bp.connect.All2All(),\n",
        "      weight=1., tau_F=1500., tau_D=200., monitors=['u', 'x'])\n",
        "net = bp.Network(neu1, syn, neu2)\n",
        "net.run(100., inputs=(neu1, 'Irec', 0.))\n",
        "\n",
        "# plot\n",
        "fig, gs = bp.visualize.get_figure(row_num=1, col_num=1, row_len=3, col_len=7)\n",
        "\n",
        "fig.add_subplot(gs[0, 0])\n",
        "plt.plot(net.ts, syn.mon.u[:, 0], label='u')\n",
        "plt.plot(net.ts, syn.mon.x[:, 0], label='x')\n",
        "plt.legend()\n",
        "\n",
        "plt.xlabel('Time (ms)')\n",
        "plt.show()"
      ],
      "execution_count": 12,
      "outputs": [
        {
          "output_type": "display_data",
          "data": {
            "image/png": "[encoded data removed]",
            "text/plain": [
              "<Figure size 504x216 with 1 Axes>"
            ]
          },
          "metadata": {
            "needs_background": "light"
          }
        }
      ]
    },
    {
      "cell_type": "markdown",
      "metadata": {
        "id": "aEzM3t-TWpQg"
      },
      "source": [
        "**Network connectivity**\n",
        "There are $p$ items to be memorized, each of them encoded by a subset of excitatory cells (selective population). Every selective population is formed by randomly selected $fN_E$ neurons, where $f$ is the coding level, enforcing the constraint that a given neuron belongs to at most one selective population (non-overlapping memories). Network connectivity is generated in the following way. \n",
        "\n",
        "Each cell receives $c(N_E +N_I)$ presynaptic connections, where $c$ is the connectivity level, partitioned as follows: $cfN_E$ randomly selected connections from each of the selective populations, $c(1 − fp)N_E$ randomly selected connections from the non-selective excitatory population, and $cN_I$ randomly selected connections from the inhibitory population.\n",
        "\n",
        "---\n",
        "\n",
        "Excitatory-to-excitatory synapses can take on two possible absolute efficacies: baseline, $J_b$, and potentiated, $J_p(> J_b)$. Synapses connecting two neurons within the\n",
        "same selective population have potentiated efficacy; Synapses connecting a selective neuron to a neuron from another selective population or to a non-selective neuron, have baseline efficacy; The remaining synapses (i.e. non-selective to selective and non-selective to non-selective) have potentiated efficacy with probability 0.1."
      ]
    },
    {
      "cell_type": "code",
      "metadata": {
        "id": "HgwGgxGSklAD"
      },
      "source": [
        "import warnings\n",
        "warnings.filterwarnings('ignore')"
      ],
      "execution_count": 9,
      "outputs": []
    },
    {
      "cell_type": "code",
      "metadata": {
        "id": "Q6cntNt_mLU9"
      },
      "source": [
        "## Network parameters\n",
        "f =  0.10 # Coding level\n",
        "p = 1 # Number of memories, 1 or 2 in this project\n",
        "c = 0.20 # Probability of synaptic contact\n",
        "N_E = 8000 # Number of excitatory cells\n",
        "N_I = 2000 # Number of inhibitory cells"
      ],
      "execution_count": 10,
      "outputs": []
    },
    {
      "cell_type": "code",
      "metadata": {
        "id": "cumU9yhsRdUw"
      },
      "source": [
        "# Selective stimulation\n",
        "T_cue = 350 # Duration [ms]\n",
        "A_cue = 1.15 # Contrast factor"
      ],
      "execution_count": 13,
      "outputs": []
    },
    {
      "cell_type": "code",
      "metadata": {
        "id": "utGo0pdnUKf_"
      },
      "source": [
        "# learn from E/I network to connnect\n",
        "def run_net(p, neu_model, syn_model, backend='numba'):\n",
        "  bp.backend.set(backend)\n",
        "  # define the ids of selective populations, non-selective excitatory population and inhibitory population\n",
        "  num_S = int(f*N_E) # cell number of a selective population\n",
        "  S_ids = range(p*num_S)\n",
        "  nS_ids = range(p*num_S, N_E)\n",
        "  I_ids = range(N_E, N_E+N_I)\n",
        "  S = neu_model(num_S, cls=1, monitors=['spike'])\n",
        "  nS = neu_model(N_E-p*num_S, cls=1, monitors=['spike'])\n",
        "  I = neu_model(N_I, cls=0, monitors=['spike'])\n",
        "\n",
        "  S2S = syn_model(pre=S, post=S, conn=bp.connect.FixedPreNum(int(c*f*N_E)), weight = J_p)\n",
        "  S2nS = syn_model(pre=S, post=nS, conn=bp.connect.FixedPreNUm(int(c*f*N_E)),weight = J_b)\n",
        "  S2I = syn_model(pre_=S, post=I, conn=bp.connect.FixedPreNum(int(c*f*N_E)), weight = J_EI)\n",
        "\n",
        "  nS2S = syn_model(pre_=nS, post=S, conn=bp.connect.FixedProb(0.1), weight = J_p)\n",
        "  nS2nS = syn_model(pre_=nS, post=S, conn=bp.connect.FixedProb(0.1), weight = J_p)\n",
        "  nS2I = syn_model(pre_=nS, post=S, conn=bp.connect.FixedPreNum(int(c*(1-f*p)*N_E)), weight = J_EI)\n",
        "\n",
        "  I2S = syn_model(pre_=I, post=S, conn=bp.connect.FixedPreNum(int(c*N_I)), weight = J_IE)\n",
        "  I2nS = syn_model(pre_=I, post=nS, conn=bp.connect.FixedPreNum(int(c*N_I)), weight = J_IE)\n",
        "  I2I = syn_model(pre_=I, post=I, conn=bp.connect.FixedPreNum(int(c*N_I)), weight = J_II)\n",
        "  \n",
        "  net = bp.Network(S, ns, I,\n",
        "            S2S, S2nS, S2I, nS2S, nS2nS, nS2I, I2S, I2nS, I2I)\n",
        "  t = net.run(100., report=True)\n",
        "\n",
        "  fig, gs = bp.visualize.get_figure(row_num=5, col_num=1, row_len=1, col_len=10)\n",
        "  fig.add_subplot(gs[:4, 0])\n",
        "  bp.visualize.raster_plot(S.mon.ts, S.mon.spike, ylabel='S Group', xlabel='')\n",
        "  fig.add_subplot(gs[4, 0])\n",
        "  bp.visualize.raster_plot(nS.mon.ts, nS.mon.spike, ylabel='nS Group', show=True)\n",
        "  fig.add_subplot(gs[4, 0])\n",
        "  bp.visualize.raster_plot(I.mon.ts, I.mon.spike, ylabel='I Group', show=True)\n",
        "  return t"
      ],
      "execution_count": 17,
      "outputs": []
    },
    {
      "cell_type": "code",
      "metadata": {
        "id": "Buam4ONRSGdo",
        "outputId": "9b2e8cf9-bac5-4589-be4e-860814e54d6f",
        "colab": {
          "base_uri": "https://localhost:8080/",
          "height": 341
        }
      },
      "source": [
        "WM = run_net(p=1, neu_model=LIF, syn_model=STP)"
      ],
      "execution_count": 19,
      "outputs": [
        {
          "output_type": "error",
          "ename": "TypeError",
          "evalue": "ignored",
          "traceback": [
            "\u001b[0;31m---------------------------------------------------------------------------\u001b[0m",
            "\u001b[0;31mTypeError\u001b[0m                                 Traceback (most recent call last)",
            "\u001b[0;32m<ipython-input-19-b79813e283ea>\u001b[0m in \u001b[0;36m<module>\u001b[0;34m()\u001b[0m\n\u001b[0;32m----> 1\u001b[0;31m \u001b[0mWM\u001b[0m \u001b[0;34m=\u001b[0m \u001b[0mrun_net\u001b[0m\u001b[0;34m(\u001b[0m\u001b[0mp\u001b[0m\u001b[0;34m=\u001b[0m\u001b[0;36m1\u001b[0m\u001b[0;34m,\u001b[0m \u001b[0mneu_model\u001b[0m\u001b[0;34m=\u001b[0m\u001b[0mLIF\u001b[0m\u001b[0;34m,\u001b[0m \u001b[0msyn_model\u001b[0m\u001b[0;34m=\u001b[0m\u001b[0mSTP\u001b[0m\u001b[0;34m)\u001b[0m\u001b[0;34m\u001b[0m\u001b[0;34m\u001b[0m\u001b[0m\n\u001b[0m",
            "\u001b[0;32m<ipython-input-17-b6c6f195e7a7>\u001b[0m in \u001b[0;36mrun_net\u001b[0;34m(p, neu_model, syn_model, backend)\u001b[0m\n\u001b[1;32m      7\u001b[0m   \u001b[0mnS_ids\u001b[0m \u001b[0;34m=\u001b[0m \u001b[0mrange\u001b[0m\u001b[0;34m(\u001b[0m\u001b[0mp\u001b[0m\u001b[0;34m*\u001b[0m\u001b[0mnum_S\u001b[0m\u001b[0;34m,\u001b[0m \u001b[0mN_E\u001b[0m\u001b[0;34m)\u001b[0m\u001b[0;34m\u001b[0m\u001b[0;34m\u001b[0m\u001b[0m\n\u001b[1;32m      8\u001b[0m   \u001b[0mI_ids\u001b[0m \u001b[0;34m=\u001b[0m \u001b[0mrange\u001b[0m\u001b[0;34m(\u001b[0m\u001b[0mN_E\u001b[0m\u001b[0;34m,\u001b[0m \u001b[0mN_E\u001b[0m\u001b[0;34m+\u001b[0m\u001b[0mN_I\u001b[0m\u001b[0;34m)\u001b[0m\u001b[0;34m\u001b[0m\u001b[0;34m\u001b[0m\u001b[0m\n\u001b[0;32m----> 9\u001b[0;31m   \u001b[0mS\u001b[0m \u001b[0;34m=\u001b[0m \u001b[0mneu_model\u001b[0m\u001b[0;34m(\u001b[0m\u001b[0mnum_S\u001b[0m\u001b[0;34m,\u001b[0m \u001b[0mcls\u001b[0m\u001b[0;34m=\u001b[0m\u001b[0;36m1\u001b[0m\u001b[0;34m,\u001b[0m \u001b[0mmonitor\u001b[0m\u001b[0;34m=\u001b[0m\u001b[0;34m[\u001b[0m\u001b[0;34m'spike'\u001b[0m\u001b[0;34m]\u001b[0m\u001b[0;34m)\u001b[0m\u001b[0;34m\u001b[0m\u001b[0;34m\u001b[0m\u001b[0m\n\u001b[0m\u001b[1;32m     10\u001b[0m   \u001b[0mnS\u001b[0m \u001b[0;34m=\u001b[0m \u001b[0mneu_model\u001b[0m\u001b[0;34m(\u001b[0m\u001b[0mN_E\u001b[0m\u001b[0;34m-\u001b[0m\u001b[0mp\u001b[0m\u001b[0;34m*\u001b[0m\u001b[0mnum_S\u001b[0m\u001b[0;34m,\u001b[0m \u001b[0mcls\u001b[0m\u001b[0;34m=\u001b[0m\u001b[0;36m1\u001b[0m\u001b[0;34m,\u001b[0m \u001b[0mmonitor\u001b[0m\u001b[0;34m=\u001b[0m\u001b[0;34m[\u001b[0m\u001b[0;34m'spike'\u001b[0m\u001b[0;34m]\u001b[0m\u001b[0;34m)\u001b[0m\u001b[0;34m\u001b[0m\u001b[0;34m\u001b[0m\u001b[0m\n\u001b[1;32m     11\u001b[0m   \u001b[0mI\u001b[0m \u001b[0;34m=\u001b[0m \u001b[0mneu_model\u001b[0m\u001b[0;34m(\u001b[0m\u001b[0mN_I\u001b[0m\u001b[0;34m,\u001b[0m \u001b[0mcls\u001b[0m\u001b[0;34m=\u001b[0m\u001b[0;36m0\u001b[0m\u001b[0;34m,\u001b[0m \u001b[0mmonitors\u001b[0m\u001b[0;34m=\u001b[0m\u001b[0;34m[\u001b[0m\u001b[0;34m'spike'\u001b[0m\u001b[0;34m]\u001b[0m\u001b[0;34m)\u001b[0m\u001b[0;34m\u001b[0m\u001b[0;34m\u001b[0m\u001b[0m\n",
            "\u001b[0;32m<ipython-input-4-ac21853eec40>\u001b[0m in \u001b[0;36m__init__\u001b[0;34m(self, size, cls, theta, Vr, tau_m, tau_arp, mu_ext, sigma_ext, **kwargs)\u001b[0m\n\u001b[1;32m     10\u001b[0m   def __init__(self, size, cls=0, theta=20., Vr=16., tau_m=15.,\n\u001b[1;32m     11\u001b[0m           tau_arp=2., mu_ext=23.10, sigma_ext=1., **kwargs):\n\u001b[0;32m---> 12\u001b[0;31m     \u001b[0msuper\u001b[0m\u001b[0;34m(\u001b[0m\u001b[0mLIF\u001b[0m\u001b[0;34m,\u001b[0m \u001b[0mself\u001b[0m\u001b[0;34m)\u001b[0m\u001b[0;34m.\u001b[0m\u001b[0m__init__\u001b[0m\u001b[0;34m(\u001b[0m\u001b[0msize\u001b[0m\u001b[0;34m=\u001b[0m\u001b[0msize\u001b[0m\u001b[0;34m,\u001b[0m \u001b[0;34m**\u001b[0m\u001b[0mkwargs\u001b[0m\u001b[0;34m)\u001b[0m\u001b[0;34m\u001b[0m\u001b[0;34m\u001b[0m\u001b[0m\n\u001b[0m\u001b[1;32m     13\u001b[0m     \u001b[0;31m# size is the iteration number\u001b[0m\u001b[0;34m\u001b[0m\u001b[0;34m\u001b[0m\u001b[0;34m\u001b[0m\u001b[0m\n\u001b[1;32m     14\u001b[0m \u001b[0;34m\u001b[0m\u001b[0m\n",
            "\u001b[0;31mTypeError\u001b[0m: __init__() got an unexpected keyword argument 'monitor'"
          ]
        }
      ]
    },
    {
      "cell_type": "code",
      "metadata": {
        "id": "Wu4MqtgSKvwG"
      },
      "source": [
        "# Reactivating signal\n",
        "R_Duration = 250 # Duration [ms]\n",
        "R_cf = 1.05 # Contrast factor"
      ],
      "execution_count": null,
      "outputs": []
    },
    {
      "cell_type": "code",
      "metadata": {
        "id": "ksIlxq8mKWMz"
      },
      "source": [
        "# Periodic reactivating signal\n",
        "P_Duration = 100 # Duration\n",
        "P_Period = 250 # Period\n",
        "P_cf = 1.075 # Contrast factor"
      ],
      "execution_count": null,
      "outputs": []
    },
    {
      "cell_type": "markdown",
      "metadata": {
        "id": "_cPuoNW664kw"
      },
      "source": [
        "## Step 2: consider the connectivity used in the paper, build up the network model"
      ]
    },
    {
      "cell_type": "code",
      "metadata": {
        "id": "wtb1FmzoG57Q"
      },
      "source": [
        "dt = 0.0001  # [s]\n",
        "bp.backend.set(dt=dt)"
      ],
      "execution_count": null,
      "outputs": []
    },
    {
      "cell_type": "code",
      "metadata": {
        "id": "AYb2hKxPG57Q"
      },
      "source": [
        "# the parameters of network\n",
        "alpha = 1.5\n",
        "J_EE = 8.  # the connection strength in each excitatory neural clusters\n",
        "J_IE = 1.75  # Synaptic efficacy E → I\n",
        "J_EI = 1.1  # Synaptic efficacy I → E\n",
        "tau_f = 1.5  # time constant of STF  [s]\n",
        "tau_d = .3  # time constant of STD  [s]\n",
        "U = 0.3  # minimum STF value\n",
        "tau = 0.008  # time constant of firing rate of the excitatory neurons [s]\n",
        "tau_I = tau  # time constant of firing rate of the inhibitory neurons\n",
        "\n",
        "Ib = 8.  # background input and external input\n",
        "Iinh = 0.  # the background input of inhibtory neuron\n",
        "\n",
        "cluster_num = 16  # the number of the clusters"
      ],
      "execution_count": null,
      "outputs": []
    },
    {
      "cell_type": "code",
      "metadata": {
        "id": "xrF9958bG57Q"
      },
      "source": [
        "# the parameters of external input\n",
        "\n",
        "stimulus_num = 5\n",
        "Iext_train = 225  # the strength of the external input\n",
        "# the time interval between the consequent external input [s]\n",
        "Ts_interval = 0.070\n",
        "Ts_duration = 0.030  # the time duration of the external input [s]\n",
        "duration = 2.500  # [s]"
      ],
      "execution_count": null,
      "outputs": []
    },
    {
      "cell_type": "markdown",
      "metadata": {
        "id": "ErawHyx0G57Q"
      },
      "source": [
        "the working memory model based on STP was used to derive the expression for the postsynaptic current resulting from the activity of a large, uncorrelated pre-synaptic population.\n",
        "\n",
        "The resulting network model has three differential equations for each of $P$ excitatory clusters (synaptic current $h_\\mu$ and two STP variables $u_\\mu$ and $x_\\mu$ for each cluster $\\mu; \\mu = 1,..., P$) and one additional equation for the inhibitory pool current $h_I$:\n",
        "\n",
        "$$\n",
        "\\begin{gathered}\n",
        "\\tau \\frac{d h_{\\mu}}{d t}=-h_{\\mu}+J_{E E} u_{\\mu} x_{\\mu} R_{\\mu}-J_{E l} R_{l}+I_{b}+I_{e}(t) \\\\\n",
        "\\frac{d u_{\\mu}}{d t}=\\frac{U-u_{\\mu}}{\\tau_{f}}+U\\left(1-u_{\\mu}\\right) R_{\\mu} \\\\\n",
        "\\frac{d x_{\\mu}}{d t}=\\frac{1-x_{\\mu}}{\\tau_{d}}-u_{\\mu} x_{\\mu} R_{\\mu}, \\text { and } \\\\\n",
        "\\tau \\frac{d h_{I}}{d t}=-h_{I}+J_{I E} \\sum_{\\nu} R_{\\nu}\n",
        "\\end{gathered}\n",
        "$$\n",
        "\n",
        "where $t$ is the neuronal time constant, for simplicity the same for excitation and inhibition; $I_b$ is the constant background excitation; and $I_e$ is the external input used to load memory items into the network. \n",
        "\n",
        "$$\n",
        "R(h)=\\alpha \\ln (1+\\exp (h / \\alpha))\n",
        "$$\n",
        "\n",
        "is neuronal gain chosen in the form of a smoothed threshold-linear function, also the same for excitatory and inhibitory neurons. "
      ]
    },
    {
      "cell_type": "code",
      "metadata": {
        "id": "r-d6aINdG57R"
      },
      "source": [
        "# the excitatory cluster model and the inhibitory pool model\n",
        "\n",
        "class WorkingMemoryModel(bp.NeuGroup):\n",
        "  target_backend = ['numpy', 'numba']\n",
        "\n",
        "  def __init__(self, size, **kwargs):\n",
        "    self.inh_h = 0.\n",
        "    self.inh_r = self.log(self.inh_h)\n",
        "    self.u = bp.ops.ones(cluster_num) * U\n",
        "    self.x = bp.ops.ones(cluster_num)\n",
        "    self.h = bp.ops.zeros(cluster_num)\n",
        "    self.r = self.log(self.h)\n",
        "    self.input = bp.ops.zeros(cluster_num)\n",
        "\n",
        "    super(WorkingMemoryModel, self).__init__(size, **kwargs)\n",
        "\n",
        "  @staticmethod\n",
        "  @bp.odeint\n",
        "  def int_exc(u, x, h, t, r, r_inh, Iext):\n",
        "    du = (U - u) / tau_f + U * (1 - u) * r\n",
        "    dx = (1 - x) / tau_d - u * x * r\n",
        "    dh = (-h + J_EE * u * x * r - J_EI * r_inh + Iext + Ib) / tau\n",
        "    return du, dx, dh\n",
        "\n",
        "  @staticmethod\n",
        "  @bp.odeint\n",
        "  def int_inh(h, t, r_exc):\n",
        "    h_I = (-h + J_IE * np.sum(r_exc) + Iinh) / tau_I\n",
        "    return h_I\n",
        "\n",
        "  @staticmethod\n",
        "  def log(h):\n",
        "    return alpha * np.log(1. + np.exp(h / alpha))\n",
        "\n",
        "  def update(self, _t):\n",
        "    self.u, self.x, self.h = self.int_exc(\n",
        "        self.u, self.x, self.h, _t, self.r, self.inh_r, self.input)\n",
        "    self.r = self.log(self.h)\n",
        "    self.inh_h = self.int_inh(self.inh_h, _t, self.r)\n",
        "    self.inh_r = self.log(self.inh_h)\n",
        "    self.input[:] = 0."
      ],
      "execution_count": null,
      "outputs": []
    },
    {
      "cell_type": "code",
      "metadata": {
        "id": "mVsIenniG57R"
      },
      "source": [
        "# the external input\n",
        "\n",
        "I_inputs = np.zeros((int(duration / dt), cluster_num))\n",
        "for i in range(stimulus_num):\n",
        "    t_start = (Ts_interval + Ts_duration) * i + Ts_interval\n",
        "    t_end = t_start + Ts_duration\n",
        "    idx_start, idx_end = int(t_start / dt), int(t_end / dt)\n",
        "    I_inputs[idx_start: idx_end, i] = Iext_train\n",
        "\n",
        "\n",
        "# model.monwork running\n",
        "\n",
        "model = WorkingMemoryModel(cluster_num, monitors=['u', 'x', 'r', 'h'])\n",
        "model.run(duration, inputs=['input', I_inputs])"
      ],
      "execution_count": null,
      "outputs": []
    },
    {
      "cell_type": "code",
      "metadata": {
        "id": "U4F13pSWG57R"
      },
      "source": [
        "# visualization\n",
        "\n",
        "colors = list(dict(mcolors.BASE_COLORS, **mcolors.CSS4_COLORS).keys())\n",
        "\n",
        "fig, gs = bp.visualize.get_figure(5, 1, 2, 12)\n",
        "fig.add_subplot(gs[0, 0])\n",
        "for i in range(stimulus_num):\n",
        "    plt.plot(model.mon.ts, model.mon.r[:, i], label='Cluster-{}'.format(i))\n",
        "plt.ylabel(\"$r (Hz)$\")\n",
        "plt.legend(loc='right')\n",
        "\n",
        "fig.add_subplot(gs[1, 0])\n",
        "hist_Jux = J_EE * model.mon.u * model.mon.x\n",
        "for i in range(stimulus_num):\n",
        "    plt.plot(model.mon.ts, hist_Jux[:, i])\n",
        "plt.ylabel(\"$J_{EE}ux$\")\n",
        "\n",
        "fig.add_subplot(gs[2, 0])\n",
        "for i in range(stimulus_num):\n",
        "    plt.plot(model.mon.ts, model.mon.u[:, i], colors[i])\n",
        "plt.ylabel('u')\n",
        "\n",
        "fig.add_subplot(gs[3, 0])\n",
        "for i in range(stimulus_num):\n",
        "    plt.plot(model.mon.ts, model.mon.x[:, i], colors[i])\n",
        "plt.ylabel('x')\n",
        "\n",
        "fig.add_subplot(gs[4, 0])\n",
        "for i in range(stimulus_num):\n",
        "    plt.plot(model.mon.ts, model.mon.r[:, i], colors[i])\n",
        "plt.ylabel('h')\n",
        "plt.xlabel('time [s]')\n",
        "\n",
        "plt.show()"
      ],
      "execution_count": null,
      "outputs": []
    },
    {
      "cell_type": "markdown",
      "metadata": {
        "id": "gPUB-wqhG57S"
      },
      "source": [
        "## Step 3: try to encode one item in the model (Fig. 2)"
      ]
    },
    {
      "cell_type": "code",
      "metadata": {
        "id": "TDsSpH5nG57S"
      },
      "source": [
        ""
      ],
      "execution_count": null,
      "outputs": []
    },
    {
      "cell_type": "markdown",
      "metadata": {
        "id": "0SyQZu2KG57T"
      },
      "source": [
        "## Step 4: try to encode two items in the network (Fig. 3)"
      ]
    },
    {
      "cell_type": "code",
      "metadata": {
        "id": "eOFVkejDG57T"
      },
      "source": [
        ""
      ],
      "execution_count": null,
      "outputs": []
    },
    {
      "cell_type": "markdown",
      "metadata": {
        "id": "VPVokBu8SRMG"
      },
      "source": [
        "# Bifurcation Analysis"
      ]
    },
    {
      "cell_type": "code",
      "metadata": {
        "id": "WjKhg96BSiXN"
      },
      "source": [
        "class FHN(bp.NeuGroup):\n",
        "  target_backend = 'numpy'\n",
        "\n",
        "  def __init__(self, num, **kwargs):\n",
        "    self.V = np.ones(num) * -2.8\n",
        "    self.w = np.ones(num) * -1.8\n",
        "    self.Iext = np.zeros(num)\n",
        "    super(FHN, self).__init__(size=num, **kwargs)\n",
        "\n",
        "  @bp.odeint\n",
        "  def int_fhn(V, w, t, Iext):\n",
        "    dw = (V + a - b * w) / tau\n",
        "    dV = V - V * V * V / 3 - w + Iext\n",
        "    return dV, dw\n",
        "\n",
        "  def update(self, _t):\n",
        "    self.V, self.w = int_fhn(self.V, self.w, _t, self.Iext)\n",
        "\n",
        "    \n",
        "group = FHN(1, monitors=['V', 'w'])\n",
        "group.run(100., inputs=('Iext', 0.8, '='))\n",
        "bp.visualize.line_plot(group.mon.ts, group.mon.V, legend='v', )\n",
        "bp.visualize.line_plot(group.mon.ts, group.mon.w, legend='w', show=True)"
      ],
      "execution_count": null,
      "outputs": []
    },
    {
      "cell_type": "code",
      "metadata": {
        "id": "VBtYwqk8SVzp"
      },
      "source": [
        "analyzer = bp.analysis.Bifurcation(\n",
        "integrals=int_fhn,\n",
        "target_pars={'Iext': [0., 1.]},\n",
        "target_vars={'V': [-3, 3], 'w': [-3., 3.]},\n",
        "numerical_resolution=0.001,\n",
        ")\n",
        "res = analyzer.plot_bifurcation(show=True)"
      ],
      "execution_count": null,
      "outputs": []
    },
    {
      "cell_type": "code",
      "metadata": {
        "colab": {
          "base_uri": "https://localhost:8080/",
          "height": 1000
        },
        "id": "7X-_AMMsS4Nm",
        "outputId": "1dc2ae9a-bb24-4a52-c152-fb85144e1674"
      },
      "source": [
        "a = 1.; b = 3.; c = 1.; d = 5.; s = 4.\n",
        "x_r = -1.6; r = 0.001; Vth = 1.9\n",
        "@bp.odeint(method='rk4', dt=0.02)\n",
        "def int_hr(x, y, z, t, Isyn):\n",
        "  dx = y - a * x ** 3 + b * x * x - z + Isyn\n",
        "  dy = c - d * x * x - y\n",
        "  dz = r * (s * (x - x_r) - z)\n",
        "  return dx, dy, dz\n",
        "\n",
        "analyzer = bp.analysis.FastSlowBifurcation(\n",
        "  integrals=int_hr,\n",
        "  fast_vars={'x': [-3, 3], 'y': [-10., 5.]},\n",
        "  slow_vars={'z': [-5., 5.]},\n",
        "  pars_update={'Isyn': 0.5},\n",
        "  numerical_resolution=0.001\n",
        ")\n",
        "analyzer.plot_bifurcation()\n",
        "analyzer.plot_trajectory([{'x': 1., 'y': 0., 'z': -0.0}],\n",
        "              duration=100., show=True)"
      ],
      "execution_count": null,
      "outputs": [
        {
          "output_type": "stream",
          "text": [
            "plot bifurcation ...\n",
            "SymPy solve \"int_hr(x, y, z) = 0\" to \"y = f(x, z)\", success.\n",
            "SymPy solve derivative of \"int_hr(x, y, z)\" by \"x\", success.\n",
            "SymPy solve derivative of \"int_hr(x, y, z)\" by \"y\", success.\n",
            "SymPy solve derivative of \"int_hr(x, y, z)\" by \"x\", success.\n",
            "SymPy solve derivative of \"int_hr(x, y, z)\" by \"y\", success.\n",
            "plot trajectory ...\n"
          ],
          "name": "stdout"
        },
        {
          "output_type": "error",
          "ename": "TypeError",
          "evalue": "ignored",
          "traceback": [
            "\u001b[0;31m---------------------------------------------------------------------------\u001b[0m",
            "\u001b[0;31mTypeError\u001b[0m                                 Traceback (most recent call last)",
            "\u001b[0;32m<ipython-input-27-b9552bd79134>\u001b[0m in \u001b[0;36m<module>\u001b[0;34m()\u001b[0m\n\u001b[1;32m     17\u001b[0m \u001b[0manalyzer\u001b[0m\u001b[0;34m.\u001b[0m\u001b[0mplot_bifurcation\u001b[0m\u001b[0;34m(\u001b[0m\u001b[0;34m)\u001b[0m\u001b[0;34m\u001b[0m\u001b[0;34m\u001b[0m\u001b[0m\n\u001b[1;32m     18\u001b[0m analyzer.plot_trajectory([{'x': 1., 'y': 0., 'z': -0.0}],\n\u001b[0;32m---> 19\u001b[0;31m               duration=100., show=True)\n\u001b[0m",
            "\u001b[0;32m/usr/local/lib/python3.7/dist-packages/brainpy/analysis/bifurcation.py\u001b[0m in \u001b[0;36mplot_trajectory\u001b[0;34m(self, *args, **kwargs)\u001b[0m\n\u001b[1;32m    697\u001b[0m             \u001b[0mWhether\u001b[0m \u001b[0mshow\u001b[0m \u001b[0;32mor\u001b[0m \u001b[0;32mnot\u001b[0m\u001b[0;34m.\u001b[0m\u001b[0;34m\u001b[0m\u001b[0;34m\u001b[0m\u001b[0m\n\u001b[1;32m    698\u001b[0m         \"\"\"\n\u001b[0;32m--> 699\u001b[0;31m         \u001b[0mself\u001b[0m\u001b[0;34m.\u001b[0m\u001b[0manalyzer\u001b[0m\u001b[0;34m.\u001b[0m\u001b[0mplot_trajectory\u001b[0m\u001b[0;34m(\u001b[0m\u001b[0;34m*\u001b[0m\u001b[0margs\u001b[0m\u001b[0;34m,\u001b[0m \u001b[0;34m**\u001b[0m\u001b[0mkwargs\u001b[0m\u001b[0;34m)\u001b[0m\u001b[0;34m\u001b[0m\u001b[0;34m\u001b[0m\u001b[0m\n\u001b[0m\u001b[1;32m    700\u001b[0m \u001b[0;34m\u001b[0m\u001b[0m\n\u001b[1;32m    701\u001b[0m     \u001b[0;32mdef\u001b[0m \u001b[0mplot_limit_cycle_by_sim\u001b[0m\u001b[0;34m(\u001b[0m\u001b[0mself\u001b[0m\u001b[0;34m,\u001b[0m \u001b[0;34m*\u001b[0m\u001b[0margs\u001b[0m\u001b[0;34m,\u001b[0m \u001b[0;34m**\u001b[0m\u001b[0mkwargs\u001b[0m\u001b[0;34m)\u001b[0m\u001b[0;34m:\u001b[0m\u001b[0;34m\u001b[0m\u001b[0;34m\u001b[0m\u001b[0m\n",
            "\u001b[0;32m/usr/local/lib/python3.7/dist-packages/brainpy/analysis/bifurcation.py\u001b[0m in \u001b[0;36mplot_trajectory\u001b[0;34m(self, *args, **kwargs)\u001b[0m\n\u001b[1;32m    930\u001b[0m \u001b[0;34m\u001b[0m\u001b[0m\n\u001b[1;32m    931\u001b[0m     \u001b[0;32mdef\u001b[0m \u001b[0mplot_trajectory\u001b[0m\u001b[0;34m(\u001b[0m\u001b[0mself\u001b[0m\u001b[0;34m,\u001b[0m \u001b[0;34m*\u001b[0m\u001b[0margs\u001b[0m\u001b[0;34m,\u001b[0m \u001b[0;34m**\u001b[0m\u001b[0mkwargs\u001b[0m\u001b[0;34m)\u001b[0m\u001b[0;34m:\u001b[0m\u001b[0;34m\u001b[0m\u001b[0;34m\u001b[0m\u001b[0m\n\u001b[0;32m--> 932\u001b[0;31m         \u001b[0mself\u001b[0m\u001b[0;34m.\u001b[0m\u001b[0mtraj\u001b[0m\u001b[0;34m.\u001b[0m\u001b[0mplot_trajectory\u001b[0m\u001b[0;34m(\u001b[0m\u001b[0;34m*\u001b[0m\u001b[0margs\u001b[0m\u001b[0;34m,\u001b[0m \u001b[0;34m**\u001b[0m\u001b[0mkwargs\u001b[0m\u001b[0;34m)\u001b[0m\u001b[0;34m\u001b[0m\u001b[0;34m\u001b[0m\u001b[0m\n\u001b[0m\u001b[1;32m    933\u001b[0m \u001b[0;34m\u001b[0m\u001b[0m\n\u001b[1;32m    934\u001b[0m     \u001b[0;32mdef\u001b[0m \u001b[0mplot_bifurcation\u001b[0m\u001b[0;34m(\u001b[0m\u001b[0mself\u001b[0m\u001b[0;34m,\u001b[0m \u001b[0;34m*\u001b[0m\u001b[0margs\u001b[0m\u001b[0;34m,\u001b[0m \u001b[0;34m**\u001b[0m\u001b[0mkwargs\u001b[0m\u001b[0;34m)\u001b[0m\u001b[0;34m:\u001b[0m\u001b[0;34m\u001b[0m\u001b[0;34m\u001b[0m\u001b[0m\n",
            "\u001b[0;32m/usr/local/lib/python3.7/dist-packages/brainpy/analysis/bifurcation.py\u001b[0m in \u001b[0;36mplot_trajectory\u001b[0;34m(self, initials, duration, plot_duration, show)\u001b[0m\n\u001b[1;32m    845\u001b[0m                 \u001b[0;32mif\u001b[0m \u001b[0mlen\u001b[0m\u001b[0;34m(\u001b[0m\u001b[0mself\u001b[0m\u001b[0;34m.\u001b[0m\u001b[0mslow_var_names\u001b[0m\u001b[0;34m)\u001b[0m \u001b[0;34m==\u001b[0m \u001b[0;36m1\u001b[0m\u001b[0;34m:\u001b[0m\u001b[0;34m\u001b[0m\u001b[0;34m\u001b[0m\u001b[0m\n\u001b[1;32m    846\u001b[0m                     \u001b[0mlines\u001b[0m \u001b[0;34m=\u001b[0m \u001b[0mplt\u001b[0m\u001b[0;34m.\u001b[0m\u001b[0mplot\u001b[0m\u001b[0;34m(\u001b[0m\u001b[0ms0\u001b[0m\u001b[0;34m,\u001b[0m \u001b[0mfast\u001b[0m\u001b[0;34m,\u001b[0m \u001b[0mlabel\u001b[0m\u001b[0;34m=\u001b[0m\u001b[0mlegend\u001b[0m\u001b[0;34m)\u001b[0m\u001b[0;34m\u001b[0m\u001b[0;34m\u001b[0m\u001b[0m\n\u001b[0;32m--> 847\u001b[0;31m                     \u001b[0mutils\u001b[0m\u001b[0;34m.\u001b[0m\u001b[0madd_arrow\u001b[0m\u001b[0;34m(\u001b[0m\u001b[0mlines\u001b[0m\u001b[0;34m[\u001b[0m\u001b[0;36m0\u001b[0m\u001b[0;34m]\u001b[0m\u001b[0;34m)\u001b[0m\u001b[0;34m\u001b[0m\u001b[0;34m\u001b[0m\u001b[0m\n\u001b[0m\u001b[1;32m    848\u001b[0m                     \u001b[0;31m# middle = int(s0.shape[0] / 2)\u001b[0m\u001b[0;34m\u001b[0m\u001b[0;34m\u001b[0m\u001b[0;34m\u001b[0m\u001b[0m\n\u001b[1;32m    849\u001b[0m                     \u001b[0;31m# plt.arrow(s0[middle], fast[middle],\u001b[0m\u001b[0;34m\u001b[0m\u001b[0;34m\u001b[0m\u001b[0;34m\u001b[0m\u001b[0m\n",
            "\u001b[0;32m/usr/local/lib/python3.7/dist-packages/brainpy/analysis/utils.py\u001b[0m in \u001b[0;36madd_arrow\u001b[0;34m(line, position, direction, size, color)\u001b[0m\n\u001b[1;32m    269\u001b[0m                        \u001b[0mxy\u001b[0m\u001b[0;34m=\u001b[0m\u001b[0;34m(\u001b[0m\u001b[0mxdata\u001b[0m\u001b[0;34m[\u001b[0m\u001b[0mend_ind\u001b[0m\u001b[0;34m]\u001b[0m\u001b[0;34m,\u001b[0m \u001b[0mydata\u001b[0m\u001b[0;34m[\u001b[0m\u001b[0mend_ind\u001b[0m\u001b[0;34m]\u001b[0m\u001b[0;34m)\u001b[0m\u001b[0;34m,\u001b[0m\u001b[0;34m\u001b[0m\u001b[0;34m\u001b[0m\u001b[0m\n\u001b[1;32m    270\u001b[0m                        \u001b[0marrowprops\u001b[0m\u001b[0;34m=\u001b[0m\u001b[0mdict\u001b[0m\u001b[0;34m(\u001b[0m\u001b[0marrowstyle\u001b[0m\u001b[0;34m=\u001b[0m\u001b[0;34m\"->\"\u001b[0m\u001b[0;34m,\u001b[0m \u001b[0mcolor\u001b[0m\u001b[0;34m=\u001b[0m\u001b[0mcolor\u001b[0m\u001b[0;34m)\u001b[0m\u001b[0;34m,\u001b[0m\u001b[0;34m\u001b[0m\u001b[0;34m\u001b[0m\u001b[0m\n\u001b[0;32m--> 271\u001b[0;31m                        size=size)\n\u001b[0m\u001b[1;32m    272\u001b[0m \u001b[0;34m\u001b[0m\u001b[0m\n\u001b[1;32m    273\u001b[0m \u001b[0;34m\u001b[0m\u001b[0m\n",
            "\u001b[0;31mTypeError\u001b[0m: annotate() missing 1 required positional argument: 's'"
          ]
        },
        {
          "output_type": "display_data",
          "data": {
            "image/png": "[encoded data removed]",
            "text/plain": [
              "<Figure size 432x288 with 1 Axes>"
            ]
          },
          "metadata": {
            "tags": [],
            "needs_background": "light"
          }
        },
        {
          "output_type": "display_data",
          "data": {
            "image/png": "[encoded data removed]",
            "text/plain": [
              "<Figure size 432x288 with 1 Axes>"
            ]
          },
          "metadata": {
            "tags": [],
            "needs_background": "light"
          }
        }
      ]
    }
  ]
}