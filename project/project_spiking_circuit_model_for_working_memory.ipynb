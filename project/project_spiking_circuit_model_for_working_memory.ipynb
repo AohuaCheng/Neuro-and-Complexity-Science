{
  "nbformat": 4,
  "nbformat_minor": 0,
  "metadata": {
    "colab": {
      "name": "project-spiking circuit model for working memory.ipynb",
      "provenance": [],
      "collapsed_sections": [],
      "authorship_tag": "ABX9TyMYEvhWRHVskMO1GwXjiSu9",
      "include_colab_link": true
    },
    "kernelspec": {
      "name": "python3",
      "display_name": "Python 3"
    },
    "language_info": {
      "name": "python"
    }
  },
  "cells": [
    {
      "cell_type": "markdown",
      "metadata": {
        "id": "view-in-github",
        "colab_type": "text"
      },
      "source": [
        "<a href=\"https://colab.research.google.com/github/cahcharm/Neuro-and-Complexity-Science/blob/CSHA2021/project/project_spiking_circuit_model_for_working_memory.ipynb\" target=\"_parent\"><img src=\"https://colab.research.google.com/assets/colab-badge.svg\" alt=\"Open In Colab\"/></a>"
      ]
    },
    {
      "cell_type": "markdown",
      "metadata": {
        "id": "U4qCoFCTEVnd"
      },
      "source": [
        "# **Spiking circuit model for working memory**\n",
        "\n",
        "Building up a spiking circuit model for working memory (Misha, Science, 2008). \n",
        "\n",
        "* Step 1: build LIF neuron, voltage jump synapse, STP synapse\n",
        "*\tStep 2: consider the connectivity used in the paper, build up the network model\n",
        "*\tStep 3: try to encode one item in the model (Fig. 2)\n",
        "*\tStep 4: try to encode two items in the network (Fig. 3)\n"
      ]
    },
    {
      "cell_type": "code",
      "metadata": {
        "id": "LsX1Lx6HEVLK",
        "colab": {
          "base_uri": "https://localhost:8080/"
        },
        "outputId": "0f9551f0-65cb-4250-d741-ded7df2afff4"
      },
      "source": [
        "pip install brainpy-simulator"
      ],
      "execution_count": null,
      "outputs": [
        {
          "output_type": "stream",
          "text": [
            "Collecting brainpy-simulator\n",
            "  Downloading brainpy-simulator-1.0.2.tar.gz (126 kB)\n",
            "\u001b[?25l\r\u001b[K     |██▋                             | 10 kB 20.5 MB/s eta 0:00:01\r\u001b[K     |█████▏                          | 20 kB 22.5 MB/s eta 0:00:01\r\u001b[K     |███████▉                        | 30 kB 25.5 MB/s eta 0:00:01\r\u001b[K     |██████████▍                     | 40 kB 24.0 MB/s eta 0:00:01\r\u001b[K     |█████████████                   | 51 kB 22.9 MB/s eta 0:00:01\r\u001b[K     |███████████████▋                | 61 kB 24.8 MB/s eta 0:00:01\r\u001b[K     |██████████████████▏             | 71 kB 20.0 MB/s eta 0:00:01\r\u001b[K     |████████████████████▊           | 81 kB 21.4 MB/s eta 0:00:01\r\u001b[K     |███████████████████████▍        | 92 kB 22.3 MB/s eta 0:00:01\r\u001b[K     |██████████████████████████      | 102 kB 22.9 MB/s eta 0:00:01\r\u001b[K     |████████████████████████████▋   | 112 kB 22.9 MB/s eta 0:00:01\r\u001b[K     |███████████████████████████████▏| 122 kB 22.9 MB/s eta 0:00:01\r\u001b[K     |████████████████████████████████| 126 kB 22.9 MB/s \n",
            "\u001b[?25hRequirement already satisfied: numpy>=1.15 in /usr/local/lib/python3.7/dist-packages (from brainpy-simulator) (1.19.5)\n",
            "Requirement already satisfied: matplotlib>=3.2 in /usr/local/lib/python3.7/dist-packages (from brainpy-simulator) (3.2.2)\n",
            "Requirement already satisfied: python-dateutil>=2.1 in /usr/local/lib/python3.7/dist-packages (from matplotlib>=3.2->brainpy-simulator) (2.8.2)\n",
            "Requirement already satisfied: cycler>=0.10 in /usr/local/lib/python3.7/dist-packages (from matplotlib>=3.2->brainpy-simulator) (0.10.0)\n",
            "Requirement already satisfied: pyparsing!=2.0.4,!=2.1.2,!=2.1.6,>=2.0.1 in /usr/local/lib/python3.7/dist-packages (from matplotlib>=3.2->brainpy-simulator) (2.4.7)\n",
            "Requirement already satisfied: kiwisolver>=1.0.1 in /usr/local/lib/python3.7/dist-packages (from matplotlib>=3.2->brainpy-simulator) (1.3.1)\n",
            "Requirement already satisfied: six in /usr/local/lib/python3.7/dist-packages (from cycler>=0.10->matplotlib>=3.2->brainpy-simulator) (1.15.0)\n",
            "Building wheels for collected packages: brainpy-simulator\n",
            "  Building wheel for brainpy-simulator (setup.py) ... \u001b[?25l\u001b[?25hdone\n",
            "  Created wheel for brainpy-simulator: filename=brainpy_simulator-1.0.2-py3-none-any.whl size=152104 sha256=9f06600e7cae45df374868e5bf2a479323deb0d8f09fa10e384b56b8b5f22c64\n",
            "  Stored in directory: /root/.cache/pip/wheels/ec/1c/3f/e33093b69bc03ff9b2742480ec6126ddef875ba4f6d3699659\n",
            "Successfully built brainpy-simulator\n",
            "Installing collected packages: brainpy-simulator\n",
            "Successfully installed brainpy-simulator-1.0.2\n"
          ],
          "name": "stdout"
        }
      ]
    },
    {
      "cell_type": "code",
      "metadata": {
        "id": "n_192zL9EQ4y"
      },
      "source": [
        "import numpy as np\n",
        "import brainpy as bp\n",
        "\n",
        "import matplotlib.pyplot as plt\n",
        "import matplotlib.colors as mcolors"
      ],
      "execution_count": null,
      "outputs": []
    },
    {
      "cell_type": "markdown",
      "metadata": {
        "id": "LkLRyRoD6mMQ"
      },
      "source": [
        "* Step1: build LIF neuron, voltage jump synapse, STP synapse"
      ]
    },
    {
      "cell_type": "code",
      "metadata": {
        "id": "FyRN3T4t6h0z"
      },
      "source": [
        "## LIF neuron\n",
        "class LIF(bp.NeuGroup):\n",
        "  target_backend = ['numpy', 'numba']\n",
        "\n",
        "  @staticmethod\n",
        "  @bp.odeint(method='exponential_euler')\n",
        "  def integral(V, t, Iext, V_rest, R, tau):\n",
        "    dvdt = (-V + V_rest + R * Iext) / tau\n",
        "    return dvdt\n",
        "\n",
        "  def __init__(self, size, t_ref=1., V_rest=0., V_reset=0., \n",
        "               V_th=20., R=1., tau=10., **kwargs):\n",
        "    super(LIF, self).__init__(size=size, **kwargs)\n",
        "    \n",
        "    # parameters\n",
        "    self.V_rest = V_rest\n",
        "    self.V_reset = V_reset\n",
        "    self.V_th = V_th\n",
        "    self.R = R\n",
        "    self.tau = tau\n",
        "    self.t_ref = t_ref\n",
        "\n",
        "    # variables\n",
        "    self.t_last_spike = bp.ops.ones(self.num) * -1e7\n",
        "    self.refractory = bp.ops.zeros(self.num, dtype=bool)\n",
        "    self.spike = bp.ops.zeros(self.num, dtype=bool)\n",
        "    self.V = bp.ops.ones(self.num) * V_rest\n",
        "    self.input = bp.ops.zeros(self.num)\n",
        "\n",
        "  def update(self, _t):\n",
        "    for i in range(self.num):\n",
        "      spike = False\n",
        "      refractory = (_t - self.t_last_spike[i]) <= self.t_ref\n",
        "      if not refractory:\n",
        "        V = self.integral(self.V[i], _t, self.input[i],\n",
        "                          self.V_rest, self.R, self.tau)\n",
        "        spike = (V >= self.V_th)\n",
        "        if spike:\n",
        "          V = self.V_reset\n",
        "          self.t_last_spike[i] = _t\n",
        "          refractory = True\n",
        "        self.V[i] = V\n",
        "      self.spike[i] = spike\n",
        "      self.refractory[i] = refractory\n",
        "      self.input[i] = 0."
      ],
      "execution_count": null,
      "outputs": []
    },
    {
      "cell_type": "code",
      "metadata": {
        "id": "unztZ0rQ7Jls"
      },
      "source": [
        "## STP synapse\n",
        "class STP(bp.TwoEndConn):\n",
        "  target_backend = 'general'\n",
        "\n",
        "  @staticmethod\n",
        "  @bp.odeint(method='exponential_euler')\n",
        "  def integral(s, u, x, t, tau, tau_d, tau_f):\n",
        "    # Dynamics\n",
        "    dsdt = - s / tau \n",
        "    dudt = - u / tau_f \n",
        "    dxdt = (1 - x) / tau_d\n",
        "    return dsdt, dudt, dxdt\n",
        "  \n",
        "  def __init__(self, pre, post, conn, delay=0., U=0.15, tau_f=1500., tau_d=200., tau=8., A=1.,  **kwargs):\n",
        "    # parameters\n",
        "    self.tau_d = tau_d\n",
        "    self.tau_f = tau_f\n",
        "    self.tau = tau\n",
        "    self.U = U\n",
        "    self.delay = delay\n",
        "\n",
        "    # connections\n",
        "    self.conn = conn(pre.size, post.size)\n",
        "    self.pre_ids, self.post_ids = conn.requires('pre_ids', 'post_ids')\n",
        "    self.num = len(self.pre_ids)\n",
        "\n",
        "    # variables\n",
        "    self.s = bp.ops.zeros(self.num)\n",
        "    self.x = bp.ops.ones(self.num)\n",
        "    self.u = bp.ops.zeros(self.num)\n",
        "    self.A = A\n",
        "    self.I_syn = self.register_constant_delay('I_syn', size=self.num, delay_time=delay)\n",
        "    \n",
        "    super(STP, self).__init__(pre=pre, post=post, **kwargs)\n",
        "\n",
        "  def update(self, _t):\n",
        "    for i in range(self.num):\n",
        "      pre_id, post_id = self.pre_ids[i], self.post_ids[i]\n",
        "\n",
        "      self.s[i], u, x = self.integral(self.s[i], self.u[i], self.x[i], _t, self.tau, self.tau_d, self.tau_f)\n",
        "      if self.pre.spike[pre_id]:\n",
        "        # update if there is a spike\n",
        "        u += self.U * (1 - self.u[i])\n",
        "        self.s[i] += self.A * u * self.x[i]  \n",
        "        x -= u * self.x[i]\n",
        "      self.u[i] = u\n",
        "      self.x[i] = x\n",
        "\n",
        "      # output\n",
        "      self.I_syn.push(i, self.s[i])\n",
        "      self.post.input[post_id] += self.I_syn.pull(i)"
      ],
      "execution_count": null,
      "outputs": []
    },
    {
      "cell_type": "code",
      "metadata": {
        "id": "Ll7DKEVw7akn"
      },
      "source": [
        "## STD/STF parameters and plot \n",
        "neu1 = LIF(1, monitors=['V'])\n",
        "neu2 = LIF(1, monitors=['V'])\n",
        "\n",
        "# STD\n",
        "syn = STP(U=0.2, tau_d=150., tau_f=2., pre=neu1, post=neu2, \n",
        "          conn=bp.connect.All2All(), monitors=['s', 'u', 'x'])\n",
        "net = bp.Network(neu1, syn, neu2)\n",
        "net.run(100., inputs=(neu1, 'input', 28.))\n",
        "\n",
        "# plot\n",
        "fig, gs = bp.visualize.get_figure(2, 1, 3, 7)\n",
        "\n",
        "fig.add_subplot(gs[0, 0])\n",
        "plt.plot(net.ts, syn.mon.u[:, 0], label='u')\n",
        "plt.plot(net.ts, syn.mon.x[:, 0], label='x')\n",
        "plt.legend()\n",
        "\n",
        "fig.add_subplot(gs[1, 0])\n",
        "plt.plot(net.ts, syn.mon.s[:, 0], label='s')\n",
        "plt.legend()\n",
        "\n",
        "plt.xlabel('Time (ms)')\n",
        "plt.show()"
      ],
      "execution_count": null,
      "outputs": []
    },
    {
      "cell_type": "markdown",
      "metadata": {
        "id": "_cPuoNW664kw"
      },
      "source": [
        ""
      ]
    }
  ]
}