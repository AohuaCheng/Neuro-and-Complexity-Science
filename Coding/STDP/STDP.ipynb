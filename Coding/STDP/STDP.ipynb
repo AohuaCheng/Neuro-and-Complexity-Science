{
  "nbformat": 4,
  "nbformat_minor": 0,
  "metadata": {
    "colab": {
      "name": "project-spiking circuit model for working memory.ipynb",
      "provenance": [],
      "collapsed_sections": [],
      "include_colab_link": true
    },
    "kernelspec": {
      "display_name": "Python 3",
      "language": "python",
      "name": "python3"
    },
    "language_info": {
      "codemirror_mode": {
        "name": "ipython",
        "version": 3
      },
      "file_extension": ".py",
      "mimetype": "text/x-python",
      "name": "python",
      "nbconvert_exporter": "python",
      "pygments_lexer": "ipython3",
      "version": "3.7.8"
    }
  },
  "cells": [
    {
      "cell_type": "markdown",
      "metadata": {
        "id": "view-in-github",
        "colab_type": "text"
      },
      "source": [
        "<a href=\"https://colab.research.google.com/github/cahcharm/Neuro-and-Complexity-Science/blob/neuro-morphology/Coding/STDP/STDP.ipynb\" target=\"_parent\"><img src=\"https://colab.research.google.com/assets/colab-badge.svg\" alt=\"Open In Colab\"/></a>"
      ]
    },
    {
      "cell_type": "markdown",
      "metadata": {
        "id": "U4qCoFCTEVnd"
      },
      "source": [
        "# **A calcium-influx-dependent plasticity model**\n",
        "\n",
        "A calcium-influx-dependent plasticity model exhibiting multiple STDP curves Akke Mats Houben1 · Matthias S. Keil1\n"
      ]
    },
    {
      "cell_type": "code",
      "metadata": {
        "colab": {
          "base_uri": "https://localhost:8080/"
        },
        "id": "LsX1Lx6HEVLK",
        "outputId": "0d2f0580-4d91-48e3-c5c5-ab6ad7028416"
      },
      "source": [
        "pip install -U brainpy-simulator"
      ],
      "execution_count": 1,
      "outputs": [
        {
          "output_type": "stream",
          "name": "stdout",
          "text": [
            "Requirement already satisfied: brainpy-simulator in /usr/local/lib/python3.7/dist-packages (1.0.3)\n",
            "Requirement already satisfied: numpy>=1.15 in /usr/local/lib/python3.7/dist-packages (from brainpy-simulator) (1.19.5)\n",
            "Requirement already satisfied: matplotlib>=3.3 in /usr/local/lib/python3.7/dist-packages (from brainpy-simulator) (3.4.3)\n",
            "Requirement already satisfied: python-dateutil>=2.7 in /usr/local/lib/python3.7/dist-packages (from matplotlib>=3.3->brainpy-simulator) (2.8.2)\n",
            "Requirement already satisfied: cycler>=0.10 in /usr/local/lib/python3.7/dist-packages (from matplotlib>=3.3->brainpy-simulator) (0.10.0)\n",
            "Requirement already satisfied: pillow>=6.2.0 in /usr/local/lib/python3.7/dist-packages (from matplotlib>=3.3->brainpy-simulator) (7.1.2)\n",
            "Requirement already satisfied: kiwisolver>=1.0.1 in /usr/local/lib/python3.7/dist-packages (from matplotlib>=3.3->brainpy-simulator) (1.3.1)\n",
            "Requirement already satisfied: pyparsing>=2.2.1 in /usr/local/lib/python3.7/dist-packages (from matplotlib>=3.3->brainpy-simulator) (2.4.7)\n",
            "Requirement already satisfied: six in /usr/local/lib/python3.7/dist-packages (from cycler>=0.10->matplotlib>=3.3->brainpy-simulator) (1.15.0)\n"
          ]
        }
      ]
    },
    {
      "cell_type": "code",
      "metadata": {
        "id": "n_192zL9EQ4y"
      },
      "source": [
        "import numpy as np\n",
        "import brainpy as bp\n",
        "import matplotlib.pyplot as plt"
      ],
      "execution_count": 2,
      "outputs": []
    },
    {
      "cell_type": "code",
      "metadata": {
        "id": "5W7UyMYXPTZE"
      },
      "source": [
        "dt=0.1\n",
        "bp.backend.set(dt=dt)"
      ],
      "execution_count": 3,
      "outputs": []
    },
    {
      "cell_type": "markdown",
      "metadata": {
        "id": "0rPu6rPTG57I"
      },
      "source": [
        "## Step 1: build LIF neuron"
      ]
    },
    {
      "cell_type": "markdown",
      "metadata": {
        "id": "LkLRyRoD6mMQ"
      },
      "source": [
        "**Post-synaptic neuron : LIF Neuron**\n",
        "\n",
        "The post-synaptic neuron is modelled as a simple leaky\n",
        "integrate-and-fire neuron, with a membrane equation that includes two\n",
        "additional currents for the AMPA and NMDA receptors:\n",
        "$$\n",
        "\\tau_m \\frac{dV}{dt} = I - g_L(V-E_L)-g_{ampa}(V-E_{ampa})-g_{nmpa}(V-E_{nmda})\n",
        "$$\n",
        "With auxiliary reset rule: $(V>E_{th})\\to (V\\leftarrow E_{reset}) $ accounting for spiking behavior.\n",
        "\n",
        "**low-pass filtered version of the membrane potential**\n",
        "\n",
        "For the calculation of the synapse-specific $Ca^{2+}$ current, a low-pass-filtered version of the membrane potential $V_i$ is used, per synapse $i$:\n",
        "\n",
        "$$\n",
        "\\tau_V\\frac{dV_i}{dt}=-V_i + V\n",
        "$$\n",
        "\n",
        "In which $\\tau_V$ is the time constant of the dendritic membrane potential.\n",
        "\n",
        "The low-pass filtered version of the membrane potential is a coarse approximation of the effect of distancefrom the point of AP initiation, yet it will serve well as a first approximation. As will be shown later, different valuesfor $\\tau_{V}$ will result in different STDP curves."
      ]
    },
    {
      "cell_type": "code",
      "metadata": {
        "id": "32AKGutPDQYU"
      },
      "source": [
        "## Parameters setting\n",
        "tau_m = 10 # [ms]\n",
        "g_L = 1 # [mS/mm2]\n",
        "E_L = -65 # [mV]\n",
        "E_ampa = 60 # [mV]\n",
        "E_nmda = 0 # [mV]\n",
        "tau_V = 10/9 # classical [ms] 2, 4/3, 2/3, 100, 4/3, 20, 9/8, 2.5\n",
        "tau_G = 20 # classical [ms] 2, 20, 20, 1, 2, 20, 2, 20\n",
        "\n",
        "bar_g_nmda = 0.01 # [mS/mm2]\n",
        "tau_p = 1.5 # [ms]\n",
        "alpha_p = 0.5\n",
        "tau_n = 152 # [ms]\n",
        "alpha_n = 0.5\n",
        "Mg2 = 1 # [mM]\n",
        "alpha = 10\n",
        "tau_Ca = 530 # [ms]\n",
        "\n",
        "bar_g_ampa = 0.05 # [mS/mm2]\n",
        "tau_ampa = 5.26 # tau_n fo P_n in AMPA [ms]\n",
        "\n",
        "phi_f = 1e-5\n",
        "phi_s = 0.1\n",
        "alpha_s = 7.4e-6\n",
        "tau_f = 3.5 # [ms]\n",
        "tau_s = 8 # [ms]\n",
        "\n",
        "alpha_Af = 0.1"
      ],
      "execution_count": 4,
      "outputs": []
    },
    {
      "cell_type": "code",
      "metadata": {
        "id": "FyRN3T4t6h0z"
      },
      "source": [
        "class LIF(bp.NeuGroup):\n",
        "  target_backend = ['numpy', 'numba']\n",
        "\n",
        "  @staticmethod\n",
        "  @bp.odeint(method='exponential_euler')\n",
        "  def integral(V, V_lp, t, Iext, tau_V, g_ampa, g_nmda):\n",
        "    I_leak = g_L * (V - E_L)\n",
        "    I_ampa = g_ampa * (V - E_ampa)\n",
        "    I_nmda = g_nmda * (V - E_nmda)\n",
        "    dV = (- I_ampa - I_nmda - I_leak + Iext) / tau_m\n",
        "    dV_lp = (V - V_lp) / tau_V\n",
        "\n",
        "    return dV, dV_lp\n",
        "\n",
        "  def __init__(self, size, t_ref=1., g_ampa=0., g_nmda=0., tau_V=10/9,\n",
        "               V_rest=-65., V_reset=-65., V_th=-50., **kwargs):\n",
        "    super(LIF, self).__init__(size=size, **kwargs)\n",
        "\n",
        "    # parameters\n",
        "    self.t_ref = t_ref\n",
        "    self.g_ampa = g_ampa\n",
        "    self.g_nmda = g_nmda\n",
        "    self.tau_V = tau_V\n",
        "    self.V_th = V_th\n",
        "    self.V_reset = V_reset\n",
        "    self.V_rest = V_rest\n",
        "\n",
        "    # variables\n",
        "    self.t_last_spike = bp.ops.ones(self.num) * -1e7\n",
        "    self.refractory = bp.ops.zeros(self.num, dtype=bool)\n",
        "    self.spike = bp.ops.zeros(self.num, dtype=bool)\n",
        "    self.V = bp.ops.ones(self.num) * self.V_rest\n",
        "    self.V_lp = bp.ops.ones(self.num) * self.V_rest\n",
        "    self.input = bp.ops.zeros(self.num)\n",
        "    self.g_ampa = bp.ops.zeros(self.num)\n",
        "    self.g_nmda = bp.ops.zeros(self.num)\n",
        "\n",
        "  def update(self, _t):\n",
        "    for i in range(self.num):\n",
        "      spike = False\n",
        "      refractory = (_t - self.t_last_spike[i]) <= self.t_ref\n",
        "      if not refractory:\n",
        "        V, V_lp = self.integral(self.V[i], self.V_lp[i], _t, self.input[i],\n",
        "                    self.tau_V, self.g_ampa[i], self.g_nmda[i])\n",
        "        spike = (V >= self.V_th)\n",
        "        if spike:\n",
        "          V = self.V_reset\n",
        "          # V_lp = self.V_reset\n",
        "          self.t_last_spike[i] = _t\n",
        "          refractory = True\n",
        "        self.V[i] = V\n",
        "        self.V_lp[i] = V_lp\n",
        "      self.spike[i] = spike\n",
        "      self.refractory[i] = refractory\n",
        "      self.input[i] = 0."
      ],
      "execution_count": 5,
      "outputs": []
    },
    {
      "cell_type": "code",
      "metadata": {
        "id": "u6DONM4ge-Ih"
      },
      "source": [
        "## LIF\n",
        "t_duration = 200\n",
        "idx_duration = int(t_duration/dt)\n",
        "input_I = bp.ops.zeros(idx_duration)\n",
        "idx_spike = int(2/dt)\n",
        "input_I[0: idx_spike] = 100\n",
        "\n",
        "lif = LIF(size=1, monitors=['V','V_lp']) # size is the iteration rounds\n",
        "lif.run(duration=t_duration, inputs=('input', input_I)) # duration is the real time"
      ],
      "execution_count": 31,
      "outputs": []
    },
    {
      "cell_type": "code",
      "metadata": {
        "colab": {
          "base_uri": "https://localhost:8080/",
          "height": 259
        },
        "id": "FQNO3HkRcXBz",
        "outputId": "b019a1ac-1bf4-4334-802b-8dfdca525477"
      },
      "source": [
        "# plot\n",
        "fig, gs = bp.visualize.get_figure(row_num=1, col_num=1, row_len=3, col_len=7)\n",
        "\n",
        "fig.add_subplot(gs[0, 0])\n",
        "plt.plot(lif.mon.ts, lif.mon.V[:, 0], label='V')\n",
        "plt.plot(lif.mon.ts, lif.mon.V_lp[:, 0], label='V_lp')\n",
        "plt.legend()\n",
        "plt.title('LIF demo')\n",
        "plt.xlabel('time(ms)')"
      ],
      "execution_count": 82,
      "outputs": [
        {
          "output_type": "execute_result",
          "data": {
            "text/plain": [
              "Text(0.5, 0, 'time(ms)')"
            ]
          },
          "metadata": {},
          "execution_count": 82
        },
        {
          "output_type": "display_data",
          "data": {
            "image/png": "[encoded data removed]",
            "text/plain": [
              "<Figure size 504x216 with 1 Axes>"
            ]
          },
          "metadata": {
            "needs_background": "light"
          }
        }
      ]
    },
    {
      "cell_type": "markdown",
      "metadata": {
        "id": "cNhLcGFzFAK2"
      },
      "source": [
        "## Step2: build synapse and yynaptic plasticity based on NMDA & AMPA "
      ]
    },
    {
      "cell_type": "markdown",
      "metadata": {
        "id": "g_9bNOxru2Yt"
      },
      "source": [
        "\n",
        "**NMDA $Ca^{2+}$ current**\n",
        "\n",
        "$$\n",
        "I_{Ca^{2+}}=(1-[Ca^{2+}])g_{nmda}(V_i-E_{nmda})\n",
        "$$\n",
        "\n",
        "In which $V$ is the membrane potentail and $E_{nmda}$ the reversal potential of the NMDA receptors. The term $g_{nmda}$ si controlled by the pre-synaptic activity through $P_{nmda}$ and the NMDA receptor $Mg^{2+}$ block through $\\tilde{G}$。 The NMDa receptor conductance $g_{nmda}$ is thus given as:\n",
        "\n",
        "$$\n",
        "g_{nmda}=\\bar{g}_{nmda}P_{nmda}\\tilde{G}\n",
        "$$\n",
        "\n",
        "$P_{nmda}$ represents the probability of glutamate\n",
        "binding to the post-synaptic NMDA receptors or, assuming\n",
        "a large number of post-synaptic NMDA receptors, it is\n",
        "equivalent to the number of NMDA receptors to which\n",
        "glutamate is bound. $P_{nmda}$ is the product of two dynamical terms $P^{+}, P^{-}$ acconting for the fast rise($\\tau^{+}=1.5ms$) and slow decay($\\tau^{-}=152ms$), respectively.\n",
        "\n",
        "$$\n",
        "\\frac{dP^{+}}{dt}=\\frac{1-P^{+}}{\\tau^{+}} + \\delta_{pre}\\alpha^{+}P^{+}\\\\\n",
        "\\frac{dP^{-}}{dt}=\\frac{0-P^{-}}{\\tau^{-}} + \\delta_{pre}\\alpha^{-}(1-P^{-})\n",
        "$$\n",
        "\n",
        "$\\delta_{pre}=1$ at the time of a pre-synaptic spike and $\\delta_{pre}=0$ otherwise. $\\alpha^{+},\\alpha^{-}$ determine the jump maded in response to pre-synaptic activity and are equivalent to the amount of neurtransmitter release.\n",
        "\n",
        "The NMDA receptors are blocked by $Mg^{2+}$ at low\n",
        "membrane potentials, thus the NMDA receptor conductance $g_{nmda}$ also depends on the voltage dependent unblocking. The effect og $Mg^{2+}$ block is given by the function $G(V)$\n",
        "\n",
        "$$\n",
        "G(V) = (1+\\frac{[Mg^{2+}]}{3.56}\\exp[-V/16.12])^{-1}\n",
        "$$\n",
        "\n",
        "This equation calculates the $Mg^{2+}$ block instantaneously, however it has been found that this is a non-instantaneous process. To account for the non-instantaneous blocking/unblocking a low-pass filtered version $\\tilde{G}$ is used,\n",
        "\n",
        "$$\n",
        "\\tau_{G}\\frac{d\\tilde{G}}{dt}=-\\tilde{G} + G(V_i)\n",
        "$$\n",
        "$\\tau_{G}$ will result in different STDP curves.\n",
        "\n",
        "The calcium concentration is then given by\n",
        "\n",
        "$$\n",
        "\\frac{d[Ca^{2+}]}{dt}=\\frac{(1-[Ca^{2+}])-\\alpha I_{Ca^{2+}}^{(i)}}{\\tau_{[Ca^{2+}]}}\n",
        "$$\n",
        "\n",
        "This equation could possibly be extended to a case in\n",
        "which interactions between multiple proximal synapses\n",
        "are considered by some weighted summation of the\n",
        "independent calcium concentrations. \n",
        "\n",
        "---\n",
        "\n",
        "**AMPA receptors**\n",
        "\n",
        "The phenomoenological variable $w_i$ captures the synaptic stregth of synapse i. The AMPAR conductance $g_{ampa}$ is given by:\n",
        "\n",
        "$$\n",
        "g_{ampa}=w_i \\bar{g}_{ampa}P_{ampa}\n",
        "$$\n",
        "\n",
        "in which the interpretation of $P_{ampa}$ is the same as $P_{nmda}$ as used in the calculation of the NMDA receptor conductance. It follows the same dynamical equation as $P^{-}$, but with a time constant of $\\tau_{ampa}=5.26ms$\n"
      ]
    },
    {
      "cell_type": "code",
      "metadata": {
        "id": "lBGvKMbNvVCa"
      },
      "source": [
        "class Synapse(bp.TwoEndConn):\n",
        "  target_backend = ['numpy', 'numba']\n",
        "\n",
        "  @staticmethod\n",
        "  @bp.odeint # (method='exponential_euler')\n",
        "  def integral(P_p, P_n, P_n_ampa, sim_G, c_Ca, w, A_f, A_s, t, I_Ca_h, V_lp, tau_G):\n",
        "    dP_p = (1 - P_p) / tau_p\n",
        "    dP_n = (0 - P_n) / tau_n\n",
        "    dP_n_ampa = (0 - P_n_ampa) / tau_ampa\n",
        "    G = 1 / ( 1 + Mg2/3.56 * np.exp(-V_lp/16.12) )\n",
        "    dsim_G = (-sim_G + G) / tau_G\n",
        "    dc_Ca = ( ( - c_Ca) - alpha *I_Ca_h ) / tau_Ca # revised the formula in paper\n",
        "    P_nmda = P_p * P_n\n",
        "    g_nmda = bar_g_nmda * P_nmda * sim_G\n",
        "    I_Ca = (1 - c_Ca) * g_nmda * (V_lp - E_nmda)\n",
        "\n",
        "    H1 = np.heaviside(np.abs(A_f)-phi_f, 0)\n",
        "    H2 = np.heaviside(A_s-phi_s, 0)\n",
        "\n",
        "    delta_I_Ca = (I_Ca - I_Ca_h) / dt\n",
        "    dw = A_f*H1 - alpha_s*A_s*H2\n",
        "    dA_f = (-A_f + alpha_Af*(1-A_f)*delta_I_Ca) / tau_f\n",
        "    dA_s = (-A_s - (1 - A_s)*I_Ca) / tau_s\n",
        "\n",
        "    return dP_p, dP_n, dP_n_ampa, dsim_G, dc_Ca, dw, dA_f, dA_s\n",
        "\n",
        "  def __init__(self, pre, post, conn, tau_G=20., **kwargs):\n",
        "    super(Synapse, self).__init__(pre=pre, post=post, **kwargs)\n",
        "    # parameters\n",
        "    self.tau_G = tau_G\n",
        "\n",
        "    # connections\n",
        "    self.conn = conn(pre.size, post.size)\n",
        "    self.pre_ids, self.post_ids = conn.requires('pre_ids', 'post_ids')\n",
        "    self.size = len(self.pre_ids)\n",
        "\n",
        "    # variables\n",
        "    self.P_p = bp.ops.ones(self.size)\n",
        "    self.P_n = bp.ops.zeros(self.size)\n",
        "    self.P_n_ampa = bp.ops.zeros(self.size)\n",
        "    self.sim_G = bp.ops.ones(self.size) * 1 / ( 1 + Mg2/3.56 * np.exp(-E_L/16.12) )\n",
        "    self.c_Ca = bp.ops.zeros(self.size)\n",
        "    self.g_nmda = bp.ops.zeros(self.size)\n",
        "    self.g_ampa = bp.ops.zeros(self.size)\n",
        "    self.I_Ca = bp.ops.zeros(self.size)\n",
        "    self.w = bp.ops.zeros(self.size)\n",
        "    self.A_f = bp.ops.zeros(self.size)\n",
        "    self.A_s = bp.ops.zeros(self.size)\n",
        "\n",
        "  def update(self, _t):\n",
        "    for i in range(self.size):\n",
        "      pre_id, post_id = self.pre_ids[i], self.post_ids[i]\n",
        "      # update\n",
        "      P_p, P_n, P_n_ampa, self.sim_G[i], self.c_Ca[i], self.w[i], self.A_f[i], self.A_s[i] = self.integral(self.P_p[i], \n",
        "      self.P_n[i], self.P_n_ampa[i], self.sim_G[i], self.c_Ca[i], self.w[i], \n",
        "      self.A_f[i], self.A_s[i], _t, self.I_Ca[i], self.post.V_lp[post_id], self.tau_G)\n",
        "      P_nmda = P_p * P_n\n",
        "      P_ampa = P_p * P_n_ampa\n",
        "      self.g_nmda[i] = bar_g_nmda * P_nmda * self.sim_G[i]\n",
        "      self.g_ampa[i] = self.w[i] * bar_g_ampa * P_ampa\n",
        "      self.I_Ca[i] = (1 - self.c_Ca[i]) * self.g_nmda[i] * (self.post.V_lp[post_id] - E_nmda)\n",
        "      if self.pre.spike[pre_id]:\n",
        "        P_p += alpha_p * self.P_p[i]\n",
        "        P_n += alpha_n * (1 - self.P_n[i])\n",
        "        P_n_ampa += alpha_n * (1 - self.P_n_ampa[i])\n",
        "      self.P_p[i] = P_p\n",
        "      self.P_n[i] = P_n\n",
        "      self.P_n_ampa[i] = P_n_ampa\n",
        " \n",
        "      # output\n",
        "      self.post.g_nmda[post_id] = self.g_nmda[i]\n",
        "      self.post.g_ampa[post_id] = self.g_ampa[i]"
      ],
      "execution_count": 48,
      "outputs": []
    },
    {
      "cell_type": "markdown",
      "metadata": {
        "id": "gPUB-wqhG57S"
      },
      "source": [
        "**Synaptic plasticity**\n",
        "\n",
        "the change in $w_i$ will be governed by both the magnitude and the time evolution of the $Ca^{2+}$ current. The synaptic weight changes are calculated from two signals that are derived a fast signal $A_f$ which will determine the main shape of the STDP window and a slow signal $A_s$ that will center the STDP curve around zero:\n",
        "\n",
        "$$\n",
        "\\Delta w_i = A_f\\Theta (|A_f|-\\varphi_f)-\\alpha_s A_s \\Theta(A_s-\\varphi_s)\n",
        "$$\n",
        "\n",
        "where $\\Theta$ is the Heaviside step function and $\\varphi_f, \\varphi_s$ are thresholds to ensure that below a certain level no synaptic changes occur. The scaling factor $\\alpha_s$ determins the amount in which $A_s$ influences the resultant synaptic change, in effect it determines to what extend the STDP window is shifted downwards. The weight update in above equation may seem rather un-biopysical, considering existing models.\n",
        "\n",
        "However, this study is to propose a STDP mechanism that does not depend on the $Ca^{2+}$ concentration, but rather takes experimental observations into account that show the importance of the dynamics of the $Ca^{2+}$ current.\n",
        "\n",
        "**Therefore we propose a signal that is derived from the $Ca^{2+}$ dynamics, is consistent with experimental data, and results in the same synaptic changes.**\n",
        "\n",
        "The difference in time scale of the two signals is\n",
        "motivated by the observation that spike-timing-dependent\n",
        "LTP involves fast signalling and spike-timing-dependent\n",
        "LTD depends on a slower timescale. The slow signal $A_s$ can be seen as the $[Ca^{2+}]$ in the spine that remains after the initial transient and is thus directly derived from the $Ca^{2+}$ currenct $I_{Ca^{2++}}$:\n",
        "\n",
        "$$\n",
        "\\tau_s\\frac{dA_s}{dt}=-A_s-(1-A_s)I_{Ca^{2+}}\n",
        "$$\n",
        "\n",
        "The signal $A_s$ evolves with a relatively slow time constant $\\tau_s\\approx 8ms$ and its peak is therefore attenuated, this, combined with the thresholding function of the Heaviside step function, makes that this signal acts to induce LTD for $Ca^{2+}$ levels above a certain threshold $\\varphi_s$, similiar to the LTD part of the calcium control models. Above equation includes a saturation which does not qualitatively alter the results of the current simulation.\n",
        "\n",
        "The main determinant for the shape of the STDP curve is the fast signal $A_f$, which acts on a time scale of $\\tau_f\\approx 3.5ms$. The aim was to make the synaptic change dependent on other factors than the peak or average $[Ca^{2+}]$ alone, by taking into account a term that depends on the time course of the $Ca^{2+}$ influx. As a simple initial the first time-difference of the $Ca^{2+}$ current is taken: $h\\Delta I_{Ca^{2+}}=I_{Ca^{2+}}(t)-I_{Ca^{2+}}(t-h)$, with $h$ being the simulation timestep. The signal $A_f$ then follows:\n",
        "\n",
        "$$\n",
        "\\tau_f\\frac{dA_f}{dt} =-A_f+\\alpha_{A_f}(1-A_f)\\Delta I_{Ca^{2+}}\n",
        "$$\n",
        "\n",
        "The saturation here has a strong effect on the resulting synaptic change. The fast signal $A_f$, and with that the gross shape of the STDP curve, depends effectively on a low-pass filtered version, with a non-linearity due to the saturation, of the rate of change of $Ca^{2+}$ influx.\n"
      ]
    },
    {
      "cell_type": "markdown",
      "metadata": {
        "id": "cfq83lwkFV0B"
      },
      "source": [
        "## Result"
      ]
    },
    {
      "cell_type": "code",
      "metadata": {
        "id": "pGHWgHhiYfuk",
        "colab": {
          "base_uri": "https://localhost:8080/",
          "height": 475
        },
        "outputId": "f58fe2f7-4abd-4e44-bb0e-6844678b426f"
      },
      "source": [
        "# Fig.3: Ca2+ concentration for different timecourses delta_t = -20/20 ms\n",
        "\n",
        "delta_T = [-20, 20]\n",
        "Legend = ['pre-post', 'post-pre']\n",
        "fig, gs = bp.visualize.get_figure(2, 1, 3, 10)\n",
        "for i in range(2):\n",
        "  # spiking setting\n",
        "  delta_t = delta_T[i]\n",
        "  t_duration = 1600\n",
        "  idx_duration = int(t_duration/dt)\n",
        "  pre_I = bp.ops.zeros(idx_duration)\n",
        "  post_I = bp.ops.zeros(idx_duration)\n",
        "  idx_pre_spike = int((300+delta_t)/dt)\n",
        "  idx_post_spike = int(300/dt)\n",
        "  idx_spike_duration = int(2/dt)\n",
        "  pre_I[idx_pre_spike: idx_pre_spike+idx_spike_duration] = 100\n",
        "  post_I[idx_post_spike: idx_post_spike+idx_spike_duration] = 100\n",
        "\n",
        "  # run model\n",
        "  neu1 = LIF(1, monitors=['V', 'V_lp'])\n",
        "  neu2 = LIF(1, monitors=['V'])\n",
        "  syn1 = Synapse(pre=neu1, post=neu2, conn=bp.connect.All2All(), monitors=['c_Ca'])\n",
        "  net1 = bp.Network(neu1, syn1, neu2)\n",
        "  net1.run(t_duration, inputs=[(neu1, 'input', pre_I), (neu2, 'input', post_I)])\n",
        "\n",
        "  # plot\n",
        "  ax = fig.add_subplot(gs[i, 0])\n",
        "  plt.plot(neu1.mon.ts, syn1.mon.c_Ca, label=Legend[i])\n",
        "  plt.legend()\n",
        "  # add ylabel\n",
        "  ax.set_ylabel('Ca2+ concentration')\n",
        "  # set axis lim\n",
        "  plt.xlim(200, t_duration)\n",
        "  # note the pre/post firing\n",
        "  plt.fill_between([300,300+2],0.,0.035,facecolor='gray',alpha=0.3)\n",
        "  plt.fill_between([300+delta_t,300+delta_t+2],0.,0.035,facecolor='blue',alpha=0.3)\n",
        "\n",
        "plt.xlabel('time(ms)')"
      ],
      "execution_count": 83,
      "outputs": [
        {
          "output_type": "execute_result",
          "data": {
            "text/plain": [
              "Text(0.5, 0, 'time(ms)')"
            ]
          },
          "metadata": {},
          "execution_count": 83
        },
        {
          "output_type": "display_data",
          "data": {
            "image/png": "[encoded data removed]",
            "text/plain": [
              "<Figure size 720x432 with 2 Axes>"
            ]
          },
          "metadata": {
            "needs_background": "light"
          }
        }
      ]
    },
    {
      "cell_type": "code",
      "metadata": {
        "colab": {
          "base_uri": "https://localhost:8080/",
          "height": 457
        },
        "id": "hvngX5OlWyrG",
        "outputId": "7bb17377-7bfa-4f6a-ed7b-f52e0bd00d8f"
      },
      "source": [
        "# Fig4: Ca2+ current timecourse for different timecourses delta_t = -20/20 ms\n",
        "\n",
        "delta_T = [-20, 20]\n",
        "Legend = ['pre-post', 'post-pre']\n",
        "fig, gs = bp.visualize.get_figure(2, 1, 3, 10)\n",
        "for i in range(2):\n",
        "  # spiking setting\n",
        "  delta_t = delta_T[i]\n",
        "  t_duration = 1600\n",
        "  idx_duration = int(t_duration/dt)\n",
        "  pre_I = bp.ops.zeros(idx_duration)\n",
        "  post_I = bp.ops.zeros(idx_duration)\n",
        "  idx_pre_spike = int((300+delta_t)/dt)\n",
        "  idx_post_spike = int(300/dt)\n",
        "  idx_spike_duration = int(2/dt)\n",
        "  pre_I[idx_pre_spike: idx_pre_spike+idx_spike_duration] = 100\n",
        "  post_I[idx_post_spike: idx_post_spike+idx_spike_duration] = 100\n",
        "\n",
        "  # run model\n",
        "  neu1 = LIF(1, monitors=['V', 'V_lp'])\n",
        "  neu2 = LIF(1, monitors=['V'])\n",
        "  syn1 = Synapse(pre=neu1, post=neu2, conn=bp.connect.All2All(), monitors=['I_Ca'])\n",
        "  net1 = bp.Network(neu1, syn1, neu2)\n",
        "  net1.run(t_duration, inputs=[(neu1, 'input', pre_I), (neu2, 'input', post_I)])\n",
        "\n",
        "  # plot\n",
        "  ax = fig.add_subplot(gs[i, 0])\n",
        "  plt.plot(neu1.mon.ts, syn1.mon.I_Ca, label=Legend[i])\n",
        "  ax.invert_yaxis()\n",
        "  plt.legend()\n",
        "  # add ylabel\n",
        "  ax.set_ylabel('Ca2+ current')\n",
        "  # set axis lim\n",
        "  plt.xlim(200, 800)\n",
        "  # note the pre/post firing\n",
        "  plt.fill_between([300,300+2],0.,-0.035,facecolor='gray',alpha=0.3)\n",
        "  plt.fill_between([300+delta_t,300+delta_t+2],0.,-0.035,facecolor='blue',alpha=0.3)\n",
        "\n",
        "plt.xlabel('time(ms)')"
      ],
      "execution_count": 76,
      "outputs": [
        {
          "output_type": "display_data",
          "data": {
            "image/png": "[encoded data removed]",
            "text/plain": [
              "<Figure size 720x432 with 2 Axes>"
            ]
          },
          "metadata": {
            "needs_background": "light"
          }
        }
      ]
    },
    {
      "cell_type": "code",
      "metadata": {
        "id": "TDsSpH5nG57S"
      },
      "source": [
        "# Fig4: Ca2+ current timecourse for different timecourses delta_t = -20/20 ms\n",
        "\n",
        "delta_T = [-20, 20]\n",
        "Legend = ['pre-post', 'post-pre']\n",
        "fig, gs = bp.visualize.get_figure(2, 1, 3, 10)\n",
        "for i in range(2):\n",
        "  # spiking setting\n",
        "  delta_t = delta_T[i]\n",
        "  t_duration = 1600\n",
        "  idx_duration = int(t_duration/dt)\n",
        "  pre_I = bp.ops.zeros(idx_duration)\n",
        "  post_I = bp.ops.zeros(idx_duration)\n",
        "  idx_pre_spike = int((300+delta_t)/dt)\n",
        "  idx_post_spike = int(300/dt)\n",
        "  idx_spike_duration = int(2/dt)\n",
        "  pre_I[idx_pre_spike: idx_pre_spike+idx_spike_duration] = 100\n",
        "  post_I[idx_post_spike: idx_post_spike+idx_spike_duration] = 100\n",
        "\n",
        "  # run model\n",
        "  neu1 = LIF(1, monitors=['V', 'V_lp'])\n",
        "  neu2 = LIF(1, monitors=['V'])\n",
        "  syn1 = Synapse(pre=neu1, post=neu2, conn=bp.connect.All2All(), monitors=['I_Ca'])\n",
        "  net1 = bp.Network(neu1, syn1, neu2)\n",
        "  net1.run(t_duration, inputs=[(neu1, 'input', pre_I), (neu2, 'input', post_I)])\n",
        "\n",
        "  # plot\n",
        "  ax = fig.add_subplot(gs[i, 0])\n",
        "  plt.plot(neu1.mon.ts, syn1.mon.I_Ca, label=Legend[i])\n",
        "  ax.invert_yaxis()\n",
        "  plt.legend()\n",
        "  # add ylabel\n",
        "  ax.set_ylabel('Ca2+ current')\n",
        "  # set axis lim\n",
        "  plt.xlim(200, 800)\n",
        "  # note the pre/post firing\n",
        "  plt.fill_between([300,300+2],0.,-0.035,facecolor='gray',alpha=0.3)\n",
        "  plt.fill_between([300+delta_t,300+delta_t+2],0.,-0.035,facecolor='blue',alpha=0.3)\n",
        "\n",
        "plt.xlabel('time(ms)')"
      ],
      "execution_count": null,
      "outputs": []
    }
  ]
}