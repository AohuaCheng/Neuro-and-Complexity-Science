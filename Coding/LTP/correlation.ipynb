{
  "nbformat": 4,
  "nbformat_minor": 2,
  "metadata": {
    "colab": {
      "name": "project-spiking circuit model for working memory.ipynb",
      "provenance": [],
      "collapsed_sections": [],
      "include_colab_link": true
    },
    "kernelspec": {
      "name": "python3",
      "display_name": "Python 3.9.7 64-bit ('aohua_conda': conda)"
    },
    "language_info": {
      "codemirror_mode": {
        "name": "ipython",
        "version": 3
      },
      "file_extension": ".py",
      "mimetype": "text/x-python",
      "name": "python",
      "nbconvert_exporter": "python",
      "pygments_lexer": "ipython3",
      "version": "3.9.7"
    },
    "interpreter": {
      "hash": "0e5b852a018378edb071f71798db1e8fb7fa9944f4f4917030beec4ff1b4bacd"
    }
  },
  "cells": [
    {
      "cell_type": "markdown",
      "source": [
        "<a href=\"https://colab.research.google.com/github/cahcharm/Neuro-and-Complexity-Science/blob/neuro-morphology/Coding/LTP/correlation.ipynb\" target=\"_parent\"><img src=\"https://colab.research.google.com/assets/colab-badge.svg\" alt=\"Open In Colab\"/></a>"
      ],
      "metadata": {
        "id": "view-in-github",
        "colab_type": "text"
      }
    },
    {
      "cell_type": "markdown",
      "source": [
        "# **Structural plasticity controlled by calcium based correlation detection**\r\n",
        "\r\n",
        "## Top tips\r\n",
        "- Hebbian rule shows the importance of correlation between pre- and post-synapse.\r\n",
        "- The correlation is usually represented by spiking-time but structurally effected by three process: synapse formation, potential/depress, synapse pruning.\r\n",
        "- the calcium concentration in spines was experimentally shown to be a correlation sensitive signal. NMDA receptors are a candidate mediator for the correlation dependent calcium signal\r\n",
        "- Here they establish a quantitative model of correlation detection in synapses based on the calcium influx through NMDA receptors under realistic conditions of irregular pre- and postsynaptic spiking activity with pairwise correlation.\r\n",
        "- find a simple threshold mechanism sensitive to correlation, whch mechanism controls synapse formation and elimination. They show that the connectivity structure is shaped by the correlations between neighboring inputs.\r\n",
        "Structural plasticity controlled by calcium based correlation detection\r\n",
        "\r\n",
        "## Basic biochemical process\r\n",
        "\r\n",
        "- Newly formed synapses are created in an intermediate, silent state. These frequently encountered silent synapses lack AMPA receptors but have NMDA receptors. The most probable mechanism is the translocation of AMPA receptors into the postsynaptic density (PSD).\r\n",
        "- LTP and LTD are in a bistate dependent on correlation made by spiking. The underlying mechanisms may be similar.\r\n",
        "- presynapse Ca2+ release, NMDA activate mechanism, Calcium activate CaMKII, CaMKII phosphorylate AMPA receptor to increase AMPA conductivity and insertion.\r\n",
        "- CaMKII forms holoenzymes with 6 subunits triggered by different calcium signal level. Short, weak level activate one subunit and deactivate after the level drops; higher level an active subunit can phosphorylate the neiboring subunit and remain active. At resting calcium level, PP1 can dephosphorylate an active subunit but a neighboring active site can immediately rephosphorylate it again. \r\n",
        "- Calcium also activate PP1 which dephosphorylate CaMKII-- long time scale, bistable of LTP and LTD\r\n"
      ],
      "metadata": {
        "id": "U4qCoFCTEVnd"
      }
    },
    {
      "cell_type": "code",
      "execution_count": 1,
      "source": [
        "# if you want to use or haven't installed brainpy \n",
        "# pip install -U brain-py"
      ],
      "outputs": [],
      "metadata": {
        "colab": {
          "base_uri": "https://localhost:8080/"
        },
        "id": "LsX1Lx6HEVLK",
        "outputId": "ab5e9e72-932a-4020-c7d1-0fdbd62dc0bf"
      }
    },
    {
      "cell_type": "code",
      "execution_count": 1,
      "source": [
        "import numpy as np\n",
        "import brainpy as bp\n",
        "import matplotlib.pyplot as plt"
      ],
      "outputs": [],
      "metadata": {
        "id": "n_192zL9EQ4y"
      }
    },
    {
      "cell_type": "code",
      "execution_count": 2,
      "source": [
        "bp.__version__"
      ],
      "outputs": [
        {
          "output_type": "execute_result",
          "data": {
            "text/plain": [
              "'1.0.3'"
            ]
          },
          "metadata": {},
          "execution_count": 2
        }
      ],
      "metadata": {}
    },
    {
      "cell_type": "code",
      "execution_count": 4,
      "source": [
        "dt=0.5\n",
        "bp.backend.set(dt=dt)"
      ],
      "outputs": [],
      "metadata": {
        "id": "5W7UyMYXPTZE"
      }
    },
    {
      "cell_type": "markdown",
      "source": [
        "## Spike Time Dependence of Postsynaptic Calcium Concentration"
      ],
      "metadata": {
        "id": "Xf9XuCPbG6-A"
      }
    },
    {
      "cell_type": "markdown",
      "source": [
        "- calcium peak amplitude in a spine in good approximation depends exponentially on the temporal difference of the presynaptic and the postsynaptic spiking.\n",
        "- the calcium influx is largest, if the presynaptic cell fires shortly before the postsynaptic cell. This makes the calcium signal an appropriate\n",
        "candidate carrier of information on causal correlation\n",
        "\n",
        "$$\n",
        "\\rho_{glu}, t_{glu}, \\tau_{rise,nmda}\\\\\n",
        "\\Delta t_{syn}=t_{BP} - t_{glu}\\\\\n",
        "\\Delta t_{syn} = t_{BP} - t_{glu}=t_{post}+d_{BP}-(t_{pre}+d_{glu})=\\Delta t + d_{BP}-d_{glu}\\\\\n",
        "n(t) = n_0H(t-t_{glu}-\\tau_{rise,nmda})e^{-\\frac{t-t_{glu}-t_{rise,nmda}}{\\tau_{nmda}}},\\ \n",
        "i_{Ca}=q_0\\delta(t-t_{BP})\\\\\n",
        "q = \\int i_{Ca}(t-t_{BP})n(t) dt = \\int q_0\\delta(t-t_{BP})n_0H(t-t_{glu}-t_{rise,nmda})e^{-\\frac{t-t_{glu}-t_{rise,nmda}}{\\tau_{nmda}}} dt\\\\\n",
        "= q_0n_0H(\\Delta t_{syn}-\\tau_{rise,nmda})e^{-\\frac{\\Delta t_{syn}-t_{rise,nmda}}{\\tau_{nmda}}}\\\\\n",
        "=q_0n_0H(\\Delta t - (\\tau_{rise,nmda}+d_{glu}-d_{BP}))e^{-\\frac{\\Delta t - (\\tau_{rise,nmda}+d_{glu}-d_{BP})}{\\tau_{nmda}}}\\\\\n",
        "=q_0n_0H(\\Delta t - \\tau_{rise})e^{\\frac{\\Delta t - \\tau_{rise}}{\\tau_{nmda}}}\\\\\n",
        "q(t_{BP}) = \\int_{-\\infty}^{\\infty} i_{Ca}(t-t_{BP})n(t-t_{glu})dt=\\int_0^{\\infty} i_{Ca}(t)n(t-t_{glu}+t_{BP})dt\\\\\n",
        "=\\int i_{Ca}(t)n(t+\\Delta t_{syn})dt=\\int i_{Ca}(t)e^{-\\frac{t}{\\tau_{nmda}}} dt e^{-\\frac{\\Delta t_{syn}-\\tau_{rise,nmda}}{\\tau_{nmda}}}=q'_0e^{-\\frac{\\Delta t_{syn}-\\tau_{rise,nmda}}{\\tau_{nmda}}}(if \\Delta t_{syn}\\geq \\tau_{rise,nmda})\n",
        "$$"
      ],
      "metadata": {}
    },
    {
      "cell_type": "code",
      "execution_count": null,
      "source": [
        "# paraeters setting\n",
        "rho_glu = 0 # glutamate concentration\n",
        "t_glu = 0 # time of presynaptic spiking to increase the glutamate concentration\n",
        "n(t) = 0 # fraction of the NMDA receptors bind to glutamte\n",
        "tau_rise_nmda = 5-10 # a rise time n(t) reaches maxium n_0 [ms] \n",
        "# we choose this maxium n_0 to be th unit of n, after rho_glu(t) decay back to its resting value, the receptors unbind and n(t) to 0\n",
        "# we neglect the continuous binding process and instead assume that the number n of glutamate bound NMDA receptors jumps to a positive value after the rise time\n",
        "n_0 = 1\n",
        "V_spine = 0 # arriving of a postsynaptic back-propagating action potential(bpAP) depolarizes the spine(V_spine), removes the block and calium ion flow into the spine\n",
        "n(t_BP)=n(t_BP-t_glu) # NMDA receptors open at t_BP\n",
        "delta_t_syn = t_BP - t_glu # thus receptor mediated conductivity depends on the relative timing delta_t_syn\n",
        "q = 0 # the total amout of Ca2+ influx, which is proportional to n(t_BP), therefore depends on the relative timing delta_t_syn\n",
        "delta_t = t_post - t_pre # t_pre spiking time in the presynaptic neuron's soma, t_post spiking time in the postsynaptic neuron\n",
        "tau_nmda = 32 # time constant of exponential decay [ms]\n",
        "d_BP = 1 # the delay for bpAP\n",
        "d_glu =1 # delay between presynaptic spike and glutamte release\n",
        "q = 0 # total Ca2+ influx\n",
        "q_0 = 1\n",
        "tau_rise = 10 # tau_risr_nmda+d_glu-d_BP [ms]"
      ],
      "outputs": [],
      "metadata": {
        "id": "xyB7ejDu2Vi2"
      }
    },
    {
      "cell_type": "code",
      "execution_count": null,
      "source": [],
      "outputs": [],
      "metadata": {}
    },
    {
      "cell_type": "markdown",
      "source": [
        "## Ca2+ Transients Caused by Correlated Irregular Spiking"
      ],
      "metadata": {
        "id": "0rPu6rPTG57I"
      }
    },
    {
      "cell_type": "markdown",
      "source": [
        "- In this section we investigate how much information about the correlation between presynaptic and postsynaptic events is contained in the Ca2+ signal if the spiking activity is irregular. \n",
        "- we simulate the presynaptic and the postsynaptic spiking as Poisson processes with rates $ν_i$ and $ν_o$, respectively. Both processes share a fraction of spikes that appear in the spike trains with a fi xed temporal distance $\\Delta t$.\n",
        "$$\n",
        "n(t)=n_0\\sum e^{-\\frac{t-t_{pre}-\\tau_{rise}}{\\tau_{nmda}}}\\\\\n",
        "q_A(t_{post})=\\sum e^{-\\frac{t_{post}-t_{pre}-\\tau_{rise}}{\\tau_{nmda}}}\\\\\n",
        "\\rho_0(q)=Cq^{r-1}(1<q\\leq 1), =q^{r-1}(C-r\\int_1^{q}\\rho_0(x-1)x^{-r}dx)(q>1)\\\\\n",
        "r=v_i\\tau_nmda,\\ C =\\frac{e^{-r\\gamma}}{\\Gamma(r)},\\ \\gamma=0.577215665\\\\\n",
        "\\rho(a)=\\varepsilon\\rho_{0}(a-\\Delta a)+(1-\\varepsilon)\\rho_{0}(a),\\ \\Delta a = e^{-(\\Delta t-\\tau_{rise})/\\tau_{nmda}} \n",
        "$$"
      ],
      "metadata": {}
    },
    {
      "cell_type": "code",
      "execution_count": null,
      "source": [
        "# parameters setting\n",
        "v_i = 0.5 # rate of Possion process for presynaptic spiking \n",
        "v_o = 0.5 # rate of Possion process for postsynaptic spiking\n",
        "epsilon = 0 # correlation coeffient for the strength of the temporal correlation. which is the conditional probability of a pair event\n",
        " "
      ],
      "outputs": [],
      "metadata": {
        "id": "4bU-dkyk2WOs"
      }
    },
    {
      "cell_type": "markdown",
      "source": [
        "## A Counter for Correlated Events"
      ],
      "metadata": {
        "id": "cNhLcGFzFAK2"
      }
    },
    {
      "cell_type": "code",
      "execution_count": null,
      "source": [],
      "outputs": [],
      "metadata": {
        "id": "D5O7Nk6I2WqQ"
      }
    },
    {
      "cell_type": "markdown",
      "source": [
        "## Rate Homeostasis by Synaptic Pruning"
      ],
      "metadata": {
        "id": "cfq83lwkFV0B"
      }
    },
    {
      "cell_type": "code",
      "execution_count": null,
      "source": [],
      "outputs": [],
      "metadata": {
        "id": "jcFHKoc72XLw"
      }
    },
    {
      "cell_type": "markdown",
      "source": [
        "## Cooperation and Competition by Spatial Input Correlation"
      ],
      "metadata": {
        "id": "9lDJwdkLPNN_"
      }
    },
    {
      "cell_type": "code",
      "execution_count": null,
      "source": [],
      "outputs": [],
      "metadata": {
        "id": "SpCCqWjz2YII"
      }
    }
  ]
}