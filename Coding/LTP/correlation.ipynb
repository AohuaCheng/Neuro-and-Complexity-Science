{
  "cells": [
    {
      "cell_type": "markdown",
      "metadata": {
        "colab_type": "text",
        "id": "view-in-github"
      },
      "source": [
        "<a href=\"https://colab.research.google.com/github/cahcharm/Neuro-and-Complexity-Science/blob/neuro-morphology/Coding/LTP/correlation.ipynb\" target=\"_parent\"><img src=\"https://colab.research.google.com/assets/colab-badge.svg\" alt=\"Open In Colab\"/></a>"
      ]
    },
    {
      "cell_type": "markdown",
      "metadata": {
        "id": "U4qCoFCTEVnd"
      },
      "source": [
        "# **Structural plasticity controlled by calcium based correlation detection**\n",
        "\n",
        "## Top tips\n",
        "- Hebbian rule shows the importance of correlation between pre- and post-synapse.\n",
        "- The correlation is usually represented by spiking-time but structurally effected by three process: synapse formation, potential/depress, synapse pruning.\n",
        "- the calcium concentration in spines was experimentally shown to be a correlation sensitive signal. NMDA receptors are a candidate mediator for the correlation dependent calcium signal\n",
        "- Here they establish a quantitative model of correlation detection in synapses based on the calcium influx through NMDA receptors under realistic conditions of irregular pre- and postsynaptic spiking activity with pairwise correlation.\n",
        "- find a simple threshold mechanism sensitive to correlation, whch mechanism controls synapse formation and elimination. They show that the connectivity structure is shaped by the correlations between neighboring inputs.\n",
        "Structural plasticity controlled by calcium based correlation detection\n",
        "\n",
        "## Basic biochemical process\n",
        "\n",
        "- Newly formed synapses are created in an intermediate, silent state. These frequently encountered silent synapses lack AMPA receptors but have NMDA receptors. The most probable mechanism is the translocation of AMPA receptors into the postsynaptic density (PSD).\n",
        "- LTP and LTD are in a bistate dependent on correlation made by spiking. The underlying mechanisms may be similar.\n",
        "- presynapse Ca2+ release, NMDA activate mechanism, Calcium activate CaMKII, CaMKII phosphorylate AMPA receptor to increase AMPA conductivity and insertion.\n",
        "- CaMKII forms holoenzymes with 6 subunits triggered by different calcium signal level. Short, weak level activate one subunit and deactivate after the level drops; higher level an active subunit can phosphorylate the neiboring subunit and remain active. At resting calcium level, PP1 can dephosphorylate an active subunit but a neighboring active site can immediately rephosphorylate it again. \n",
        "- Calcium also activate PP1 which dephosphorylate CaMKII-- long time scale, bistable of LTP and LTD\n",
        "\n",
        "## Discussion\n",
        "- some parameters are not based on experiments, but on analytic convenience\n",
        "- current model can not reproduce the part of the rule expressing LTD"
      ]
    },
    {
      "cell_type": "code",
      "execution_count": 1,
      "metadata": {
        "colab": {
          "base_uri": "https://localhost:8080/"
        },
        "id": "LsX1Lx6HEVLK",
        "outputId": "ab5e9e72-932a-4020-c7d1-0fdbd62dc0bf"
      },
      "outputs": [],
      "source": [
        "# if you want to use or haven't installed brainpy \n",
        "# pip install -U brain-py"
      ]
    },
    {
      "cell_type": "code",
      "execution_count": 1,
      "metadata": {
        "id": "n_192zL9EQ4y"
      },
      "outputs": [],
      "source": [
        "import numpy as np\n",
        "import brainpy as bp\n",
        "import matplotlib.pyplot as plt\n",
        "from scipy.special import gamma\n",
        "from scipy import integrate"
      ]
    },
    {
      "cell_type": "code",
      "execution_count": 2,
      "metadata": {},
      "outputs": [
        {
          "data": {
            "text/plain": [
              "'1.0.3'"
            ]
          },
          "execution_count": 2,
          "metadata": {},
          "output_type": "execute_result"
        }
      ],
      "source": [
        "bp.__version__"
      ]
    },
    {
      "cell_type": "code",
      "execution_count": 3,
      "metadata": {},
      "outputs": [],
      "source": [
        "dt = 0.5\n",
        "bp.backend.set(dt=dt)"
      ]
    },
    {
      "cell_type": "code",
      "execution_count": 4,
      "metadata": {
        "id": "5W7UyMYXPTZE"
      },
      "outputs": [],
      "source": [
        "## Parameters setting\n",
        "tau_m = 10  # [ms]\n",
        "g_L = 1  # [mS/mm2]\n",
        "E_L = -65  # [mV]\n",
        "E_ampa = 60  # [mV]\n",
        "E_nmda = 0  # [mV]\n",
        "tau_V = 10/9  # classical [ms] 2, 4/3, 2/3, 100, 4/3, 20, 9/8, 2.5\n",
        "tau_G = 20  # classical [ms] 2, 20, 20, 1, 2, 20, 2, 20\n",
        "\n",
        "bar_g_nmda = 0.01  # [mS/mm2]\n",
        "tau_p = 1.5  # [ms]\n",
        "alpha_p = 0.5\n",
        "tau_n = 152  # [ms]\n",
        "alpha_n = 0.5\n",
        "Mg2 = 1  # [mM]\n",
        "alpha = 10\n",
        "tau_Ca = 530  # [ms]\n",
        "\n",
        "bar_g_ampa = 0.05  # [mS/mm2]\n",
        "tau_ampa = 5.26  # tau_n fo P_n in AMPA [ms]\n",
        "\n",
        "phi_f = 1e-5\n",
        "phi_s = 0.1\n",
        "alpha_s = 7.4e-6\n",
        "tau_f = 3.5  # [ms]\n",
        "tau_s = 8  # [ms]\n",
        "\n",
        "alpha_Af = 0.1\n"
      ]
    },
    {
      "cell_type": "code",
      "execution_count": 10,
      "metadata": {},
      "outputs": [],
      "source": [
        "# LIF model with delta-shaped postsynaptic currents\n",
        "class LIF(bp.NeuGroup):\n",
        "  target_backend = ['numpy', 'numba']\n",
        "\n",
        "  @staticmethod\n",
        "  @bp.odeint(method='exponential_euler')\n",
        "  def integral(V, V_lp, t, Iext, tau_V, g_ampa, g_nmda):\n",
        "    I_leak = g_L * (V - E_L)\n",
        "    I_ampa = g_ampa * (V - E_ampa)\n",
        "    I_nmda = g_nmda * (V - E_nmda)\n",
        "    dV = (- I_ampa - I_nmda - I_leak + Iext) / tau_m\n",
        "    dV_lp = (V - V_lp) / tau_V\n",
        "\n",
        "    return dV, dV_lp\n",
        "\n",
        "  def __init__(self, size, t_ref=1., g_ampa=0., g_nmda=0., tau_V=10/9,\n",
        "               V_rest=-65., V_reset=-65., V_th=-50., **kwargs):\n",
        "    super(LIF, self).__init__(size=size, **kwargs)\n",
        "\n",
        "    # parameters\n",
        "    self.t_ref = t_ref\n",
        "    self.g_ampa = g_ampa\n",
        "    self.g_nmda = g_nmda\n",
        "    self.tau_V = tau_V\n",
        "    self.V_th = V_th\n",
        "    self.V_reset = V_reset\n",
        "    self.V_rest = V_rest\n",
        "\n",
        "    # variables\n",
        "    self.t_last_spike = bp.ops.ones(self.num) * -1e7\n",
        "    self.refractory = bp.ops.zeros(self.num, dtype=bool)\n",
        "    self.spike = bp.ops.zeros(self.num, dtype=bool)\n",
        "    self.V = bp.ops.ones(self.num) * self.V_rest\n",
        "    self.V_lp = bp.ops.ones(self.num) * self.V_rest\n",
        "    self.input = bp.ops.zeros(self.num)\n",
        "    self.g_ampa = bp.ops.zeros(self.num)\n",
        "    self.g_nmda = bp.ops.zeros(self.num)\n",
        "\n",
        "  def update(self, _t):\n",
        "    for i in range(self.num):\n",
        "      spike = False\n",
        "      refractory = (_t - self.t_last_spike[i]) <= self.t_ref\n",
        "      if not refractory:\n",
        "        V, V_lp = self.integral(self.V[i], self.V_lp[i], _t, self.input[i],\n",
        "                    self.tau_V, self.g_ampa[i], self.g_nmda[i])\n",
        "        spike = (V > self.V_th)\n",
        "        spike_reset = (V > self.V_th + 2)\n",
        "        if spike_reset:\n",
        "          V = self.V_reset\n",
        "          # V_lp = self.V_reset\n",
        "          self.t_last_spike[i] = _t\n",
        "          refractory = True\n",
        "        self.V[i] = V\n",
        "        self.V_lp[i] = V_lp\n",
        "      self.spike[i] = spike\n",
        "      self.refractory[i] = refractory\n",
        "      self.input[i] = 0."
      ]
    },
    {
      "cell_type": "code",
      "execution_count": 11,
      "metadata": {},
      "outputs": [
        {
          "name": "stdout",
          "output_type": "stream",
          "text": [
            "max V: [-49.77398689]\n"
          ]
        },
        {
          "data": {
            "image/png": "[encoded data removed]",
            "text/plain": [
              "<Figure size 504x216 with 1 Axes>"
            ]
          },
          "metadata": {
            "needs_background": "light"
          },
          "output_type": "display_data"
        }
      ],
      "source": [
        "## LIF\n",
        "tau_V = 0.5\n",
        "t_duration = 200\n",
        "idx_duration = int(t_duration/dt)\n",
        "input_I = bp.ops.zeros(idx_duration)\n",
        "idx_spike = int(50/dt)\n",
        "idx_spike_duration = int(1/dt)\n",
        "input_I[idx_spike: idx_spike+idx_spike_duration] = 160\n",
        "\n",
        "lif = LIF(size=1, monitors=['V', 'V_lp'])  # size is the iteration rounds\n",
        "# duration is the real time\n",
        "lif.run(duration=t_duration, inputs=('input', input_I))\n",
        "\n",
        "# plot\n",
        "fig, gs = bp.visualize.get_figure(row_num=1, col_num=1, row_len=3, col_len=7)\n",
        "\n",
        "fig.add_subplot(gs[0, 0])\n",
        "plt.plot(lif.mon.ts, lif.mon.V[:, 0], label='V')\n",
        "plt.plot(lif.mon.ts, lif.mon.V_lp[:, 0], label='V_lp')\n",
        "plt.legend()\n",
        "plt.title('LIF demo')\n",
        "plt.xlabel('time(ms)')\n",
        "plt.grid(linestyle='dotted')\n",
        "print('max V:', max(lif.mon.V))\n"
      ]
    },
    {
      "cell_type": "code",
      "execution_count": 12,
      "metadata": {},
      "outputs": [],
      "source": [
        "class Synapse(bp.TwoEndConn):\n",
        "  target_backend = ['numpy', 'numba']\n",
        "\n",
        "  @staticmethod\n",
        "  @bp.odeint # (method='exponential_euler')\n",
        "  def integral(P_p, P_n, P_n_ampa, sim_G, c_Ca, w, A_f, A_s, t, I_Ca_h, V_lp, tau_G):\n",
        "    dP_p = (1 - P_p) / tau_p\n",
        "    dP_n = (0 - P_n) / tau_n\n",
        "    dP_n_ampa = (0 - P_n_ampa) / tau_ampa\n",
        "    G = 1 / ( 1 + Mg2/3.56 * np.exp(-V_lp/16.12) )\n",
        "    dsim_G = (-sim_G + G) / tau_G\n",
        "    dc_Ca = ( ( - c_Ca) - alpha *I_Ca_h ) / tau_Ca # revised the formula in paper\n",
        "    P_nmda = P_p * P_n\n",
        "    g_nmda = bar_g_nmda * P_nmda * sim_G\n",
        "    I_Ca = (1 - c_Ca) * g_nmda * (V_lp - E_nmda)\n",
        "\n",
        "    H1 = np.heaviside(np.abs(A_f)-phi_f, 0)\n",
        "    H2 = np.heaviside(A_s-phi_s, 0)\n",
        "\n",
        "    delta_I_Ca = (I_Ca - I_Ca_h) / dt\n",
        "    dw = A_f*H1 - alpha_s*A_s*H2\n",
        "    dA_f = (-A_f + alpha_Af*(1-A_f)*delta_I_Ca) / tau_f\n",
        "    dA_s = (-A_s - (1 - A_s)*I_Ca) / tau_s\n",
        "\n",
        "    return dP_p, dP_n, dP_n_ampa, dsim_G, dc_Ca, dw, dA_f, dA_s\n",
        "\n",
        "  def __init__(self, pre, post, conn, tau_G=20., **kwargs):\n",
        "    super(Synapse, self).__init__(pre=pre, post=post, **kwargs)\n",
        "    # parameters\n",
        "    self.tau_G = tau_G\n",
        "\n",
        "    # connections\n",
        "    self.conn = conn(pre.size, post.size)\n",
        "    self.pre_ids, self.post_ids = conn.requires('pre_ids', 'post_ids')\n",
        "    self.size = len(self.pre_ids)\n",
        "\n",
        "    # variables\n",
        "    self.P_p = bp.ops.ones(self.size)\n",
        "    self.P_n = bp.ops.zeros(self.size)\n",
        "    self.P_n_ampa = bp.ops.zeros(self.size)\n",
        "    self.G = bp.ops.zeros(self.size)\n",
        "    self.sim_G = bp.ops.ones(self.size) * 1 / ( 1 + Mg2/3.56 * np.exp(-E_L/16.12) )\n",
        "    self.c_Ca = bp.ops.zeros(self.size)\n",
        "    self.g_nmda = bp.ops.zeros(self.size)\n",
        "    self.g_ampa = bp.ops.zeros(self.size)\n",
        "    self.I_Ca = bp.ops.zeros(self.size)\n",
        "    self.w = bp.ops.zeros(self.size)\n",
        "    self.A_f = bp.ops.zeros(self.size)\n",
        "    self.A_s = bp.ops.zeros(self.size)\n",
        "\n",
        "  def update(self, _t):\n",
        "    for i in range(self.size):\n",
        "      pre_id, post_id = self.pre_ids[i], self.post_ids[i]\n",
        "      # update\n",
        "      P_p, P_n, P_n_ampa, self.sim_G[i], self.c_Ca[i], self.w[i], self.A_f[i], self.A_s[i] = self.integral(self.P_p[i], \n",
        "      self.P_n[i], self.P_n_ampa[i], self.sim_G[i], self.c_Ca[i], self.w[i], \n",
        "      self.A_f[i], self.A_s[i], _t, self.I_Ca[i], self.post.V_lp[post_id], self.tau_G)\n",
        "      if self.pre.spike[pre_id]:\n",
        "        P_p += alpha_p * self.P_p[i]\n",
        "        P_n += alpha_n * (1 - self.P_n[i])\n",
        "        P_n_ampa += alpha_n * (1 - self.P_n_ampa[i])\n",
        "      P_nmda = P_p * P_n\n",
        "      P_ampa = P_p * P_n_ampa\n",
        "      self.g_nmda[i] = bar_g_nmda * P_nmda * self.sim_G[i]\n",
        "      self.g_ampa[i] = self.w[i] * bar_g_ampa * P_ampa\n",
        "      self.I_Ca[i] = (1 - self.c_Ca[i]) * self.g_nmda[i] * (self.post.V_lp[post_id] - E_nmda)\n",
        "      self.P_p[i] = P_p\n",
        "      self.P_n[i] = P_n\n",
        "      self.P_n_ampa[i] = P_n_ampa\n",
        "      self.G[i] = 1 / ( 1 + Mg2/3.56 * np.exp(-self.post.V_lp[post_id]/16.12) )\n",
        "\n",
        "      # output\n",
        "      self.post.g_nmda[post_id] = self.g_nmda[i]\n",
        "      self.post.g_ampa[post_id] = self.g_ampa[i]"
      ]
    },
    {
      "cell_type": "code",
      "execution_count": 13,
      "metadata": {},
      "outputs": [
        {
          "data": {
            "text/plain": [
              "Text(0.5, 0, 'time(ms)')"
            ]
          },
          "execution_count": 13,
          "metadata": {},
          "output_type": "execute_result"
        },
        {
          "data": {
            "image/png": "[encoded data removed]",
            "text/plain": [
              "<Figure size 504x432 with 2 Axes>"
            ]
          },
          "metadata": {
            "needs_background": "light"
          },
          "output_type": "display_data"
        }
      ],
      "source": [
        "# Fig.3: Ca2+ concentration for different timecourses delta_t = -20/20 ms\n",
        "alpha_p = 0.9\n",
        "bar_g_nmda = 0.4 # origin value is 0.01, but it doesn't make sense in the paper\n",
        "delta_T = [-20, 20]\n",
        "Legend = ['pre-post', 'post-pre']\n",
        "fig, gs = bp.visualize.get_figure(2, 1, 3, 7)\n",
        "for i in range(2):\n",
        "  # spiking setting\n",
        "  delta_t = delta_T[i]\n",
        "  t_duration = 1600\n",
        "  idx_duration = int(t_duration/dt)\n",
        "  pre_I = bp.ops.zeros(idx_duration)\n",
        "  post_I = bp.ops.zeros(idx_duration)\n",
        "  idx_pre_spike = int((300+delta_t)/dt)\n",
        "  idx_post_spike = int(300/dt)\n",
        "  idx_spike_duration = int(1/dt)\n",
        "  pre_I[idx_pre_spike: idx_pre_spike+idx_spike_duration] = 160\n",
        "  post_I[idx_post_spike: idx_post_spike+idx_spike_duration] = 157\n",
        "\n",
        "  # run model\n",
        "  neu1 = LIF(1, monitors=['V', 'V_lp'])\n",
        "  neu2 = LIF(1, monitors=['V'])\n",
        "  syn1 = Synapse(pre=neu1, post=neu2, conn=bp.connect.All2All(), monitors=['c_Ca'])\n",
        "  net1 = bp.Network(neu1, syn1, neu2)\n",
        "  net1.run(t_duration, inputs=[(neu1, 'input', pre_I), (neu2, 'input', post_I)])\n",
        "\n",
        "  # plot\n",
        "  ax = fig.add_subplot(gs[i, 0])\n",
        "  plt.title('Ca2+ concentration for different timecourses')\n",
        "  plt.plot(neu1.mon.ts, syn1.mon.c_Ca, label=Legend[i], color='k')\n",
        "  plt.legend()\n",
        "  # add ylabel\n",
        "  ax.set_ylabel('Ca2+ concentration')\n",
        "  # set axis lim\n",
        "  plt.xlim(200, 1600)\n",
        "  plt.ylim(0, )\n",
        "  # note the pre/post firing\n",
        "  plt.fill_between([300-2,300+2],max(syn1.mon.c_Ca[:,0]),facecolor='r',alpha=0.3)\n",
        "  plt.fill_between([300+delta_t-2,300+delta_t+2],max(syn1.mon.c_Ca[:,0]),facecolor='b',alpha=0.3)\n",
        "  plt.grid(linestyle='dotted')\n",
        "\n",
        "plt.xlabel('time(ms)')\n",
        "\n",
        "# tips：修改参数alpha_p从0.5到0.9， 修改bar_g_nmda从0.01到0.4以满足I_Ca的量纲大小，达到文中效果"
      ]
    },
    {
      "cell_type": "markdown",
      "metadata": {
        "id": "Xf9XuCPbG6-A"
      },
      "source": [
        "## Spike Time Dependence of Postsynaptic Calcium Concentration"
      ]
    },
    {
      "cell_type": "markdown",
      "metadata": {},
      "source": [
        "- calcium peak amplitude in a spine in good approximation depends exponentially on the temporal difference of the presynaptic and the postsynaptic spiking.\n",
        "- the calcium influx is largest, if the presynaptic cell fires shortly before the postsynaptic cell. This makes the calcium signal an appropriate\n",
        "candidate carrier of information on causal correlation\n",
        "\n",
        "$$\n",
        "\\rho_{glu}, t_{glu}, \\tau_{rise,nmda}\\\\\n",
        "\\Delta t_{syn}=t_{BP} - t_{glu}\\\\\n",
        "\\Delta t_{syn} = t_{BP} - t_{glu}=t_{post}+d_{BP}-(t_{pre}+d_{glu})=\\Delta t + d_{BP}-d_{glu}\\\\\n",
        "n(t) = n_0H(t-t_{glu}-\\tau_{rise,nmda})e^{-\\frac{t-t_{glu}-t_{rise,nmda}}{\\tau_{nmda}}},\\ \n",
        "i_{Ca}=q_0\\delta(t-t_{BP})\\\\\n",
        "q = \\int i_{Ca}(t-t_{BP})n(t) dt = \\int q_0\\delta(t-t_{BP})n_0H(t-t_{glu}-t_{rise,nmda})e^{-\\frac{t-t_{glu}-t_{rise,nmda}}{\\tau_{nmda}}} dt\\\\\n",
        "= q_0n_0H(\\Delta t_{syn}-\\tau_{rise,nmda})e^{-\\frac{\\Delta t_{syn}-t_{rise,nmda}}{\\tau_{nmda}}}\\\\\n",
        "=q_0n_0H(\\Delta t - (\\tau_{rise,nmda}+d_{glu}-d_{BP}))e^{-\\frac{\\Delta t - (\\tau_{rise,nmda}+d_{glu}-d_{BP})}{\\tau_{nmda}}}\\\\\n",
        "=q_0n_0H(\\Delta t - \\tau_{rise})e^{\\frac{\\Delta t - \\tau_{rise}}{\\tau_{nmda}}}\\\\\n",
        "q(t_{BP}) = \\int_{-\\infty}^{\\infty} i_{Ca}(t-t_{BP})n(t-t_{glu})dt=\\int_0^{\\infty} i_{Ca}(t)n(t-t_{glu}+t_{BP})dt\\\\\n",
        "=\\int i_{Ca}(t)n(t+\\Delta t_{syn})dt=\\int i_{Ca}(t)e^{-\\frac{t}{\\tau_{nmda}}} dt e^{-\\frac{\\Delta t_{syn}-\\tau_{rise,nmda}}{\\tau_{nmda}}}=q'_0e^{-\\frac{\\Delta t_{syn}-\\tau_{rise,nmda}}{\\tau_{nmda}}}(if \\Delta t_{syn}\\geq \\tau_{rise,nmda})\n",
        "$$"
      ]
    },
    {
      "cell_type": "code",
      "execution_count": 9,
      "metadata": {
        "id": "xyB7ejDu2Vi2"
      },
      "outputs": [],
      "source": [
        "# paraeters setting\n",
        "rho_glu = 0 # glutamate concentration\n",
        "t_glu = 0 # time of presynaptic spiking to increase the glutamate concentration\n",
        "nt = 0 # fraction of the NMDA receptors bind to glutamte\n",
        "tau_rise_nmda = 5-10 # a rise time n(t) reaches maxium n_0 [ms] \n",
        "# we choose this maxium n_0 to be th unit of n, after rho_glu(t) decay back to its resting value, the receptors unbind and n(t) to 0\n",
        "# we neglect the continuous binding process and instead assume that the number n of glutamate bound NMDA receptors jumps to a positive value after the rise time\n",
        "n_0 = 1\n",
        "V_spine = 0 # arriving of a postsynaptic back-propagating action potential(bpAP) depolarizes the spine(V_spine), removes the block and calium ion flow into the spine\n",
        "t_BP = 5 # arrival time of a postsynaptic bpAP at the spine [ms]\n",
        "delta_t_syn = t_BP - t_glu # thus receptor mediated conductivity depends on the relative timing delta_t_syn\n",
        "q = 0 # the total amout of Ca2+ influx, which is proportional to n(t_BP), therefore depends on the relative timing delta_t_syn\n",
        "t_post = 10 # spiking time of the postsynapse [ms]\n",
        "t_pre = 0  # spiking time of the presynapse [ms]\n",
        "delta_t = t_post - t_pre # t_pre spiking time in the presynaptic neuron's soma, t_post spiking time in the postsynaptic neuron\n",
        "tau_nmda = 32 # time constant of exponential decay [ms]\n",
        "d_BP = 1 # the delay for bpAP\n",
        "d_glu =1 # delay between presynaptic spike and glutamte release\n",
        "q = 0 # total Ca2+ influx\n",
        "q_0 = 1\n",
        "tau_rise = 0 # tau_risr_nmda+d_glu-d_BP [ms]\n"
      ]
    },
    {
      "cell_type": "code",
      "execution_count": null,
      "metadata": {},
      "outputs": [],
      "source": []
    },
    {
      "cell_type": "markdown",
      "metadata": {
        "id": "0rPu6rPTG57I"
      },
      "source": [
        "## Ca2+ Transients Caused by Correlated Irregular Spiking"
      ]
    },
    {
      "cell_type": "markdown",
      "metadata": {},
      "source": [
        "- In this section we investigate how much information about the correlation between presynaptic and postsynaptic events is contained in the Ca2+ signal if the spiking activity is irregular. \n",
        "- we simulate the presynaptic and the postsynaptic spiking as Poisson processes with rates $ν_i$ and $ν_o$, respectively. Both processes share a fraction of spikes that appear in the spike trains with a fi xed temporal distance $\\Delta t$.\n",
        "- he information about correlation between the\n",
        "presynaptic and the postsynaptic events enters the probability\n",
        "distribution ρ(a) and is therefore exhibited in the amplitude dis-\n",
        "tribution of Ca2+ transients in the postsynaptic spine\n",
        "\n",
        "$$\n",
        "n(t)=n_0\\sum e^{-\\frac{t-t_{pre}-\\tau_{rise}}{\\tau_{nmda}}}\\\\\n",
        "q_A(t_{post})=\\sum e^{-\\frac{t_{post}-t_{pre}-\\tau_{rise}}{\\tau_{nmda}}}\\\\\n",
        "\\rho_0(q)=Cq^{r-1}(0<q\\leq 1), =q^{r-1}(C-r\\int_1^{q}\\rho_0(x-1)x^{-r}dx)(q>1)\\\\\n",
        "r=v_i\\tau_{nmda},\\ C =\\frac{e^{-r\\gamma}}{\\Gamma(r)},\\ \\gamma=0.577215665\\\\\n",
        "\\rho(a)=\\varepsilon\\rho_{0}(a-\\Delta a)+(1-\\varepsilon)\\rho_{0}(a),\\ \\Delta a = e^{-(\\Delta t-\\tau_{rise})/\\tau_{nmda}} \n",
        "$$"
      ]
    },
    {
      "cell_type": "code",
      "execution_count": 10,
      "metadata": {
        "id": "4bU-dkyk2WOs"
      },
      "outputs": [],
      "source": [
        "# parameters setting\n",
        "v_i = 5 # rate of Possion process for presynaptic spiking \n",
        "v_o = 5 # rate of Possion process for postsynaptic spiking\n",
        "epsilon = 0 # correlation coeffient for the strength of the temporal correlation. which is the conditional probability of a pair event\n",
        "gamma_0 = 0.577215665\n",
        "N = 80 # average number of CAMKII molecules in a PSD\n",
        " "
      ]
    },
    {
      "cell_type": "code",
      "execution_count": null,
      "metadata": {},
      "outputs": [],
      "source": [
        "def probability_distribution(q, v_i):\n",
        "    '''\n",
        "    input:\n",
        "    the Ca influx: q\n",
        "    Possion efficient of input spike: v_i\n",
        "    output:\n",
        "    probability at q: rho_0\n",
        "    '''\n",
        "    r = v_i*tau_nmda\n",
        "    C = np.exp(-r*gamma_0)/gamma(gamma_0)\n",
        "    if q <= 1:\n",
        "        rho_0 = C*q**(r-1)\n",
        "    elif q > 1:\n",
        "        rho_0 = q**(r-1)*(C-r)\n",
        "    return rho_0\n"
      ]
    },
    {
      "cell_type": "markdown",
      "metadata": {
        "id": "cNhLcGFzFAK2"
      },
      "source": [
        "## A Counter for Correlated Events"
      ]
    },
    {
      "cell_type": "markdown",
      "metadata": {},
      "source": [
        "- Appendix: Probability Distribution for the Number of Active CaMKII Molecules\n",
        "- Mean First Passage Time Problem for the Number of CaMKII Molecules\n",
        "$$\n",
        "p_{-}=P(\\Theta_b\\leq a\\leq \\Theta_l|postsynaptic spike), \\Delta t\\leq \\Delta t_{+}\\\\\n",
        "p_{+}=P(a\\geq\\Theta_h|postsynaptic spike), \\Delta t\\leq \\Delta t_{+}\\\\\n",
        "plus-event:\\Delta\\geq\\Theta_h\\\\\n",
        "p_{+}(\\varepsilon)=\\int_{\\Theta_h}^{\\infty}\\rho(a)da=(1-\\varepsilon)\\int_{\\Theta_h}^{\\infty}\\rho_0(a)da + \\varepsilon\\int_{\\Theta_h}^{\\infty}\\rho_0(a-\\Delta a)da\\\\\n",
        "=(1-\\varepsilon)(1-\\int_0^{\\Theta_h}\\rho_0(a)da)+\\varepsilon=1 + (\\varepsilon-1)\\frac{C}{r}\\Theta_h^{r}\\\\\n",
        "minus-event:\\Theta_b<\\Theta_l<\\Theta_h\\leq \\Delta a\\\\\n",
        "p_{-}(\\varepsilon)=\\int_{\\Theta_b}^{\\Theta_l}\\rho(a)da=(1-\\varepsilon)\\int_{\\Theta_b}^{\\Theta_l}\\rho_0(a)da + \\varepsilon\\int_{\\Theta_b}^{\\Theta_l}\\rho_0(a-\\Delta a)da\\\\\n",
        "=(1-\\varepsilon)\\frac{C}{r}(\\Theta_l^r-\\Theta_b^r)\n",
        "$$"
      ]
    },
    {
      "cell_type": "code",
      "execution_count": 11,
      "metadata": {},
      "outputs": [],
      "source": [
        "# parameters setting\n",
        "Delta_t_plus = 20  # the range of teporal distance\n",
        "Theta_h = np.exp(-Delta_t_plus/tau_nmda) # the highest threshold of calcium influx - plus event\n",
        "Theta_l = 0.75*Theta_h # the low threshold of calcium influx - no man land\n",
        "Theta_b = 0.3*Theta_h # the base threshold of calcium influx - minus event\n",
        "prob_p = 0.01 # the probability of each CaMKII molecule to be activated\n",
        "prob_q = 0.01 # the probability of each CaMKII molecule to be deactivated\n",
        "# p.q without experiment reference. The smaller these values, the narrower the distribution of active CAMKII molecules\n",
        "X_m = N*0.8 # the minimal amount of active CAMKII molecules for synapse maturation by insertion of new AMPA receptors\n",
        "X_d = N*0.3 # the minimal amount of the synapse pruning, X_d < X_m.\n"
      ]
    },
    {
      "cell_type": "code",
      "execution_count": null,
      "metadata": {
        "id": "D5O7Nk6I2WqQ"
      },
      "outputs": [],
      "source": [
        "def CAMKII_transform(x, a, p, N, Theta_h, Theta_b, Theta_l):\n",
        "    '''\n",
        "    input:\n",
        "    x is the number of active CAMKII\n",
        "    a is the Ca influx\n",
        "    p is the probability of phosphorylate\n",
        "    N is the number of all CAMKII\n",
        "    output: \n",
        "    updated x\n",
        "    '''\n",
        "    if a > Theta_h:\n",
        "        x  = x + np.random.binomial(N-x, p)\n",
        "    elif a > Theta_b and a <= Theta_l:\n",
        "        x = x - np.random.binomial(x, p)\n",
        "    return x\n",
        "\n",
        "def probability_plus_event(epsilon):\n",
        "    '''\n",
        "    input:\n",
        "    correlation efficient: epsilon\n",
        "    output:\n",
        "    probability of plus-event: p_p \n",
        "    '''\n",
        "    r = v_i*tau_nmda\n",
        "    C = np.exp(-r*gamma_0)/gamma(gamma_0)\n",
        "    p_p = 1 + (epsilon - 1)*C/r*Theta_h**r\n",
        "    return p_p\n",
        "\n",
        "def probability_minus_event(epsilon):\n",
        "    '''\n",
        "    input:\n",
        "    correlation efficient: epsilon\n",
        "    output:\n",
        "    probability of plus-event: p_p \n",
        "    '''\n",
        "    r = v_i*tau_nmda\n",
        "    C = np.exp(-r*gamma_0)/gamma(gamma_0)\n",
        "    p_m = (1 - epsilon)*C/r*(Theta_l**r-Theta_b**r)\n",
        "    return p_m\n",
        "\n",
        "def equilibrium_active_molecules(p_p, p_m, prob_p, prob_q, N):\n",
        "    return N*p_p*prob_p/(p_p*prob_p + p_m*prob_q)\n",
        "\n",
        "def start_recoding(t_first, t_SP):\n",
        "    '''\n",
        "    start at beginning of spike register\n",
        "    '''\n",
        "    while t_SP <= t_first:\n",
        "        '''\n",
        "        counter_SP = counter_SP +1\n",
        "        move to next element\n",
        "        '''\n",
        "def end_recording(t_last, t_SP):\n",
        "    '''\n",
        "    start at beginning of spike register\n",
        "    '''\n",
        "    while t_SP <= t_last:\n",
        "        '''\n",
        "        counter_SP = counter_SP - 1\n",
        "        move to next element\n",
        "        '''\n"
      ]
    },
    {
      "cell_type": "markdown",
      "metadata": {
        "id": "cfq83lwkFV0B"
      },
      "source": [
        "## Rate Homeostasis by Synaptic Pruning"
      ]
    },
    {
      "cell_type": "markdown",
      "metadata": {},
      "source": [
        "- If new synapses are created with a constant rate the input connectivity to the neuron has a stable fi xed point at k* where synaptic death is just compensated by synapse creation. The firing rate of the neuron assumes a corresponding fi xed fi ring rate ν*o. \n",
        "$$\n",
        "C_{io}(\\tau)=v_iv_o+c_{io}(\\tau)\\\\\n",
        "Pr(t_{pre}\\in[t-\\tau, t-\\tau+d\\tau]|post\\quad spike\\quad at\\quad t)=v_id\\tau+\\frac{1}{v_o}c_{io}(\\tau)d\\tau\\\\\n",
        "\\frac{dk}{dt}=-k\\eta_1(v_o(k),k)\\\\\n",
        "k(0)=k_0\n",
        "$$"
      ]
    },
    {
      "cell_type": "code",
      "execution_count": null,
      "metadata": {},
      "outputs": [],
      "source": []
    },
    {
      "cell_type": "code",
      "execution_count": null,
      "metadata": {
        "id": "jcFHKoc72XLw"
      },
      "outputs": [],
      "source": []
    },
    {
      "cell_type": "markdown",
      "metadata": {
        "id": "9lDJwdkLPNN_"
      },
      "source": [
        "## Cooperation and Competition by Spatial Input Correlation"
      ]
    },
    {
      "cell_type": "markdown",
      "metadata": {},
      "source": [
        "- the calcium based correlation detection mechanism naturally leads to cooperation between synapses, which stabilizes coactive inputs.\n",
        "\n",
        "$$\n",
        "\\frac{dn_p}{dt}=-n_p\\eta_{1,possion}(v_o(n_p,n_c),n_p,n_c)\\\\\n",
        "\\frac{dn_c}{dt}=-n_c\\eta_{1,mip}(v_o(n_p,n_c),n_p,n_c)\\\\\n",
        "n_p(0)=n_{p,0},\\quad n_c(0)=n_{c,0}\n",
        "$$"
      ]
    },
    {
      "cell_type": "code",
      "execution_count": null,
      "metadata": {},
      "outputs": [],
      "source": []
    },
    {
      "cell_type": "code",
      "execution_count": null,
      "metadata": {
        "id": "SpCCqWjz2YII"
      },
      "outputs": [],
      "source": []
    },
    {
      "cell_type": "markdown",
      "metadata": {},
      "source": [
        "# Appendix"
      ]
    },
    {
      "cell_type": "markdown",
      "metadata": {},
      "source": [
        "## Probability distribution for the number of active CaMKII molecules\n",
        "- Markov process\n",
        "$$\n",
        "P(x,y) = H(y-x)\\sim{p}_{+}B(y-x|p,N-x)+H(x-y)\\sim{p}_{-}B(x-y|q,x)\\\\\n",
        "\\rho(y) = \\sum_{x=0}^{N}\\rho(x)P(x,y),\\quad 0 = \\sum_{x=0}^{N}\\rho(x)(P(x,t)-\\delta(x,y))\\\\\n",
        "\\delta_{y,0}= \\sum_{x=0}^{N}\\rho(x)(P(x,t)-\\delta(x,y)+\\delta_{y,0})\\\\\n",
        "\\mu(t+\\Delta t)=\\langle x(t+\\Delta t )\\rangle\\\\\n",
        "\\frac{d\\mu(t)}{dt}=\\lim_{\\Delta t\\to 0}\\frac{\\langle x(t+\\Delta t)\\rangle-\\langle x(t)\\rangle}{\\Delta t}=\\lambda\\tilde{p}_{+}Np-\\mu(t)\\lambda(\\tilde{p}_{+}p+\\tilde{p}_{-}q)\\\\\n",
        "\\mu_{eq}=\\langle x\\rangle_{eq}=N\\frac{\\tilde{p}_{+}p}{\\tilde{p}_{+}p+\\tilde{p}_{-}q}\\\\\n",
        "\\mu(t)=\\mu(0)e^{-t\\lambda(\\tilde{p}_{+}p+\\tilde{p}_{-}q)}+\\mu_{eq}(1-e^{-t\\lambda(\\tilde{p}_{+}p+\\tilde{p}_{-}q)})\\\\\n",
        "\\tau_{relax}=\\frac{1}{\\lambda(\\tilde{p}_{+}p+\\tilde{p}_{-}q)}\n",
        "$$\n",
        "$\\sigma_{eq}$ can be determined Analogously, thus approximating as a Gaussian"
      ]
    },
    {
      "cell_type": "markdown",
      "metadata": {},
      "source": [
        "## Mean first passage time problem for the number of CaMKII molecules\n",
        "$$\n",
        "\\frac{\\partial \\rho}{\\partial t}=-\\frac{\\partial}{\\partial x}S(x)\\rho\n",
        "$$\n",
        "$S(x)$ denotes the probability flux operator. The process can be desribed as a diffusion and the equilibrium distribution is given by a Gaussian $\\rho_0(x)=N(\\mu_{eq},\\sigma_{eq}^2)$\n",
        "$$\n",
        "0 = S(x)\\rho_0(x)\\to S(x)=D(-(x-\\mu_{eq})-\\sigma^2_{eq}\\frac{\\partial}{\\partial x})\n",
        "$$\n",
        "$D$ control the time scale\n",
        "$$\n",
        "A_1(x)=-D(x-\\mu_{eq}),\\quad D = \\lambda(\\tilde{p}_{+}p+\\tilde{p}_{-}q)\n",
        "$$\n",
        "To simplify, rescale the variable $y=\\frac{x-\\mu_{eq}}{\\sigma_{eq}}$. Then end with confluent hypergeometric functions in Quantum mechanics."
      ]
    },
    {
      "cell_type": "markdown",
      "metadata": {},
      "source": [
        "## Algorithmic implementation of synapse maturation and synapse death"
      ]
    },
    {
      "cell_type": "code",
      "execution_count": null,
      "metadata": {},
      "outputs": [],
      "source": []
    }
  ],
  "metadata": {
    "colab": {
      "collapsed_sections": [],
      "include_colab_link": true,
      "name": "project-spiking circuit model for working memory.ipynb",
      "provenance": []
    },
    "interpreter": {
      "hash": "6b837086c872749167f4660aedd8f8385741724587c79b49f0a40093f2f8a1d2"
    },
    "kernelspec": {
      "display_name": "Python 3.9.7 64-bit ('aohua_conda': conda)",
      "name": "python3"
    },
    "language_info": {
      "codemirror_mode": {
        "name": "ipython",
        "version": 3
      },
      "file_extension": ".py",
      "mimetype": "text/x-python",
      "name": "python",
      "nbconvert_exporter": "python",
      "pygments_lexer": "ipython3",
      "version": "3.9.7"
    }
  },
  "nbformat": 4,
  "nbformat_minor": 2
}
