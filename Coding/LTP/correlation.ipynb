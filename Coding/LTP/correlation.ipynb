{
  "nbformat": 4,
  "nbformat_minor": 2,
  "metadata": {
    "colab": {
      "name": "project-spiking circuit model for working memory.ipynb",
      "provenance": [],
      "collapsed_sections": [],
      "include_colab_link": true
    },
    "kernelspec": {
      "name": "python3",
      "display_name": "Python 3.8.11 64-bit ('base': conda)"
    },
    "language_info": {
      "codemirror_mode": {
        "name": "ipython",
        "version": 3
      },
      "file_extension": ".py",
      "mimetype": "text/x-python",
      "name": "python",
      "nbconvert_exporter": "python",
      "pygments_lexer": "ipython3",
      "version": "3.8.11"
    },
    "interpreter": {
      "hash": "50a902ee1beef9d11ce9284f848a8e808104b577771599b9d71710171452f744"
    }
  },
  "cells": [
    {
      "cell_type": "markdown",
      "source": [
        "<a href=\"https://colab.research.google.com/github/cahcharm/Neuro-and-Complexity-Science/blob/neuro-morphology/Coding/LTP/correlation.ipynb\" target=\"_parent\"><img src=\"https://colab.research.google.com/assets/colab-badge.svg\" alt=\"Open In Colab\"/></a>"
      ],
      "metadata": {
        "id": "view-in-github",
        "colab_type": "text"
      }
    },
    {
      "cell_type": "markdown",
      "source": [
        "# **Structural plasticity controlled by calcium based correlation detection**\r\n",
        "\r\n",
        "## Top tips\r\n",
        "- Hebbian rule shows the importance of correlation between pre- and post-synapse.\r\n",
        "- The correlation is usually represented by spiking-time but structurally effected by three process: synapse formation, potential/depress, synapse pruning.\r\n",
        "- the calcium concentration in spines was experimentally shown to be a correlation sensitive signal. NMDA receptors are a candidate mediator for the correlation dependent calcium signal\r\n",
        "- Here they establish a quantitative model of correlation detection in synapses based on the calcium influx through NMDA receptors under realistic conditions of irregular pre- and postsynaptic spiking activity with pairwise correlation.\r\n",
        "- find a simple threshold mechanism sensitive to correlation, whch mechanism controls synapse formation and elimination. They show that the connectivity structure is shaped by the correlations between neighboring inputs.\r\n",
        "Structural plasticity controlled by calcium based correlation detection\r\n",
        "\r\n",
        "## Basic biochemical process\r\n",
        "\r\n",
        "- Newly formed synapses are created in an intermediate, silent state. These frequently encountered silent synapses lack AMPA receptors but have NMDA receptors. The most probable mechanism is the translocation of AMPA receptors into the postsynaptic density (PSD).\r\n",
        "- LTP and LTD are in a bistate dependent on correlation made by spiking. The underlying mechanisms may be similar.\r\n",
        "- presynapse Ca2+ release, NMDA activate mechanism, Calcium activate CaMKII, CaMKII phosphorylate AMPA receptor to increase AMPA conductivity and insertion.\r\n",
        "- CaMKII forms holoenzymes with 6 subunits triggered by different calcium signal level. Short, weak level activate one subunit and deactivate after the level drops; higher level an active subunit can phosphorylate the neiboring subunit and remain active. At resting calcium level, PP1 can dephosphorylate an active subunit but a neighboring active site can immediately rephosphorylate it again. \r\n",
        "- Calcium also activate PP1 which dephosphorylate CaMKII-- long time scale, bistable of LTP and LTD\r\n"
      ],
      "metadata": {
        "id": "U4qCoFCTEVnd"
      }
    },
    {
      "cell_type": "code",
      "execution_count": null,
      "source": [
        "# if you want to use or haven't installed brainpy \r\n",
        "# pip install -U brain-py"
      ],
      "outputs": [
        {
          "output_type": "stream",
          "name": "stdout",
          "text": [
            "Requirement already satisfied: brain-py in /usr/local/lib/python3.7/dist-packages (1.0.3)\n",
            "Requirement already satisfied: numpy>=1.15 in /usr/local/lib/python3.7/dist-packages (from brain-py) (1.19.5)\n",
            "Requirement already satisfied: matplotlib>=3.3 in /usr/local/lib/python3.7/dist-packages (from brain-py) (3.4.3)\n",
            "Requirement already satisfied: cycler>=0.10 in /usr/local/lib/python3.7/dist-packages (from matplotlib>=3.3->brain-py) (0.10.0)\n",
            "Requirement already satisfied: pillow>=6.2.0 in /usr/local/lib/python3.7/dist-packages (from matplotlib>=3.3->brain-py) (7.1.2)\n",
            "Requirement already satisfied: pyparsing>=2.2.1 in /usr/local/lib/python3.7/dist-packages (from matplotlib>=3.3->brain-py) (2.4.7)\n",
            "Requirement already satisfied: python-dateutil>=2.7 in /usr/local/lib/python3.7/dist-packages (from matplotlib>=3.3->brain-py) (2.8.2)\n",
            "Requirement already satisfied: kiwisolver>=1.0.1 in /usr/local/lib/python3.7/dist-packages (from matplotlib>=3.3->brain-py) (1.3.1)\n",
            "Requirement already satisfied: six in /usr/local/lib/python3.7/dist-packages (from cycler>=0.10->matplotlib>=3.3->brain-py) (1.15.0)\n"
          ]
        }
      ],
      "metadata": {
        "colab": {
          "base_uri": "https://localhost:8080/"
        },
        "id": "LsX1Lx6HEVLK",
        "outputId": "ab5e9e72-932a-4020-c7d1-0fdbd62dc0bf"
      }
    },
    {
      "cell_type": "code",
      "execution_count": 1,
      "source": [
        "import numpy as np\r\n",
        "import brainpy as bp\r\n",
        "import matplotlib.pyplot as plt"
      ],
      "outputs": [],
      "metadata": {
        "id": "n_192zL9EQ4y"
      }
    },
    {
      "cell_type": "code",
      "execution_count": null,
      "source": [
        "dt=0.5\r\n",
        "bp.backend.set(dt=dt)"
      ],
      "outputs": [],
      "metadata": {
        "id": "5W7UyMYXPTZE"
      }
    },
    {
      "cell_type": "markdown",
      "source": [
        "## Spike Time Dependence of Postsynaptic Calcium Concentration"
      ],
      "metadata": {
        "id": "Xf9XuCPbG6-A"
      }
    },
    {
      "cell_type": "code",
      "execution_count": null,
      "source": [],
      "outputs": [],
      "metadata": {
        "id": "xyB7ejDu2Vi2"
      }
    },
    {
      "cell_type": "markdown",
      "source": [
        "## Ca2+ Transients Caused by Correlated Irregular Spiking"
      ],
      "metadata": {
        "id": "0rPu6rPTG57I"
      }
    },
    {
      "cell_type": "code",
      "execution_count": null,
      "source": [],
      "outputs": [],
      "metadata": {
        "id": "4bU-dkyk2WOs"
      }
    },
    {
      "cell_type": "markdown",
      "source": [
        "## A Counter for Correlated Events"
      ],
      "metadata": {
        "id": "cNhLcGFzFAK2"
      }
    },
    {
      "cell_type": "code",
      "execution_count": null,
      "source": [],
      "outputs": [],
      "metadata": {
        "id": "D5O7Nk6I2WqQ"
      }
    },
    {
      "cell_type": "markdown",
      "source": [
        "## Rate Homeostasis by Synaptic Pruning"
      ],
      "metadata": {
        "id": "cfq83lwkFV0B"
      }
    },
    {
      "cell_type": "code",
      "execution_count": null,
      "source": [],
      "outputs": [],
      "metadata": {
        "id": "jcFHKoc72XLw"
      }
    },
    {
      "cell_type": "markdown",
      "source": [
        "## Cooperation and Competition by Spatial Input Correlation"
      ],
      "metadata": {
        "id": "9lDJwdkLPNN_"
      }
    },
    {
      "cell_type": "code",
      "execution_count": null,
      "source": [],
      "outputs": [],
      "metadata": {
        "id": "SpCCqWjz2YII"
      }
    }
  ]
}