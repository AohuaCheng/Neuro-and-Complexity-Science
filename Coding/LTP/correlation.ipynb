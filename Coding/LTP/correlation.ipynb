{
  "cells": [
    {
      "cell_type": "markdown",
      "metadata": {
        "colab_type": "text",
        "id": "view-in-github"
      },
      "source": [
        "<a href=\"https://colab.research.google.com/github/cahcharm/Neuro-and-Complexity-Science/blob/neuro-morphology/Coding/LTP/correlation.ipynb\" target=\"_parent\"><img src=\"https://colab.research.google.com/assets/colab-badge.svg\" alt=\"Open In Colab\"/></a>"
      ]
    },
    {
      "cell_type": "markdown",
      "metadata": {
        "id": "U4qCoFCTEVnd"
      },
      "source": [
        "# **Structural plasticity controlled by calcium based correlation detection**\n",
        "\n",
        "## Top tips\n",
        "- Hebbian rule shows the importance of correlation between pre- and post-synapse.\n",
        "- The correlation is usually represented by spiking-time but structurally effected by three process: synapse formation, potential/depress, synapse pruning.\n",
        "- the calcium concentration in spines was experimentally shown to be a correlation sensitive signal. NMDA receptors are a candidate mediator for the correlation dependent calcium signal\n",
        "- Here they establish a quantitative model of correlation detection in synapses based on the calcium influx through NMDA receptors under realistic conditions of irregular pre- and postsynaptic spiking activity with pairwise correlation.\n",
        "- find a simple threshold mechanism sensitive to correlation, whch mechanism controls synapse formation and elimination. They show that the connectivity structure is shaped by the correlations between neighboring inputs.\n",
        "Structural plasticity controlled by calcium based correlation detection\n",
        "\n",
        "## Basic biochemical process\n",
        "\n",
        "- Newly formed synapses are created in an intermediate, silent state. These frequently encountered silent synapses lack AMPA receptors but have NMDA receptors. The most probable mechanism is the translocation of AMPA receptors into the postsynaptic density (PSD).\n",
        "- LTP and LTD are in a bistate dependent on correlation made by spiking. The underlying mechanisms may be similar.\n",
        "- presynapse Ca2+ release, NMDA activate mechanism, Calcium activate CaMKII, CaMKII phosphorylate AMPA receptor to increase AMPA conductivity and insertion.\n",
        "- CaMKII forms holoenzymes with 6 subunits triggered by different calcium signal level. Short, weak level activate one subunit and deactivate after the level drops; higher level an active subunit can phosphorylate the neiboring subunit and remain active. At resting calcium level, PP1 can dephosphorylate an active subunit but a neighboring active site can immediately rephosphorylate it again. \n",
        "- Calcium also activate PP1 which dephosphorylate CaMKII-- long time scale, bistable of LTP and LTD\n"
      ]
    },
    {
      "cell_type": "code",
      "execution_count": 1,
      "metadata": {
        "colab": {
          "base_uri": "https://localhost:8080/"
        },
        "id": "LsX1Lx6HEVLK",
        "outputId": "ab5e9e72-932a-4020-c7d1-0fdbd62dc0bf"
      },
      "outputs": [],
      "source": [
        "# if you want to use or haven't installed brainpy \n",
        "# pip install -U brain-py"
      ]
    },
    {
      "cell_type": "code",
      "execution_count": 12,
      "metadata": {
        "id": "n_192zL9EQ4y"
      },
      "outputs": [],
      "source": [
        "import numpy as np\n",
        "import brainpy as bp\n",
        "import matplotlib.pyplot as plt\n",
        "from scipy.special import gamma\n",
        "from scipy import integrate"
      ]
    },
    {
      "cell_type": "code",
      "execution_count": 2,
      "metadata": {},
      "outputs": [
        {
          "data": {
            "text/plain": [
              "'1.0.3'"
            ]
          },
          "execution_count": 2,
          "metadata": {},
          "output_type": "execute_result"
        }
      ],
      "source": [
        "bp.__version__"
      ]
    },
    {
      "cell_type": "code",
      "execution_count": 3,
      "metadata": {
        "id": "5W7UyMYXPTZE"
      },
      "outputs": [],
      "source": [
        "dt=0.5\n",
        "bp.backend.set(dt=dt)"
      ]
    },
    {
      "cell_type": "markdown",
      "metadata": {
        "id": "Xf9XuCPbG6-A"
      },
      "source": [
        "## Spike Time Dependence of Postsynaptic Calcium Concentration"
      ]
    },
    {
      "cell_type": "markdown",
      "metadata": {},
      "source": [
        "- calcium peak amplitude in a spine in good approximation depends exponentially on the temporal difference of the presynaptic and the postsynaptic spiking.\n",
        "- the calcium influx is largest, if the presynaptic cell fires shortly before the postsynaptic cell. This makes the calcium signal an appropriate\n",
        "candidate carrier of information on causal correlation\n",
        "\n",
        "$$\n",
        "\\rho_{glu}, t_{glu}, \\tau_{rise,nmda}\\\\\n",
        "\\Delta t_{syn}=t_{BP} - t_{glu}\\\\\n",
        "\\Delta t_{syn} = t_{BP} - t_{glu}=t_{post}+d_{BP}-(t_{pre}+d_{glu})=\\Delta t + d_{BP}-d_{glu}\\\\\n",
        "n(t) = n_0H(t-t_{glu}-\\tau_{rise,nmda})e^{-\\frac{t-t_{glu}-t_{rise,nmda}}{\\tau_{nmda}}},\\ \n",
        "i_{Ca}=q_0\\delta(t-t_{BP})\\\\\n",
        "q = \\int i_{Ca}(t-t_{BP})n(t) dt = \\int q_0\\delta(t-t_{BP})n_0H(t-t_{glu}-t_{rise,nmda})e^{-\\frac{t-t_{glu}-t_{rise,nmda}}{\\tau_{nmda}}} dt\\\\\n",
        "= q_0n_0H(\\Delta t_{syn}-\\tau_{rise,nmda})e^{-\\frac{\\Delta t_{syn}-t_{rise,nmda}}{\\tau_{nmda}}}\\\\\n",
        "=q_0n_0H(\\Delta t - (\\tau_{rise,nmda}+d_{glu}-d_{BP}))e^{-\\frac{\\Delta t - (\\tau_{rise,nmda}+d_{glu}-d_{BP})}{\\tau_{nmda}}}\\\\\n",
        "=q_0n_0H(\\Delta t - \\tau_{rise})e^{\\frac{\\Delta t - \\tau_{rise}}{\\tau_{nmda}}}\\\\\n",
        "q(t_{BP}) = \\int_{-\\infty}^{\\infty} i_{Ca}(t-t_{BP})n(t-t_{glu})dt=\\int_0^{\\infty} i_{Ca}(t)n(t-t_{glu}+t_{BP})dt\\\\\n",
        "=\\int i_{Ca}(t)n(t+\\Delta t_{syn})dt=\\int i_{Ca}(t)e^{-\\frac{t}{\\tau_{nmda}}} dt e^{-\\frac{\\Delta t_{syn}-\\tau_{rise,nmda}}{\\tau_{nmda}}}=q'_0e^{-\\frac{\\Delta t_{syn}-\\tau_{rise,nmda}}{\\tau_{nmda}}}(if \\Delta t_{syn}\\geq \\tau_{rise,nmda})\n",
        "$$"
      ]
    },
    {
      "cell_type": "code",
      "execution_count": 9,
      "metadata": {
        "id": "xyB7ejDu2Vi2"
      },
      "outputs": [],
      "source": [
        "# paraeters setting\n",
        "rho_glu = 0 # glutamate concentration\n",
        "t_glu = 0 # time of presynaptic spiking to increase the glutamate concentration\n",
        "nt = 0 # fraction of the NMDA receptors bind to glutamte\n",
        "tau_rise_nmda = 5-10 # a rise time n(t) reaches maxium n_0 [ms] \n",
        "# we choose this maxium n_0 to be th unit of n, after rho_glu(t) decay back to its resting value, the receptors unbind and n(t) to 0\n",
        "# we neglect the continuous binding process and instead assume that the number n of glutamate bound NMDA receptors jumps to a positive value after the rise time\n",
        "n_0 = 1\n",
        "V_spine = 0 # arriving of a postsynaptic back-propagating action potential(bpAP) depolarizes the spine(V_spine), removes the block and calium ion flow into the spine\n",
        "t_BP = 5 # arrival time of a postsynaptic bpAP at the spine [ms]\n",
        "delta_t_syn = t_BP - t_glu # thus receptor mediated conductivity depends on the relative timing delta_t_syn\n",
        "q = 0 # the total amout of Ca2+ influx, which is proportional to n(t_BP), therefore depends on the relative timing delta_t_syn\n",
        "t_post = 10 # spiking time of the postsynapse [ms]\n",
        "t_pre = 0  # spiking time of the presynapse [ms]\n",
        "delta_t = t_post - t_pre # t_pre spiking time in the presynaptic neuron's soma, t_post spiking time in the postsynaptic neuron\n",
        "tau_nmda = 32 # time constant of exponential decay [ms]\n",
        "d_BP = 1 # the delay for bpAP\n",
        "d_glu =1 # delay between presynaptic spike and glutamte release\n",
        "q = 0 # total Ca2+ influx\n",
        "q_0 = 1\n",
        "tau_rise = 0 # tau_risr_nmda+d_glu-d_BP [ms]\n"
      ]
    },
    {
      "cell_type": "code",
      "execution_count": null,
      "metadata": {},
      "outputs": [],
      "source": []
    },
    {
      "cell_type": "markdown",
      "metadata": {
        "id": "0rPu6rPTG57I"
      },
      "source": [
        "## Ca2+ Transients Caused by Correlated Irregular Spiking"
      ]
    },
    {
      "cell_type": "markdown",
      "metadata": {},
      "source": [
        "- In this section we investigate how much information about the correlation between presynaptic and postsynaptic events is contained in the Ca2+ signal if the spiking activity is irregular. \n",
        "- we simulate the presynaptic and the postsynaptic spiking as Poisson processes with rates $ν_i$ and $ν_o$, respectively. Both processes share a fraction of spikes that appear in the spike trains with a fi xed temporal distance $\\Delta t$.\n",
        "- he information about correlation between the\n",
        "presynaptic and the postsynaptic events enters the probability\n",
        "distribution ρ(a) and is therefore exhibited in the amplitude dis-\n",
        "tribution of Ca2+ transients in the postsynaptic spine\n",
        "\n",
        "$$\n",
        "n(t)=n_0\\sum e^{-\\frac{t-t_{pre}-\\tau_{rise}}{\\tau_{nmda}}}\\\\\n",
        "q_A(t_{post})=\\sum e^{-\\frac{t_{post}-t_{pre}-\\tau_{rise}}{\\tau_{nmda}}}\\\\\n",
        "\\rho_0(q)=Cq^{r-1}(0<q\\leq 1), =q^{r-1}(C-r\\int_1^{q}\\rho_0(x-1)x^{-r}dx)(q>1)\\\\\n",
        "r=v_i\\tau_{nmda},\\ C =\\frac{e^{-r\\gamma}}{\\Gamma(r)},\\ \\gamma=0.577215665\\\\\n",
        "\\rho(a)=\\varepsilon\\rho_{0}(a-\\Delta a)+(1-\\varepsilon)\\rho_{0}(a),\\ \\Delta a = e^{-(\\Delta t-\\tau_{rise})/\\tau_{nmda}} \n",
        "$$"
      ]
    },
    {
      "cell_type": "code",
      "execution_count": 10,
      "metadata": {
        "id": "4bU-dkyk2WOs"
      },
      "outputs": [],
      "source": [
        "# parameters setting\n",
        "v_i = 5 # rate of Possion process for presynaptic spiking \n",
        "v_o = 5 # rate of Possion process for postsynaptic spiking\n",
        "epsilon = 0 # correlation coeffient for the strength of the temporal correlation. which is the conditional probability of a pair event\n",
        "gamma_0 = 0.577215665\n",
        "N = 80 # average number of CAMKII molecules in a PSD\n",
        " "
      ]
    },
    {
      "cell_type": "code",
      "execution_count": null,
      "metadata": {},
      "outputs": [],
      "source": [
        "def probability_distribution(q, v_i):\n",
        "    '''\n",
        "    input:\n",
        "    the Ca influx: q\n",
        "    Possion efficient of input spike: v_i\n",
        "    output:\n",
        "    probability at q: rho_0\n",
        "    '''\n",
        "    r = v_i*tau_nmda\n",
        "    C = np.exp(-r*gamma_0)/gamma(gamma_0)\n",
        "    if q <= 1:\n",
        "        rho_0 = C*q**(r-1)\n",
        "    elif q > 1:\n",
        "        rho_0 = q**(r-1)*(C-r)\n",
        "    return rho_0\n"
      ]
    },
    {
      "cell_type": "markdown",
      "metadata": {
        "id": "cNhLcGFzFAK2"
      },
      "source": [
        "## A Counter for Correlated Events"
      ]
    },
    {
      "cell_type": "markdown",
      "metadata": {},
      "source": [
        "- Appendix: Probability Distribution for the Number of Active CaMKII Molecules\n",
        "- Mean First Passage Time Problem for the Number of CaMKII Molecules\n",
        "$$\n",
        "p_{-}=P(\\Theta_b\\leq a\\leq \\Theta_l|postsynaptic spike), \\Delta t\\leq \\Delta t_{+}\\\\\n",
        "p_{+}=P(a\\geq\\Theta_h|postsynaptic spike), \\Delta t\\leq \\Delta t_{+}\\\\\n",
        "plus-event:\\Delta\\geq\\Theta_h\\\\\n",
        "p_{+}(\\varepsilon)=\\int_{\\Theta_h}^{\\infty}\\rho(a)da=(1-\\varepsilon)\\int_{\\Theta_h}^{\\infty}\\rho_0(a)da + \\varepsilon\\int_{\\Theta_h}^{\\infty}\\rho_0(a-\\Delta a)da\\\\\n",
        "=(1-\\varepsilon)(1-\\int_0^{\\Theta_h}\\rho_0(a)da)+\\varepsilon=1 + (\\varepsilon-1)\\frac{C}{r}\\Theta_h^{r}\\\\\n",
        "minus-event:\\Theta_b<\\Theta_l<\\Theta_h\\leq \\Delta a\\\\\n",
        "p_{-}(\\varepsilon)=\\int_{\\Theta_b}^{\\Theta_l}\\rho(a)da=(1-\\varepsilon)\\int_{\\Theta_b}^{\\Theta_l}\\rho_0(a)da + \\varepsilon\\int_{\\Theta_b}^{\\Theta_l}\\rho_0(a-\\Delta a)da\\\\\n",
        "=(1-\\varepsilon)\\frac{C}{r}(\\Theta_l^r-\\Theta_b^r)\n",
        "$$"
      ]
    },
    {
      "cell_type": "code",
      "execution_count": 11,
      "metadata": {},
      "outputs": [],
      "source": [
        "# parameters setting\n",
        "Delta_t_plus = 20  # the range of teporal distance\n",
        "Theta_h = np.exp(-Delta_t_plus/tau_nmda) # the highest threshold of calcium influx - plus event\n",
        "Theta_l = 0.75*Theta_h # the low threshold of calcium influx - no man land\n",
        "Theta_b = 0.3*Theta_h # the base threshold of calcium influx - minus event\n",
        "prob_p = 0.01 # the probability of each CaMKII molecule to be activated\n",
        "prob_q = 0.01 # the probability of each CaMKII molecule to be deactivated\n",
        "X_m = N*0.8 # the minimal amount of active CAMKII molecules for synapse maturation by insertion of new AMPA receptors\n",
        "X_d = N*0.3 # the minimal amount of the synapse pruning, X_d < X_m\n"
      ]
    },
    {
      "cell_type": "code",
      "execution_count": null,
      "metadata": {
        "id": "D5O7Nk6I2WqQ"
      },
      "outputs": [],
      "source": [
        "def CAMKII_bistable(x, a, p, N, Theta_h, Theta_b, Theta_l):\n",
        "    '''\n",
        "    input:\n",
        "    x is the number of active CAMKII\n",
        "    a is the Ca influx\n",
        "    p is the probability of phosphorylate\n",
        "    N is the number of all CAMKII\n",
        "    output: \n",
        "    updated x\n",
        "    '''\n",
        "    if a > Theta_h:\n",
        "        x  = x + np.random.binomial(N-x, p)\n",
        "    elif a > Theta_b and a <= Theta_l:\n",
        "        x = x - np.random.binomial(x, p)\n",
        "    return x\n",
        "\n",
        "def probability_plus_event(epsilon):\n",
        "    '''\n",
        "    input:\n",
        "    correlation efficient: epsilon\n",
        "    output:\n",
        "    probability of plus-event: p_p \n",
        "    '''\n",
        "    r = v_i*tau_nmda\n",
        "    C = np.exp(-r*gamma_0)/gamma(gamma_0)\n",
        "    p_p = 1 + (epsilon - 1)*C/r*Theta_h**r\n",
        "    return p_p\n",
        "\n",
        "def probability_minus_event(epsilon):\n",
        "    '''\n",
        "    input:\n",
        "    correlation efficient: epsilon\n",
        "    output:\n",
        "    probability of plus-event: p_p \n",
        "    '''\n",
        "    r = v_i*tau_nmda\n",
        "    C = np.exp(-r*gamma_0)/gamma(gamma_0)\n",
        "    p_m = (1 - epsilon)*C/r*(Theta_l**r-Theta_b**r)\n",
        "    return p_m\n",
        "\n",
        "def equilibrium_active_molecules(p_p, p_m, prob_p, prob_q, N):\n",
        "    return N*p_p*prob_p/(p_p*prob_p + p_m*prob_q)\n"
      ]
    },
    {
      "cell_type": "markdown",
      "metadata": {
        "id": "cfq83lwkFV0B"
      },
      "source": [
        "## Rate Homeostasis by Synaptic Pruning"
      ]
    },
    {
      "cell_type": "code",
      "execution_count": null,
      "metadata": {
        "id": "jcFHKoc72XLw"
      },
      "outputs": [],
      "source": []
    },
    {
      "cell_type": "markdown",
      "metadata": {
        "id": "9lDJwdkLPNN_"
      },
      "source": [
        "## Cooperation and Competition by Spatial Input Correlation"
      ]
    },
    {
      "cell_type": "code",
      "execution_count": null,
      "metadata": {
        "id": "SpCCqWjz2YII"
      },
      "outputs": [],
      "source": []
    }
  ],
  "metadata": {
    "colab": {
      "collapsed_sections": [],
      "include_colab_link": true,
      "name": "project-spiking circuit model for working memory.ipynb",
      "provenance": []
    },
    "interpreter": {
      "hash": "6b837086c872749167f4660aedd8f8385741724587c79b49f0a40093f2f8a1d2"
    },
    "kernelspec": {
      "display_name": "Python 3.9.7 64-bit ('aohua_conda': conda)",
      "name": "python3"
    },
    "language_info": {
      "codemirror_mode": {
        "name": "ipython",
        "version": 3
      },
      "file_extension": ".py",
      "mimetype": "text/x-python",
      "name": "python",
      "nbconvert_exporter": "python",
      "pygments_lexer": "ipython3",
      "version": "3.9.7"
    }
  },
  "nbformat": 4,
  "nbformat_minor": 2
}
