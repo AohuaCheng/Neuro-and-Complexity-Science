{
 "cells": [
  {
   "cell_type": "markdown",
   "id": "83d6b39b",
   "metadata": {},
   "source": [
    "# EI balance network"
   ]
  },
  {
   "cell_type": "markdown",
   "id": "708d805a",
   "metadata": {},
   "source": [
    "Implementation of the paper:\n",
    "\n",
    "- Vogels, T. P. and Abbott, L. F. (2005), Signal propagation and logic gating in networks of integrate-and-fire neurons., J. Neurosci., 25, 46, 10786–95"
   ]
  },
  {
   "cell_type": "markdown",
   "id": "a4b0ee46",
   "metadata": {},
   "source": [
    "**Neuron model**\n",
    "\n",
    "In COBA network, each integrate-and-fire neuron is characterized by a time constant, $\\tau$ = 20 ms, and a resting membrane potential, $V_{rest}$ = -60 mV. Whenever the membrane potential crosses a spiking threshold of -50 mV, an action potential is generated and the membrane potential is reset to the resting potential, where it remains clamped for a 5 ms refractory period. The membrane voltages are calculated as follows:\n",
    "\n",
    "$$\n",
    "\\tau \\frac{dV}{dt} = (V_{rest} - V) + I\n",
    "$$\n",
    "\n",
    "The $I$ is the synaptic input, which consists of two parts:\n",
    "\n",
    "$$I = g_{exc}(E_{exc} - V) + g_{inh}(E_{inh} - V) + I_{ext}$$\n",
    "\n",
    "where reversal potentials are $E_{exc} = 0$ mV and $E_{inh} = -80$ mV, $I_{ext}=20.$."
   ]
  },
  {
   "cell_type": "markdown",
   "id": "1495a665",
   "metadata": {},
   "source": [
    "**Synapse model**\n",
    "\n",
    "In COBA network, when a neuron fires, the appropriate synaptic variable of its postsynaptic targets are increased, $g_{exc} \\gets g_{exc} + \\Delta g_{exc}$ for an excitatory presynaptic neuron and $g_{inh} \\gets g_{inh} + \\Delta g_{inh}$ for an inhibitory presynaptic neuron. Otherwise, these parameters obey the following equations:\n",
    "\n",
    "$$\\tau_{exc} {dg_{exc} \\over dt} = -g_{exc}$$\n",
    "$$\\tau_{inh} {dg_{inh} \\over dt} = -g_{inh}$$\n",
    "\n",
    "with synaptic time constants $\\tau_{exc} = 5$ ms, $\\tau_{inh} = 10$ ms, $\\Delta g_{exc} = 0.6$ and $\\Delta g_{inh} = 6.7$."
   ]
  },
  {
   "cell_type": "code",
   "execution_count": 1,
   "id": "5afc66e1",
   "metadata": {},
   "outputs": [],
   "source": [
    "import numpy as np\n",
    "import brainpy as bp\n",
    "\n",
    "bp.backend.set(backend='numba')"
   ]
  },
  {
   "cell_type": "code",
   "execution_count": 2,
   "id": "67cf0402",
   "metadata": {},
   "outputs": [],
   "source": [
    "# Parameters for network structure\n",
    "num = 4000\n",
    "num_exc = int(num * 0.75)\n",
    "num_inh = int(num * 0.25)"
   ]
  },
  {
   "cell_type": "code",
   "execution_count": 3,
   "id": "9656d9fe",
   "metadata": {},
   "outputs": [],
   "source": [
    "# Parameters for the neuron\n",
    "tau = 20  # ms\n",
    "Vt = -50  # mV\n",
    "Vr = -60  # mV\n",
    "El = -60  # mV\n",
    "ref_time = 5.0  # refractory time, ms\n",
    "Iext = 20."
   ]
  },
  {
   "cell_type": "code",
   "execution_count": 4,
   "id": "13201519",
   "metadata": {},
   "outputs": [],
   "source": [
    "class LIF(bp.NeuGroup):\n",
    "    target_backend = ['numpy', 'numba']\n",
    "\n",
    "    \n",
    "\n",
    "    def __init__(self, size, **kwargs):\n",
    "        # variables\n",
    "        self.V = bp.ops.zeros(size)\n",
    "        self.spike = bp.ops.zeros(size)\n",
    "        self.input = bp.ops.zeros(size)\n",
    "        self.t_last_spike = bp.ops.ones(size) * -1e7\n",
    "\n",
    "        # initialize\n",
    "        self.int_V = bp.odeint(self.dev_V)\n",
    "        super(LIF, self).__init__(size=size, **kwargs)\n",
    "    \n",
    "    @staticmethod\n",
    "    def dev_V(V, t, Iexc):\n",
    "        ???  # dvdt\n",
    "        return dV\n",
    "    \n",
    "    def update(self, _t):\n",
    "        for i in range(self.num):\n",
    "            self.spike[i] = 0.\n",
    "            if (_t - self.t_last_spike[i]) > ref_time:\n",
    "                V = self.int_V(self.V[i], _t, self.input[i])\n",
    "                if V >= Vt:\n",
    "                    # logic when neuron fires\n",
    "                    self.V[i] = ???\n",
    "                    self.spike[i] = ???\n",
    "                    self.t_last_spike[i] = ???\n",
    "                else:\n",
    "                    # logic when neuron does not fire\n",
    "                    self.V[i] = ???\n",
    "            self.input[i] = Iext"
   ]
  },
  {
   "cell_type": "code",
   "execution_count": 5,
   "id": "1eb2a007",
   "metadata": {},
   "outputs": [],
   "source": [
    "# Parameters for the synapse\n",
    "tau_exc = 5  # ms\n",
    "tau_inh = 10  # ms\n",
    "E_exc = 0.  # mV\n",
    "E_inh = -80.  # mV\n",
    "delta_exc = 0.6  # excitatory synaptic weight\n",
    "delta_inh = 6.7  # inhibitory synaptic weight"
   ]
  },
  {
   "cell_type": "code",
   "execution_count": 6,
   "id": "079a839e",
   "metadata": {},
   "outputs": [],
   "source": [
    "class Syn(bp.TwoEndConn):\n",
    "    target_backend = ['numpy', 'numba']\n",
    "\n",
    "    @staticmethod\n",
    "    def dev_g(g, t, tau):\n",
    "        ??? # dgdt \n",
    "        return dg\n",
    "\n",
    "    def __init__(self, pre, post, conn, tau, weight, E, **kwargs):\n",
    "        # parameters\n",
    "        self.tau = tau\n",
    "        self.weight = weight\n",
    "        self.E = E\n",
    "\n",
    "        # connections\n",
    "        self.conn = conn(pre.size, post.size)\n",
    "        self.pre_ids, self.post_ids = self.conn.requires('pre_ids', 'post_ids')\n",
    "        self.num = len(self.pre_ids)\n",
    "\n",
    "        # variables\n",
    "        self.g = bp.ops.zeros(self.num)\n",
    "\n",
    "        # initialize\n",
    "        self.int_g = bp.odeint(self.dev_g)\n",
    "        super(Syn, self).__init__(pre=pre, post=post, **kwargs)\n",
    "\n",
    "    def update(self, _t):\n",
    "        self.g = ??? # integral\n",
    "        \n",
    "        # p1: update\n",
    "        for syn_i in range(self.num):\n",
    "            pre_i = self.pre_ids[syn_i]\n",
    "            if self.pre.spike[pre_i]:\n",
    "                self.g[syn_i] = ???  # if pre neuron spikes\n",
    "        # p2: output\n",
    "        for syn_i in range(self.num):\n",
    "            post_i = self.post_ids[syn_i]\n",
    "            self.post.input[post_i] += self.g[syn_i] * ??? # "
   ]
  },
  {
   "cell_type": "code",
   "execution_count": 7,
   "id": "9930e71f",
   "metadata": {},
   "outputs": [
    {
     "name": "stdout",
     "output_type": "stream",
     "text": [
      "Compilation used 2.7974 s.\n",
      "Start running ...\n",
      "Run 10.0% used 0.187 s.\n",
      "Run 20.0% used 0.373 s.\n",
      "Run 30.0% used 0.559 s.\n",
      "Run 40.0% used 0.750 s.\n",
      "Run 50.0% used 0.972 s.\n",
      "Run 60.0% used 1.164 s.\n",
      "Run 70.0% used 1.361 s.\n",
      "Run 80.0% used 1.558 s.\n",
      "Run 90.0% used 1.754 s.\n",
      "Run 100.0% used 1.989 s.\n",
      "Simulation is done in 1.989 s.\n",
      "\n"
     ]
    },
    {
     "name": "stderr",
     "output_type": "stream",
     "text": [
      "C:\\Users\\adadu\\miniconda3\\lib\\site-packages\\IPython\\core\\pylabtools.py:132: UserWarning: constrained_layout not applied.  At least one axes collapsed to zero width or height.\n",
      "  fig.canvas.print_figure(bytes_io, **kw)\n"
     ]
    },
    {
     "data": {
      "image/png": "[encoded data removed]",
      "text/plain": [
       "<Figure size 720x360 with 2 Axes>"
      ]
     },
     "metadata": {
      "needs_background": "light"
     },
     "output_type": "display_data"
    }
   ],
   "source": [
    "E = LIF(size=???, monitors=???)  # monitor neuron spike\n",
    "E.V = np.random.randn(num_exc) * 5. + Vr\n",
    "\n",
    "I = LIF(size=???, monitors=???)\n",
    "I.V = np.random.randn(num_inh) * 5. + Vr\n",
    "\n",
    "E2E = Syn(pre=???, post=???, conn=???, tau=tau_exc, weight=delta_exc, E=E_exc)\n",
    "\n",
    "E2I = Syn(pre=???, post=???, conn=???, tau=tau_exc, weight=delta_exc, E=E_exc)\n",
    "\n",
    "I2E = Syn(pre=???, post=???, conn=???, tau=tau_inh, weight=delta_inh, E=E_inh)\n",
    "\n",
    "I2I = Syn(pre=???, post=???, conn=???, tau=tau_inh, weight=delta_inh, E=E_inh)\n",
    "\n",
    "net = bp.Network(E, I, E2E, E2I, I2E, I2I)\n",
    "t = net.run(100., report=True)\n",
    "\n",
    "fig, gs = bp.visualize.get_figure(row_num=5, col_num=1, row_len=1, col_len=10)\n",
    "fig.add_subplot(gs[:4, 0])\n",
    "bp.visualize.raster_plot(E.mon.ts, E.mon.spike, ylabel='E Group', xlabel='')\n",
    "fig.add_subplot(gs[4, 0])\n",
    "bp.visualize.raster_plot(I.mon.ts, I.mon.spike, ylabel='I Group', show=True)"
   ]
  }
 ],
 "metadata": {
  "kernelspec": {
   "display_name": "Python 3",
   "language": "python",
   "name": "python3"
  },
  "language_info": {
   "codemirror_mode": {
    "name": "ipython",
    "version": 3
   },
   "file_extension": ".py",
   "mimetype": "text/x-python",
   "name": "python",
   "nbconvert_exporter": "python",
   "pygments_lexer": "ipython3",
   "version": "3.8.5"
  },
  "latex_envs": {
   "LaTeX_envs_menu_present": true,
   "autoclose": false,
   "autocomplete": true,
   "bibliofile": "biblio.bib",
   "cite_by": "apalike",
   "current_citInitial": 1,
   "eqLabelWithNumbers": true,
   "eqNumInitial": 1,
   "hotkeys": {
    "equation": "Ctrl-E",
    "itemize": "Ctrl-I"
   },
   "labels_anchors": false,
   "latex_user_defs": false,
   "report_style_numbering": false,
   "user_envs_cfg": false
  },
  "toc": {
   "base_numbering": 1,
   "nav_menu": {},
   "number_sections": true,
   "sideBar": true,
   "skip_h1_title": false,
   "title_cell": "Table of Contents",
   "title_sidebar": "Contents",
   "toc_cell": false,
   "toc_position": {},
   "toc_section_display": true,
   "toc_window_display": true
  }
 },
 "nbformat": 4,
 "nbformat_minor": 5
}
