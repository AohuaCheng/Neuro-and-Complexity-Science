{
  "nbformat": 4,
  "nbformat_minor": 5,
  "metadata": {
    "kernelspec": {
      "display_name": "Python 3",
      "language": "python",
      "name": "python3"
    },
    "language_info": {
      "codemirror_mode": {
        "name": "ipython",
        "version": 3
      },
      "file_extension": ".py",
      "mimetype": "text/x-python",
      "name": "python",
      "nbconvert_exporter": "python",
      "pygments_lexer": "ipython3",
      "version": "3.8.5"
    },
    "latex_envs": {
      "LaTeX_envs_menu_present": true,
      "autoclose": false,
      "autocomplete": true,
      "bibliofile": "biblio.bib",
      "cite_by": "apalike",
      "current_citInitial": 1,
      "eqLabelWithNumbers": true,
      "eqNumInitial": 1,
      "hotkeys": {
        "equation": "Ctrl-E",
        "itemize": "Ctrl-I"
      },
      "labels_anchors": false,
      "latex_user_defs": false,
      "report_style_numbering": false,
      "user_envs_cfg": false
    },
    "toc": {
      "base_numbering": 1,
      "nav_menu": {},
      "number_sections": true,
      "sideBar": true,
      "skip_h1_title": false,
      "title_cell": "Table of Contents",
      "title_sidebar": "Contents",
      "toc_cell": false,
      "toc_position": {},
      "toc_section_display": true,
      "toc_window_display": true
    },
    "colab": {
      "name": "4.1_EI_network.ipynb",
      "provenance": []
    }
  },
  "cells": [
    {
      "cell_type": "markdown",
      "metadata": {
        "id": "83d6b39b"
      },
      "source": [
        "# EI balance network"
      ],
      "id": "83d6b39b"
    },
    {
      "cell_type": "markdown",
      "metadata": {
        "id": "708d805a"
      },
      "source": [
        "Implementation of the paper:\n",
        "\n",
        "- Vogels, T. P. and Abbott, L. F. (2005), Signal propagation and logic gating in networks of integrate-and-fire neurons., J. Neurosci., 25, 46, 10786–95"
      ],
      "id": "708d805a"
    },
    {
      "cell_type": "markdown",
      "metadata": {
        "id": "a4b0ee46"
      },
      "source": [
        "**Neuron model**\n",
        "\n",
        "In COBA network, each integrate-and-fire neuron is characterized by a time constant, $\\tau$ = 20 ms, and a resting membrane potential, $V_{rest}$ = -60 mV. Whenever the membrane potential crosses a spiking threshold of -50 mV, an action potential is generated and the membrane potential is reset to the resting potential, where it remains clamped for a 5 ms refractory period. The membrane voltages are calculated as follows:\n",
        "\n",
        "$$\n",
        "\\tau \\frac{dV}{dt} = (V_{rest} - V) + I\n",
        "$$\n",
        "\n",
        "The $I$ is the synaptic input, which consists of two parts:\n",
        "\n",
        "$$I = g_{exc}(E_{exc} - V) + g_{inh}(E_{inh} - V) + I_{ext}$$\n",
        "\n",
        "where reversal potentials are $E_{exc} = 0$ mV and $E_{inh} = -80$ mV, $I_{ext}=20.$."
      ],
      "id": "a4b0ee46"
    },
    {
      "cell_type": "markdown",
      "metadata": {
        "id": "1495a665"
      },
      "source": [
        "**Synapse model**\n",
        "\n",
        "In COBA network, when a neuron fires, the appropriate synaptic variable of its postsynaptic targets are increased, $g_{exc} \\gets g_{exc} + \\Delta g_{exc}$ for an excitatory presynaptic neuron and $g_{inh} \\gets g_{inh} + \\Delta g_{inh}$ for an inhibitory presynaptic neuron. Otherwise, these parameters obey the following equations:\n",
        "\n",
        "$$\\tau_{exc} {dg_{exc} \\over dt} = -g_{exc}$$\n",
        "$$\\tau_{inh} {dg_{inh} \\over dt} = -g_{inh}$$\n",
        "\n",
        "with synaptic time constants $\\tau_{exc} = 5$ ms, $\\tau_{inh} = 10$ ms, $\\Delta g_{exc} = 0.6$ and $\\Delta g_{inh} = 6.7$."
      ],
      "id": "1495a665"
    },
    {
      "cell_type": "code",
      "metadata": {
        "id": "yIv1tW6UUreW",
        "outputId": "f5fbdea2-0d4b-42e2-eebc-c20b871ff8b9",
        "colab": {
          "base_uri": "https://localhost:8080/"
        }
      },
      "source": [
        "pip install -U brainpy-simulator"
      ],
      "id": "yIv1tW6UUreW",
      "execution_count": 1,
      "outputs": [
        {
          "output_type": "stream",
          "text": [
            "Collecting brainpy-simulator\n",
            "  Downloading brainpy-simulator-1.0.2.tar.gz (126 kB)\n",
            "\u001b[?25l\r\u001b[K     |██▋                             | 10 kB 22.5 MB/s eta 0:00:01\r\u001b[K     |█████▏                          | 20 kB 29.5 MB/s eta 0:00:01\r\u001b[K     |███████▉                        | 30 kB 35.2 MB/s eta 0:00:01\r\u001b[K     |██████████▍                     | 40 kB 39.3 MB/s eta 0:00:01\r\u001b[K     |█████████████                   | 51 kB 29.7 MB/s eta 0:00:01\r\u001b[K     |███████████████▋                | 61 kB 27.4 MB/s eta 0:00:01\r\u001b[K     |██████████████████▏             | 71 kB 24.6 MB/s eta 0:00:01\r\u001b[K     |████████████████████▊           | 81 kB 26.5 MB/s eta 0:00:01\r\u001b[K     |███████████████████████▍        | 92 kB 28.7 MB/s eta 0:00:01\r\u001b[K     |██████████████████████████      | 102 kB 28.8 MB/s eta 0:00:01\r\u001b[K     |████████████████████████████▋   | 112 kB 28.8 MB/s eta 0:00:01\r\u001b[K     |███████████████████████████████▏| 122 kB 28.8 MB/s eta 0:00:01\r\u001b[K     |████████████████████████████████| 126 kB 28.8 MB/s \n",
            "\u001b[?25hRequirement already satisfied: numpy>=1.15 in /usr/local/lib/python3.7/dist-packages (from brainpy-simulator) (1.19.5)\n",
            "Requirement already satisfied: matplotlib>=3.2 in /usr/local/lib/python3.7/dist-packages (from brainpy-simulator) (3.2.2)\n",
            "Requirement already satisfied: kiwisolver>=1.0.1 in /usr/local/lib/python3.7/dist-packages (from matplotlib>=3.2->brainpy-simulator) (1.3.1)\n",
            "Requirement already satisfied: pyparsing!=2.0.4,!=2.1.2,!=2.1.6,>=2.0.1 in /usr/local/lib/python3.7/dist-packages (from matplotlib>=3.2->brainpy-simulator) (2.4.7)\n",
            "Requirement already satisfied: cycler>=0.10 in /usr/local/lib/python3.7/dist-packages (from matplotlib>=3.2->brainpy-simulator) (0.10.0)\n",
            "Requirement already satisfied: python-dateutil>=2.1 in /usr/local/lib/python3.7/dist-packages (from matplotlib>=3.2->brainpy-simulator) (2.8.1)\n",
            "Requirement already satisfied: six in /usr/local/lib/python3.7/dist-packages (from cycler>=0.10->matplotlib>=3.2->brainpy-simulator) (1.15.0)\n",
            "Building wheels for collected packages: brainpy-simulator\n",
            "  Building wheel for brainpy-simulator (setup.py) ... \u001b[?25l\u001b[?25hdone\n",
            "  Created wheel for brainpy-simulator: filename=brainpy_simulator-1.0.2-py3-none-any.whl size=152106 sha256=337d1ca33e96f651d2aeeb2943add77d69c668369a2cd61cad51f6017f14fb8c\n",
            "  Stored in directory: /root/.cache/pip/wheels/ec/1c/3f/e33093b69bc03ff9b2742480ec6126ddef875ba4f6d3699659\n",
            "Successfully built brainpy-simulator\n",
            "Installing collected packages: brainpy-simulator\n",
            "Successfully installed brainpy-simulator-1.0.2\n"
          ],
          "name": "stdout"
        }
      ]
    },
    {
      "cell_type": "code",
      "metadata": {
        "id": "5afc66e1"
      },
      "source": [
        "import numpy as np\n",
        "import brainpy as bp\n",
        "\n",
        "bp.backend.set(backend='numba')"
      ],
      "id": "5afc66e1",
      "execution_count": 2,
      "outputs": []
    },
    {
      "cell_type": "code",
      "metadata": {
        "id": "67cf0402"
      },
      "source": [
        "# Parameters for network structure\n",
        "num = 4000\n",
        "num_exc = int(num * 0.75)\n",
        "num_inh = int(num * 0.25)"
      ],
      "id": "67cf0402",
      "execution_count": 3,
      "outputs": []
    },
    {
      "cell_type": "code",
      "metadata": {
        "id": "9656d9fe"
      },
      "source": [
        "# Parameters for the neuron\n",
        "tau = 20  # ms\n",
        "Vt = -50  # mV\n",
        "Vr = -60  # mV\n",
        "El = -60  # mV\n",
        "ref_time = 5.0  # refractory time, ms\n",
        "Iext = 20."
      ],
      "id": "9656d9fe",
      "execution_count": 4,
      "outputs": []
    },
    {
      "cell_type": "code",
      "metadata": {
        "id": "13201519"
      },
      "source": [
        "class LIF(bp.NeuGroup):\n",
        "    target_backend = ['numpy', 'numba']\n",
        "\n",
        "    def __init__(self, size, **kwargs):\n",
        "      # variables\n",
        "      self.V = bp.ops.zeros(size)\n",
        "      self.spike = bp.ops.zeros(size)\n",
        "      self.input = bp.ops.zeros(size)\n",
        "      self.t_last_spike = bp.ops.ones(size) * -1e7\n",
        "\n",
        "      # initialize\n",
        "      self.int_V = bp.odeint(self.dev_V)\n",
        "      super(LIF, self).__init__(size=size, **kwargs)\n",
        "    \n",
        "    @staticmethod\n",
        "    def dev_V(V, t, Iexc):\n",
        "      dV = (Iexc + El - V) / tau # dvdt\n",
        "      return dV\n",
        "    \n",
        "    def update(self, _t):\n",
        "      for i in range(self.num):\n",
        "        self.spike[i] = 0.\n",
        "        if (_t - self.t_last_spike[i]) > ref_time:\n",
        "          V = self.int_V(self.V[i], _t, self.input[i])\n",
        "          if V >= Vt:\n",
        "            # logic when neuron fires\n",
        "            self.V[i] = Vr\n",
        "            self.spike[i] = 1.\n",
        "            self.t_last_spike[i] = _t\n",
        "          else:\n",
        "            # logic when neuron does not fire\n",
        "            self.V[i] = V\n",
        "        self.input[i] = Iext"
      ],
      "id": "13201519",
      "execution_count": 14,
      "outputs": []
    },
    {
      "cell_type": "code",
      "metadata": {
        "id": "1eb2a007"
      },
      "source": [
        "# Parameters for the synapse\n",
        "tau_exc = 5  # ms\n",
        "tau_inh = 10  # ms\n",
        "E_exc = 0.  # mV\n",
        "E_inh = -80.  # mV\n",
        "delta_exc = 0.6  # excitatory synaptic weight\n",
        "delta_inh = 6.7  # inhibitory synaptic weight"
      ],
      "id": "1eb2a007",
      "execution_count": 6,
      "outputs": []
    },
    {
      "cell_type": "code",
      "metadata": {
        "id": "079a839e"
      },
      "source": [
        "class Syn(bp.TwoEndConn):\n",
        "    target_backend = ['numpy', 'numba']\n",
        "\n",
        "    @staticmethod\n",
        "    def dev_g(g, t, tau):\n",
        "      dg = - g / tau # dgdt \n",
        "      return dg\n",
        "\n",
        "    def __init__(self, pre, post, conn, tau, weight, E, **kwargs):\n",
        "      # parameters\n",
        "      self.tau = tau\n",
        "      self.weight = weight\n",
        "      self.E = E\n",
        "\n",
        "      # connections\n",
        "      self.conn = conn(pre.size, post.size)\n",
        "      self.pre_ids, self.post_ids = self.conn.requires('pre_ids', 'post_ids')\n",
        "      self.num = len(self.pre_ids)\n",
        "\n",
        "      # variables\n",
        "      self.g = bp.ops.zeros(self.num)\n",
        "\n",
        "      # initialize\n",
        "      self.int_g = bp.odeint(self.dev_g)\n",
        "      super(Syn, self).__init__(pre=pre, post=post, **kwargs)\n",
        "\n",
        "    def update(self, _t):\n",
        "      self.g = self.int_g(self.g, _t, self.tau) # integral\n",
        "      \n",
        "      # p1: update\n",
        "      for syn_i in range(self.num):\n",
        "        pre_i = self.pre_ids[syn_i]\n",
        "        if self.pre.spike[pre_i]:\n",
        "          self.g[syn_i] += self.weight  # if pre neuron spikes\n",
        "      # p2: output\n",
        "      for syn_i in range(self.num):\n",
        "        post_i = self.post_ids[syn_i]\n",
        "        self.post.input[post_i] += self.g[syn_i] * (self.E - self.post.V[post_i]) # "
      ],
      "id": "079a839e",
      "execution_count": 16,
      "outputs": []
    },
    {
      "cell_type": "code",
      "metadata": {
        "id": "9930e71f",
        "outputId": "fc2844a2-9c5f-4aef-8599-61c349e582fa",
        "colab": {
          "base_uri": "https://localhost:8080/",
          "height": 620
        }
      },
      "source": [
        "E = LIF(size=num_exc, monitors=['spike'])  # monitor neuron spike\n",
        "E.V = np.random.randn(num_exc) * 5. + Vr\n",
        "\n",
        "I = LIF(size=num_inh, monitors=['spike'])\n",
        "I.V = np.random.randn(num_inh) * 5. + Vr\n",
        "\n",
        "E2E = Syn(pre=E, post=E, conn=bp.connect.FixedProb(0.02),\n",
        "          tau=tau_exc, weight=delta_exc, E=E_exc)\n",
        "\n",
        "E2I = Syn(pre=E, post=I, conn=bp.connect.FixedProb(0.02),\n",
        "          tau=tau_exc, weight=delta_exc, E=E_exc)\n",
        "\n",
        "I2E = Syn(pre=I, post=E, conn=bp.connect.FixedProb(0.02),\n",
        "          tau=tau_inh, weight=delta_inh, E=E_inh)\n",
        "\n",
        "I2I = Syn(pre=I, post=I, conn=bp.connect.FixedProb(0.02),\n",
        "          tau=tau_inh, weight=delta_inh, E=E_inh)\n",
        "\n",
        "net = bp.Network(E, I, E2E, E2I, I2E, I2I)\n",
        "t = net.run(100., report=True)\n",
        "\n",
        "fig, gs = bp.visualize.get_figure(row_num=5, col_num=1, row_len=1, col_len=10)\n",
        "fig.add_subplot(gs[:4, 0])\n",
        "bp.visualize.raster_plot(E.mon.ts, E.mon.spike, ylabel='E Group', xlabel='')\n",
        "fig.add_subplot(gs[4, 0])\n",
        "bp.visualize.raster_plot(I.mon.ts, I.mon.spike, ylabel='I Group', show=True)"
      ],
      "id": "9930e71f",
      "execution_count": 17,
      "outputs": [
        {
          "output_type": "stream",
          "text": [
            "Compilation used 4.0208 s.\n",
            "Start running ...\n",
            "Run 10.0% used 0.200 s.\n",
            "Run 20.0% used 0.399 s.\n",
            "Run 30.0% used 0.596 s.\n",
            "Run 40.0% used 0.790 s.\n",
            "Run 50.0% used 0.990 s.\n",
            "Run 60.0% used 1.191 s.\n",
            "Run 70.0% used 1.391 s.\n",
            "Run 80.0% used 1.589 s.\n",
            "Run 90.0% used 1.787 s.\n",
            "Run 100.0% used 1.984 s.\n",
            "Simulation is done in 1.984 s.\n",
            "\n"
          ],
          "name": "stdout"
        },
        {
          "output_type": "display_data",
          "data": {
            "image/png": "[encoded data removed]",
            "text/plain": [
              "<Figure size 720x360 with 2 Axes>"
            ]
          },
          "metadata": {
            "tags": [],
            "needs_background": "light"
          }
        }
      ]
    }
  ]
}