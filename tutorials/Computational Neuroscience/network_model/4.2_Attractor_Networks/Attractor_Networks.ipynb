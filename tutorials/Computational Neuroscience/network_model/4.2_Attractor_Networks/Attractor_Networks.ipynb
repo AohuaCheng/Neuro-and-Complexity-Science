{
  "nbformat": 4,
  "nbformat_minor": 0,
  "metadata": {
    "hide_input": false,
    "kernelspec": {
      "display_name": "Python 3",
      "language": "python",
      "name": "python3"
    },
    "language_info": {
      "codemirror_mode": {
        "name": "ipython",
        "version": 3
      },
      "file_extension": ".py",
      "mimetype": "text/x-python",
      "name": "python",
      "nbconvert_exporter": "python",
      "pygments_lexer": "ipython3",
      "version": "3.7.9"
    },
    "toc": {
      "base_numbering": 1,
      "nav_menu": {},
      "number_sections": false,
      "sideBar": true,
      "skip_h1_title": false,
      "title_cell": "Table of Contents",
      "title_sidebar": "Contents",
      "toc_cell": false,
      "toc_position": {},
      "toc_section_display": true,
      "toc_window_display": true
    },
    "varInspector": {
      "cols": {
        "lenName": 16,
        "lenType": 16,
        "lenVar": 40
      },
      "kernels_config": {
        "python": {
          "delete_cmd_postfix": "",
          "delete_cmd_prefix": "del ",
          "library": "var_list.py",
          "varRefreshCmd": "print(var_dic_list())"
        },
        "r": {
          "delete_cmd_postfix": ") ",
          "delete_cmd_prefix": "rm(",
          "library": "var_list.r",
          "varRefreshCmd": "cat(var_dic_list()) "
        }
      },
      "types_to_exclude": [
        "module",
        "function",
        "builtin_function_or_method",
        "instance",
        "_Feature"
      ],
      "window_display": false
    },
    "colab": {
      "name": "Attractor_Networks.ipynb",
      "provenance": [],
      "include_colab_link": true
    }
  },
  "cells": [
    {
      "cell_type": "markdown",
      "metadata": {
        "id": "view-in-github",
        "colab_type": "text"
      },
      "source": [
        "<a href=\"https://colab.research.google.com/github/cahcharm/Neuro-and-Complexity-Science/blob/CSHA2021/tutorials/Computational%20Neuroscience/network_model/4.2_Attractor_Networks/Attractor_Networks.ipynb\" target=\"_parent\"><img src=\"https://colab.research.google.com/assets/colab-badge.svg\" alt=\"Open In Colab\"/></a>"
      ]
    },
    {
      "cell_type": "markdown",
      "metadata": {
        "id": "rhAZCNz1JsyX"
      },
      "source": [
        "# Attractor Network"
      ]
    },
    {
      "cell_type": "code",
      "metadata": {
        "id": "GdL5QqAQJsyb"
      },
      "source": [
        "import matplotlib.pyplot as plt\n",
        "import matplotlib.image as mpimg\n",
        "import numpy as np\n",
        "\n",
        "\n",
        "def show_img(x, size_w, size_h):\n",
        "    x = (x-np.min(x))\n",
        "    x = x/np.max(x)\n",
        "    img = np.zeros([size_w, size_h,3])\n",
        "    img[:,:,0] = x.reshape([size_w, size_h])\n",
        "    img[:,:, 1] = x.reshape([size_w, size_h])\n",
        "    img[:,:, 2] = x.reshape([size_w, size_h])\n",
        "    plt.imshow(img)\n",
        "    plt.show(block=False)\n",
        "    plt.pause(1)\n",
        "    plt.close()\n",
        "\n",
        "\n",
        "def rgb2gray(rgb):\n",
        "    return np.dot(rgb[..., :3], [0.299, 0.587, 0.114])/255\n"
      ],
      "execution_count": 1,
      "outputs": []
    },
    {
      "cell_type": "markdown",
      "metadata": {
        "id": "DB0AB_EtJsyf"
      },
      "source": [
        "### Hopfield Network"
      ]
    },
    {
      "cell_type": "markdown",
      "metadata": {
        "id": "enZ4kKO0Jsyi"
      },
      "source": [
        "Here we have a network with $N$ neurons, the $i$th neuron state is given by:\n",
        "\n",
        "$$ 𝑥_𝑖, ∀𝑖∈{1,2,…,𝑁}, 𝑥_𝑖=±n$$.\n",
        "\n",
        "The memory pattern is $\\xi_i^\\mu$, where $ ∀ i∈{1,2,…,𝑁}$, $\\mu∈{1,2,…,𝑃}$ and $\\xi_i^\\mu  = ±1$.\n",
        "\n",
        "Hebbian learning rule\n",
        "\n",
        "$$\n",
        "w_{i, j}= \\begin{cases}\\frac{1}{P} \\sum_{\\mu=1}^{P} \\xi_{i} \\xi_{j}, & i \\neq j ; \\\\ 0, & i=j .\\end{cases}\n",
        "$$\n"
      ]
    },
    {
      "cell_type": "markdown",
      "metadata": {
        "id": "eEC63gdRJsyl"
      },
      "source": [
        "We start with an illustrative example of a Hopfield Network. One input image should first be stored and then be retrieved.\n",
        "\n",
        "The input image is:"
      ]
    },
    {
      "cell_type": "code",
      "metadata": {
        "id": "szz_ZGSWJsym",
        "outputId": "0250c101-ebc9-4a8c-c00f-494906152210",
        "colab": {
          "base_uri": "https://localhost:8080/",
          "height": 268
        }
      },
      "source": [
        "# load img as pattern\n",
        "img = rgb2gray(mpimg.imread('./hopfield.jpg'))\n",
        "size_w, size_h = img.shape\n",
        "xi = (img.reshape([size_w * size_h, 1]) - 0.5) * 2\n",
        "\n",
        "show_img(xi,size_w,size_h)"
      ],
      "execution_count": 52,
      "outputs": [
        {
          "output_type": "display_data",
          "data": {
            "image/png": "[encoded data removed]",
            "text/plain": [
              "<Figure size 432x288 with 1 Axes>"
            ]
          },
          "metadata": {
            "tags": [],
            "needs_background": "light"
          }
        }
      ]
    },
    {
      "cell_type": "markdown",
      "metadata": {
        "id": "qfijpfOFJsys"
      },
      "source": [
        "The weight matrix weight is the outer product of this memory $\\xi$.\n",
        "\n",
        "Can the image be restored when added noise? "
      ]
    },
    {
      "cell_type": "code",
      "metadata": {
        "id": "nwfdptIkJsyy",
        "outputId": "02dd81cd-a8fa-4375-c603-75c322e47b11",
        "colab": {
          "base_uri": "https://localhost:8080/",
          "height": 268
        }
      },
      "source": [
        "\n",
        "# generate weight using Hebb\n",
        "weight = xi.T*xi\n",
        "weight = weight - np.diag(weight)\n",
        "\n",
        "# add noise to input xo (x)\n",
        "A_noise = 2 #noise levels\n",
        "noise =  A_noise * np.random.rand(size_w * size_h, 1) * 2 - 1\n",
        "x = xi + noise\n",
        "show_img(x, size_w, size_h)"
      ],
      "execution_count": 53,
      "outputs": [
        {
          "output_type": "display_data",
          "data": {
            "image/png": "[encoded data removed]",
            "text/plain": [
              "<Figure size 432x288 with 1 Axes>"
            ]
          },
          "metadata": {
            "tags": [],
            "needs_background": "light"
          }
        }
      ]
    },
    {
      "cell_type": "markdown",
      "metadata": {
        "id": "G3N29BWBJsy2"
      },
      "source": [
        "\n",
        "The dynamics of the network is given by:\n",
        "\n",
        "$$\n",
        "\\begin{aligned}\n",
        "&h_{i}(t+1)=1 / N \\sum_{j=1}^{N} w_{i, j} x_{j}(t) \\\\\n",
        "&x_{i}(t+1)=\\operatorname{sign}\\left(h_{i}(t+1)\\right)\n",
        "\\end{aligned}\n",
        "$$\n",
        "\n"
      ]
    },
    {
      "cell_type": "code",
      "metadata": {
        "id": "CrghXaZmJsy7",
        "outputId": "2d44acd4-8239-46f3-c34c-6c09d4d3fa90",
        "colab": {
          "base_uri": "https://localhost:8080/",
          "height": 519
        }
      },
      "source": [
        "### synchronous update\n",
        "\n",
        "for t in range(2):\n",
        "  h = weight@x / x.shape[0]\n",
        "  x = np.sign(h)\n",
        "  show_img(x, size_w, size_h)"
      ],
      "execution_count": 54,
      "outputs": [
        {
          "output_type": "display_data",
          "data": {
            "image/png": "[encoded data removed]",
            "text/plain": [
              "<Figure size 432x288 with 1 Axes>"
            ]
          },
          "metadata": {
            "tags": [],
            "needs_background": "light"
          }
        },
        {
          "output_type": "display_data",
          "data": {
            "image/png": "[encoded data removed]",
            "text/plain": [
              "<Figure size 432x288 with 1 Axes>"
            ]
          },
          "metadata": {
            "tags": [],
            "needs_background": "light"
          }
        }
      ]
    },
    {
      "cell_type": "markdown",
      "metadata": {
        "id": "w2295TF6Jsy8"
      },
      "source": [
        "Can the original image be restored if $2/3$ of the pixels are masked out? The masked image is:"
      ]
    },
    {
      "cell_type": "code",
      "metadata": {
        "id": "ZyCl_POuJsy9",
        "outputId": "855b8b10-4ed6-41ef-b17e-cfbc25427a5a",
        "colab": {
          "base_uri": "https://localhost:8080/",
          "height": 1000
        }
      },
      "source": [
        "### masked xi --> input x0 (x)\n",
        "\n",
        "x = np.zeros([size_w * size_h, 1])\n",
        "x[:int(size_w * size_h / 3)] = xi[:int(size_w * size_h / 3)]\n",
        "show_img(x, size_w, size_h)\n",
        "\n",
        "### synchronous update\n",
        "for t in range(3):\n",
        "    h = weight@x\n",
        "    x = np.sign(h)\n",
        "    show_img(x, size_w, size_h)\n"
      ],
      "execution_count": 56,
      "outputs": [
        {
          "output_type": "display_data",
          "data": {
            "image/png": "[encoded data removed]",
            "text/plain": [
              "<Figure size 432x288 with 1 Axes>"
            ]
          },
          "metadata": {
            "tags": [],
            "needs_background": "light"
          }
        },
        {
          "output_type": "display_data",
          "data": {
            "image/png": "[encoded data removed]",
            "text/plain": [
              "<Figure size 432x288 with 1 Axes>"
            ]
          },
          "metadata": {
            "tags": [],
            "needs_background": "light"
          }
        },
        {
          "output_type": "display_data",
          "data": {
            "image/png": "[encoded data removed]",
            "text/plain": [
              "<Figure size 432x288 with 1 Axes>"
            ]
          },
          "metadata": {
            "tags": [],
            "needs_background": "light"
          }
        },
        {
          "output_type": "display_data",
          "data": {
            "image/png": "[encoded data removed]",
            "text/plain": [
              "<Figure size 432x288 with 1 Axes>"
            ]
          },
          "metadata": {
            "tags": [],
            "needs_background": "light"
          }
        }
      ]
    },
    {
      "cell_type": "markdown",
      "metadata": {
        "id": "WqIIk6_JJszA"
      },
      "source": [
        "What happens if we store more than one pattern? The weight matrix is then built from the sum of outer products of three stored patterns (three input images):"
      ]
    },
    {
      "cell_type": "code",
      "metadata": {
        "id": "L8p4WRr9JszC"
      },
      "source": [
        ""
      ],
      "execution_count": null,
      "outputs": []
    },
    {
      "cell_type": "markdown",
      "metadata": {
        "id": "q1Xsh1LgJszE"
      },
      "source": [
        "### Continuous Attractor Neural Network (CANN) "
      ]
    },
    {
      "cell_type": "markdown",
      "metadata": {
        "id": "-qIHw70gJszE"
      },
      "source": [
        "\n",
        "Here we show the implementation of the paper:\n",
        "\n",
        "- Si Wu, Kosuke Hamaguchi, and Shun-ichi Amari. \"Dynamics and computation\n",
        "  of continuous attractors.\" Neural computation 20.4 (2008): 994-1025.\n",
        "\n",
        "The mathematical equation of the Continuous-attractor Neural Network (CANN) is given by:\n",
        "\n",
        "$$\\tau \\frac{du(x,t)}{dt} = -u(x,t) + \\rho \\int dx' J(x,x') r(x',t)+I_{ext}$$\n",
        "\n",
        "$$r(x,t) = \\frac{u(x,t)^2}{1 + k \\rho \\int dx' u(x',t)^2}$$\n",
        "\n",
        "$$J(x,x') = \\frac{1}{\\sqrt{2\\pi}a}\\exp(-\\frac{|x-x'|^2}{2a^2})$$\n",
        "\n",
        "$$I_{ext} = A\\exp\\left[-\\frac{|x-z(t)|^2}{4a^2}\\right]$$"
      ]
    },
    {
      "cell_type": "code",
      "metadata": {
        "id": "2oJJMRqJcnCG",
        "outputId": "d933dc18-a610-435c-d0a7-a0aa27c094c7",
        "colab": {
          "base_uri": "https://localhost:8080/"
        }
      },
      "source": [
        "pip install -U brainpy-simulator"
      ],
      "execution_count": 59,
      "outputs": [
        {
          "output_type": "stream",
          "text": [
            "Collecting brainpy-simulator\n",
            "  Downloading brainpy-simulator-1.0.2.tar.gz (126 kB)\n",
            "\u001b[?25l\r\u001b[K     |██▋                             | 10 kB 23.8 MB/s eta 0:00:01\r\u001b[K     |█████▏                          | 20 kB 14.0 MB/s eta 0:00:01\r\u001b[K     |███████▉                        | 30 kB 9.7 MB/s eta 0:00:01\r\u001b[K     |██████████▍                     | 40 kB 8.5 MB/s eta 0:00:01\r\u001b[K     |█████████████                   | 51 kB 4.3 MB/s eta 0:00:01\r\u001b[K     |███████████████▋                | 61 kB 4.5 MB/s eta 0:00:01\r\u001b[K     |██████████████████▏             | 71 kB 4.5 MB/s eta 0:00:01\r\u001b[K     |████████████████████▊           | 81 kB 5.1 MB/s eta 0:00:01\r\u001b[K     |███████████████████████▍        | 92 kB 5.2 MB/s eta 0:00:01\r\u001b[K     |██████████████████████████      | 102 kB 4.1 MB/s eta 0:00:01\r\u001b[K     |████████████████████████████▋   | 112 kB 4.1 MB/s eta 0:00:01\r\u001b[K     |███████████████████████████████▏| 122 kB 4.1 MB/s eta 0:00:01\r\u001b[K     |████████████████████████████████| 126 kB 4.1 MB/s \n",
            "\u001b[?25hRequirement already satisfied: numpy>=1.15 in /usr/local/lib/python3.7/dist-packages (from brainpy-simulator) (1.19.5)\n",
            "Requirement already satisfied: matplotlib>=3.2 in /usr/local/lib/python3.7/dist-packages (from brainpy-simulator) (3.2.2)\n",
            "Requirement already satisfied: kiwisolver>=1.0.1 in /usr/local/lib/python3.7/dist-packages (from matplotlib>=3.2->brainpy-simulator) (1.3.1)\n",
            "Requirement already satisfied: pyparsing!=2.0.4,!=2.1.2,!=2.1.6,>=2.0.1 in /usr/local/lib/python3.7/dist-packages (from matplotlib>=3.2->brainpy-simulator) (2.4.7)\n",
            "Requirement already satisfied: cycler>=0.10 in /usr/local/lib/python3.7/dist-packages (from matplotlib>=3.2->brainpy-simulator) (0.10.0)\n",
            "Requirement already satisfied: python-dateutil>=2.1 in /usr/local/lib/python3.7/dist-packages (from matplotlib>=3.2->brainpy-simulator) (2.8.1)\n",
            "Requirement already satisfied: six in /usr/local/lib/python3.7/dist-packages (from cycler>=0.10->matplotlib>=3.2->brainpy-simulator) (1.15.0)\n",
            "Building wheels for collected packages: brainpy-simulator\n",
            "  Building wheel for brainpy-simulator (setup.py) ... \u001b[?25l\u001b[?25hdone\n",
            "  Created wheel for brainpy-simulator: filename=brainpy_simulator-1.0.2-py3-none-any.whl size=152106 sha256=894073e719fc478696647b2bca32c5380e537c0c17a9ed6a64102f5f22553182\n",
            "  Stored in directory: /root/.cache/pip/wheels/ec/1c/3f/e33093b69bc03ff9b2742480ec6126ddef875ba4f6d3699659\n",
            "Successfully built brainpy-simulator\n",
            "Installing collected packages: brainpy-simulator\n",
            "Successfully installed brainpy-simulator-1.0.2\n"
          ],
          "name": "stdout"
        }
      ]
    },
    {
      "cell_type": "code",
      "metadata": {
        "ExecuteTime": {
          "end_time": "2021-03-25T15:00:04.732657Z",
          "start_time": "2021-03-25T15:00:02.809422Z"
        },
        "id": "Eo9U4LTmJszF"
      },
      "source": [
        "import numpy as np\n",
        "import brainpy as bp\n",
        "\n",
        "\n",
        "class CANN1D(bp.NeuGroup):\n",
        "  target_backend = ['numpy', 'numba']\n",
        "\n",
        "  @staticmethod\n",
        "  def derivative(u, t, conn, k, tau, Iext):\n",
        "    r1 = np.square(u)\n",
        "    r2 = 1 + k * np.sum(r1)\n",
        "    r = r1 / r2\n",
        "    Irec = np.dot(conn, r)\n",
        "    du = (-u + Iext + Irec) / tau\n",
        "    return du    \n",
        "  \n",
        "  def __init__(self, num, tau=1., k=8.1, a=0.5, A=10., J0=4.,\n",
        "                z_min=-np.pi, z_max=np.pi, **kwargs):\n",
        "    # parameters\n",
        "    self.tau = tau  # The synaptic time constant\n",
        "    self.k = k  # Degree of the rescaled inhibition\n",
        "    self.a = a  # Half-width of the range of excitatory connections\n",
        "    self.A = A  # Magnitude of the external input\n",
        "    self.J0 = J0  # maximum connection value\n",
        "\n",
        "    # feature space\n",
        "    self.z_min = z_min \n",
        "    self.z_max = z_max \n",
        "    self.z_range = z_max - z_min\n",
        "    self.x = np.linspace(z_min, z_max, num)  # The encoded feature values\n",
        "\n",
        "    # variables\n",
        "    self.u = np.zeros(num) # variable u\n",
        "    self.input = np.zeros(num) # external input\n",
        "\n",
        "    # The connection matrix\n",
        "    self.conn_mat = self.make_conn(self.x)\n",
        "\n",
        "    self.int_u = bp.odeint(f=self.derivative, method='rk4', dt=0.05)\n",
        "    \n",
        "    super(CANN1D, self).__init__(size=num, **kwargs)\n",
        "\n",
        "    self.rho = num / self.z_range  # The neural density\n",
        "    self.dx = self.z_range / num  # The stimulus density\n",
        "\n",
        "  def dist(self, d):\n",
        "    # distance\n",
        "    d = np.remainder(d, self.z_range)\n",
        "    d = np.where(d > 0.5 * self.z_range, d-self.z_range, d)\n",
        "    return d\n",
        "\n",
        "  def make_conn(self, x):\n",
        "    assert np.ndim(x) == 1\n",
        "    # connection \n",
        "    x_left = np.reshape(x, (-1,1))\n",
        "    x_right = np.repeat(x.reshape((1,-1)), len(x), axis=0)\n",
        "    d = self.dist(x_left - x_right)\n",
        "    Jxx = self.J0 * np.exp(-0.5 * np.square(d/self.a))\n",
        "    return Jxx\n",
        "\n",
        "  def get_stimulus_by_pos(self, pos):\n",
        "    # I_ext\n",
        "    return self.A * np.exp(-0.25 * np.square(self.dist(self.x - pos) / self.a))\n",
        "\n",
        "  def update(self, _t):\n",
        "    self.u = self.int_u(self.u, _t, self.conn_mat, self.k, self.tau, self.input)\n",
        "    self.input[:] = 0.\n"
      ],
      "execution_count": 66,
      "outputs": []
    },
    {
      "cell_type": "markdown",
      "metadata": {
        "id": "nY-1ixgAJszG"
      },
      "source": [
        "### Population coding"
      ]
    },
    {
      "cell_type": "code",
      "metadata": {
        "ExecuteTime": {
          "end_time": "2021-03-25T15:00:04.938131Z",
          "start_time": "2021-03-25T15:00:04.746136Z"
        },
        "id": "XPkzisZuJszH",
        "outputId": "c1bc3a3f-4a3d-497e-9047-0111ca3aeb93",
        "colab": {
          "base_uri": "https://localhost:8080/",
          "height": 391
        }
      },
      "source": [
        "%%capture\n",
        "# supress output\n",
        "\n",
        "cann = CANN1D(num=512, k=0.1, monitors=['u'])\n",
        "\n",
        "I1 = cann.get_stimulus_by_pos(0.)\n",
        "Iext, duration = bp.inputs.constant_current([(0., 1.), (I1, 8.), (0., 8.)])\n",
        "cann.run(duration=duration, inputs=('input', Iext))\n",
        "\n",
        "bp.visualize.animate_1D(\n",
        "    dynamical_vars=[{'ys': cann.mon.u, 'xs': cann.x, 'legend': 'u'},\n",
        "                    {'ys': Iext, 'xs': cann.x, 'legend': 'Iext'}],\n",
        "    frame_step=1,\n",
        "    frame_delay=50,\n",
        "    show=True,\n",
        "    save_path='./CANN-encoding.gif'\n",
        ")\n"
      ],
      "execution_count": 67,
      "outputs": [
        {
          "output_type": "error",
          "ename": "TypeError",
          "evalue": "ignored",
          "traceback": [
            "\u001b[0;31m---------------------------------------------------------------------------\u001b[0m",
            "\u001b[0;31mTypeError\u001b[0m                                 Traceback (most recent call last)",
            "\u001b[0;32m<ipython-input-67-42a8e596916b>\u001b[0m in \u001b[0;36m<module>\u001b[0;34m()\u001b[0m\n\u001b[1;32m     13\u001b[0m     \u001b[0mframe_delay\u001b[0m\u001b[0;34m=\u001b[0m\u001b[0;36m50\u001b[0m\u001b[0;34m,\u001b[0m\u001b[0;34m\u001b[0m\u001b[0;34m\u001b[0m\u001b[0m\n\u001b[1;32m     14\u001b[0m     \u001b[0mshow\u001b[0m\u001b[0;34m=\u001b[0m\u001b[0;32mTrue\u001b[0m\u001b[0;34m,\u001b[0m\u001b[0;34m\u001b[0m\u001b[0;34m\u001b[0m\u001b[0m\n\u001b[0;32m---> 15\u001b[0;31m     \u001b[0msave_path\u001b[0m\u001b[0;34m=\u001b[0m\u001b[0;34m'./CANN-encoding.gif'\u001b[0m\u001b[0;34m\u001b[0m\u001b[0;34m\u001b[0m\u001b[0m\n\u001b[0m\u001b[1;32m     16\u001b[0m )\n",
            "\u001b[0;32m/usr/local/lib/python3.7/dist-packages/brainpy/visualization/plots.py\u001b[0m in \u001b[0;36manimate_1D\u001b[0;34m(dynamical_vars, static_vars, dt, xlim, ylim, xlabel, ylabel, frame_delay, frame_step, title_size, figsize, gif_dpi, video_fps, save_path, show)\u001b[0m\n\u001b[1;32m    475\u001b[0m     \u001b[0;32melse\u001b[0m\u001b[0;34m:\u001b[0m\u001b[0;34m\u001b[0m\u001b[0;34m\u001b[0m\u001b[0m\n\u001b[1;32m    476\u001b[0m         \u001b[0;32mif\u001b[0m \u001b[0msave_path\u001b[0m\u001b[0;34m[\u001b[0m\u001b[0;34m-\u001b[0m\u001b[0;36m3\u001b[0m\u001b[0;34m:\u001b[0m\u001b[0;34m]\u001b[0m \u001b[0;34m==\u001b[0m \u001b[0;34m'gif'\u001b[0m\u001b[0;34m:\u001b[0m\u001b[0;34m\u001b[0m\u001b[0;34m\u001b[0m\u001b[0m\n\u001b[0;32m--> 477\u001b[0;31m             \u001b[0manim_result\u001b[0m\u001b[0;34m.\u001b[0m\u001b[0msave\u001b[0m\u001b[0;34m(\u001b[0m\u001b[0msave_path\u001b[0m\u001b[0;34m,\u001b[0m \u001b[0mdpi\u001b[0m\u001b[0;34m=\u001b[0m\u001b[0mgif_dpi\u001b[0m\u001b[0;34m,\u001b[0m \u001b[0mwriter\u001b[0m\u001b[0;34m=\u001b[0m\u001b[0;34m'imagemagick'\u001b[0m\u001b[0;34m)\u001b[0m\u001b[0;34m\u001b[0m\u001b[0;34m\u001b[0m\u001b[0m\n\u001b[0m\u001b[1;32m    478\u001b[0m         \u001b[0;32melif\u001b[0m \u001b[0msave_path\u001b[0m\u001b[0;34m[\u001b[0m\u001b[0;34m-\u001b[0m\u001b[0;36m3\u001b[0m\u001b[0;34m:\u001b[0m\u001b[0;34m]\u001b[0m \u001b[0;34m==\u001b[0m \u001b[0;34m'mp4'\u001b[0m\u001b[0;34m:\u001b[0m\u001b[0;34m\u001b[0m\u001b[0;34m\u001b[0m\u001b[0m\n\u001b[1;32m    479\u001b[0m             \u001b[0manim_result\u001b[0m\u001b[0;34m.\u001b[0m\u001b[0msave\u001b[0m\u001b[0;34m(\u001b[0m\u001b[0msave_path\u001b[0m\u001b[0;34m,\u001b[0m \u001b[0mwriter\u001b[0m\u001b[0;34m=\u001b[0m\u001b[0;34m'ffmpeg'\u001b[0m\u001b[0;34m,\u001b[0m \u001b[0mfps\u001b[0m\u001b[0;34m=\u001b[0m\u001b[0mvideo_fps\u001b[0m\u001b[0;34m,\u001b[0m \u001b[0mbitrate\u001b[0m\u001b[0;34m=\u001b[0m\u001b[0;36m3000\u001b[0m\u001b[0;34m)\u001b[0m\u001b[0;34m\u001b[0m\u001b[0;34m\u001b[0m\u001b[0m\n",
            "\u001b[0;32m/usr/local/lib/python3.7/dist-packages/matplotlib/animation.py\u001b[0m in \u001b[0;36msave\u001b[0;34m(self, filename, writer, fps, dpi, codec, bitrate, extra_args, metadata, extra_anim, savefig_kwargs, progress_callback)\u001b[0m\n\u001b[1;32m   1109\u001b[0m                 writer = alt_writer(\n\u001b[1;32m   1110\u001b[0m                     \u001b[0mfps\u001b[0m\u001b[0;34m,\u001b[0m \u001b[0mcodec\u001b[0m\u001b[0;34m,\u001b[0m \u001b[0mbitrate\u001b[0m\u001b[0;34m,\u001b[0m\u001b[0;34m\u001b[0m\u001b[0;34m\u001b[0m\u001b[0m\n\u001b[0;32m-> 1111\u001b[0;31m                     extra_args=extra_args, metadata=metadata)\n\u001b[0m\u001b[1;32m   1112\u001b[0m         \u001b[0m_log\u001b[0m\u001b[0;34m.\u001b[0m\u001b[0minfo\u001b[0m\u001b[0;34m(\u001b[0m\u001b[0;34m'Animation.save using %s'\u001b[0m\u001b[0;34m,\u001b[0m \u001b[0mtype\u001b[0m\u001b[0;34m(\u001b[0m\u001b[0mwriter\u001b[0m\u001b[0;34m)\u001b[0m\u001b[0;34m)\u001b[0m\u001b[0;34m\u001b[0m\u001b[0;34m\u001b[0m\u001b[0m\n\u001b[1;32m   1113\u001b[0m \u001b[0;34m\u001b[0m\u001b[0m\n",
            "\u001b[0;31mTypeError\u001b[0m: 'str' object is not callable"
          ]
        }
      ]
    },
    {
      "cell_type": "markdown",
      "metadata": {
        "id": "BWmflxyyJszI"
      },
      "source": [
        "Note: The contents in the markdown cells are cached, so they might not represent the latest result. \n",
        "\n",
        "To force the evaluation of the markdown cell:\n",
        "\n",
        "1. Change the content of the cell randomly, then run the cell.\n",
        "2. Revert the changes, then rerun the cell."
      ]
    },
    {
      "cell_type": "markdown",
      "metadata": {
        "id": "ahoAiyEnJszJ"
      },
      "source": [
        "<img src=\"./CANN-encoding.gif\">"
      ]
    },
    {
      "cell_type": "markdown",
      "metadata": {
        "id": "zLNeQb2hJszL"
      },
      "source": [
        "### Template matching"
      ]
    },
    {
      "cell_type": "markdown",
      "metadata": {
        "id": "peWMf8s6JszM"
      },
      "source": [
        "The CANN can perform efficient population decoding by achieving template-matching. "
      ]
    },
    {
      "cell_type": "code",
      "metadata": {
        "ExecuteTime": {
          "end_time": "2021-03-25T15:00:05.191127Z",
          "start_time": "2021-03-25T15:00:04.942134Z"
        },
        "id": "0PKBuJFEJszN",
        "outputId": "4d6d39d3-91cd-429a-fe22-8a7678ca8974",
        "colab": {
          "base_uri": "https://localhost:8080/",
          "height": 391
        }
      },
      "source": [
        "%%capture\n",
        "# supress output\n",
        "\n",
        "cann = CANN1D(num=512, k=8.1, monitors=['u'])\n",
        "\n",
        "# Iext by position\n",
        "dur1, dur2, dur3 = 10., 30., 0.\n",
        "num1 = int(dur1 / bp.backend.get_dt())\n",
        "num2 = int(dur2 / bp.backend.get_dt())\n",
        "num3 = int(dur3 / bp.backend.get_dt())\n",
        "Iext = np.zeros((num1 + num2 + num3,) + cann.size)\n",
        "Iext[:num1] = cann.get_stimulus_by_pos(2)\n",
        "Iext[num1:num1 + num2] = cann.get_stimulus_by_pos(0.)\n",
        "Iext[num1:num1 + num2] += 0.1 * cann.A * np.random.randn(num2, *cann.size)\n",
        "cann.run(duration=dur1 + dur2 + dur3, inputs=('input', Iext))\n",
        "\n",
        "bp.visualize.animate_1D(\n",
        "    dynamical_vars=[{'ys': cann.mon.u, 'xs': cann.x, 'legend': 'u'},\n",
        "                    {'ys': Iext, 'xs': cann.x, 'legend': 'Iext'}],\n",
        "    frame_step=5,\n",
        "    frame_delay=50,\n",
        "    show=True,\n",
        "    save_path='./CANN-decoding.gif'\n",
        ")"
      ],
      "execution_count": 68,
      "outputs": [
        {
          "output_type": "error",
          "ename": "TypeError",
          "evalue": "ignored",
          "traceback": [
            "\u001b[0;31m---------------------------------------------------------------------------\u001b[0m",
            "\u001b[0;31mTypeError\u001b[0m                                 Traceback (most recent call last)",
            "\u001b[0;32m<ipython-input-68-1e39f83cb479>\u001b[0m in \u001b[0;36m<module>\u001b[0;34m()\u001b[0m\n\u001b[1;32m     20\u001b[0m     \u001b[0mframe_delay\u001b[0m\u001b[0;34m=\u001b[0m\u001b[0;36m50\u001b[0m\u001b[0;34m,\u001b[0m\u001b[0;34m\u001b[0m\u001b[0;34m\u001b[0m\u001b[0m\n\u001b[1;32m     21\u001b[0m     \u001b[0mshow\u001b[0m\u001b[0;34m=\u001b[0m\u001b[0;32mTrue\u001b[0m\u001b[0;34m,\u001b[0m\u001b[0;34m\u001b[0m\u001b[0;34m\u001b[0m\u001b[0m\n\u001b[0;32m---> 22\u001b[0;31m     \u001b[0msave_path\u001b[0m\u001b[0;34m=\u001b[0m\u001b[0;34m'./CANN-decoding.gif'\u001b[0m\u001b[0;34m\u001b[0m\u001b[0;34m\u001b[0m\u001b[0m\n\u001b[0m\u001b[1;32m     23\u001b[0m )\n",
            "\u001b[0;32m/usr/local/lib/python3.7/dist-packages/brainpy/visualization/plots.py\u001b[0m in \u001b[0;36manimate_1D\u001b[0;34m(dynamical_vars, static_vars, dt, xlim, ylim, xlabel, ylabel, frame_delay, frame_step, title_size, figsize, gif_dpi, video_fps, save_path, show)\u001b[0m\n\u001b[1;32m    475\u001b[0m     \u001b[0;32melse\u001b[0m\u001b[0;34m:\u001b[0m\u001b[0;34m\u001b[0m\u001b[0;34m\u001b[0m\u001b[0m\n\u001b[1;32m    476\u001b[0m         \u001b[0;32mif\u001b[0m \u001b[0msave_path\u001b[0m\u001b[0;34m[\u001b[0m\u001b[0;34m-\u001b[0m\u001b[0;36m3\u001b[0m\u001b[0;34m:\u001b[0m\u001b[0;34m]\u001b[0m \u001b[0;34m==\u001b[0m \u001b[0;34m'gif'\u001b[0m\u001b[0;34m:\u001b[0m\u001b[0;34m\u001b[0m\u001b[0;34m\u001b[0m\u001b[0m\n\u001b[0;32m--> 477\u001b[0;31m             \u001b[0manim_result\u001b[0m\u001b[0;34m.\u001b[0m\u001b[0msave\u001b[0m\u001b[0;34m(\u001b[0m\u001b[0msave_path\u001b[0m\u001b[0;34m,\u001b[0m \u001b[0mdpi\u001b[0m\u001b[0;34m=\u001b[0m\u001b[0mgif_dpi\u001b[0m\u001b[0;34m,\u001b[0m \u001b[0mwriter\u001b[0m\u001b[0;34m=\u001b[0m\u001b[0;34m'imagemagick'\u001b[0m\u001b[0;34m)\u001b[0m\u001b[0;34m\u001b[0m\u001b[0;34m\u001b[0m\u001b[0m\n\u001b[0m\u001b[1;32m    478\u001b[0m         \u001b[0;32melif\u001b[0m \u001b[0msave_path\u001b[0m\u001b[0;34m[\u001b[0m\u001b[0;34m-\u001b[0m\u001b[0;36m3\u001b[0m\u001b[0;34m:\u001b[0m\u001b[0;34m]\u001b[0m \u001b[0;34m==\u001b[0m \u001b[0;34m'mp4'\u001b[0m\u001b[0;34m:\u001b[0m\u001b[0;34m\u001b[0m\u001b[0;34m\u001b[0m\u001b[0m\n\u001b[1;32m    479\u001b[0m             \u001b[0manim_result\u001b[0m\u001b[0;34m.\u001b[0m\u001b[0msave\u001b[0m\u001b[0;34m(\u001b[0m\u001b[0msave_path\u001b[0m\u001b[0;34m,\u001b[0m \u001b[0mwriter\u001b[0m\u001b[0;34m=\u001b[0m\u001b[0;34m'ffmpeg'\u001b[0m\u001b[0;34m,\u001b[0m \u001b[0mfps\u001b[0m\u001b[0;34m=\u001b[0m\u001b[0mvideo_fps\u001b[0m\u001b[0;34m,\u001b[0m \u001b[0mbitrate\u001b[0m\u001b[0;34m=\u001b[0m\u001b[0;36m3000\u001b[0m\u001b[0;34m)\u001b[0m\u001b[0;34m\u001b[0m\u001b[0;34m\u001b[0m\u001b[0m\n",
            "\u001b[0;32m/usr/local/lib/python3.7/dist-packages/matplotlib/animation.py\u001b[0m in \u001b[0;36msave\u001b[0;34m(self, filename, writer, fps, dpi, codec, bitrate, extra_args, metadata, extra_anim, savefig_kwargs, progress_callback)\u001b[0m\n\u001b[1;32m   1109\u001b[0m                 writer = alt_writer(\n\u001b[1;32m   1110\u001b[0m                     \u001b[0mfps\u001b[0m\u001b[0;34m,\u001b[0m \u001b[0mcodec\u001b[0m\u001b[0;34m,\u001b[0m \u001b[0mbitrate\u001b[0m\u001b[0;34m,\u001b[0m\u001b[0;34m\u001b[0m\u001b[0;34m\u001b[0m\u001b[0m\n\u001b[0;32m-> 1111\u001b[0;31m                     extra_args=extra_args, metadata=metadata)\n\u001b[0m\u001b[1;32m   1112\u001b[0m         \u001b[0m_log\u001b[0m\u001b[0;34m.\u001b[0m\u001b[0minfo\u001b[0m\u001b[0;34m(\u001b[0m\u001b[0;34m'Animation.save using %s'\u001b[0m\u001b[0;34m,\u001b[0m \u001b[0mtype\u001b[0m\u001b[0;34m(\u001b[0m\u001b[0mwriter\u001b[0m\u001b[0;34m)\u001b[0m\u001b[0;34m)\u001b[0m\u001b[0;34m\u001b[0m\u001b[0;34m\u001b[0m\u001b[0m\n\u001b[1;32m   1113\u001b[0m \u001b[0;34m\u001b[0m\u001b[0m\n",
            "\u001b[0;31mTypeError\u001b[0m: 'str' object is not callable"
          ]
        }
      ]
    },
    {
      "cell_type": "markdown",
      "metadata": {
        "id": "GZd07l5hJszQ"
      },
      "source": [
        "<img src=\"./CANN-decoding.gif\">"
      ]
    },
    {
      "cell_type": "markdown",
      "metadata": {
        "id": "Hg65Zkb0JszS"
      },
      "source": [
        "### Smooth tracking\n",
        "\n",
        "The CANN can track moving stimulus. "
      ]
    },
    {
      "cell_type": "code",
      "metadata": {
        "ExecuteTime": {
          "end_time": "2021-03-25T15:00:05.475128Z",
          "start_time": "2021-03-25T15:00:05.194134Z"
        },
        "id": "hZYtUEFgJszT",
        "outputId": "edf4c725-0b56-4131-8fdd-a9a04bdb9a06",
        "colab": {
          "base_uri": "https://localhost:8080/",
          "height": 391
        }
      },
      "source": [
        "%%capture\n",
        "# supress output\n",
        "\n",
        "cann = CANN1D(num=512, k=8.1, monitors=['u'])\n",
        "\n",
        "# Iext by position\n",
        "dur1, dur2, dur3 = 20., 20., 20.\n",
        "num1 = int(dur1 / bp.backend.get_dt())\n",
        "num2 = int(dur2 / bp.backend.get_dt())\n",
        "num3 = int(dur3 / bp.backend.get_dt())\n",
        "position = np.zeros(num1 + num2 + num3)\n",
        "position[num1: num1 + num2] = np.linspace(0., 12., num2)\n",
        "position[num1 + num2:] = 12.\n",
        "position = position.reshape((-1, 1))\n",
        "Iext = cann.get_stimulus_by_pos(position)\n",
        "\n",
        "cann.run(duration=dur1 + dur2 + dur3, inputs=('input', Iext))\n",
        "\n",
        "bp.visualize.animate_1D(\n",
        "    dynamical_vars=[{'ys': cann.mon.u, 'xs': cann.x, 'legend': 'u'},\n",
        "                    {'ys': Iext, 'xs': cann.x, 'legend': 'Iext'}],\n",
        "    frame_step=5,\n",
        "    frame_delay=50,\n",
        "    show=True,\n",
        "    save_path='./CANN-tracking.gif'\n",
        ")"
      ],
      "execution_count": 69,
      "outputs": [
        {
          "output_type": "error",
          "ename": "TypeError",
          "evalue": "ignored",
          "traceback": [
            "\u001b[0;31m---------------------------------------------------------------------------\u001b[0m",
            "\u001b[0;31mTypeError\u001b[0m                                 Traceback (most recent call last)",
            "\u001b[0;32m<ipython-input-69-868692906319>\u001b[0m in \u001b[0;36m<module>\u001b[0;34m()\u001b[0m\n\u001b[1;32m     22\u001b[0m     \u001b[0mframe_delay\u001b[0m\u001b[0;34m=\u001b[0m\u001b[0;36m50\u001b[0m\u001b[0;34m,\u001b[0m\u001b[0;34m\u001b[0m\u001b[0;34m\u001b[0m\u001b[0m\n\u001b[1;32m     23\u001b[0m     \u001b[0mshow\u001b[0m\u001b[0;34m=\u001b[0m\u001b[0;32mTrue\u001b[0m\u001b[0;34m,\u001b[0m\u001b[0;34m\u001b[0m\u001b[0;34m\u001b[0m\u001b[0m\n\u001b[0;32m---> 24\u001b[0;31m     \u001b[0msave_path\u001b[0m\u001b[0;34m=\u001b[0m\u001b[0;34m'./CANN-tracking.gif'\u001b[0m\u001b[0;34m\u001b[0m\u001b[0;34m\u001b[0m\u001b[0m\n\u001b[0m\u001b[1;32m     25\u001b[0m )\n",
            "\u001b[0;32m/usr/local/lib/python3.7/dist-packages/brainpy/visualization/plots.py\u001b[0m in \u001b[0;36manimate_1D\u001b[0;34m(dynamical_vars, static_vars, dt, xlim, ylim, xlabel, ylabel, frame_delay, frame_step, title_size, figsize, gif_dpi, video_fps, save_path, show)\u001b[0m\n\u001b[1;32m    475\u001b[0m     \u001b[0;32melse\u001b[0m\u001b[0;34m:\u001b[0m\u001b[0;34m\u001b[0m\u001b[0;34m\u001b[0m\u001b[0m\n\u001b[1;32m    476\u001b[0m         \u001b[0;32mif\u001b[0m \u001b[0msave_path\u001b[0m\u001b[0;34m[\u001b[0m\u001b[0;34m-\u001b[0m\u001b[0;36m3\u001b[0m\u001b[0;34m:\u001b[0m\u001b[0;34m]\u001b[0m \u001b[0;34m==\u001b[0m \u001b[0;34m'gif'\u001b[0m\u001b[0;34m:\u001b[0m\u001b[0;34m\u001b[0m\u001b[0;34m\u001b[0m\u001b[0m\n\u001b[0;32m--> 477\u001b[0;31m             \u001b[0manim_result\u001b[0m\u001b[0;34m.\u001b[0m\u001b[0msave\u001b[0m\u001b[0;34m(\u001b[0m\u001b[0msave_path\u001b[0m\u001b[0;34m,\u001b[0m \u001b[0mdpi\u001b[0m\u001b[0;34m=\u001b[0m\u001b[0mgif_dpi\u001b[0m\u001b[0;34m,\u001b[0m \u001b[0mwriter\u001b[0m\u001b[0;34m=\u001b[0m\u001b[0;34m'imagemagick'\u001b[0m\u001b[0;34m)\u001b[0m\u001b[0;34m\u001b[0m\u001b[0;34m\u001b[0m\u001b[0m\n\u001b[0m\u001b[1;32m    478\u001b[0m         \u001b[0;32melif\u001b[0m \u001b[0msave_path\u001b[0m\u001b[0;34m[\u001b[0m\u001b[0;34m-\u001b[0m\u001b[0;36m3\u001b[0m\u001b[0;34m:\u001b[0m\u001b[0;34m]\u001b[0m \u001b[0;34m==\u001b[0m \u001b[0;34m'mp4'\u001b[0m\u001b[0;34m:\u001b[0m\u001b[0;34m\u001b[0m\u001b[0;34m\u001b[0m\u001b[0m\n\u001b[1;32m    479\u001b[0m             \u001b[0manim_result\u001b[0m\u001b[0;34m.\u001b[0m\u001b[0msave\u001b[0m\u001b[0;34m(\u001b[0m\u001b[0msave_path\u001b[0m\u001b[0;34m,\u001b[0m \u001b[0mwriter\u001b[0m\u001b[0;34m=\u001b[0m\u001b[0;34m'ffmpeg'\u001b[0m\u001b[0;34m,\u001b[0m \u001b[0mfps\u001b[0m\u001b[0;34m=\u001b[0m\u001b[0mvideo_fps\u001b[0m\u001b[0;34m,\u001b[0m \u001b[0mbitrate\u001b[0m\u001b[0;34m=\u001b[0m\u001b[0;36m3000\u001b[0m\u001b[0;34m)\u001b[0m\u001b[0;34m\u001b[0m\u001b[0;34m\u001b[0m\u001b[0m\n",
            "\u001b[0;32m/usr/local/lib/python3.7/dist-packages/matplotlib/animation.py\u001b[0m in \u001b[0;36msave\u001b[0;34m(self, filename, writer, fps, dpi, codec, bitrate, extra_args, metadata, extra_anim, savefig_kwargs, progress_callback)\u001b[0m\n\u001b[1;32m   1109\u001b[0m                 writer = alt_writer(\n\u001b[1;32m   1110\u001b[0m                     \u001b[0mfps\u001b[0m\u001b[0;34m,\u001b[0m \u001b[0mcodec\u001b[0m\u001b[0;34m,\u001b[0m \u001b[0mbitrate\u001b[0m\u001b[0;34m,\u001b[0m\u001b[0;34m\u001b[0m\u001b[0;34m\u001b[0m\u001b[0m\n\u001b[0;32m-> 1111\u001b[0;31m                     extra_args=extra_args, metadata=metadata)\n\u001b[0m\u001b[1;32m   1112\u001b[0m         \u001b[0m_log\u001b[0m\u001b[0;34m.\u001b[0m\u001b[0minfo\u001b[0m\u001b[0;34m(\u001b[0m\u001b[0;34m'Animation.save using %s'\u001b[0m\u001b[0;34m,\u001b[0m \u001b[0mtype\u001b[0m\u001b[0;34m(\u001b[0m\u001b[0mwriter\u001b[0m\u001b[0;34m)\u001b[0m\u001b[0;34m)\u001b[0m\u001b[0;34m\u001b[0m\u001b[0;34m\u001b[0m\u001b[0m\n\u001b[1;32m   1113\u001b[0m \u001b[0;34m\u001b[0m\u001b[0m\n",
            "\u001b[0;31mTypeError\u001b[0m: 'str' object is not callable"
          ]
        }
      ]
    },
    {
      "cell_type": "markdown",
      "metadata": {
        "id": "M8dayf-KJszU"
      },
      "source": [
        "<img src=\"./CANN-tracking.gif\">"
      ]
    },
    {
      "cell_type": "code",
      "metadata": {
        "id": "XSH3BwFLJszV"
      },
      "source": [
        ""
      ],
      "execution_count": null,
      "outputs": []
    },
    {
      "cell_type": "code",
      "metadata": {
        "id": "zC3ImELCJszW"
      },
      "source": [
        ""
      ],
      "execution_count": null,
      "outputs": []
    },
    {
      "cell_type": "code",
      "metadata": {
        "id": "INXJ2XxDJszW"
      },
      "source": [
        ""
      ],
      "execution_count": null,
      "outputs": []
    },
    {
      "cell_type": "code",
      "metadata": {
        "id": "p5T4NiJTJszW"
      },
      "source": [
        ""
      ],
      "execution_count": null,
      "outputs": []
    },
    {
      "cell_type": "code",
      "metadata": {
        "id": "hwHrxVzbJszX"
      },
      "source": [
        ""
      ],
      "execution_count": null,
      "outputs": []
    }
  ]
}