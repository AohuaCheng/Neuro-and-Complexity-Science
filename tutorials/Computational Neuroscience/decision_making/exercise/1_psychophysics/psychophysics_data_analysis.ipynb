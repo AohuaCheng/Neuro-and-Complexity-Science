{
 "cells": [
  {
   "cell_type": "markdown",
   "metadata": {},
   "source": [
    "# Decision Making Introduction "
   ]
  },
  {
   "cell_type": "markdown",
   "metadata": {},
   "source": [
    "We analyze data from a two-alternative forced choice task (2AFC) https://en.wikipedia.org/wiki/Two-alternative_forced_choice. In these tasks, ambiguous evidence for two alternative choices is presented to an observer. The ambiguity results in imperfect performance, that varies with the strength of the ambiguity. This relationship is quantified by the \"psychometric function\".\n",
    "\n",
    "![title](fig/task.gif)\n",
    "\n",
    "![title](fig/Random_Dot.gif)"
   ]
  },
  {
   "cell_type": "markdown",
   "metadata": {},
   "source": [
    "## Prerequisites\n",
    "- two-alternative forced choice task\n",
    "- the psychometric function relates an observer's performance to the observed stimulus\n",
    "- basic Python skills\n"
   ]
  },
  {
   "cell_type": "markdown",
   "metadata": {},
   "source": [
    "## Objectives\n",
    "- handling the data with Python Pandas\n",
    "- perform elementary data analysis steps on real data\n",
    "- calculate a psychometric function from data"
   ]
  },
  {
   "cell_type": "markdown",
   "metadata": {},
   "source": [
    "# Notebook setup "
   ]
  },
  {
   "cell_type": "code",
   "execution_count": null,
   "metadata": {},
   "outputs": [],
   "source": [
    "import numpy as np\n",
    "import pandas as pd\n",
    "import matplotlib.pyplot as plt\n",
    "%matplotlib inline\n",
    "\n",
    "import warnings\n",
    "warnings.filterwarnings('ignore')"
   ]
  },
  {
   "cell_type": "markdown",
   "metadata": {},
   "source": [
    "# Problem 1: Monkey dot data\n",
    "\n",
    "![title](fig/example.jpg)"
   ]
  },
  {
   "cell_type": "markdown",
   "metadata": {},
   "source": [
    "# Data exploration with Pandas\n",
    "\n",
    "## Load the data\n",
    "\n",
    "- Read the data from file 'dots_psychophysics.txt'\n",
    "- Each line is one trial, the columnns encode\n",
    "    - coherence of random dot pattern\n",
    "    - direction of random dot pattern\n",
    "    - the direction the monkey chose\n",
    "    - if the monkey was rewarded\n",
    "    - the monkey's reaction time\n",
    "- direction / choice is encoded as: 1 = 0% coherence, 2 = left, 3 = right\n",
    "- on 0% coherence trials the monkey was rewarded randomly"
   ]
  },
  {
   "cell_type": "code",
   "execution_count": null,
   "metadata": {
    "scrolled": true
   },
   "outputs": [],
   "source": [
    "### Read the psychophysical data via pandas\n",
    "\n",
    "dotsData = pd.read_csv('data/dots_psychophysics.txt', \n",
    "                       delimiter=' ', \n",
    "                       skipinitialspace=True, \n",
    "                       names=['coherence', 'direction', 'choice', 'rewarded', 'rt'])\n",
    "dotsData.head()"
   ]
  },
  {
   "cell_type": "markdown",
   "metadata": {},
   "source": [
    "**NOTE:**\n",
    "\n",
    "- direction == 1 encodes 0% coherence stimuli\n",
    "- direction == 2 encodes 'left' stimuli\n",
    "- direction == 3 encodes 'right' stimuli"
   ]
  },
  {
   "cell_type": "code",
   "execution_count": null,
   "metadata": {},
   "outputs": [],
   "source": [
    "dotsData.replace({'direction': {1.: '0%', 2.: 'left', 3.: 'right'},\n",
    "                  'choice': {1.: '0%', 2.: 'left', 3.: 'right'},\n",
    "                 }, inplace=True)\n",
    "dotsData['rewarded'] = dotsData['rewarded'].astype(bool)\n",
    "dotsData.head()"
   ]
  },
  {
   "cell_type": "markdown",
   "metadata": {},
   "source": [
    "## Let's play the data!"
   ]
  },
  {
   "cell_type": "markdown",
   "metadata": {},
   "source": [
    "**Instruction**\n",
    "\n",
    "- what's the distribution of choices when coherence == 0 (hint: xxx.groupby() / xxx.count())?"
   ]
  },
  {
   "cell_type": "code",
   "execution_count": null,
   "metadata": {
    "scrolled": true
   },
   "outputs": [],
   "source": [
    "nChoicesAt0Coherence = dotsData[dotsData['coherence'] == 0.] \\\n",
    "                                .groupby('choice') \\\n",
    "                                .count() \\\n",
    "                                ['coherence'] # all columns contain the same information\n",
    "\n",
    "# normalize to proportions\n",
    "fracChoisesAt0Coherence = ???\n",
    "fracChoisesAt0Coherence.plot(kind='bar')\n",
    "plt.ylabel('fraction of trials chosen')"
   ]
  },
  {
   "cell_type": "markdown",
   "metadata": {},
   "source": [
    "**Instruction**\n",
    "\n",
    "- For non-zero-coherence trials, is it true that whenever direction == choice then rewarded == True?"
   ]
  },
  {
   "cell_type": "code",
   "execution_count": null,
   "metadata": {},
   "outputs": [],
   "source": [
    "coherentTrials = dotsData[dotsData['coherence'] != 0.]\n",
    "coherentTrials[coherentTrials['direction'] == coherentTrials['choice']] \\\n",
    "        ['rewarded'] \\\n",
    "        .unique()"
   ]
  },
  {
   "cell_type": "markdown",
   "metadata": {},
   "source": [
    "* Does this make sense?\n",
    "* Next, compare the reaction times for non-rewarded and rewarded trials"
   ]
  },
  {
   "cell_type": "code",
   "execution_count": null,
   "metadata": {
    "scrolled": true
   },
   "outputs": [],
   "source": [
    "cond_aborted = (dotsData['coherence'] > 0) & \\\n",
    "         (dotsData['direction'] == dotsData['choice']) & \\\n",
    "         (dotsData['rewarded'] == False)\n",
    "cond_correct = ???\n",
    "        \n",
    "dotsData[cond_aborted]['rt'].hist(density=True, grid=False, alpha=0.5, bins=100, label='aborted')\n",
    "???\n",
    "\n",
    "plt.legend()"
   ]
  },
  {
   "cell_type": "markdown",
   "metadata": {},
   "source": [
    "## Let's go on!"
   ]
  },
  {
   "cell_type": "markdown",
   "metadata": {},
   "source": [
    "**Instruction**\n",
    "\n",
    "How much data do we have, broken down by direction?\n",
    "Make a bar plot of the number of trials, broken down by stimulus direction and coherence. Don't forget axes labels and a plot title."
   ]
  },
  {
   "cell_type": "code",
   "execution_count": null,
   "metadata": {
    "scrolled": false
   },
   "outputs": [],
   "source": [
    "for direction, directionData in dotsData.groupby('direction'):\n",
    "    plt.figure()\n",
    "    plt.title('Number of available trials for direction == %s' % direction)\n",
    "    directionData.groupby('coherence')['coherence'] \\\n",
    "                    .count() \\\n",
    "                    .plot(kind='bar')\n",
    "    plt.ylabel('number of trials')"
   ]
  },
  {
   "cell_type": "markdown",
   "metadata": {},
   "source": [
    "# Psychometric function"
   ]
  },
  {
   "cell_type": "markdown",
   "metadata": {},
   "source": [
    "**Instruction**\n",
    "\n",
    "Plot the psychometric function, i.e. fraction of correct choices vs. coherence\n",
    "\n",
    "- once collapsing all directions\n",
    "- once keeping directions (i.e. plot fraction of right choices for all coherence levels, where for left choices coherence is set to negative values)"
   ]
  },
  {
   "cell_type": "markdown",
   "metadata": {},
   "source": [
    "### Aborted trials\n",
    "\n",
    "Filter out aborted trials, i.e. trials in which the monkey chose the stimulus direction but wasn't rewarded"
   ]
  },
  {
   "cell_type": "code",
   "execution_count": null,
   "metadata": {
    "scrolled": false
   },
   "outputs": [],
   "source": [
    "dotsData = dotsData[~cond_aborted]"
   ]
  },
  {
   "cell_type": "markdown",
   "metadata": {},
   "source": [
    "### Use all directions"
   ]
  },
  {
   "cell_type": "code",
   "execution_count": null,
   "metadata": {},
   "outputs": [],
   "source": [
    "dotsData.groupby('coherence') \\\n",
    "        .apply(lambda df: (df['choice'] == df['direction']).mean()) \\\n",
    "        .plot(logx=True)\n",
    "plt.title('Psychometric function')\n",
    "plt.ylabel('fraction of correct trials')"
   ]
  },
  {
   "cell_type": "markdown",
   "metadata": {},
   "source": [
    "### Use only direction == 'left' and direction == 'right' trials"
   ]
  },
  {
   "cell_type": "code",
   "execution_count": null,
   "metadata": {},
   "outputs": [],
   "source": [
    "zeroPsychometricFunction = pd.Series((dotsData[dotsData['direction'] == '0%']['choice'] == 'right').mean(), index=[0.])\n",
    "    \n",
    "rightPsychometricFunction = dotsData[dotsData['direction'] == 'right'] \\\n",
    "                            .groupby('coherence') \\\n",
    "                            .apply(lambda df: (df['choice'] == 'right').mean())\n",
    "        \n",
    "leftPsychometricFunction = ???\n",
    "# flip sign of coherence (which is the index) for leftPsychometricFunction to combine left and right afterwards\n",
    "leftPsychometricFunction.index *= -1\n",
    "\n",
    "# combine the three psychometric functions in one Series\n",
    "psychometricFunction = pd.concat([leftPsychometricFunction, zeroPsychometricFunction, rightPsychometricFunction]) \\\n",
    "                            .sort_index()\n",
    "\n",
    "psychometricFunction.plot()\n",
    "plt.xlabel('coherence')\n",
    "plt.ylabel('fraction of right choices')\n",
    "plt.title('Psychometric function')"
   ]
  },
  {
   "cell_type": "markdown",
   "metadata": {},
   "source": [
    "# [Small project] Rat odor data"
   ]
  },
  {
   "cell_type": "markdown",
   "metadata": {},
   "source": [
    "## Load data"
   ]
  },
  {
   "cell_type": "markdown",
   "metadata": {},
   "source": [
    "** Instructions **\n",
    "\n",
    "- load the file \"data/odor_psychophysics.csv'\n",
    "- the columns represent: 'rat', 'session', 'direction', 'contrast', 'choice', 'rewarded'\n",
    "- analyze the data\n",
    "- in particular\n",
    "    - plot the psychometric curve for each rat\n",
    "    - plot the mean psychometric curve for all rats including error bars"
   ]
  },
  {
   "cell_type": "code",
   "execution_count": null,
   "metadata": {},
   "outputs": [],
   "source": []
  }
 ],
 "metadata": {
  "anaconda-cloud": {},
  "kernelspec": {
   "display_name": "Python 3",
   "language": "python",
   "name": "python3"
  },
  "language_info": {
   "codemirror_mode": {
    "name": "ipython",
    "version": 3
   },
   "file_extension": ".py",
   "mimetype": "text/x-python",
   "name": "python",
   "nbconvert_exporter": "python",
   "pygments_lexer": "ipython3",
   "version": "3.8.8"
  },
  "toc": {
   "colors": {
    "hover_highlight": "#DAA520",
    "running_highlight": "#FF0000",
    "selected_highlight": "#FFD700"
   },
   "moveMenuLeft": true,
   "navigate_menu": false,
   "number_sections": true,
   "sideBar": true,
   "threshold": 4,
   "toc_cell": false,
   "toc_section_display": "block",
   "toc_window_display": true
  }
 },
 "nbformat": 4,
 "nbformat_minor": 2
}
