{
  "nbformat": 4,
  "nbformat_minor": 0,
  "metadata": {
    "anaconda-cloud": {},
    "kernelspec": {
      "display_name": "Python 3",
      "language": "python",
      "name": "python3"
    },
    "language_info": {
      "codemirror_mode": {
        "name": "ipython",
        "version": 3
      },
      "file_extension": ".py",
      "mimetype": "text/x-python",
      "name": "python",
      "nbconvert_exporter": "python",
      "pygments_lexer": "ipython3",
      "version": "3.8.8"
    },
    "toc": {
      "colors": {
        "hover_highlight": "#DAA520",
        "running_highlight": "#FF0000",
        "selected_highlight": "#FFD700"
      },
      "moveMenuLeft": true,
      "navigate_menu": false,
      "number_sections": true,
      "sideBar": true,
      "threshold": 4,
      "toc_cell": false,
      "toc_section_display": "block",
      "toc_window_display": true
    },
    "colab": {
      "name": "psychophysics_data_analysis.ipynb",
      "provenance": []
    }
  },
  "cells": [
    {
      "cell_type": "markdown",
      "metadata": {
        "id": "kF-kyPpgRk56"
      },
      "source": [
        "# Decision Making Introduction "
      ]
    },
    {
      "cell_type": "markdown",
      "metadata": {
        "id": "KOt0LM4rRk58"
      },
      "source": [
        "We analyze data from a two-alternative forced choice task (2AFC) https://en.wikipedia.org/wiki/Two-alternative_forced_choice. In these tasks, ambiguous evidence for two alternative choices is presented to an observer. The ambiguity results in imperfect performance, that varies with the strength of the ambiguity. This relationship is quantified by the \"psychometric function\".\n",
        "\n",
        "![title](https://github.com/cahcharm/Neuro-and-Complexity-Science/blob/CSHA2021/tutorials/Computational%20Neuroscience/decision_making/exercise/1_psychophysics/fig/task.gif?raw=1)\n",
        "\n",
        "![title](https://github.com/cahcharm/Neuro-and-Complexity-Science/blob/CSHA2021/tutorials/Computational%20Neuroscience/decision_making/exercise/1_psychophysics/fig/Random_Dot.gif?raw=1)"
      ]
    },
    {
      "cell_type": "markdown",
      "metadata": {
        "id": "5jp2WCvxRk5_"
      },
      "source": [
        "## Prerequisites\n",
        "- two-alternative forced choice task\n",
        "- the psychometric function relates an observer's performance to the observed stimulus\n",
        "- basic Python skills\n"
      ]
    },
    {
      "cell_type": "markdown",
      "metadata": {
        "id": "8P2hOXIvRk6C"
      },
      "source": [
        "## Objectives\n",
        "- handling the data with Python Pandas\n",
        "- perform elementary data analysis steps on real data\n",
        "- calculate a psychometric function from data"
      ]
    },
    {
      "cell_type": "markdown",
      "metadata": {
        "id": "LHIm0WxrRk6D"
      },
      "source": [
        "# Notebook setup "
      ]
    },
    {
      "cell_type": "code",
      "metadata": {
        "id": "_Edh7X5XRk6E"
      },
      "source": [
        "import numpy as np\n",
        "import pandas as pd\n",
        "import matplotlib.pyplot as plt\n",
        "%matplotlib inline\n",
        "\n",
        "import warnings\n",
        "warnings.filterwarnings('ignore')"
      ],
      "execution_count": 20,
      "outputs": []
    },
    {
      "cell_type": "markdown",
      "metadata": {
        "id": "l_cPFaWVRk6G"
      },
      "source": [
        "# Problem 1: Monkey dot data\n",
        "\n",
        "![title](https://github.com/cahcharm/Neuro-and-Complexity-Science/blob/CSHA2021/tutorials/Computational%20Neuroscience/decision_making/exercise/1_psychophysics/fig/example.jpg?raw=1)"
      ]
    },
    {
      "cell_type": "markdown",
      "metadata": {
        "id": "5MA6shjQRk6J"
      },
      "source": [
        "# Data exploration with Pandas\n",
        "\n",
        "## Load the data\n",
        "\n",
        "- Read the data from file 'dots_psychophysics.txt'\n",
        "- Each line is one trial, the columnns encode\n",
        "    - coherence of random dot pattern\n",
        "    - direction of random dot pattern\n",
        "    - the direction the monkey chose\n",
        "    - if the monkey was rewarded\n",
        "    - the monkey's reaction time\n",
        "- direction / choice is encoded as: 1 = 0% coherence, 2 = left, 3 = right\n",
        "- on 0% coherence trials the monkey was rewarded randomly"
      ]
    },
    {
      "cell_type": "code",
      "metadata": {
        "scrolled": true,
        "id": "W3nz0wRQRk6L",
        "outputId": "6906f7e6-8690-467f-9a65-8f342b2d037b",
        "colab": {
          "base_uri": "https://localhost:8080/",
          "height": 203
        }
      },
      "source": [
        "### Read the psychophysical data via pandas\n",
        "\n",
        "dotsData = pd.read_csv('dots_psychophysics.txt', \n",
        "                       delimiter=' ', \n",
        "                       skipinitialspace=True, \n",
        "                       names=['coherence', 'direction', 'choice', 'rewarded', 'rt'])\n",
        "dotsData.head()"
      ],
      "execution_count": 21,
      "outputs": [
        {
          "output_type": "execute_result",
          "data": {
            "text/html": [
              "<div>\n",
              "<style scoped>\n",
              "    .dataframe tbody tr th:only-of-type {\n",
              "        vertical-align: middle;\n",
              "    }\n",
              "\n",
              "    .dataframe tbody tr th {\n",
              "        vertical-align: top;\n",
              "    }\n",
              "\n",
              "    .dataframe thead th {\n",
              "        text-align: right;\n",
              "    }\n",
              "</style>\n",
              "<table border=\"1\" class=\"dataframe\">\n",
              "  <thead>\n",
              "    <tr style=\"text-align: right;\">\n",
              "      <th></th>\n",
              "      <th>coherence</th>\n",
              "      <th>direction</th>\n",
              "      <th>choice</th>\n",
              "      <th>rewarded</th>\n",
              "      <th>rt</th>\n",
              "    </tr>\n",
              "  </thead>\n",
              "  <tbody>\n",
              "    <tr>\n",
              "      <th>0</th>\n",
              "      <td>0.128</td>\n",
              "      <td>2.0</td>\n",
              "      <td>2.0</td>\n",
              "      <td>1.0</td>\n",
              "      <td>622.675</td>\n",
              "    </tr>\n",
              "    <tr>\n",
              "      <th>1</th>\n",
              "      <td>0.000</td>\n",
              "      <td>1.0</td>\n",
              "      <td>1.0</td>\n",
              "      <td>1.0</td>\n",
              "      <td>934.450</td>\n",
              "    </tr>\n",
              "    <tr>\n",
              "      <th>2</th>\n",
              "      <td>0.000</td>\n",
              "      <td>1.0</td>\n",
              "      <td>1.0</td>\n",
              "      <td>1.0</td>\n",
              "      <td>837.475</td>\n",
              "    </tr>\n",
              "    <tr>\n",
              "      <th>3</th>\n",
              "      <td>0.512</td>\n",
              "      <td>2.0</td>\n",
              "      <td>2.0</td>\n",
              "      <td>1.0</td>\n",
              "      <td>349.500</td>\n",
              "    </tr>\n",
              "    <tr>\n",
              "      <th>4</th>\n",
              "      <td>0.256</td>\n",
              "      <td>2.0</td>\n",
              "      <td>2.0</td>\n",
              "      <td>1.0</td>\n",
              "      <td>415.925</td>\n",
              "    </tr>\n",
              "  </tbody>\n",
              "</table>\n",
              "</div>"
            ],
            "text/plain": [
              "   coherence  direction  choice  rewarded       rt\n",
              "0      0.128        2.0     2.0       1.0  622.675\n",
              "1      0.000        1.0     1.0       1.0  934.450\n",
              "2      0.000        1.0     1.0       1.0  837.475\n",
              "3      0.512        2.0     2.0       1.0  349.500\n",
              "4      0.256        2.0     2.0       1.0  415.925"
            ]
          },
          "metadata": {
            "tags": []
          },
          "execution_count": 21
        }
      ]
    },
    {
      "cell_type": "markdown",
      "metadata": {
        "id": "o4ZrdA2aRk6T"
      },
      "source": [
        "**NOTE:**\n",
        "\n",
        "- direction == 1 encodes 0% coherence stimuli\n",
        "- direction == 2 encodes 'left' stimuli\n",
        "- direction == 3 encodes 'right' stimuli"
      ]
    },
    {
      "cell_type": "code",
      "metadata": {
        "id": "vTNe-1INRk6U",
        "outputId": "f8b94c38-26fc-4548-a47a-e4adc9dbbe88",
        "colab": {
          "base_uri": "https://localhost:8080/",
          "height": 203
        }
      },
      "source": [
        "dotsData.replace({'direction': {1.: '0%', 2.: 'left', 3.: 'right'},\n",
        "                  'choice': {1.: '0%', 2.: 'left', 3.: 'right'},\n",
        "                 }, inplace=True)\n",
        "dotsData['rewarded'] = dotsData['rewarded'].astype(bool)\n",
        "dotsData.head()"
      ],
      "execution_count": 22,
      "outputs": [
        {
          "output_type": "execute_result",
          "data": {
            "text/html": [
              "<div>\n",
              "<style scoped>\n",
              "    .dataframe tbody tr th:only-of-type {\n",
              "        vertical-align: middle;\n",
              "    }\n",
              "\n",
              "    .dataframe tbody tr th {\n",
              "        vertical-align: top;\n",
              "    }\n",
              "\n",
              "    .dataframe thead th {\n",
              "        text-align: right;\n",
              "    }\n",
              "</style>\n",
              "<table border=\"1\" class=\"dataframe\">\n",
              "  <thead>\n",
              "    <tr style=\"text-align: right;\">\n",
              "      <th></th>\n",
              "      <th>coherence</th>\n",
              "      <th>direction</th>\n",
              "      <th>choice</th>\n",
              "      <th>rewarded</th>\n",
              "      <th>rt</th>\n",
              "    </tr>\n",
              "  </thead>\n",
              "  <tbody>\n",
              "    <tr>\n",
              "      <th>0</th>\n",
              "      <td>0.128</td>\n",
              "      <td>left</td>\n",
              "      <td>left</td>\n",
              "      <td>True</td>\n",
              "      <td>622.675</td>\n",
              "    </tr>\n",
              "    <tr>\n",
              "      <th>1</th>\n",
              "      <td>0.000</td>\n",
              "      <td>0%</td>\n",
              "      <td>0%</td>\n",
              "      <td>True</td>\n",
              "      <td>934.450</td>\n",
              "    </tr>\n",
              "    <tr>\n",
              "      <th>2</th>\n",
              "      <td>0.000</td>\n",
              "      <td>0%</td>\n",
              "      <td>0%</td>\n",
              "      <td>True</td>\n",
              "      <td>837.475</td>\n",
              "    </tr>\n",
              "    <tr>\n",
              "      <th>3</th>\n",
              "      <td>0.512</td>\n",
              "      <td>left</td>\n",
              "      <td>left</td>\n",
              "      <td>True</td>\n",
              "      <td>349.500</td>\n",
              "    </tr>\n",
              "    <tr>\n",
              "      <th>4</th>\n",
              "      <td>0.256</td>\n",
              "      <td>left</td>\n",
              "      <td>left</td>\n",
              "      <td>True</td>\n",
              "      <td>415.925</td>\n",
              "    </tr>\n",
              "  </tbody>\n",
              "</table>\n",
              "</div>"
            ],
            "text/plain": [
              "   coherence direction choice  rewarded       rt\n",
              "0      0.128      left   left      True  622.675\n",
              "1      0.000        0%     0%      True  934.450\n",
              "2      0.000        0%     0%      True  837.475\n",
              "3      0.512      left   left      True  349.500\n",
              "4      0.256      left   left      True  415.925"
            ]
          },
          "metadata": {
            "tags": []
          },
          "execution_count": 22
        }
      ]
    },
    {
      "cell_type": "markdown",
      "metadata": {
        "id": "vUboEyFWRk6V"
      },
      "source": [
        "## Let's play the data!"
      ]
    },
    {
      "cell_type": "markdown",
      "metadata": {
        "id": "uGeH5kzARk6W"
      },
      "source": [
        "**Instruction**\n",
        "\n",
        "- what's the distribution of choices when coherence == 0 (hint: xxx.groupby() / xxx.count())?"
      ]
    },
    {
      "cell_type": "code",
      "metadata": {
        "scrolled": true,
        "id": "em5lGKrkRk6X",
        "outputId": "2d693cc3-05ed-4bdc-b9a4-ad30287ee60c",
        "colab": {
          "base_uri": "https://localhost:8080/",
          "height": 310
        }
      },
      "source": [
        "nChoicesAt0Coherence = dotsData[dotsData['coherence'] == 0.].groupby('choice').count()['coherence'] # all columns contain the same information\n",
        "\n",
        "# normalize to proportions\n",
        "fracChoisesAt0Coherence = nChoicesAt0Coherence / nChoicesAt0Coherence.sum()\n",
        "fracChoisesAt0Coherence.plot(kind='bar')\n",
        "plt.ylabel('fraction of trials chosen')"
      ],
      "execution_count": 23,
      "outputs": [
        {
          "output_type": "execute_result",
          "data": {
            "text/plain": [
              "Text(0, 0.5, 'fraction of trials chosen')"
            ]
          },
          "metadata": {
            "tags": []
          },
          "execution_count": 23
        },
        {
          "output_type": "display_data",
          "data": {
            "image/png": "[encoded data removed]",
            "text/plain": [
              "<Figure size 432x288 with 1 Axes>"
            ]
          },
          "metadata": {
            "tags": [],
            "needs_background": "light"
          }
        }
      ]
    },
    {
      "cell_type": "markdown",
      "metadata": {
        "id": "H8c-sBW6Rk6X"
      },
      "source": [
        "**Instruction**\n",
        "\n",
        "- For non-zero-coherence trials, is it true that whenever direction == choice then rewarded == True?"
      ]
    },
    {
      "cell_type": "code",
      "metadata": {
        "id": "9RrxTt5xRk6Y",
        "outputId": "f7570f32-6037-445e-a3a3-53468eab7c9d",
        "colab": {
          "base_uri": "https://localhost:8080/"
        }
      },
      "source": [
        "coherentTrials = dotsData[dotsData['coherence'] != 0.]\n",
        "coherentTrials[coherentTrials['direction'] == coherentTrials['choice']]['rewarded'].unique()"
      ],
      "execution_count": 24,
      "outputs": [
        {
          "output_type": "execute_result",
          "data": {
            "text/plain": [
              "array([ True, False])"
            ]
          },
          "metadata": {
            "tags": []
          },
          "execution_count": 24
        }
      ]
    },
    {
      "cell_type": "markdown",
      "metadata": {
        "id": "C7WmmOUIRk6Y"
      },
      "source": [
        "* Does this make sense?\n",
        "* Next, compare the reaction times for non-rewarded and rewarded trials"
      ]
    },
    {
      "cell_type": "code",
      "metadata": {
        "scrolled": true,
        "id": "t6PKC8voRk6Z",
        "outputId": "7d0e5d1d-f902-4a94-c243-a5ae824ac749",
        "colab": {
          "base_uri": "https://localhost:8080/",
          "height": 282
        }
      },
      "source": [
        "cond_aborted = (dotsData['coherence'] > 0) & (dotsData['direction'] == dotsData['choice']) & (dotsData['rewarded'] == False)\n",
        "cond_correct = (dotsData['coherence'] > 0) & (dotsData['direction'] == dotsData['choice']) & (dotsData['rewarded'] == True)\n",
        "        \n",
        "dotsData[cond_aborted]['rt'].hist(density=True, grid=False, alpha=0.5, bins=100, label='aborted')\n",
        "dotsData[cond_correct]['rt'].hist(density=True, grid=False, alpha=0.5, bins=100, label='correct')\n",
        "\n",
        "plt.legend()"
      ],
      "execution_count": 25,
      "outputs": [
        {
          "output_type": "execute_result",
          "data": {
            "text/plain": [
              "<matplotlib.legend.Legend at 0x7ff931a50a50>"
            ]
          },
          "metadata": {
            "tags": []
          },
          "execution_count": 25
        },
        {
          "output_type": "display_data",
          "data": {
            "image/png": "[encoded data removed]",
            "text/plain": [
              "<Figure size 432x288 with 1 Axes>"
            ]
          },
          "metadata": {
            "tags": [],
            "needs_background": "light"
          }
        }
      ]
    },
    {
      "cell_type": "markdown",
      "metadata": {
        "id": "tqv_6CLxRk6Z"
      },
      "source": [
        "## Let's go on!"
      ]
    },
    {
      "cell_type": "markdown",
      "metadata": {
        "id": "SOGCjHlFRk6Z"
      },
      "source": [
        "**Instruction**\n",
        "\n",
        "How much data do we have, broken down by direction?\n",
        "Make a bar plot of the number of trials, broken down by stimulus direction and coherence. Don't forget axes labels and a plot title."
      ]
    },
    {
      "cell_type": "code",
      "metadata": {
        "scrolled": false,
        "id": "8HEjEg4JRk6a",
        "outputId": "19166e34-94c7-4bb8-c42a-d9211b2e4b08",
        "colab": {
          "base_uri": "https://localhost:8080/",
          "height": 908
        }
      },
      "source": [
        "for direction, directionData in dotsData.groupby('direction'):\n",
        "    plt.figure()\n",
        "    plt.title('Number of available trials for direction == %s' % direction)\n",
        "    directionData.groupby('coherence')['coherence'] \\\n",
        "                    .count() \\\n",
        "                    .plot(kind='bar')\n",
        "    plt.ylabel('number of trials')"
      ],
      "execution_count": 26,
      "outputs": [
        {
          "output_type": "display_data",
          "data": {
            "image/png": "[encoded data removed]",
            "text/plain": [
              "<Figure size 432x288 with 1 Axes>"
            ]
          },
          "metadata": {
            "tags": [],
            "needs_background": "light"
          }
        },
        {
          "output_type": "display_data",
          "data": {
            "image/png": "[encoded data removed]",
            "text/plain": [
              "<Figure size 432x288 with 1 Axes>"
            ]
          },
          "metadata": {
            "tags": [],
            "needs_background": "light"
          }
        },
        {
          "output_type": "display_data",
          "data": {
            "image/png": "[encoded data removed]",
            "text/plain": [
              "<Figure size 432x288 with 1 Axes>"
            ]
          },
          "metadata": {
            "tags": [],
            "needs_background": "light"
          }
        }
      ]
    },
    {
      "cell_type": "markdown",
      "metadata": {
        "id": "VFidkLElRk6a"
      },
      "source": [
        "# Psychometric function"
      ]
    },
    {
      "cell_type": "markdown",
      "metadata": {
        "id": "cfkpgJwbRk6b"
      },
      "source": [
        "**Instruction**\n",
        "\n",
        "Plot the psychometric function, i.e. fraction of correct choices vs. coherence\n",
        "\n",
        "- once collapsing all directions\n",
        "- once keeping directions (i.e. plot fraction of right choices for all coherence levels, where for left choices coherence is set to negative values)"
      ]
    },
    {
      "cell_type": "markdown",
      "metadata": {
        "id": "uhE1i3fiRk6c"
      },
      "source": [
        "### Aborted trials\n",
        "\n",
        "Filter out aborted trials, i.e. trials in which the monkey chose the stimulus direction but wasn't rewarded"
      ]
    },
    {
      "cell_type": "code",
      "metadata": {
        "scrolled": false,
        "id": "WFMmNy46Rk6c"
      },
      "source": [
        "dotsDataNew = dotsData[~cond_aborted]"
      ],
      "execution_count": 19,
      "outputs": []
    },
    {
      "cell_type": "markdown",
      "metadata": {
        "id": "4wcrb2FIRk6c"
      },
      "source": [
        "### Use all directions"
      ]
    },
    {
      "cell_type": "code",
      "metadata": {
        "id": "XPiqs9HHRk6d",
        "outputId": "7db2aa53-669b-421f-ebf3-485e6f0c1370",
        "colab": {
          "base_uri": "https://localhost:8080/",
          "height": 316
        }
      },
      "source": [
        "dotsDataNew.groupby('coherence') \\\n",
        "        .apply(lambda df: (df['choice'] == df['direction']).mean()) \\\n",
        "        .plot(logx=True)\n",
        "plt.title('Psychometric function')\n",
        "plt.ylabel('fraction of correct trials')"
      ],
      "execution_count": 27,
      "outputs": [
        {
          "output_type": "execute_result",
          "data": {
            "text/plain": [
              "Text(0, 0.5, 'fraction of correct trials')"
            ]
          },
          "metadata": {
            "tags": []
          },
          "execution_count": 27
        },
        {
          "output_type": "display_data",
          "data": {
            "image/png": "[encoded data removed]",
            "text/plain": [
              "<Figure size 432x288 with 1 Axes>"
            ]
          },
          "metadata": {
            "tags": [],
            "needs_background": "light"
          }
        }
      ]
    },
    {
      "cell_type": "markdown",
      "metadata": {
        "id": "OnsXvFb0Rk6e"
      },
      "source": [
        "### Use only direction == 'left' and direction == 'right' trials"
      ]
    },
    {
      "cell_type": "code",
      "metadata": {
        "id": "1gkCBZQ9Rk6f",
        "outputId": "755638e8-dd7a-48f3-bbbb-3c1f17ea69dc",
        "colab": {
          "base_uri": "https://localhost:8080/",
          "height": 312
        }
      },
      "source": [
        "zeroPsychometricFunction = pd.Series((dotsDataNew[dotsDataNew['direction'] == '0%']['choice'] == 'right').mean(), index=[0.])\n",
        "    \n",
        "rightPsychometricFunction = dotsDataNew[dotsDataNew['direction'] == 'right'] \\\n",
        "                            .groupby('coherence') \\\n",
        "                            .apply(lambda df: (df['choice'] == 'right').mean())\n",
        "        \n",
        "leftPsychometricFunction = dotsDataNew[dotsDataNew['direction'] == 'left'] \\\n",
        "                            .groupby('coherence') \\\n",
        "                            .apply(lambda df: (df['choice'] == 'right').mean())\n",
        "# flip sign of coherence (which is the index) for leftPsychometricFunction to combine left and right afterwards\n",
        "leftPsychometricFunction.index *= -1\n",
        "\n",
        "# combine the three psychometric functions in one Series\n",
        "psychometricFunction = pd.concat([leftPsychometricFunction, zeroPsychometricFunction, rightPsychometricFunction]) \\\n",
        "                            .sort_index()\n",
        "\n",
        "psychometricFunction.plot()\n",
        "plt.xlabel('coherence')\n",
        "plt.ylabel('fraction of right choices')\n",
        "plt.title('Psychometric function')"
      ],
      "execution_count": 28,
      "outputs": [
        {
          "output_type": "execute_result",
          "data": {
            "text/plain": [
              "Text(0.5, 1.0, 'Psychometric function')"
            ]
          },
          "metadata": {
            "tags": []
          },
          "execution_count": 28
        },
        {
          "output_type": "display_data",
          "data": {
            "image/png": "[encoded data removed]",
            "text/plain": [
              "<Figure size 432x288 with 1 Axes>"
            ]
          },
          "metadata": {
            "tags": [],
            "needs_background": "light"
          }
        }
      ]
    },
    {
      "cell_type": "markdown",
      "metadata": {
        "id": "BArPdF1FRk6g"
      },
      "source": [
        "# [Small project] Rat odor data"
      ]
    },
    {
      "cell_type": "markdown",
      "metadata": {
        "id": "dKsGuLtyRk6g"
      },
      "source": [
        "## Load data"
      ]
    },
    {
      "cell_type": "markdown",
      "metadata": {
        "id": "QDTnOxE3Rk6g"
      },
      "source": [
        "** Instructions **\n",
        "\n",
        "- load the file \"data/odor_psychophysics.csv'\n",
        "- the columns represent: 'rat', 'session', 'direction', 'contrast', 'choice', 'rewarded'\n",
        "- analyze the data\n",
        "- in particular\n",
        "    - plot the psychometric curve for each rat\n",
        "    - plot the mean psychometric curve for all rats including error bars"
      ]
    },
    {
      "cell_type": "code",
      "metadata": {
        "id": "7XxzP0iyRk6h"
      },
      "source": [
        ""
      ],
      "execution_count": null,
      "outputs": []
    }
  ]
}