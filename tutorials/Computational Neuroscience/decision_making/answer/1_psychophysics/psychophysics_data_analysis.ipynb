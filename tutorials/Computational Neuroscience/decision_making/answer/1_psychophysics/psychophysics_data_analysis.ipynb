{
 "cells": [
  {
   "cell_type": "markdown",
   "metadata": {},
   "source": [
    "# Decision Making Introduction "
   ]
  },
  {
   "cell_type": "markdown",
   "metadata": {},
   "source": [
    "We analyze data from a two-alternative forced choice task (2AFC) https://en.wikipedia.org/wiki/Two-alternative_forced_choice. In these tasks, ambiguous evidence for two alternative choices is presented to an observer. The ambiguity results in imperfect performance, that varies with the strength of the ambiguity. This relationship is quantified by the \"psychometric function\".\n",
    "\n",
    "![title](fig/task.gif)\n",
    "\n",
    "![title](fig/Random_Dot.gif)"
   ]
  },
  {
   "cell_type": "markdown",
   "metadata": {},
   "source": [
    "## Prerequisites\n",
    "- two-alternative forced choice task\n",
    "- the psychometric function relates an observer's performance to the observed stimulus\n",
    "- basic Python skills\n"
   ]
  },
  {
   "cell_type": "markdown",
   "metadata": {},
   "source": [
    "## Objectives\n",
    "- handling the data with Python Pandas\n",
    "- perform elementary data analysis steps on real data\n",
    "- calculate a psychometric function from data"
   ]
  },
  {
   "cell_type": "markdown",
   "metadata": {},
   "source": [
    "# Notebook setup "
   ]
  },
  {
   "cell_type": "code",
   "execution_count": 1,
   "metadata": {},
   "outputs": [],
   "source": [
    "import numpy as np\n",
    "import pandas as pd\n",
    "import matplotlib.pyplot as plt\n",
    "%matplotlib inline\n",
    "\n",
    "import warnings\n",
    "warnings.filterwarnings('ignore')"
   ]
  },
  {
   "cell_type": "markdown",
   "metadata": {},
   "source": [
    "# Problem 1: Monkey dot data\n",
    "\n",
    "![title](fig/example.jpg)"
   ]
  },
  {
   "cell_type": "markdown",
   "metadata": {},
   "source": [
    "# Data exploration with Pandas\n",
    "\n",
    "## Load the data\n",
    "\n",
    "- Read the data from file 'dots_psychophysics.txt'\n",
    "- Each line is one trial, the columnns encode\n",
    "    - coherence of random dot pattern\n",
    "    - direction of random dot pattern\n",
    "    - the direction the monkey chose\n",
    "    - if the monkey was rewarded\n",
    "    - the monkey's reaction time\n",
    "- direction / choice is encoded as: 1 = 0% coherence, 2 = left, 3 = right\n",
    "- on 0% coherence trials the monkey was rewarded randomly"
   ]
  },
  {
   "cell_type": "code",
   "execution_count": 2,
   "metadata": {
    "scrolled": true
   },
   "outputs": [
    {
     "data": {
      "text/html": [
       "<div>\n",
       "<style scoped>\n",
       "    .dataframe tbody tr th:only-of-type {\n",
       "        vertical-align: middle;\n",
       "    }\n",
       "\n",
       "    .dataframe tbody tr th {\n",
       "        vertical-align: top;\n",
       "    }\n",
       "\n",
       "    .dataframe thead th {\n",
       "        text-align: right;\n",
       "    }\n",
       "</style>\n",
       "<table border=\"1\" class=\"dataframe\">\n",
       "  <thead>\n",
       "    <tr style=\"text-align: right;\">\n",
       "      <th></th>\n",
       "      <th>coherence</th>\n",
       "      <th>direction</th>\n",
       "      <th>choice</th>\n",
       "      <th>rewarded</th>\n",
       "      <th>rt</th>\n",
       "    </tr>\n",
       "  </thead>\n",
       "  <tbody>\n",
       "    <tr>\n",
       "      <th>0</th>\n",
       "      <td>0.128</td>\n",
       "      <td>2.0</td>\n",
       "      <td>2.0</td>\n",
       "      <td>1.0</td>\n",
       "      <td>622.675</td>\n",
       "    </tr>\n",
       "    <tr>\n",
       "      <th>1</th>\n",
       "      <td>0.000</td>\n",
       "      <td>1.0</td>\n",
       "      <td>1.0</td>\n",
       "      <td>1.0</td>\n",
       "      <td>934.450</td>\n",
       "    </tr>\n",
       "    <tr>\n",
       "      <th>2</th>\n",
       "      <td>0.000</td>\n",
       "      <td>1.0</td>\n",
       "      <td>1.0</td>\n",
       "      <td>1.0</td>\n",
       "      <td>837.475</td>\n",
       "    </tr>\n",
       "    <tr>\n",
       "      <th>3</th>\n",
       "      <td>0.512</td>\n",
       "      <td>2.0</td>\n",
       "      <td>2.0</td>\n",
       "      <td>1.0</td>\n",
       "      <td>349.500</td>\n",
       "    </tr>\n",
       "    <tr>\n",
       "      <th>4</th>\n",
       "      <td>0.256</td>\n",
       "      <td>2.0</td>\n",
       "      <td>2.0</td>\n",
       "      <td>1.0</td>\n",
       "      <td>415.925</td>\n",
       "    </tr>\n",
       "  </tbody>\n",
       "</table>\n",
       "</div>"
      ],
      "text/plain": [
       "   coherence  direction  choice  rewarded       rt\n",
       "0      0.128        2.0     2.0       1.0  622.675\n",
       "1      0.000        1.0     1.0       1.0  934.450\n",
       "2      0.000        1.0     1.0       1.0  837.475\n",
       "3      0.512        2.0     2.0       1.0  349.500\n",
       "4      0.256        2.0     2.0       1.0  415.925"
      ]
     },
     "execution_count": 2,
     "metadata": {},
     "output_type": "execute_result"
    }
   ],
   "source": [
    "### Read the psychophysical data via pandas\n",
    "\n",
    "dotsData = pd.read_csv('data/dots_psychophysics.txt', \n",
    "                       delimiter=' ', \n",
    "                       skipinitialspace=True, \n",
    "                       names=['coherence', 'direction', 'choice', 'rewarded', 'rt'])\n",
    "dotsData.head()"
   ]
  },
  {
   "cell_type": "markdown",
   "metadata": {},
   "source": [
    "**NOTE:**\n",
    "\n",
    "- direction == 1 encodes 0% coherence stimuli\n",
    "- direction == 2 encodes 'left' stimuli\n",
    "- direction == 3 encodes 'right' stimuli"
   ]
  },
  {
   "cell_type": "code",
   "execution_count": 3,
   "metadata": {},
   "outputs": [
    {
     "data": {
      "text/html": [
       "<div>\n",
       "<style scoped>\n",
       "    .dataframe tbody tr th:only-of-type {\n",
       "        vertical-align: middle;\n",
       "    }\n",
       "\n",
       "    .dataframe tbody tr th {\n",
       "        vertical-align: top;\n",
       "    }\n",
       "\n",
       "    .dataframe thead th {\n",
       "        text-align: right;\n",
       "    }\n",
       "</style>\n",
       "<table border=\"1\" class=\"dataframe\">\n",
       "  <thead>\n",
       "    <tr style=\"text-align: right;\">\n",
       "      <th></th>\n",
       "      <th>coherence</th>\n",
       "      <th>direction</th>\n",
       "      <th>choice</th>\n",
       "      <th>rewarded</th>\n",
       "      <th>rt</th>\n",
       "    </tr>\n",
       "  </thead>\n",
       "  <tbody>\n",
       "    <tr>\n",
       "      <th>0</th>\n",
       "      <td>0.128</td>\n",
       "      <td>left</td>\n",
       "      <td>left</td>\n",
       "      <td>True</td>\n",
       "      <td>622.675</td>\n",
       "    </tr>\n",
       "    <tr>\n",
       "      <th>1</th>\n",
       "      <td>0.000</td>\n",
       "      <td>0%</td>\n",
       "      <td>0%</td>\n",
       "      <td>True</td>\n",
       "      <td>934.450</td>\n",
       "    </tr>\n",
       "    <tr>\n",
       "      <th>2</th>\n",
       "      <td>0.000</td>\n",
       "      <td>0%</td>\n",
       "      <td>0%</td>\n",
       "      <td>True</td>\n",
       "      <td>837.475</td>\n",
       "    </tr>\n",
       "    <tr>\n",
       "      <th>3</th>\n",
       "      <td>0.512</td>\n",
       "      <td>left</td>\n",
       "      <td>left</td>\n",
       "      <td>True</td>\n",
       "      <td>349.500</td>\n",
       "    </tr>\n",
       "    <tr>\n",
       "      <th>4</th>\n",
       "      <td>0.256</td>\n",
       "      <td>left</td>\n",
       "      <td>left</td>\n",
       "      <td>True</td>\n",
       "      <td>415.925</td>\n",
       "    </tr>\n",
       "  </tbody>\n",
       "</table>\n",
       "</div>"
      ],
      "text/plain": [
       "   coherence direction choice  rewarded       rt\n",
       "0      0.128      left   left      True  622.675\n",
       "1      0.000        0%     0%      True  934.450\n",
       "2      0.000        0%     0%      True  837.475\n",
       "3      0.512      left   left      True  349.500\n",
       "4      0.256      left   left      True  415.925"
      ]
     },
     "execution_count": 3,
     "metadata": {},
     "output_type": "execute_result"
    }
   ],
   "source": [
    "dotsData.replace({'direction': {1.: '0%', 2.: 'left', 3.: 'right'},\n",
    "                  'choice': {1.: '0%', 2.: 'left', 3.: 'right'},\n",
    "                 }, inplace=True)\n",
    "dotsData['rewarded'] = dotsData['rewarded'].astype(bool)\n",
    "dotsData.head()"
   ]
  },
  {
   "cell_type": "markdown",
   "metadata": {},
   "source": [
    "## Let's play the data!"
   ]
  },
  {
   "cell_type": "markdown",
   "metadata": {},
   "source": [
    "**Instruction**\n",
    "\n",
    "- what's the distribution of choices when coherence == 0 (hint: xxx.groupby() / xxx.count())?"
   ]
  },
  {
   "cell_type": "code",
   "execution_count": 4,
   "metadata": {
    "scrolled": true
   },
   "outputs": [
    {
     "data": {
      "text/plain": [
       "Text(0, 0.5, 'fraction of trials chosen')"
      ]
     },
     "execution_count": 4,
     "metadata": {},
     "output_type": "execute_result"
    },
    {
     "data": {
      "image/png": "[encoded data removed]",
      "text/plain": [
       "<Figure size 432x288 with 1 Axes>"
      ]
     },
     "metadata": {
      "needs_background": "light"
     },
     "output_type": "display_data"
    }
   ],
   "source": [
    "nChoicesAt0Coherence = dotsData[dotsData['coherence'] == 0.] \\\n",
    "                                .groupby('choice') \\\n",
    "                                .count() \\\n",
    "                                ['coherence'] # all columns contain the same information\n",
    "\n",
    "# normalize to proportions\n",
    "fracChoisesAt0Coherence = nChoicesAt0Coherence / nChoicesAt0Coherence.sum()\n",
    "fracChoisesAt0Coherence.plot(kind='bar')\n",
    "plt.ylabel('fraction of trials chosen')"
   ]
  },
  {
   "cell_type": "markdown",
   "metadata": {},
   "source": [
    "**Instruction**\n",
    "\n",
    "- For non-zero-coherence trials, is it true that whenever direction == choice then rewarded == True?"
   ]
  },
  {
   "cell_type": "code",
   "execution_count": 5,
   "metadata": {},
   "outputs": [
    {
     "data": {
      "text/plain": [
       "array([ True, False])"
      ]
     },
     "execution_count": 5,
     "metadata": {},
     "output_type": "execute_result"
    }
   ],
   "source": [
    "coherentTrials = dotsData[dotsData['coherence'] != 0.]\n",
    "coherentTrials[coherentTrials['direction'] == coherentTrials['choice']] \\\n",
    "        ['rewarded'] \\\n",
    "        .unique()"
   ]
  },
  {
   "cell_type": "markdown",
   "metadata": {},
   "source": [
    "* Does this make sense?\n",
    "* Next, compare the reaction times for non-rewarded and rewarded trials"
   ]
  },
  {
   "cell_type": "code",
   "execution_count": 6,
   "metadata": {
    "scrolled": true
   },
   "outputs": [
    {
     "data": {
      "text/plain": [
       "<matplotlib.legend.Legend at 0x2b89105ddc0>"
      ]
     },
     "execution_count": 6,
     "metadata": {},
     "output_type": "execute_result"
    },
    {
     "data": {
      "image/png": "[encoded data removed]",
      "text/plain": [
       "<Figure size 432x288 with 1 Axes>"
      ]
     },
     "metadata": {
      "needs_background": "light"
     },
     "output_type": "display_data"
    }
   ],
   "source": [
    "cond_aborted = (dotsData['coherence'] > 0) & \\\n",
    "         (dotsData['direction'] == dotsData['choice']) & \\\n",
    "         (dotsData['rewarded'] == False)\n",
    "cond_correct = (dotsData['coherence'] > 0) & \\\n",
    "         (dotsData['direction'] == dotsData['choice']) & \\\n",
    "         (dotsData['rewarded'] == True)\n",
    "        \n",
    "dotsData[cond_aborted]['rt'].hist(density=True, grid=False, alpha=0.5, bins=100, label='aborted')\n",
    "dotsData[cond_correct]['rt'].hist(density=True, grid=False, alpha=0.5, bins=100, label='correct')\n",
    "\n",
    "plt.legend()"
   ]
  },
  {
   "cell_type": "markdown",
   "metadata": {},
   "source": [
    "## Let's go on!"
   ]
  },
  {
   "cell_type": "markdown",
   "metadata": {},
   "source": [
    "**Instruction**\n",
    "\n",
    "How much data do we have, broken down by direction?\n",
    "Make a bar plot of the number of trials, broken down by stimulus direction and coherence. Don't forget axes labels and a plot title."
   ]
  },
  {
   "cell_type": "code",
   "execution_count": 7,
   "metadata": {
    "scrolled": false
   },
   "outputs": [
    {
     "data": {
      "image/png": "[encoded data removed]",
      "text/plain": [
       "<Figure size 432x288 with 1 Axes>"
      ]
     },
     "metadata": {
      "needs_background": "light"
     },
     "output_type": "display_data"
    },
    {
     "data": {
      "image/png": "[encoded data removed]",
      "text/plain": [
       "<Figure size 432x288 with 1 Axes>"
      ]
     },
     "metadata": {
      "needs_background": "light"
     },
     "output_type": "display_data"
    },
    {
     "data": {
      "image/png": "[encoded data removed]",
      "text/plain": [
       "<Figure size 432x288 with 1 Axes>"
      ]
     },
     "metadata": {
      "needs_background": "light"
     },
     "output_type": "display_data"
    }
   ],
   "source": [
    "for direction, directionData in dotsData.groupby('direction'):\n",
    "    plt.figure()\n",
    "    plt.title('Number of available trials for direction == %s' % direction)\n",
    "    directionData.groupby('coherence')['coherence'] \\\n",
    "                    .count() \\\n",
    "                    .plot(kind='bar')\n",
    "    plt.ylabel('number of trials')"
   ]
  },
  {
   "cell_type": "markdown",
   "metadata": {},
   "source": [
    "# Psychometric function"
   ]
  },
  {
   "cell_type": "markdown",
   "metadata": {},
   "source": [
    "**Instruction**\n",
    "\n",
    "Plot the psychometric function, i.e. fraction of correct choices vs. coherence\n",
    "\n",
    "- once collapsing all directions\n",
    "- once keeping directions (i.e. plot fraction of right choices for all coherence levels, where for left choices coherence is set to negative values)"
   ]
  },
  {
   "cell_type": "markdown",
   "metadata": {},
   "source": [
    "### Aborted trials\n",
    "\n",
    "Filter out aborted trials, i.e. trials in which the monkey chose the stimulus direction but wasn't rewarded"
   ]
  },
  {
   "cell_type": "code",
   "execution_count": 8,
   "metadata": {
    "scrolled": false
   },
   "outputs": [],
   "source": [
    "dotsData = dotsData[~cond_aborted]"
   ]
  },
  {
   "cell_type": "markdown",
   "metadata": {},
   "source": [
    "### Use all directions"
   ]
  },
  {
   "cell_type": "code",
   "execution_count": 9,
   "metadata": {},
   "outputs": [
    {
     "data": {
      "text/plain": [
       "Text(0, 0.5, 'fraction of correct trials')"
      ]
     },
     "execution_count": 9,
     "metadata": {},
     "output_type": "execute_result"
    },
    {
     "data": {
      "image/png": "[encoded data removed]",
      "text/plain": [
       "<Figure size 432x288 with 1 Axes>"
      ]
     },
     "metadata": {
      "needs_background": "light"
     },
     "output_type": "display_data"
    }
   ],
   "source": [
    "dotsData.groupby('coherence') \\\n",
    "        .apply(lambda df: (df['choice'] == df['direction']).mean()) \\\n",
    "        .plot(logx=True)\n",
    "plt.title('Psychometric function')\n",
    "plt.ylabel('fraction of correct trials')"
   ]
  },
  {
   "cell_type": "markdown",
   "metadata": {},
   "source": [
    "### Use only direction == 'left' and direction == 'right' trials"
   ]
  },
  {
   "cell_type": "code",
   "execution_count": 12,
   "metadata": {},
   "outputs": [
    {
     "data": {
      "text/plain": [
       "Text(0.5, 1.0, 'Psychometric function')"
      ]
     },
     "execution_count": 12,
     "metadata": {},
     "output_type": "execute_result"
    },
    {
     "data": {
      "image/png": "[encoded data removed]",
      "text/plain": [
       "<Figure size 432x288 with 1 Axes>"
      ]
     },
     "metadata": {
      "needs_background": "light"
     },
     "output_type": "display_data"
    }
   ],
   "source": [
    "zeroPsychometricFunction = pd.Series((dotsData[dotsData['direction'] == '0%']['choice'] == 'right').mean(), index=[0.])\n",
    "    \n",
    "rightPsychometricFunction = dotsData[dotsData['direction'] == 'right'] \\\n",
    "                            .groupby('coherence') \\\n",
    "                            .apply(lambda df: (df['choice'] == 'right').mean())\n",
    "        \n",
    "leftPsychometricFunction = dotsData[dotsData['direction'] == 'left'] \\\n",
    "                            .groupby('coherence') \\\n",
    "                            .apply(lambda df: (df['choice'] == 'right').mean())\n",
    "# flip sign of coherence (which is the index) for leftPsychometricFunction to combine left and right afterwards\n",
    "leftPsychometricFunction.index *= -1\n",
    "\n",
    "# combine the three psychometric functions in one Series\n",
    "psychometricFunction = pd.concat([leftPsychometricFunction, zeroPsychometricFunction, rightPsychometricFunction]) \\\n",
    "                            .sort_index()\n",
    "\n",
    "psychometricFunction.plot()\n",
    "plt.xlabel('coherence')\n",
    "plt.ylabel('fraction of right choices')\n",
    "plt.title('Psychometric function')"
   ]
  },
  {
   "cell_type": "markdown",
   "metadata": {},
   "source": [
    "# [Small project] Rat odor data"
   ]
  },
  {
   "cell_type": "markdown",
   "metadata": {},
   "source": [
    "## Load data"
   ]
  },
  {
   "cell_type": "markdown",
   "metadata": {},
   "source": [
    "** Instructions **\n",
    "\n",
    "- load the file \"data/odor_psychophysics.csv'\n",
    "- the columns represent: 'rat', 'session', 'direction', 'contrast', 'choice', 'rewarded'\n",
    "- analyze the data\n",
    "- in particular\n",
    "    - plot the psychometric curve for each rat\n",
    "    - plot the mean psychometric curve for all rats including error bars"
   ]
  },
  {
   "cell_type": "code",
   "execution_count": 12,
   "metadata": {},
   "outputs": [
    {
     "data": {
      "text/html": [
       "<div>\n",
       "<style scoped>\n",
       "    .dataframe tbody tr th:only-of-type {\n",
       "        vertical-align: middle;\n",
       "    }\n",
       "\n",
       "    .dataframe tbody tr th {\n",
       "        vertical-align: top;\n",
       "    }\n",
       "\n",
       "    .dataframe thead th {\n",
       "        text-align: right;\n",
       "    }\n",
       "</style>\n",
       "<table border=\"1\" class=\"dataframe\">\n",
       "  <thead>\n",
       "    <tr style=\"text-align: right;\">\n",
       "      <th></th>\n",
       "      <th>rat</th>\n",
       "      <th>session</th>\n",
       "      <th>direction</th>\n",
       "      <th>contrast</th>\n",
       "      <th>choice</th>\n",
       "      <th>rewarded</th>\n",
       "    </tr>\n",
       "  </thead>\n",
       "  <tbody>\n",
       "    <tr>\n",
       "      <th>0</th>\n",
       "      <td>1</td>\n",
       "      <td>15342</td>\n",
       "      <td>2</td>\n",
       "      <td>0.9</td>\n",
       "      <td>2</td>\n",
       "      <td>1</td>\n",
       "    </tr>\n",
       "    <tr>\n",
       "      <th>1</th>\n",
       "      <td>1</td>\n",
       "      <td>15342</td>\n",
       "      <td>3</td>\n",
       "      <td>0.9</td>\n",
       "      <td>3</td>\n",
       "      <td>1</td>\n",
       "    </tr>\n",
       "    <tr>\n",
       "      <th>2</th>\n",
       "      <td>1</td>\n",
       "      <td>15342</td>\n",
       "      <td>3</td>\n",
       "      <td>0.9</td>\n",
       "      <td>3</td>\n",
       "      <td>1</td>\n",
       "    </tr>\n",
       "    <tr>\n",
       "      <th>3</th>\n",
       "      <td>1</td>\n",
       "      <td>15342</td>\n",
       "      <td>3</td>\n",
       "      <td>0.9</td>\n",
       "      <td>3</td>\n",
       "      <td>1</td>\n",
       "    </tr>\n",
       "    <tr>\n",
       "      <th>4</th>\n",
       "      <td>1</td>\n",
       "      <td>15342</td>\n",
       "      <td>2</td>\n",
       "      <td>0.6</td>\n",
       "      <td>3</td>\n",
       "      <td>0</td>\n",
       "    </tr>\n",
       "  </tbody>\n",
       "</table>\n",
       "</div>"
      ],
      "text/plain": [
       "   rat  session  direction  contrast  choice  rewarded\n",
       "0    1    15342          2       0.9       2         1\n",
       "1    1    15342          3       0.9       3         1\n",
       "2    1    15342          3       0.9       3         1\n",
       "3    1    15342          3       0.9       3         1\n",
       "4    1    15342          2       0.6       3         0"
      ]
     },
     "execution_count": 12,
     "metadata": {},
     "output_type": "execute_result"
    }
   ],
   "source": [
    "odorData = pd.read_csv('data/odor_psychophysics.csv', \n",
    "                       index_col=None, header=None, \n",
    "                       names=['rat', 'session', 'direction', 'contrast', 'choice', 'rewarded'])\n",
    "odorData.head()"
   ]
  },
  {
   "cell_type": "code",
   "execution_count": 13,
   "metadata": {},
   "outputs": [
    {
     "data": {
      "text/html": [
       "<div>\n",
       "<style scoped>\n",
       "    .dataframe tbody tr th:only-of-type {\n",
       "        vertical-align: middle;\n",
       "    }\n",
       "\n",
       "    .dataframe tbody tr th {\n",
       "        vertical-align: top;\n",
       "    }\n",
       "\n",
       "    .dataframe thead th {\n",
       "        text-align: right;\n",
       "    }\n",
       "</style>\n",
       "<table border=\"1\" class=\"dataframe\">\n",
       "  <thead>\n",
       "    <tr style=\"text-align: right;\">\n",
       "      <th>contrast</th>\n",
       "      <th>0.12</th>\n",
       "      <th>0.36</th>\n",
       "      <th>0.60</th>\n",
       "      <th>0.90</th>\n",
       "    </tr>\n",
       "    <tr>\n",
       "      <th>rat</th>\n",
       "      <th></th>\n",
       "      <th></th>\n",
       "      <th></th>\n",
       "      <th></th>\n",
       "    </tr>\n",
       "  </thead>\n",
       "  <tbody>\n",
       "    <tr>\n",
       "      <th>1</th>\n",
       "      <td>0.575000</td>\n",
       "      <td>0.634846</td>\n",
       "      <td>0.747564</td>\n",
       "      <td>0.793683</td>\n",
       "    </tr>\n",
       "    <tr>\n",
       "      <th>2</th>\n",
       "      <td>0.541863</td>\n",
       "      <td>0.626888</td>\n",
       "      <td>0.693548</td>\n",
       "      <td>0.817472</td>\n",
       "    </tr>\n",
       "    <tr>\n",
       "      <th>3</th>\n",
       "      <td>0.585831</td>\n",
       "      <td>0.714642</td>\n",
       "      <td>0.793299</td>\n",
       "      <td>0.855190</td>\n",
       "    </tr>\n",
       "    <tr>\n",
       "      <th>4</th>\n",
       "      <td>0.546788</td>\n",
       "      <td>0.683179</td>\n",
       "      <td>0.754785</td>\n",
       "      <td>0.825890</td>\n",
       "    </tr>\n",
       "    <tr>\n",
       "      <th>5</th>\n",
       "      <td>0.622864</td>\n",
       "      <td>0.807696</td>\n",
       "      <td>0.871071</td>\n",
       "      <td>0.861981</td>\n",
       "    </tr>\n",
       "    <tr>\n",
       "      <th>6</th>\n",
       "      <td>0.597091</td>\n",
       "      <td>0.769888</td>\n",
       "      <td>0.875277</td>\n",
       "      <td>0.861751</td>\n",
       "    </tr>\n",
       "    <tr>\n",
       "      <th>7</th>\n",
       "      <td>0.597585</td>\n",
       "      <td>0.770791</td>\n",
       "      <td>0.856212</td>\n",
       "      <td>0.812541</td>\n",
       "    </tr>\n",
       "    <tr>\n",
       "      <th>8</th>\n",
       "      <td>0.592400</td>\n",
       "      <td>0.763509</td>\n",
       "      <td>0.842472</td>\n",
       "      <td>0.869632</td>\n",
       "    </tr>\n",
       "  </tbody>\n",
       "</table>\n",
       "</div>"
      ],
      "text/plain": [
       "contrast      0.12      0.36      0.60      0.90\n",
       "rat                                             \n",
       "1         0.575000  0.634846  0.747564  0.793683\n",
       "2         0.541863  0.626888  0.693548  0.817472\n",
       "3         0.585831  0.714642  0.793299  0.855190\n",
       "4         0.546788  0.683179  0.754785  0.825890\n",
       "5         0.622864  0.807696  0.871071  0.861981\n",
       "6         0.597091  0.769888  0.875277  0.861751\n",
       "7         0.597585  0.770791  0.856212  0.812541\n",
       "8         0.592400  0.763509  0.842472  0.869632"
      ]
     },
     "execution_count": 13,
     "metadata": {},
     "output_type": "execute_result"
    }
   ],
   "source": [
    "def psychometricFunction(df):\n",
    "    return df.groupby('contrast') \\\n",
    "            .apply(lambda df_: (df_['direction'] == df_['choice']).mean())\n",
    "\n",
    "psychometricFunctions = odorData.groupby('rat').apply(psychometricFunction)\n",
    "psychometricFunctions"
   ]
  },
  {
   "cell_type": "code",
   "execution_count": 14,
   "metadata": {},
   "outputs": [
    {
     "data": {
      "text/plain": [
       "(0.0, 1.0)"
      ]
     },
     "execution_count": 14,
     "metadata": {},
     "output_type": "execute_result"
    },
    {
     "data": {
      "image/png": "[encoded data removed]",
      "text/plain": [
       "<Figure size 432x288 with 1 Axes>"
      ]
     },
     "metadata": {
      "needs_background": "light"
     },
     "output_type": "display_data"
    }
   ],
   "source": [
    "psychometricFunctions.T.plot(color='k', lw=.5)\n",
    "\n",
    "psychoFun_mean = psychometricFunctions.mean(axis=0)\n",
    "psychoFun_std = psychometricFunctions.std(axis=0)\n",
    "psychoFun_mean.plot(yerr=psychoFun_std, lw=2)\n",
    "\n",
    "plt.ylabel('fraction correct')\n",
    "plt.xlim(0, 1)"
   ]
  }
 ],
 "metadata": {
  "anaconda-cloud": {},
  "kernelspec": {
   "display_name": "Python 3",
   "language": "python",
   "name": "python3"
  },
  "language_info": {
   "codemirror_mode": {
    "name": "ipython",
    "version": 3
   },
   "file_extension": ".py",
   "mimetype": "text/x-python",
   "name": "python",
   "nbconvert_exporter": "python",
   "pygments_lexer": "ipython3",
   "version": "3.8.8"
  },
  "toc": {
   "colors": {
    "hover_highlight": "#DAA520",
    "running_highlight": "#FF0000",
    "selected_highlight": "#FFD700"
   },
   "moveMenuLeft": true,
   "navigate_menu": false,
   "number_sections": true,
   "sideBar": true,
   "threshold": 4,
   "toc_cell": false,
   "toc_section_display": "block",
   "toc_window_display": true
  }
 },
 "nbformat": 4,
 "nbformat_minor": 2
}
